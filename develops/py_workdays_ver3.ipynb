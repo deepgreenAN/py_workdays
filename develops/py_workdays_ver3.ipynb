{
 "cells": [
  {
   "cell_type": "markdown",
   "metadata": {},
   "source": [
    "# 営業日・営業時間のデータを取得・抽出"
   ]
  },
  {
   "cell_type": "markdown",
   "metadata": {},
   "source": [
    "## ディレクトリを移動"
   ]
  },
  {
   "cell_type": "markdown",
   "metadata": {},
   "source": [
    "仮想的に親ディレクトリとする"
   ]
  },
  {
   "cell_type": "code",
   "execution_count": 1,
   "metadata": {
    "ExecuteTime": {
     "end_time": "2021-04-07T05:36:00.967422Z",
     "start_time": "2021-04-07T05:36:00.924542Z"
    }
   },
   "outputs": [
    {
     "name": "stdout",
     "output_type": "stream",
     "text": [
      "E:\\py_workdays\n"
     ]
    }
   ],
   "source": [
    "%cd .."
   ]
  },
  {
   "cell_type": "code",
   "execution_count": 2,
   "metadata": {
    "ExecuteTime": {
     "end_time": "2021-04-07T05:36:01.076132Z",
     "start_time": "2021-04-07T05:36:00.981382Z"
    }
   },
   "outputs": [],
   "source": [
    "import jpholiday\n",
    "from pytz import timezone, utc\n",
    "import datetime\n",
    "import pickle\n",
    "from pathlib import Path"
   ]
  },
  {
   "cell_type": "code",
   "execution_count": 3,
   "metadata": {
    "ExecuteTime": {
     "end_time": "2021-04-07T05:36:03.658730Z",
     "start_time": "2021-04-07T05:36:01.087100Z"
    }
   },
   "outputs": [],
   "source": [
    "import numpy as np\n",
    "import pandas as pd"
   ]
  },
  {
   "cell_type": "code",
   "execution_count": 4,
   "metadata": {
    "ExecuteTime": {
     "end_time": "2021-04-07T05:36:04.572842Z",
     "start_time": "2021-04-07T05:36:03.672321Z"
    }
   },
   "outputs": [],
   "source": [
    "from py_strict_list import StructureStrictList, strict_list_property\n",
    "from develops.scraping import all_make_source"
   ]
  },
  {
   "cell_type": "code",
   "execution_count": 5,
   "metadata": {
    "ExecuteTime": {
     "end_time": "2021-04-07T05:36:04.635751Z",
     "start_time": "2021-04-07T05:36:04.582817Z"
    }
   },
   "outputs": [],
   "source": [
    "def check_jst_datetimes_to_naive(*arg_datetimes):\n",
    "    \"\"\"\n",
    "    ＊*今のところ，ローカルが東京でないnaiveなdatetimeはそのまま通してしまう\n",
    "    引数のタイムゾーンが同じかどうかチェックし，存在するなら日本であるかチェック\n",
    "    awareな場合は，naiveに変更\n",
    "    \"\"\"\n",
    "    jst_timezone = timezone(\"Asia/Tokyo\")\n",
    "    tz_info_set = set([one_datetime.tzinfo for one_datetime in arg_datetimes])\n",
    "    if len(tz_info_set) > 1:\n",
    "        raise Exception(\"timezones are different\")\n",
    "        \n",
    "    datetimes_tzinfo = list(tz_info_set)[0]\n",
    "    \n",
    "    if datetimes_tzinfo is not None:  # 長さが1のはず\n",
    "        if timezone(str(datetimes_tzinfo)) != jst_timezone:\n",
    "            raise Exception(\"timezones must be Asia/Tokyo\")\n",
    "        # naiveなdatetimeに変更\n",
    "        arg_datetimes = [one_datetime.replace(tzinfo=None) for one_datetime in arg_datetimes]\n",
    "    \n",
    "    # 引数が一つであるかどうか\n",
    "    if len(arg_datetimes) > 1:  # 引数が複数の場合\n",
    "        return tuple(arg_datetimes)\n",
    "    else:  # 引数が一つの場合\n",
    "        return arg_datetimes[0]"
   ]
  },
  {
   "cell_type": "markdown",
   "metadata": {},
   "source": [
    "## 営業日・休日を取得する "
   ]
  },
  {
   "cell_type": "markdown",
   "metadata": {},
   "source": [
    "Optionの簡単化のため，HolidayGetterクラスを作成する．jpholidayを利用するものとCSVファイルを読み込むものの二つを用意する．"
   ]
  },
  {
   "cell_type": "markdown",
   "metadata": {},
   "source": [
    "### 祝日のndarrayを取得する(jpholidayを利用)"
   ]
  },
  {
   "cell_type": "markdown",
   "metadata": {},
   "source": [
    "以下はjpholidayを利用した素直な実装だが，遅い．そこで一度しか呼ばないようにすべき"
   ]
  },
  {
   "cell_type": "code",
   "execution_count": 6,
   "metadata": {
    "ExecuteTime": {
     "end_time": "2021-04-07T05:36:04.682625Z",
     "start_time": "2021-04-07T05:36:04.647721Z"
    }
   },
   "outputs": [],
   "source": [
    "class JPHolidayGetter:\n",
    "    \"\"\"\n",
    "    jpholidayを利用したHolidayGetter\n",
    "    \"\"\"\n",
    "    def get_holidays(self, start_date, end_date, with_name=False):\n",
    "        \"\"\"\n",
    "        期間を指定して祝日を取得．jpholidayを利用して祝日を取得している．\n",
    "\n",
    "        start_date: datetime.date\n",
    "            開始時刻のdate\n",
    "        end_datetime: datetime.date\n",
    "            終了時刻のdate\n",
    "        with_name: bool\n",
    "            休日の名前を出力するかどうか\n",
    "        to_date: bool\n",
    "            出力をdatetime.datetimeにするかdatetime.dateにするか\n",
    "        \"\"\"\n",
    "        assert isinstance(start_date, datetime.date) and isinstance(end_date, datetime.date)\n",
    "\n",
    "        holidays_array = np.array(jpholiday.between(start_date, end_date))\n",
    "\n",
    "        if not with_name:  # 祝日名がいらない場合\n",
    "            return holidays_array[:,0].copy()\n",
    "\n",
    "        return holidays_array"
   ]
  },
  {
   "cell_type": "code",
   "execution_count": 7,
   "metadata": {
    "ExecuteTime": {
     "end_time": "2021-04-07T05:36:19.066605Z",
     "start_time": "2021-04-07T05:36:04.692599Z"
    }
   },
   "outputs": [],
   "source": [
    "start_date = datetime.date(1960, 1, 1)\n",
    "end_date = datetime.date(2021, 12, 31)\n",
    "\n",
    "holidays_array = JPHolidayGetter().get_holidays(start_date, end_date, with_name=True)"
   ]
  },
  {
   "cell_type": "code",
   "execution_count": 8,
   "metadata": {
    "ExecuteTime": {
     "end_time": "2021-04-07T05:36:19.376313Z",
     "start_time": "2021-04-07T05:36:19.127271Z"
    }
   },
   "outputs": [
    {
     "data": {
      "text/plain": [
       "array([[datetime.date(1960, 1, 1), '元日'],\n",
       "       [datetime.date(1960, 1, 15), '成人の日'],\n",
       "       [datetime.date(1960, 3, 20), '春分の日'],\n",
       "       ...,\n",
       "       [datetime.date(2021, 9, 23), '秋分の日'],\n",
       "       [datetime.date(2021, 11, 3), '文化の日'],\n",
       "       [datetime.date(2021, 11, 23), '勤労感謝の日']], dtype=object)"
      ]
     },
     "execution_count": 8,
     "metadata": {},
     "output_type": "execute_result"
    }
   ],
   "source": [
    "holidays_array"
   ]
  },
  {
   "cell_type": "code",
   "execution_count": 9,
   "metadata": {
    "ExecuteTime": {
     "end_time": "2021-04-07T05:36:19.458096Z",
     "start_time": "2021-04-07T05:36:19.395261Z"
    }
   },
   "outputs": [
    {
     "data": {
      "text/plain": [
       "937"
      ]
     },
     "execution_count": 9,
     "metadata": {},
     "output_type": "execute_result"
    }
   ],
   "source": [
    "len(holidays_array)"
   ]
  },
  {
   "cell_type": "markdown",
   "metadata": {},
   "source": [
    "### 祝日のndarrayを取得(CSVファイルを利用) "
   ]
  },
  {
   "cell_type": "markdown",
   "metadata": {},
   "source": [
    "思ったより速度が速いので，毎回これを呼ぶことも可能であるが，jpholidayのものを踏襲してこれも一度あるいはOptionを変更したときのみ呼ばれるようにする．"
   ]
  },
  {
   "cell_type": "code",
   "execution_count": 10,
   "metadata": {
    "ExecuteTime": {
     "end_time": "2021-04-07T05:36:19.598718Z",
     "start_time": "2021-04-07T05:36:19.478385Z"
    }
   },
   "outputs": [],
   "source": [
    "class CSVHolidayGetter:\n",
    "    def __init__(self, csv_paths):\n",
    "        if not isinstance(csv_paths, list):  # リストでないなら，リストにしておく\n",
    "            csv_paths = [csv_paths]\n",
    "            \n",
    "        self.csv_paths = csv_paths\n",
    "        \n",
    "    def get_holidays(self, start_date, end_date, with_name=False):\n",
    "        \"\"\"\n",
    "        期間を指定して祝日を取得．csvファイルを利用して祝日を取得している．\n",
    "\n",
    "        start_date: datetime.date\n",
    "            開始時刻のdate\n",
    "        end_datetime: datetime.date\n",
    "            終了時刻のdate\n",
    "        with_name: bool\n",
    "            休日の名前を出力するかどうか\n",
    "        to_date: bool\n",
    "            出力をdatetime.datetimeにするかdatetime.dateにするか\n",
    "        \"\"\"\n",
    "        assert isinstance(start_date, datetime.date) and isinstance(end_date, datetime.date)\n",
    "        \n",
    "        # datetime.dateをpd.Timestampに変換(datetime.dateは通常pd.DatetimeIndexと比較できないため)\n",
    "        start_timestamp = pd.Timestamp(start_date)\n",
    "        end_timestamp = pd.Timestamp(end_date)\n",
    "\n",
    "        is_first = True\n",
    "        is_multi = False\n",
    "\n",
    "        for csv_path in self.csv_paths:\n",
    "            if csv_path.exists():  # csvファイルが存在する場合\n",
    "                holiday_df = pd.read_csv(csv_path, \n",
    "                                        header=None,\n",
    "                                        names=[\"date\", \"holiday_name\"],\n",
    "                                        index_col=\"date\",\n",
    "                                        parse_dates=True\n",
    "                                        )\n",
    "            else:\n",
    "                holiday_df = None\n",
    "\n",
    "            if holiday_df is not None:\n",
    "                if is_first:\n",
    "                    left_df = holiday_df\n",
    "                    is_first = False\n",
    "                else:\n",
    "                    is_multi = True\n",
    "\n",
    "                if is_multi:\n",
    "                    append_bool = ~holiday_df.index.isin(left_df.index)  # 左Dataframeに存在しない部分を追加\n",
    "                    left_df = left_df.append(holiday_df.loc[append_bool])\n",
    "                    left_df.sort_index(inplace=True)\n",
    "\n",
    "        if is_first and not is_multi:  # 一度もNone以外が返ってこなかった場合\n",
    "            if not with_name:  # 祝日名がいらない場合\n",
    "                return np.array([])\n",
    "            return np.array([[],[]])\n",
    "        \n",
    "        # 指定範囲内の祝日を取得\n",
    "        holiday_in_span_index = (start_timestamp<=left_df.index)&(left_df.index<end_timestamp)\n",
    "        holiday_in_span_df = left_df.loc[holiday_in_span_index]\n",
    "        \n",
    "        holiday_in_span_date_array = holiday_in_span_df.index.date\n",
    "        holiday_in_span_name_array = holiday_in_span_df.loc[:,\"holiday_name\"].values\n",
    "        holiday_in_span_array = np.stack([holiday_in_span_date_array,\n",
    "                                          holiday_in_span_name_array\n",
    "                                         ],\n",
    "                                         axis=1\n",
    "                                        )\n",
    "        \n",
    "        if not with_name:  # 祝日名がいらない場合\n",
    "            return holiday_in_span_date_array\n",
    "            \n",
    "        return holiday_in_span_array"
   ]
  },
  {
   "cell_type": "code",
   "execution_count": 11,
   "metadata": {
    "ExecuteTime": {
     "end_time": "2021-04-07T05:36:19.816222Z",
     "start_time": "2021-04-07T05:36:19.608689Z"
    }
   },
   "outputs": [
    {
     "data": {
      "text/plain": [
       "array([[datetime.date(1960, 1, 1), '元日'],\n",
       "       [datetime.date(1960, 1, 15), '成人の日'],\n",
       "       [datetime.date(1960, 3, 20), '春分の日'],\n",
       "       ...,\n",
       "       [datetime.date(2021, 9, 23), '秋分の日'],\n",
       "       [datetime.date(2021, 11, 3), '文化の日'],\n",
       "       [datetime.date(2021, 11, 23), '勤労感謝の日']], dtype=object)"
      ]
     },
     "execution_count": 11,
     "metadata": {},
     "output_type": "execute_result"
    }
   ],
   "source": [
    "source_paths = [Path(\"E:py_workdays/source/holiday_naikaku.csv\"),\n",
    "                Path(\"E:py_workdays/source/holiday_api.csv\")\n",
    "               ]\n",
    "\n",
    "holiday_getter = CSVHolidayGetter(source_paths)\n",
    "\n",
    "start_date = datetime.date(1960, 1, 1)\n",
    "end_date = datetime.date(2021, 12, 31)\n",
    "\n",
    "holidays_array = holiday_getter.get_holidays(start_date, end_date, with_name=True)\n",
    "holidays_array"
   ]
  },
  {
   "cell_type": "code",
   "execution_count": 12,
   "metadata": {
    "ExecuteTime": {
     "end_time": "2021-04-07T05:36:19.847700Z",
     "start_time": "2021-04-07T05:36:19.825197Z"
    }
   },
   "outputs": [
    {
     "data": {
      "text/plain": [
       "913"
      ]
     },
     "execution_count": 12,
     "metadata": {},
     "output_type": "execute_result"
    }
   ],
   "source": [
    "len(holidays_array)"
   ]
  },
  {
   "cell_type": "code",
   "execution_count": 13,
   "metadata": {
    "ExecuteTime": {
     "end_time": "2021-04-07T05:36:20.147541Z",
     "start_time": "2021-04-07T05:36:19.857187Z"
    }
   },
   "outputs": [
    {
     "name": "stdout",
     "output_type": "stream",
     "text": [
      "Timer unit: 1e-07 s\n",
      "\n",
      "Total time: 0 s\n",
      "File: <ipython-input-10-c941f1ed5989>\n",
      "Function: __init__ at line 2\n",
      "\n",
      "Line #      Hits         Time  Per Hit   % Time  Line Contents\n",
      "==============================================================\n",
      "     2                                               def __init__(self, csv_paths):\n",
      "     3                                                   if not isinstance(csv_paths, list):  # リストでないなら，リストにしておく\n",
      "     4                                                       csv_paths = [csv_paths]\n",
      "     5                                                       \n",
      "     6                                                   self.csv_paths = csv_paths\n",
      "\n",
      "Total time: 0.149539 s\n",
      "File: <ipython-input-10-c941f1ed5989>\n",
      "Function: get_holidays at line 8\n",
      "\n",
      "Line #      Hits         Time  Per Hit   % Time  Line Contents\n",
      "==============================================================\n",
      "     8                                               def get_holidays(self, start_date, end_date, with_name=False):\n",
      "     9                                                   \"\"\"\n",
      "    10                                                   期間を指定して祝日を取得．csvファイルを利用して祝日を取得している．\n",
      "    11                                           \n",
      "    12                                                   start_date: datetime.date\n",
      "    13                                                       開始時刻のdate\n",
      "    14                                                   end_datetime: datetime.date\n",
      "    15                                                       終了時刻のdate\n",
      "    16                                                   with_name: bool\n",
      "    17                                                       休日の名前を出力するかどうか\n",
      "    18                                                   to_date: bool\n",
      "    19                                                       出力をdatetime.datetimeにするかdatetime.dateにするか\n",
      "    20                                                   \"\"\"\n",
      "    21         1        178.0    178.0      0.0          assert isinstance(start_date, datetime.date) and isinstance(end_date, datetime.date)\n",
      "    22                                                   \n",
      "    23                                                   # datetime.dateをpd.Timestampに変換(datetime.dateは通常pd.DatetimeIndexと比較できないため)\n",
      "    24         1        531.0    531.0      0.0          start_timestamp = pd.Timestamp(start_date)\n",
      "    25         1        173.0    173.0      0.0          end_timestamp = pd.Timestamp(end_date)\n",
      "    26                                           \n",
      "    27         1         28.0     28.0      0.0          is_first = True\n",
      "    28         1         27.0     27.0      0.0          is_multi = False\n",
      "    29                                           \n",
      "    30         3        200.0     66.7      0.0          for csv_path in self.csv_paths:\n",
      "    31         2       4901.0   2450.5      0.3              if csv_path.exists():  # csvファイルが存在する場合\n",
      "    32         2        166.0     83.0      0.0                  holiday_df = pd.read_csv(csv_path, \n",
      "    33         2         85.0     42.5      0.0                                          header=None,\n",
      "    34         2        102.0     51.0      0.0                                          names=[\"date\", \"holiday_name\"],\n",
      "    35         2        205.0    102.5      0.0                                          index_col=\"date\",\n",
      "    36         2    1200558.0 600279.0     80.3                                          parse_dates=True\n",
      "    37                                                                                   )\n",
      "    38                                                       else:\n",
      "    39                                                           holiday_df = None\n",
      "    40                                           \n",
      "    41         2        231.0    115.5      0.0              if holiday_df is not None:\n",
      "    42         2        151.0     75.5      0.0                  if is_first:\n",
      "    43         1         63.0     63.0      0.0                      left_df = holiday_df\n",
      "    44         1         69.0     69.0      0.0                      is_first = False\n",
      "    45                                                           else:\n",
      "    46         1         59.0     59.0      0.0                      is_multi = True\n",
      "    47                                           \n",
      "    48         2        158.0     79.0      0.0                  if is_multi:\n",
      "    49         1      18172.0  18172.0      1.2                      append_bool = ~holiday_df.index.isin(left_df.index)  # 左Dataframeに存在しない部分を追加\n",
      "    50         1     166702.0 166702.0     11.1                      left_df = left_df.append(holiday_df.loc[append_bool])\n",
      "    51         1       3591.0   3591.0      0.2                      left_df.sort_index(inplace=True)\n",
      "    52                                           \n",
      "    53         1         68.0     68.0      0.0          if is_first and not is_multi:  # 一度もNone以外が返ってこなかった場合\n",
      "    54                                                       if not with_name:  # 祝日名がいらない場合\n",
      "    55                                                           return np.array([])\n",
      "    56                                                       return np.array([[],[]])\n",
      "    57                                                   \n",
      "    58                                                   # 指定範囲内の祝日を取得\n",
      "    59         1      12155.0  12155.0      0.8          holiday_in_span_index = (start_timestamp<=left_df.index)&(left_df.index<end_timestamp)\n",
      "    60         1      45325.0  45325.0      3.0          holiday_in_span_df = left_df.loc[holiday_in_span_index]\n",
      "    61                                                   \n",
      "    62         1      18340.0  18340.0      1.2          holiday_in_span_date_array = holiday_in_span_df.index.date\n",
      "    63         1      21193.0  21193.0      1.4          holiday_in_span_name_array = holiday_in_span_df.loc[:,\"holiday_name\"].values\n",
      "    64         1        148.0    148.0      0.0          holiday_in_span_array = np.stack([holiday_in_span_date_array,\n",
      "    65         1         93.0     93.0      0.0                                            holiday_in_span_name_array\n",
      "    66                                                                                    ],\n",
      "    67         1       1648.0   1648.0      0.1                                           axis=1\n",
      "    68                                                                                   )\n",
      "    69                                                   \n",
      "    70         1         39.0     39.0      0.0          if not with_name:  # 祝日名がいらない場合\n",
      "    71                                                       return holiday_in_span_date_array\n",
      "    72                                                       \n",
      "    73         1         29.0     29.0      0.0          return holiday_in_span_array\n",
      "\n"
     ]
    }
   ],
   "source": [
    "def temp_func():\n",
    "    holidays_array = holiday_getter.get_holidays(start_date, end_date, with_name=True)\n",
    "\n",
    "from line_profiler import LineProfiler\n",
    "prf = LineProfiler()                                                                                         \n",
    "prf.add_module(CSVHolidayGetter)                                                                                          \n",
    "#prf.add_function()                                                                                      \n",
    "prf.runcall(temp_func)                                                                                          \n",
    "prf.print_stats()"
   ]
  },
  {
   "cell_type": "markdown",
   "metadata": {},
   "source": [
    "このメソッドはそれほど呼ばないので速度が遅くてもかまわない．それに速度の向上は期待できない．"
   ]
  },
  {
   "cell_type": "markdown",
   "metadata": {},
   "source": [
    "## Option"
   ]
  },
  {
   "cell_type": "markdown",
   "metadata": {},
   "source": [
    "jpholidayの休日取得速度が遅いため(csvとしても毎回読み込むのは非効率なため)，パッケージとして読み込む時にあらかじめ利用する休日をarrayとして保持しておくOptionを作成する．さらに利用する休日の期間やcsvとjpholidayの切り替え，休日曜日の切り替え，日中時間の切り替えなどを行うことができる．"
   ]
  },
  {
   "cell_type": "code",
   "execution_count": 14,
   "metadata": {
    "ExecuteTime": {
     "end_time": "2021-04-07T05:36:20.290542Z",
     "start_time": "2021-04-07T05:36:20.169479Z"
    },
    "code_folding": []
   },
   "outputs": [],
   "source": [
    "class Option():\n",
    "    \"\"\"\n",
    "    オプションの指定のためのクラス\n",
    "    holiday_start_year: int\n",
    "        利用する休日の開始年\n",
    "    holiday_end_year: int\n",
    "        利用する休日の終了年\n",
    "    backend: str\n",
    "        休日取得のバックエンド．csvかjpholidayのいずれかが選べる\n",
    "    csv_source_paths: list of str or pathlib.Path\n",
    "        バックエンドをcsvにした場合の休日のソースcsvファイル\n",
    "    holiday_weekdays: list of int\n",
    "        休日曜日の整数のリスト\n",
    "    intraday_borders: list of list of 2 datetime.time\n",
    "        日中を指定する境界時間のリストのリスト\n",
    "    \"\"\"\n",
    "    def __init__(self):\n",
    "        self._holiday_start_year = datetime.datetime.now().year-5\n",
    "        self._holiday_end_year = datetime.datetime.now().year\n",
    "        \n",
    "        self._backend = \"csv\"\n",
    "        self._csv_source_paths = StructureStrictList(Path(\"py_workdays/source/holiday_naikaku.csv\"))\n",
    "        #self._csv_source_paths = StructureStrictList(Path(__file__).parent / Path(\"source/holiday_naikaku.csv\"))\n",
    "        self._csv_source_paths.hook_func.add(self.make_holidays)\n",
    "        \n",
    "        self.make_holiday_getter()  # HolidayGetterを作成\n",
    "        self.make_holidays()  # アトリビュートに追加\n",
    "        \n",
    "        self._holiday_weekdays = StructureStrictList(5,6)  # 土曜日・日曜日\n",
    "        self._intraday_borders = StructureStrictList([datetime.time(9,0), datetime.time(11,30)],\n",
    "                                  [datetime.time(12,30), datetime.time(15,0)])\n",
    "        \n",
    "    csv_source_paths = strict_list_property(\"_csv_source_paths\", include_outer_length=False)\n",
    "    holiday_weekdays = strict_list_property(\"_holiday_weekdays\", include_outer_length=False)\n",
    "    intraday_borders = strict_list_property(\"_intraday_borders\", include_outer_length=False)\n",
    "    \n",
    "    def make_holiday_getter(self):\n",
    "        if self.backend == \"jp_holiday\":\n",
    "            self._holiday_getter = JPHolidayGetter()\n",
    "        elif self.backend == \"csv\":\n",
    "            self._holiday_getter = CSVHolidayGetter(self.csv_source_paths)\n",
    "        \n",
    "    def make_holidays(self):\n",
    "        \"\"\"\n",
    "        利用する休日のarrayとDatetimeIndexをアトリビュートとして作成．csv_pathを追加したときにも呼ぶ\n",
    "        \"\"\"\n",
    "        self._holidays_date_array = self._holiday_getter.get_holidays(start_date=datetime.date(self.holiday_start_year,1,1),\n",
    "                                                    end_date=datetime.date(self.holiday_end_year,12,31),\n",
    "                                                    with_name=False,\n",
    "                                                   )\n",
    "        self._holidays_datetimeindex =  pd.DatetimeIndex(self._holidays_date_array)\n",
    "        \n",
    "    @property\n",
    "    def holiday_start_year(self):\n",
    "        return self._holiday_start_year\n",
    "    \n",
    "    @holiday_start_year.setter\n",
    "    def holiday_start_year(self, year):\n",
    "        assert isinstance(year,int)\n",
    "        self._holiday_start_year = year\n",
    "        self.make_holidays()  # アトリビュートに追加\n",
    "    \n",
    "    @property\n",
    "    def holiday_end_year(self):\n",
    "        return self._holiday_end_year\n",
    "\n",
    "    @holiday_end_year.setter\n",
    "    def holiday_end_year(self, year):\n",
    "        assert isinstance(year,int)\n",
    "        self._holiday_end_year = year\n",
    "        self.make_holidays()  # アトリビュートに追加\n",
    "    \n",
    "    @property\n",
    "    def backend(self):\n",
    "        return self._backend\n",
    "    \n",
    "    @backend.setter\n",
    "    def backend(self, backend_str):\n",
    "        if backend_str not in (\"jp_holiday\",\"csv\"):\n",
    "            raise Exception(\"backend must be 'jp_holiday' or 'csv'.\")\n",
    "        self._backend = backend_str\n",
    "        self.make_holiday_getter()  # HolidayGetterを作成\n",
    "        self.make_holidays()  # 休日の作成\n",
    "    \n",
    "    @property\n",
    "    def holidays_date_array(self):\n",
    "        return self._holidays_date_array\n",
    "    \n",
    "    @property\n",
    "    def holidays_datetimeindex(self):\n",
    "        return self._holidays_datetimeindex"
   ]
  },
  {
   "cell_type": "markdown",
   "metadata": {},
   "source": [
    "### Optionのコンストラクト "
   ]
  },
  {
   "cell_type": "code",
   "execution_count": 15,
   "metadata": {
    "ExecuteTime": {
     "end_time": "2021-04-07T05:36:20.370326Z",
     "start_time": "2021-04-07T05:36:20.302510Z"
    }
   },
   "outputs": [],
   "source": [
    "option = Option()"
   ]
  },
  {
   "cell_type": "markdown",
   "metadata": {},
   "source": [
    "### csvファイルの初期化 "
   ]
  },
  {
   "cell_type": "code",
   "execution_count": 16,
   "metadata": {
    "ExecuteTime": {
     "end_time": "2021-04-07T05:36:20.544862Z",
     "start_time": "2021-04-07T05:36:20.380301Z"
    }
   },
   "outputs": [],
   "source": [
    "def initialize_source():\n",
    "    \"\"\"\n",
    "    csvのソースを初期化する．インストール時の開始時に呼ぶようにする．\n",
    "    \"\"\"\n",
    "    all_make_source()\n",
    "    option.__init__()  # optionの初期化"
   ]
  },
  {
   "cell_type": "markdown",
   "metadata": {},
   "source": [
    "### 休日を取得する関数"
   ]
  },
  {
   "cell_type": "code",
   "execution_count": 17,
   "metadata": {
    "ExecuteTime": {
     "end_time": "2021-04-07T05:36:20.622653Z",
     "start_time": "2021-04-07T05:36:20.555833Z"
    }
   },
   "outputs": [],
   "source": [
    "def get_holidays_jp(start_date, end_date, with_name=False, independent=False):\n",
    "        \"\"\"\n",
    "        期間を指定して祝日を取得．\n",
    "\n",
    "        start_date: datetime.date\n",
    "            開始時刻のdate\n",
    "        end_datetime: datetime.date\n",
    "            終了時刻のdate\n",
    "        with_name: bool\n",
    "            休日の名前を出力するかどうか\n",
    "        to_date: bool\n",
    "            出力をdatetime.datetimeにするかdatetime.dateにするか\n",
    "        independent: bool，default:False\n",
    "            休日をoptionから独立させるかどうか．FalseならばOption内で保持する休日が取得される\n",
    "        \"\"\"\n",
    "        assert isinstance(start_date, datetime.date) and isinstance(end_date, datetime.date)\n",
    "        \n",
    "        if not independent:\n",
    "            # datetime.dateをpd.Timestampに変換(datetime.dateは通常pd.DatetimeIndexと比較できないため)\n",
    "            start_timestamp = pd.Timestamp(start_date)\n",
    "            end_timestamp = pd.Timestamp(end_date)\n",
    "\n",
    "            holidays_in_span_index = (start_timestamp<=option.holidays_datetimeindex)&(option.holidays_datetimeindex<end_timestamp)  # DatetimeIndexを使うことに注意\n",
    "            holidays_in_span_array = option.holidays_date_array[holidays_in_span_index]  # ndarrayを使うtamp(end_date)\n",
    "\n",
    "            return holidays_in_span_array\n",
    "        else:\n",
    "            if option.backend == \"jp_holiday\":\n",
    "                holiday_getter = JPHolidayGetter()\n",
    "            elif option.backend == \"csv\":\n",
    "                holiday_getter = CSVHolidayGetter(option.csv_source_paths)\n",
    "                \n",
    "            holidays_array = holiday_getter.get_holidays(start_date=start_date,\n",
    "                                                         end_date=end_date,\n",
    "                                                         with_name=with_name\n",
    "                                                        ) \n",
    "            return  holidays_array"
   ]
  },
  {
   "cell_type": "code",
   "execution_count": 18,
   "metadata": {
    "ExecuteTime": {
     "end_time": "2021-04-07T05:36:20.685490Z",
     "start_time": "2021-04-07T05:36:20.631632Z"
    }
   },
   "outputs": [
    {
     "data": {
      "text/plain": [
       "array([datetime.date(2016, 1, 1), datetime.date(2016, 1, 11),\n",
       "       datetime.date(2016, 2, 11), datetime.date(2016, 3, 20),\n",
       "       datetime.date(2016, 3, 21), datetime.date(2016, 4, 29),\n",
       "       datetime.date(2016, 5, 3), datetime.date(2016, 5, 4),\n",
       "       datetime.date(2016, 5, 5), datetime.date(2016, 7, 18),\n",
       "       datetime.date(2016, 8, 11), datetime.date(2016, 9, 19),\n",
       "       datetime.date(2016, 9, 22), datetime.date(2016, 10, 10),\n",
       "       datetime.date(2016, 11, 3), datetime.date(2016, 11, 23),\n",
       "       datetime.date(2016, 12, 23), datetime.date(2017, 1, 1),\n",
       "       datetime.date(2017, 1, 2), datetime.date(2017, 1, 9),\n",
       "       datetime.date(2017, 2, 11), datetime.date(2017, 3, 20),\n",
       "       datetime.date(2017, 4, 29), datetime.date(2017, 5, 3),\n",
       "       datetime.date(2017, 5, 4), datetime.date(2017, 5, 5),\n",
       "       datetime.date(2017, 7, 17), datetime.date(2017, 8, 11),\n",
       "       datetime.date(2017, 9, 18), datetime.date(2017, 9, 23),\n",
       "       datetime.date(2017, 10, 9), datetime.date(2017, 11, 3),\n",
       "       datetime.date(2017, 11, 23), datetime.date(2017, 12, 23),\n",
       "       datetime.date(2018, 1, 1), datetime.date(2018, 1, 8),\n",
       "       datetime.date(2018, 2, 11), datetime.date(2018, 2, 12),\n",
       "       datetime.date(2018, 3, 21), datetime.date(2018, 4, 29),\n",
       "       datetime.date(2018, 4, 30), datetime.date(2018, 5, 3),\n",
       "       datetime.date(2018, 5, 4), datetime.date(2018, 5, 5),\n",
       "       datetime.date(2018, 7, 16), datetime.date(2018, 8, 11),\n",
       "       datetime.date(2018, 9, 17), datetime.date(2018, 9, 23),\n",
       "       datetime.date(2018, 9, 24), datetime.date(2018, 10, 8),\n",
       "       datetime.date(2018, 11, 3), datetime.date(2018, 11, 23),\n",
       "       datetime.date(2018, 12, 23), datetime.date(2018, 12, 24),\n",
       "       datetime.date(2019, 1, 1), datetime.date(2019, 1, 14),\n",
       "       datetime.date(2019, 2, 11), datetime.date(2019, 3, 21),\n",
       "       datetime.date(2019, 4, 29), datetime.date(2019, 4, 30),\n",
       "       datetime.date(2019, 5, 1), datetime.date(2019, 5, 2),\n",
       "       datetime.date(2019, 5, 3), datetime.date(2019, 5, 4),\n",
       "       datetime.date(2019, 5, 5), datetime.date(2019, 5, 6),\n",
       "       datetime.date(2019, 7, 15), datetime.date(2019, 8, 11),\n",
       "       datetime.date(2019, 8, 12), datetime.date(2019, 9, 16),\n",
       "       datetime.date(2019, 9, 23), datetime.date(2019, 10, 14),\n",
       "       datetime.date(2019, 10, 22), datetime.date(2019, 11, 3),\n",
       "       datetime.date(2019, 11, 4), datetime.date(2019, 11, 23),\n",
       "       datetime.date(2020, 1, 1), datetime.date(2020, 1, 13),\n",
       "       datetime.date(2020, 2, 11), datetime.date(2020, 2, 23),\n",
       "       datetime.date(2020, 2, 24), datetime.date(2020, 3, 20),\n",
       "       datetime.date(2020, 4, 29), datetime.date(2020, 5, 3),\n",
       "       datetime.date(2020, 5, 4), datetime.date(2020, 5, 5),\n",
       "       datetime.date(2020, 5, 6), datetime.date(2020, 7, 23),\n",
       "       datetime.date(2020, 7, 24), datetime.date(2020, 8, 10),\n",
       "       datetime.date(2020, 9, 21), datetime.date(2020, 9, 22),\n",
       "       datetime.date(2020, 11, 3), datetime.date(2020, 11, 23),\n",
       "       datetime.date(2021, 1, 1), datetime.date(2021, 1, 11),\n",
       "       datetime.date(2021, 2, 11), datetime.date(2021, 2, 23),\n",
       "       datetime.date(2021, 3, 20), datetime.date(2021, 4, 29),\n",
       "       datetime.date(2021, 5, 3), datetime.date(2021, 5, 4),\n",
       "       datetime.date(2021, 5, 5), datetime.date(2021, 7, 22),\n",
       "       datetime.date(2021, 7, 23), datetime.date(2021, 8, 8),\n",
       "       datetime.date(2021, 8, 9), datetime.date(2021, 9, 20),\n",
       "       datetime.date(2021, 9, 23), datetime.date(2021, 11, 3),\n",
       "       datetime.date(2021, 11, 23)], dtype=object)"
      ]
     },
     "execution_count": 18,
     "metadata": {},
     "output_type": "execute_result"
    }
   ],
   "source": [
    "start_date = datetime.date(1960, 1, 1)\n",
    "end_date = datetime.date(2021, 12, 31)\n",
    "\n",
    "holidays_array = get_holidays_jp(start_date, \n",
    "                                end_date,\n",
    "                                with_name=True,\n",
    "                                independent=False\n",
    "                               )\n",
    "holidays_array"
   ]
  },
  {
   "cell_type": "code",
   "execution_count": 19,
   "metadata": {
    "ExecuteTime": {
     "end_time": "2021-04-07T05:36:20.765272Z",
     "start_time": "2021-04-07T05:36:20.694461Z"
    }
   },
   "outputs": [
    {
     "name": "stdout",
     "output_type": "stream",
     "text": [
      "Timer unit: 1e-07 s\n",
      "\n",
      "Total time: 0.0015361 s\n",
      "File: <ipython-input-17-2ff14dc42e2a>\n",
      "Function: get_holidays_jp at line 1\n",
      "\n",
      "Line #      Hits         Time  Per Hit   % Time  Line Contents\n",
      "==============================================================\n",
      "     1                                           def get_holidays_jp(start_date, end_date, with_name=False, independent=False):\n",
      "     2                                                   \"\"\"\n",
      "     3                                                   期間を指定して祝日を取得．\n",
      "     4                                           \n",
      "     5                                                   start_date: datetime.date\n",
      "     6                                                       開始時刻のdate\n",
      "     7                                                   end_datetime: datetime.date\n",
      "     8                                                       終了時刻のdate\n",
      "     9                                                   with_name: bool\n",
      "    10                                                       休日の名前を出力するかどうか\n",
      "    11                                                   to_date: bool\n",
      "    12                                                       出力をdatetime.datetimeにするかdatetime.dateにするか\n",
      "    13                                                   independent: bool，default:False\n",
      "    14                                                       休日をoptionから独立させるかどうか．FalseならばOption内で保持する休日が取得される\n",
      "    15                                                   \"\"\"\n",
      "    16         1        141.0    141.0      0.9          assert isinstance(start_date, datetime.date) and isinstance(end_date, datetime.date)\n",
      "    17                                                   \n",
      "    18         1         58.0     58.0      0.4          if not independent:\n",
      "    19                                                       # datetime.dateをpd.Timestampに変換(datetime.dateは通常pd.DatetimeIndexと比較できないため)\n",
      "    20         1        673.0    673.0      4.4              start_timestamp = pd.Timestamp(start_date)\n",
      "    21         1        316.0    316.0      2.1              end_timestamp = pd.Timestamp(end_date)\n",
      "    22                                           \n",
      "    23         1      13793.0  13793.0     89.8              holidays_in_span_index = (start_timestamp<=option.holidays_datetimeindex)&(option.holidays_datetimeindex<end_timestamp)  # DatetimeIndexを使うことに注意\n",
      "    24         1        329.0    329.0      2.1              holidays_in_span_array = option.holidays_date_array[holidays_in_span_index]  # ndarrayを使うtamp(end_date)\n",
      "    25                                           \n",
      "    26         1         51.0     51.0      0.3              return holidays_in_span_array\n",
      "    27                                                   else:\n",
      "    28                                                       if option.backend == \"jp_holiday\":\n",
      "    29                                                           holiday_getter = JPHolidayGetter()\n",
      "    30                                                       elif option.backend == \"csv\":\n",
      "    31                                                           holiday_getter = CSVHolidayGetter(option.csv_source_paths)\n",
      "    32                                                           \n",
      "    33                                                       holidays_array = holiday_getter.get_holidays(start_date=start_date,\n",
      "    34                                                                                                    end_date=end_date,\n",
      "    35                                                                                                    with_name=with_name\n",
      "    36                                                                                                   ) \n",
      "    37                                                       return  holidays_array\n",
      "\n"
     ]
    }
   ],
   "source": [
    "def temp_func():\n",
    "    holidays_array = get_holidays_jp(start_date, \n",
    "                                end_date,\n",
    "                                with_name=True,\n",
    "                                independent=False\n",
    "                               )\n",
    "\n",
    "from line_profiler import LineProfiler\n",
    "prf = LineProfiler()                                                                                         \n",
    "#prf.add_module()                                                                                          \n",
    "prf.add_function(get_holidays_jp)                                                                                      \n",
    "prf.runcall(temp_func)                                                                                          \n",
    "prf.print_stats()"
   ]
  },
  {
   "cell_type": "markdown",
   "metadata": {},
   "source": [
    "ボトルネックはなさそう"
   ]
  },
  {
   "cell_type": "markdown",
   "metadata": {},
   "source": [
    "## 営業日の取得 "
   ]
  },
  {
   "cell_type": "markdown",
   "metadata": {},
   "source": [
    "optionの休日を参照する．"
   ]
  },
  {
   "cell_type": "markdown",
   "metadata": {},
   "source": [
    "### 指定した期間の営業日のndarrayを取得する"
   ]
  },
  {
   "cell_type": "code",
   "execution_count": 20,
   "metadata": {
    "ExecuteTime": {
     "end_time": "2021-04-07T05:36:20.844946Z",
     "start_time": "2021-04-07T05:36:20.776244Z"
    },
    "code_folding": []
   },
   "outputs": [],
   "source": [
    "def get_workdays_jp(start_date, end_date, return_as=\"date\", end_include=False):\n",
    "    \"\"\"\n",
    "    営業日を取得\n",
    "    \n",
    "    start_date: datetime.date\n",
    "        開始時刻のdate\n",
    "    end_datetime: datetime.date\n",
    "        終了時刻のdate\n",
    "    return_as: str, defalt: 'dt'\n",
    "        返り値の形式\n",
    "        - 'dt':pd.DatetimeIndex\n",
    "        - 'date': datetime.date array\n",
    "    end_include: bool\n",
    "        最終日も含めて出力するか\n",
    "    \"\"\"\n",
    "    assert isinstance(start_date, datetime.date) and isinstance(end_date, datetime.date)\n",
    "    # 返り値の形式の指定\n",
    "    return_as_set = {\"dt\", \"date\"}\n",
    "    if not return_as in return_as_set:\n",
    "        raise Exception(\"return_as must be any in {}\".format(return_as_set))\n",
    "    \n",
    "    # datetime.dateをpd.Timestampに変換(datetime.dateは通常pd.DatetimeIndexと比較できないため)\n",
    "    start_timestamp = pd.Timestamp(start_date)\n",
    "    end_timestamp = pd.Timestamp(end_date)\n",
    "    \n",
    "    # 期間中のholidayを取得\n",
    "    holidays_in_span_index = (start_timestamp<=option.holidays_datetimeindex)&(option.holidays_datetimeindex<end_timestamp)  # DatetimeIndexを使うことに注意\n",
    "    holidays_in_span_array = option.holidays_date_array[holidays_in_span_index]  # ndarrayを使う\n",
    "\n",
    "    # 期間中のdatetimeのarrayを取得\n",
    "    if end_include:\n",
    "        days_datetimeindex = pd.date_range(start=start_date, end=end_date, freq=\"D\")  # 最終日も含める\n",
    "    else:\n",
    "        days_datetimeindex = pd.date_range(start=start_date, end=end_date-datetime.timedelta(days=1), freq=\"D\")  # 最終日は含めない\n",
    "    \n",
    "    \n",
    "    # 休日に含まれないもの，さらに土日に含まれないもののboolインデックスを取得\n",
    "    holiday_bool_array = np.in1d(days_datetimeindex.date, holidays_in_span_array)  # 休日であるかのブール(pd.DatetimeIndex.isin)でもいい\n",
    "    holiday_weekday_each_bool_arrays = [days_datetimeindex.weekday==weekday for weekday in option.holiday_weekdays]  # inを使うのを回避\n",
    "    holiday_weekday_bool_array = np.logical_or.reduce(holiday_weekday_each_bool_arrays)  # 休日曜日\n",
    "    \n",
    "    workdays_bool_array = (~holiday_bool_array)&(~holiday_weekday_bool_array)  # 休日でなく休日曜日でない\n",
    "    \n",
    "    workdays_datetimeindex = days_datetimeindex[workdays_bool_array].copy()\n",
    "    if return_as==\"dt\":\n",
    "        return workdays_datetimeindex\n",
    "    elif return_as==\"date\":\n",
    "        return workdays_datetimeindex.date"
   ]
  },
  {
   "cell_type": "code",
   "execution_count": 21,
   "metadata": {
    "ExecuteTime": {
     "end_time": "2021-04-07T05:36:20.985075Z",
     "start_time": "2021-04-07T05:36:20.854919Z"
    }
   },
   "outputs": [],
   "source": [
    "start_date = datetime.datetime(2021, 1, 1)\n",
    "end_date = datetime.datetime(2021, 12, 31)\n",
    "\n",
    "workdays = get_workdays_jp(start_date, end_date, return_as=\"date\", end_include=False)"
   ]
  },
  {
   "cell_type": "code",
   "execution_count": 22,
   "metadata": {
    "ExecuteTime": {
     "end_time": "2021-04-07T05:36:21.031945Z",
     "start_time": "2021-04-07T05:36:20.995041Z"
    }
   },
   "outputs": [
    {
     "data": {
      "text/plain": [
       "array([datetime.date(2021, 1, 4), datetime.date(2021, 1, 5),\n",
       "       datetime.date(2021, 1, 6), datetime.date(2021, 1, 7),\n",
       "       datetime.date(2021, 1, 8), datetime.date(2021, 1, 12),\n",
       "       datetime.date(2021, 1, 13), datetime.date(2021, 1, 14),\n",
       "       datetime.date(2021, 1, 15), datetime.date(2021, 1, 18),\n",
       "       datetime.date(2021, 1, 19), datetime.date(2021, 1, 20),\n",
       "       datetime.date(2021, 1, 21), datetime.date(2021, 1, 22),\n",
       "       datetime.date(2021, 1, 25), datetime.date(2021, 1, 26),\n",
       "       datetime.date(2021, 1, 27), datetime.date(2021, 1, 28),\n",
       "       datetime.date(2021, 1, 29), datetime.date(2021, 2, 1),\n",
       "       datetime.date(2021, 2, 2), datetime.date(2021, 2, 3),\n",
       "       datetime.date(2021, 2, 4), datetime.date(2021, 2, 5),\n",
       "       datetime.date(2021, 2, 8), datetime.date(2021, 2, 9),\n",
       "       datetime.date(2021, 2, 10), datetime.date(2021, 2, 12),\n",
       "       datetime.date(2021, 2, 15), datetime.date(2021, 2, 16),\n",
       "       datetime.date(2021, 2, 17), datetime.date(2021, 2, 18),\n",
       "       datetime.date(2021, 2, 19), datetime.date(2021, 2, 22),\n",
       "       datetime.date(2021, 2, 24), datetime.date(2021, 2, 25),\n",
       "       datetime.date(2021, 2, 26), datetime.date(2021, 3, 1),\n",
       "       datetime.date(2021, 3, 2), datetime.date(2021, 3, 3),\n",
       "       datetime.date(2021, 3, 4), datetime.date(2021, 3, 5),\n",
       "       datetime.date(2021, 3, 8), datetime.date(2021, 3, 9),\n",
       "       datetime.date(2021, 3, 10), datetime.date(2021, 3, 11),\n",
       "       datetime.date(2021, 3, 12), datetime.date(2021, 3, 15),\n",
       "       datetime.date(2021, 3, 16), datetime.date(2021, 3, 17)],\n",
       "      dtype=object)"
      ]
     },
     "execution_count": 22,
     "metadata": {},
     "output_type": "execute_result"
    }
   ],
   "source": [
    "workdays[:50]"
   ]
  },
  {
   "cell_type": "code",
   "execution_count": 23,
   "metadata": {
    "ExecuteTime": {
     "end_time": "2021-04-07T05:36:21.171568Z",
     "start_time": "2021-04-07T05:36:21.042914Z"
    }
   },
   "outputs": [
    {
     "name": "stdout",
     "output_type": "stream",
     "text": [
      "Timer unit: 1e-07 s\n",
      "\n",
      "Total time: 0.0171882 s\n",
      "File: <ipython-input-20-e1372a9d4670>\n",
      "Function: get_workdays_jp at line 1\n",
      "\n",
      "Line #      Hits         Time  Per Hit   % Time  Line Contents\n",
      "==============================================================\n",
      "     1                                           def get_workdays_jp(start_date, end_date, return_as=\"date\", end_include=False):\n",
      "     2                                               \"\"\"\n",
      "     3                                               営業日を取得\n",
      "     4                                               \n",
      "     5                                               start_date: datetime.date\n",
      "     6                                                   開始時刻のdate\n",
      "     7                                               end_datetime: datetime.date\n",
      "     8                                                   終了時刻のdate\n",
      "     9                                               return_as: str, defalt: 'dt'\n",
      "    10                                                   返り値の形式\n",
      "    11                                                   - 'dt':pd.DatetimeIndex\n",
      "    12                                                   - 'date': datetime.date array\n",
      "    13                                               end_include: bool\n",
      "    14                                                   最終日も含めて出力するか\n",
      "    15                                               \"\"\"\n",
      "    16         1        158.0    158.0      0.1      assert isinstance(start_date, datetime.date) and isinstance(end_date, datetime.date)\n",
      "    17                                               # 返り値の形式の指定\n",
      "    18         1         81.0     81.0      0.0      return_as_set = {\"dt\", \"date\"}\n",
      "    19         1         60.0     60.0      0.0      if not return_as in return_as_set:\n",
      "    20                                                   raise Exception(\"return_as must be any in {}\".format(return_as_set))\n",
      "    21                                               \n",
      "    22                                               # datetime.dateをpd.Timestampに変換(datetime.dateは通常pd.DatetimeIndexと比較できないため)\n",
      "    23         1        697.0    697.0      0.4      start_timestamp = pd.Timestamp(start_date)\n",
      "    24         1        261.0    261.0      0.2      end_timestamp = pd.Timestamp(end_date)\n",
      "    25                                               \n",
      "    26                                               # 期間中のholidayを取得\n",
      "    27         1      11846.0  11846.0      6.9      holidays_in_span_index = (start_timestamp<=option.holidays_datetimeindex)&(option.holidays_datetimeindex<end_timestamp)  # DatetimeIndexを使うことに注意\n",
      "    28         1        287.0    287.0      0.2      holidays_in_span_array = option.holidays_date_array[holidays_in_span_index]  # ndarrayを使う\n",
      "    29                                           \n",
      "    30                                               # 期間中のdatetimeのarrayを取得\n",
      "    31         1         63.0     63.0      0.0      if end_include:\n",
      "    32                                                   days_datetimeindex = pd.date_range(start=start_date, end=end_date, freq=\"D\")  # 最終日も含める\n",
      "    33                                               else:\n",
      "    34         1      18544.0  18544.0     10.8          days_datetimeindex = pd.date_range(start=start_date, end=end_date-datetime.timedelta(days=1), freq=\"D\")  # 最終日は含めない\n",
      "    35                                               \n",
      "    36                                               \n",
      "    37                                               # 休日に含まれないもの，さらに土日に含まれないもののboolインデックスを取得\n",
      "    38         1      31406.0  31406.0     18.3      holiday_bool_array = np.in1d(days_datetimeindex.date, holidays_in_span_array)  # 休日であるかのブール(pd.DatetimeIndex.isin)でもいい\n",
      "    39         1      77676.0  77676.0     45.2      holiday_weekday_each_bool_arrays = [days_datetimeindex.weekday==weekday for weekday in option.holiday_weekdays]  # inを使うのを回避\n",
      "    40         1       1239.0   1239.0      0.7      holiday_weekday_bool_array = np.logical_or.reduce(holiday_weekday_each_bool_arrays)  # 休日曜日\n",
      "    41                                               \n",
      "    42         1        530.0    530.0      0.3      workdays_bool_array = (~holiday_bool_array)&(~holiday_weekday_bool_array)  # 休日でなく休日曜日でない\n",
      "    43                                               \n",
      "    44         1      22547.0  22547.0     13.1      workdays_datetimeindex = days_datetimeindex[workdays_bool_array].copy()\n",
      "    45         1        106.0    106.0      0.1      if return_as==\"dt\":\n",
      "    46                                                   return workdays_datetimeindex\n",
      "    47         1         87.0     87.0      0.1      elif return_as==\"date\":\n",
      "    48         1       6294.0   6294.0      3.7          return workdays_datetimeindex.date\n",
      "\n"
     ]
    }
   ],
   "source": [
    "def temp_func():\n",
    "    workdays = get_workdays_jp(start_date, end_date, return_as=\"date\", end_include=False)\n",
    "\n",
    "from line_profiler import LineProfiler\n",
    "prf = LineProfiler()                                                                                         \n",
    "#prf.add_module()                                                                                          \n",
    "prf.add_function(get_workdays_jp)                                                                                      \n",
    "prf.runcall(temp_func)                                                                                          \n",
    "prf.print_stats()"
   ]
  },
  {
   "cell_type": "code",
   "execution_count": 24,
   "metadata": {
    "ExecuteTime": {
     "end_time": "2021-04-07T05:36:21.233871Z",
     "start_time": "2021-04-07T05:36:21.208941Z"
    }
   },
   "outputs": [],
   "source": [
    "days_datetimeindex = pd.date_range(start=start_date, end=end_date, freq=\"D\")"
   ]
  },
  {
   "cell_type": "markdown",
   "metadata": {},
   "source": [
    "ボトルネックは以下の部分である．"
   ]
  },
  {
   "cell_type": "code",
   "execution_count": 25,
   "metadata": {
    "ExecuteTime": {
     "end_time": "2021-04-07T05:36:24.456683Z",
     "start_time": "2021-04-07T05:36:21.255816Z"
    }
   },
   "outputs": [
    {
     "name": "stdout",
     "output_type": "stream",
     "text": [
      "3.72 ms ± 697 µs per loop (mean ± std. dev. of 7 runs, 100 loops each)\n"
     ]
    }
   ],
   "source": [
    "%%timeit \n",
    "[days_datetimeindex.weekday==weekday for weekday in option.holiday_weekdays]"
   ]
  },
  {
   "cell_type": "markdown",
   "metadata": {},
   "source": [
    "ここで，weekdayアトリビュートの取得にほぼすべての時間が費やされていることに注意すれば"
   ]
  },
  {
   "cell_type": "code",
   "execution_count": 26,
   "metadata": {
    "ExecuteTime": {
     "end_time": "2021-04-07T05:36:32.045268Z",
     "start_time": "2021-04-07T05:36:24.468712Z"
    }
   },
   "outputs": [
    {
     "name": "stdout",
     "output_type": "stream",
     "text": [
      "911 µs ± 95.2 µs per loop (mean ± std. dev. of 7 runs, 1000 loops each)\n"
     ]
    }
   ],
   "source": [
    "%%timeit\n",
    "weekday_array = days_datetimeindex.weekday.values\n",
    "[weekday_array==weekday for weekday in option.holiday_weekdays]"
   ]
  },
  {
   "cell_type": "markdown",
   "metadata": {},
   "source": [
    "これでholiday_weekdaysの個数に依存しなくなる．"
   ]
  },
  {
   "cell_type": "markdown",
   "metadata": {},
   "source": [
    "### 営業日であるかどうか "
   ]
  },
  {
   "cell_type": "code",
   "execution_count": 27,
   "metadata": {
    "ExecuteTime": {
     "end_time": "2021-04-07T05:36:32.092720Z",
     "start_time": "2021-04-07T05:36:32.059754Z"
    }
   },
   "outputs": [],
   "source": [
    "def check_workday_jp(select_date):\n",
    "    \"\"\"\n",
    "    与えられたdatetime.dateが営業日であるかどうかを出力する\n",
    "    select_date: datetime.date\n",
    "        入力するdate\n",
    "    \"\"\"\n",
    "    assert isinstance(select_date, datetime.date)\n",
    "    select_date_array = np.array([select_date])  # データ数が一つのndarray\n",
    "    # 休日であるかどうか\n",
    "    is_holiday = np.in1d(select_date_array, option.holidays_date_array).item()  # データ数が一つのため，item\n",
    "    \n",
    "    # 休日曜日であるかどうか\n",
    "    is_holiday_weekday = select_date.weekday() in option.holiday_weekdays\n",
    "    \n",
    "    is_workday = not any([is_holiday, is_holiday_weekday])\n",
    "    \n",
    "    return is_workday"
   ]
  },
  {
   "cell_type": "code",
   "execution_count": 28,
   "metadata": {
    "ExecuteTime": {
     "end_time": "2021-04-07T05:36:32.202944Z",
     "start_time": "2021-04-07T05:36:32.105203Z"
    }
   },
   "outputs": [
    {
     "data": {
      "text/plain": [
       "False"
      ]
     },
     "execution_count": 28,
     "metadata": {},
     "output_type": "execute_result"
    }
   ],
   "source": [
    "select_date = datetime.date(2021, 1, 3)\n",
    "check_workday_jp(select_date)"
   ]
  },
  {
   "cell_type": "code",
   "execution_count": 29,
   "metadata": {
    "ExecuteTime": {
     "end_time": "2021-04-07T05:36:32.296769Z",
     "start_time": "2021-04-07T05:36:32.217899Z"
    }
   },
   "outputs": [
    {
     "name": "stdout",
     "output_type": "stream",
     "text": [
      "Timer unit: 1e-07 s\n",
      "\n",
      "Total time: 0.0070664 s\n",
      "File: <ipython-input-27-45ef695fe0ae>\n",
      "Function: check_workday_jp at line 1\n",
      "\n",
      "Line #      Hits         Time  Per Hit   % Time  Line Contents\n",
      "==============================================================\n",
      "     1                                           def check_workday_jp(select_date):\n",
      "     2                                               \"\"\"\n",
      "     3                                               与えられたdatetime.dateが営業日であるかどうかを出力する\n",
      "     4                                               select_date: datetime.date\n",
      "     5                                                   入力するdate\n",
      "     6                                               \"\"\"\n",
      "     7         1        117.0    117.0      0.2      assert isinstance(select_date, datetime.date)\n",
      "     8         1        506.0    506.0      0.7      select_date_array = np.array([select_date])  # データ数が一つのndarray\n",
      "     9                                               # 休日であるかどうか\n",
      "    10         1      69580.0  69580.0     98.5      is_holiday = np.in1d(select_date_array, option.holidays_date_array).item()  # データ数が一つのため，item\n",
      "    11                                               \n",
      "    12                                               # 休日曜日であるかどうか\n",
      "    13         1        288.0    288.0      0.4      is_holiday_weekday = select_date.weekday() in option.holiday_weekdays\n",
      "    14                                               \n",
      "    15         1        100.0    100.0      0.1      is_workday = not any([is_holiday, is_holiday_weekday])\n",
      "    16                                               \n",
      "    17         1         73.0     73.0      0.1      return is_workday\n",
      "\n"
     ]
    }
   ],
   "source": [
    "def temp_func():\n",
    "    check_workday_jp(select_date)\n",
    "    \n",
    "from line_profiler import LineProfiler\n",
    "prf = LineProfiler()                                                                                         \n",
    "#prf.add_module()                                                                                          \n",
    "prf.add_function(check_workday_jp)                                                                                      \n",
    "prf.runcall(temp_func)                                                                                          \n",
    "prf.print_stats()"
   ]
  },
  {
   "cell_type": "markdown",
   "metadata": {},
   "source": [
    "np.in1dの速度とコンストラクタの速度の問題がある．"
   ]
  },
  {
   "cell_type": "code",
   "execution_count": 30,
   "metadata": {
    "ExecuteTime": {
     "end_time": "2021-04-07T05:36:39.898284Z",
     "start_time": "2021-04-07T05:36:32.307739Z"
    }
   },
   "outputs": [
    {
     "name": "stdout",
     "output_type": "stream",
     "text": [
      "9.33 ms ± 3.31 ms per loop (mean ± std. dev. of 7 runs, 100 loops each)\n"
     ]
    }
   ],
   "source": [
    "%%timeit\n",
    "select_date = datetime.date(2021, 1, 3)\n",
    "select_date_array = np.array([select_date])\n",
    "np.in1d(select_date_array, option.holidays_date_array).item()  # データ数が一つのため，item"
   ]
  },
  {
   "cell_type": "markdown",
   "metadata": {},
   "source": [
    "この問題では探すのが1つであるので，以下のようにdatetime.dateの比較演算子を利用できる．"
   ]
  },
  {
   "cell_type": "code",
   "execution_count": 31,
   "metadata": {
    "ExecuteTime": {
     "end_time": "2021-04-07T05:36:42.221250Z",
     "start_time": "2021-04-07T05:36:39.912342Z"
    }
   },
   "outputs": [
    {
     "name": "stdout",
     "output_type": "stream",
     "text": [
      "281 µs ± 72.3 µs per loop (mean ± std. dev. of 7 runs, 1000 loops each)\n"
     ]
    }
   ],
   "source": [
    "%%timeit \n",
    "select_date = datetime.date(2021, 1, 3)\n",
    "(option.holidays_date_array == select_date).sum() > 0"
   ]
  },
  {
   "cell_type": "markdown",
   "metadata": {},
   "source": [
    "### 非営業日を取得"
   ]
  },
  {
   "cell_type": "markdown",
   "metadata": {},
   "source": [
    "同様に，すでに取得したholidayと照らし合わせる．"
   ]
  },
  {
   "cell_type": "code",
   "execution_count": 32,
   "metadata": {
    "ExecuteTime": {
     "end_time": "2021-04-07T05:36:42.437059Z",
     "start_time": "2021-04-07T05:36:42.234215Z"
    }
   },
   "outputs": [],
   "source": [
    "def get_not_workdays_jp(start_date, end_date, return_as=\"date\", end_include=False):\n",
    "    \"\"\"\n",
    "    非営業日を取得(土日or祝日)\n",
    "    \n",
    "    start_date: datetime.date\n",
    "        開始時刻のdate\n",
    "    end_datetime: datetime.date\n",
    "        終了時刻のdate\n",
    "    return_as: str, defalt: 'dt'\n",
    "        返り値の形式\n",
    "        - 'dt':pd.DatetimeIndex\n",
    "        - 'date': datetime.date array\n",
    "    end_include: bool\n",
    "        最終日も含めて出力するか\n",
    "    \"\"\"\n",
    "    assert isinstance(start_date, datetime.date) and isinstance(end_date, datetime.date)\n",
    "    # 返り値の形式の指定\n",
    "    return_as_set = {\"dt\", \"date\"}\n",
    "    if not return_as in return_as_set:\n",
    "        raise Exception(\"return_as must be any in {}\".format(return_as_set))\n",
    "    \n",
    "    # datetime.dateをpd.Timestampに変換(datetime.dateは通常pd.DatetimeIndexと比較できないため)\n",
    "    start_timestamp = pd.Timestamp(start_date)\n",
    "    end_timestamp = pd.Timestamp(end_date)\n",
    "    \n",
    "    # 期間中のholidayを取得\n",
    "    holidays_in_span_index = (start_timestamp<=option.holidays_datetimeindex)&(option.holidays_datetimeindex<end_timestamp)  # DatetimeIndexを使うことに注意\n",
    "    holidays_in_span_array = option.holidays_date_array[holidays_in_span_index]  # ndarrayを使う\n",
    "\n",
    "    # 期間中のdatetimeのarrayを取得\n",
    "    if end_include:\n",
    "        days_datetimeindex = pd.date_range(start=start_date, end=end_date, freq=\"D\")  # 最終日も含める\n",
    "    else:\n",
    "        days_datetimeindex = pd.date_range(start=start_date, end=end_date-datetime.timedelta(days=1), freq=\"D\")  # 最終日は含めない\n",
    "    \n",
    "    # 休日に含まれないもの，さらに休日曜日に含まれないもののboolインデックスを取得\n",
    "    holiday_bool_array = np.in1d(days_datetimeindex.date, holidays_in_span_array)  # 休日であるかのブール(pd.DatetimeIndex.isin)でもいい\n",
    "    holiday_weekday_each_bool_arrays = [days_datetimeindex.weekday==weekday for weekday in option.holiday_weekdays]  # inを使うのを回避\n",
    "    holiday_weekday_bool_array = np.logical_or.reduce(holiday_weekday_each_bool_arrays)  # 休日曜日\n",
    "    \n",
    "    not_workdays_bool_array = holiday_bool_array | holiday_weekday_bool_array  # 休日あるいは休日曜日\n",
    "    \n",
    "    not_workdays_datetimeindex = days_datetimeindex[not_workdays_bool_array].copy()\n",
    "    if return_as==\"dt\":\n",
    "        return not_workdays_datetimeindex\n",
    "    elif return_as==\"date\":\n",
    "        return not_workdays_datetimeindex.date"
   ]
  },
  {
   "cell_type": "code",
   "execution_count": 33,
   "metadata": {
    "ExecuteTime": {
     "end_time": "2021-04-07T05:36:42.529334Z",
     "start_time": "2021-04-07T05:36:42.483460Z"
    }
   },
   "outputs": [],
   "source": [
    "start_datetime = datetime.date(2019, 1, 1)\n",
    "end_datetime = datetime.date(2019, 12, 31)\n",
    "\n",
    "not_workdays = get_not_workdays_jp(start_date, end_date, return_as=\"dt\")"
   ]
  },
  {
   "cell_type": "code",
   "execution_count": 34,
   "metadata": {
    "ExecuteTime": {
     "end_time": "2021-04-07T05:36:42.634055Z",
     "start_time": "2021-04-07T05:36:42.583191Z"
    }
   },
   "outputs": [
    {
     "data": {
      "text/plain": [
       "DatetimeIndex(['2021-01-01', '2021-01-02', '2021-01-03', '2021-01-09',\n",
       "               '2021-01-10', '2021-01-11', '2021-01-16', '2021-01-17',\n",
       "               '2021-01-23', '2021-01-24',\n",
       "               ...\n",
       "               '2021-11-27', '2021-11-28', '2021-12-04', '2021-12-05',\n",
       "               '2021-12-11', '2021-12-12', '2021-12-18', '2021-12-19',\n",
       "               '2021-12-25', '2021-12-26'],\n",
       "              dtype='datetime64[ns]', length=119, freq=None)"
      ]
     },
     "execution_count": 34,
     "metadata": {},
     "output_type": "execute_result"
    }
   ],
   "source": [
    "not_workdays"
   ]
  },
  {
   "cell_type": "markdown",
   "metadata": {},
   "source": [
    "プロファイリングは省略"
   ]
  },
  {
   "cell_type": "markdown",
   "metadata": {},
   "source": [
    "## 指定した日数後の営業日を取得"
   ]
  },
  {
   "cell_type": "code",
   "execution_count": 35,
   "metadata": {
    "ExecuteTime": {
     "end_time": "2021-04-07T05:36:42.772688Z",
     "start_time": "2021-04-07T05:36:42.687912Z"
    }
   },
   "outputs": [],
   "source": [
    "def get_next_workday_jp(select_date, days=1, select_include=False, return_as=\"date\"):\n",
    "    \"\"\"\n",
    "    指定した日数後の営業日を取得\n",
    "    select_date: datetime.date\n",
    "        指定する日時\n",
    "    days: int\n",
    "        日数\n",
    "    return_as: str, defalt: 'dt'\n",
    "        返り値の形式\n",
    "        - 'dt':pd.Timstamp\n",
    "        - 'datetime': datetime.datetime array\n",
    "    \"\"\"\n",
    "    assert isinstance(select_date, datetime.date)\n",
    "    # 返り値の形式の指定\n",
    "    return_as_set = {\"dt\", \"date\"}\n",
    "    if not return_as in return_as_set:\n",
    "        raise Exception(\"return_as must be any in {}\".format(return_as_set))\n",
    "        \n",
    "\n",
    "    def get_next_workday_jp_gen(select_date):\n",
    "        add_days = 1  # 追加日数の初期値\n",
    "        while True:\n",
    "            next_day = select_date + datetime.timedelta(days=add_days)\n",
    "            if check_workday_jp(next_day):\n",
    "                yield next_day\n",
    "            add_days += 1  # 追加日数をさらに追加\n",
    "    \n",
    "    next_workday_gen = get_next_workday_jp_gen(select_date)\n",
    "    \n",
    "    for i in range(days):\n",
    "        next_day = next(next_workday_gen)\n",
    "    \n",
    "    if return_as==\"date\":\n",
    "        return next_day\n",
    "    elif return_as==\"dt\":\n",
    "        return pd.Timestamp(next_day)"
   ]
  },
  {
   "cell_type": "code",
   "execution_count": 36,
   "metadata": {
    "ExecuteTime": {
     "end_time": "2021-04-07T05:36:43.031250Z",
     "start_time": "2021-04-07T05:36:42.786648Z"
    }
   },
   "outputs": [
    {
     "data": {
      "text/plain": [
       "datetime.date(2021, 1, 18)"
      ]
     },
     "execution_count": 36,
     "metadata": {},
     "output_type": "execute_result"
    }
   ],
   "source": [
    "select_date = datetime.date(2021, 1, 1)\n",
    "next_workday = get_next_workday_jp(select_date, days=10, return_as=\"date\")\n",
    "next_workday"
   ]
  },
  {
   "cell_type": "code",
   "execution_count": 37,
   "metadata": {
    "ExecuteTime": {
     "end_time": "2021-04-07T05:36:44.124364Z",
     "start_time": "2021-04-07T05:36:43.053190Z"
    }
   },
   "outputs": [
    {
     "name": "stdout",
     "output_type": "stream",
     "text": [
      "Timer unit: 1e-07 s\n",
      "\n",
      "Total time: 0.966596 s\n",
      "File: <ipython-input-35-b69df8e77b24>\n",
      "Function: get_next_workday_jp at line 1\n",
      "\n",
      "Line #      Hits         Time  Per Hit   % Time  Line Contents\n",
      "==============================================================\n",
      "     1                                           def get_next_workday_jp(select_date, days=1, select_include=False, return_as=\"date\"):\n",
      "     2                                               \"\"\"\n",
      "     3                                               指定した日数後の営業日を取得\n",
      "     4                                               select_date: datetime.date\n",
      "     5                                                   指定する日時\n",
      "     6                                               days: int\n",
      "     7                                                   日数\n",
      "     8                                               return_as: str, defalt: 'dt'\n",
      "     9                                                   返り値の形式\n",
      "    10                                                   - 'dt':pd.Timstamp\n",
      "    11                                                   - 'datetime': datetime.datetime array\n",
      "    12                                               \"\"\"\n",
      "    13         1        139.0    139.0      0.0      assert isinstance(select_date, datetime.date)\n",
      "    14                                               # 返り値の形式の指定\n",
      "    15         1         94.0     94.0      0.0      return_as_set = {\"dt\", \"date\"}\n",
      "    16         1         69.0     69.0      0.0      if not return_as in return_as_set:\n",
      "    17                                                   raise Exception(\"return_as must be any in {}\".format(return_as_set))\n",
      "    18                                                   \n",
      "    19                                           \n",
      "    20         1         78.0     78.0      0.0      def get_next_workday_jp_gen(select_date):\n",
      "    21                                                   add_days = 1  # 追加日数の初期値\n",
      "    22                                                   while True:\n",
      "    23                                                       next_day = select_date + datetime.timedelta(days=add_days)\n",
      "    24                                                       if check_workday_jp(next_day):\n",
      "    25                                                           yield next_day\n",
      "    26                                                       add_days += 1  # 追加日数をさらに追加\n",
      "    27                                               \n",
      "    28         1         80.0     80.0      0.0      next_workday_gen = get_next_workday_jp_gen(select_date)\n",
      "    29                                               \n",
      "    30        44       5626.0    127.9      0.1      for i in range(days):\n",
      "    31        43    9659749.0 224645.3     99.9          next_day = next(next_workday_gen)\n",
      "    32                                               \n",
      "    33         1         70.0     70.0      0.0      if return_as==\"date\":\n",
      "    34         1         58.0     58.0      0.0          return next_day\n",
      "    35                                               elif return_as==\"dt\":\n",
      "    36                                                   return pd.Timestamp(next_day)\n",
      "\n"
     ]
    }
   ],
   "source": [
    "def temp_func():\n",
    "    select_date = datetime.date(2021, 1, 1)\n",
    "    next_workday = get_next_workday_jp(select_date, days=43, return_as=\"date\")\n",
    "    \n",
    "from line_profiler import LineProfiler\n",
    "prf = LineProfiler()                                                                                         \n",
    "#prf.add_module()                                                                                          \n",
    "prf.add_function(get_next_workday_jp)                                                                                      \n",
    "prf.runcall(temp_func)                                                                                          \n",
    "prf.print_stats()"
   ]
  },
  {
   "cell_type": "markdown",
   "metadata": {
    "ExecuteTime": {
     "end_time": "2021-03-26T16:01:59.370652Z",
     "start_time": "2021-03-26T16:01:59.219055Z"
    }
   },
   "source": [
    "ボトルネックは明らかであり，毎回get_next_workday_jpで判定していることである．結局のところ，普通の日にちのイテレーターと休日イテレーターを回しながら一つづつ判定するのが効果的と思われる．"
   ]
  },
  {
   "cell_type": "code",
   "execution_count": 38,
   "metadata": {
    "ExecuteTime": {
     "end_time": "2021-04-07T05:36:44.329218Z",
     "start_time": "2021-04-07T05:36:44.171247Z"
    }
   },
   "outputs": [
    {
     "name": "stdout",
     "output_type": "stream",
     "text": [
      "initial_holiday: 2021-01-01\n",
      "initial_day: 2021-01-01\n",
      "holiday: 2021-01-01\n",
      "holiday_weekday: 2021-01-02\n",
      "holiday_weekday: 2021-01-03\n",
      "workday: 2021-01-04\n",
      "return_day: 2021-01-04\n"
     ]
    }
   ],
   "source": [
    "select_date = datetime.date(2021, 1, 1)\n",
    "select_days = 1\n",
    "\n",
    "if select_days <= 0:\n",
    "    raise Exception(\"select_days is must be integer > 0\")\n",
    "\n",
    "holiday_weekdays_set = set(option.holiday_weekdays)  #setにした方が高速？\n",
    "\n",
    "#holiday_bigger_select_index = (option.holidays_date_array<=select_date).sum()\n",
    "if (option.holidays_date_array==select_date).sum() > 0:  #selet_day が休日の場合\n",
    "    holiday_bigger_select_index = (option.holidays_date_array<select_date).sum()\n",
    "else:  # select_dayが休日でない場合\n",
    "    holiday_bigger_select_index = (option.holidays_date_array<=select_date).sum()\n",
    "\n",
    "holiday_iter = iter(option.holidays_date_array[holiday_bigger_select_index:])\n",
    "def days_gen(select_date):\n",
    "    add_days = 0  # select_dateを含める\n",
    "    while True:\n",
    "        yield select_date + datetime.timedelta(days=add_days)\n",
    "        add_days += 1\n",
    "days_iter = days_gen(select_date)\n",
    " \n",
    "# 以下二つのイテレーターを比較し，one_dayが休日に含まれる場合カウントし，カウントが指定に達した場合終了する\n",
    "one_day = next(days_iter)\n",
    "one_holiday = next(holiday_iter)\n",
    "assert(one_day <= one_holiday)  # これを満たさないと祝日検出ができない\n",
    "\n",
    "print(\"initial_holiday:\", one_holiday)\n",
    "print(\"initial_day:\", one_day)\n",
    "\n",
    "# 最初はwhileの外で，さらに初日がworkdaysでもカウントしない\n",
    "if one_day==one_holiday:\n",
    "    print(\"holiday:\",one_day)\n",
    "    one_holiday = next(holiday_iter)   \n",
    "\n",
    "one_day = next(days_iter)\n",
    "counter = 0\n",
    "        \n",
    "while True:\n",
    "    if one_day==one_holiday:  #その日が祝日である\n",
    "        print(\"holiday:\",one_day)\n",
    "        one_holiday = next(holiday_iter)\n",
    "    else:\n",
    "        if not one_day.weekday() in holiday_weekdays_set:  #その日が休日曜日である\n",
    "            #print(one_day)\n",
    "            print(\"workday:\",one_day)\n",
    "            counter += 1  # カウンターをインクリメント\n",
    "        else:\n",
    "            print(\"holiday_weekday:\",one_day)\n",
    "            \n",
    "    if counter>= select_days:\n",
    "        break\n",
    "    \n",
    "    one_day = next(days_iter)\n",
    "return_day = one_day\n",
    "print(\"return_day:\",return_day)"
   ]
  },
  {
   "cell_type": "code",
   "execution_count": 39,
   "metadata": {
    "ExecuteTime": {
     "end_time": "2021-04-07T05:36:44.376338Z",
     "start_time": "2021-04-07T05:36:44.341266Z"
    }
   },
   "outputs": [
    {
     "data": {
      "text/plain": [
       "datetime.date(2021, 1, 4)"
      ]
     },
     "execution_count": 39,
     "metadata": {},
     "output_type": "execute_result"
    }
   ],
   "source": [
    "one_day"
   ]
  },
  {
   "cell_type": "code",
   "execution_count": 40,
   "metadata": {
    "ExecuteTime": {
     "end_time": "2021-04-07T05:36:44.441264Z",
     "start_time": "2021-04-07T05:36:44.386264Z"
    }
   },
   "outputs": [
    {
     "data": {
      "text/plain": [
       "True"
      ]
     },
     "execution_count": 40,
     "metadata": {},
     "output_type": "execute_result"
    }
   ],
   "source": [
    "datetime.date(2021,1,1) == datetime.date(2021,1,1)"
   ]
  },
  {
   "cell_type": "markdown",
   "metadata": {},
   "source": [
    "## 指定した日数分の営業日を取得"
   ]
  },
  {
   "cell_type": "code",
   "execution_count": 41,
   "metadata": {
    "ExecuteTime": {
     "end_time": "2021-04-07T05:36:44.517829Z",
     "start_time": "2021-04-07T05:36:44.451237Z"
    }
   },
   "outputs": [],
   "source": [
    "def get_workdays_number_jp(start_date, days, return_as=\"date\"):\n",
    "    \"\"\"\n",
    "    指定した日数分の営業日を取得\n",
    "    start_date: datetime.date\n",
    "        開始日時\n",
    "    days: int\n",
    "        日数\n",
    "    return_as: str, defalt: 'dt'\n",
    "        返り値の形式\n",
    "        - 'dt':pd.Timstamp\n",
    "        - 'datetime': datetime.datetime array\n",
    "    \"\"\"\n",
    "    #get_net_workday_jpでは初日はworkdayに含めないので，初日がworkdayならend_includeをFalseにする\n",
    "    is_initial_day_workday = check_workday_jp(start_date)\n",
    "    end_date = get_next_workday_jp(start_date, days=days, return_as=\"date\")\n",
    "    return get_workdays_jp(start_date, end_date, end_include=not is_initial_day_workday, return_as=return_as)"
   ]
  },
  {
   "cell_type": "code",
   "execution_count": 42,
   "metadata": {
    "ExecuteTime": {
     "end_time": "2021-04-07T05:36:44.721086Z",
     "start_time": "2021-04-07T05:36:44.530271Z"
    }
   },
   "outputs": [
    {
     "data": {
      "text/plain": [
       "array([datetime.date(2021, 1, 4), datetime.date(2021, 1, 5),\n",
       "       datetime.date(2021, 1, 6), datetime.date(2021, 1, 7),\n",
       "       datetime.date(2021, 1, 8), datetime.date(2021, 1, 12),\n",
       "       datetime.date(2021, 1, 13), datetime.date(2021, 1, 14),\n",
       "       datetime.date(2021, 1, 15), datetime.date(2021, 1, 18)],\n",
       "      dtype=object)"
      ]
     },
     "execution_count": 42,
     "metadata": {},
     "output_type": "execute_result"
    }
   ],
   "source": [
    "start_date = datetime.date(2021, 1, 4)\n",
    "workdays = get_workdays_number_jp(start_date, days=10, return_as=\"date\")\n",
    "workdays"
   ]
  },
  {
   "cell_type": "markdown",
   "metadata": {},
   "source": [
    "## データフレームに関しての処理"
   ]
  },
  {
   "cell_type": "markdown",
   "metadata": {},
   "source": [
    "### データの用意 "
   ]
  },
  {
   "cell_type": "markdown",
   "metadata": {},
   "source": [
    "awareなdatetimeを持つDataFrame"
   ]
  },
  {
   "cell_type": "code",
   "execution_count": 44,
   "metadata": {
    "ExecuteTime": {
     "end_time": "2021-04-07T05:37:23.074415Z",
     "start_time": "2021-04-07T05:37:20.952328Z"
    }
   },
   "outputs": [
    {
     "data": {
      "text/html": [
       "<div>\n",
       "<style scoped>\n",
       "    .dataframe tbody tr th:only-of-type {\n",
       "        vertical-align: middle;\n",
       "    }\n",
       "\n",
       "    .dataframe tbody tr th {\n",
       "        vertical-align: top;\n",
       "    }\n",
       "\n",
       "    .dataframe thead th {\n",
       "        text-align: right;\n",
       "    }\n",
       "</style>\n",
       "<table border=\"1\" class=\"dataframe\">\n",
       "  <thead>\n",
       "    <tr style=\"text-align: right;\">\n",
       "      <th></th>\n",
       "      <th>Open_6502</th>\n",
       "      <th>High_6502</th>\n",
       "      <th>Low_6502</th>\n",
       "      <th>Close_6502</th>\n",
       "      <th>Volume_6502</th>\n",
       "    </tr>\n",
       "    <tr>\n",
       "      <th>timestamp</th>\n",
       "      <th></th>\n",
       "      <th></th>\n",
       "      <th></th>\n",
       "      <th></th>\n",
       "      <th></th>\n",
       "    </tr>\n",
       "  </thead>\n",
       "  <tbody>\n",
       "    <tr>\n",
       "      <th>2020-11-04 00:00:00+09:00</th>\n",
       "      <td>NaN</td>\n",
       "      <td>NaN</td>\n",
       "      <td>NaN</td>\n",
       "      <td>NaN</td>\n",
       "      <td>NaN</td>\n",
       "    </tr>\n",
       "    <tr>\n",
       "      <th>2020-11-04 00:01:00+09:00</th>\n",
       "      <td>NaN</td>\n",
       "      <td>NaN</td>\n",
       "      <td>NaN</td>\n",
       "      <td>NaN</td>\n",
       "      <td>NaN</td>\n",
       "    </tr>\n",
       "    <tr>\n",
       "      <th>2020-11-04 00:02:00+09:00</th>\n",
       "      <td>NaN</td>\n",
       "      <td>NaN</td>\n",
       "      <td>NaN</td>\n",
       "      <td>NaN</td>\n",
       "      <td>NaN</td>\n",
       "    </tr>\n",
       "    <tr>\n",
       "      <th>2020-11-04 00:03:00+09:00</th>\n",
       "      <td>NaN</td>\n",
       "      <td>NaN</td>\n",
       "      <td>NaN</td>\n",
       "      <td>NaN</td>\n",
       "      <td>NaN</td>\n",
       "    </tr>\n",
       "    <tr>\n",
       "      <th>2020-11-04 00:04:00+09:00</th>\n",
       "      <td>NaN</td>\n",
       "      <td>NaN</td>\n",
       "      <td>NaN</td>\n",
       "      <td>NaN</td>\n",
       "      <td>NaN</td>\n",
       "    </tr>\n",
       "    <tr>\n",
       "      <th>...</th>\n",
       "      <td>...</td>\n",
       "      <td>...</td>\n",
       "      <td>...</td>\n",
       "      <td>...</td>\n",
       "      <td>...</td>\n",
       "    </tr>\n",
       "    <tr>\n",
       "      <th>2020-11-30 23:55:00+09:00</th>\n",
       "      <td>NaN</td>\n",
       "      <td>NaN</td>\n",
       "      <td>NaN</td>\n",
       "      <td>NaN</td>\n",
       "      <td>NaN</td>\n",
       "    </tr>\n",
       "    <tr>\n",
       "      <th>2020-11-30 23:56:00+09:00</th>\n",
       "      <td>NaN</td>\n",
       "      <td>NaN</td>\n",
       "      <td>NaN</td>\n",
       "      <td>NaN</td>\n",
       "      <td>NaN</td>\n",
       "    </tr>\n",
       "    <tr>\n",
       "      <th>2020-11-30 23:57:00+09:00</th>\n",
       "      <td>NaN</td>\n",
       "      <td>NaN</td>\n",
       "      <td>NaN</td>\n",
       "      <td>NaN</td>\n",
       "      <td>NaN</td>\n",
       "    </tr>\n",
       "    <tr>\n",
       "      <th>2020-11-30 23:58:00+09:00</th>\n",
       "      <td>NaN</td>\n",
       "      <td>NaN</td>\n",
       "      <td>NaN</td>\n",
       "      <td>NaN</td>\n",
       "      <td>NaN</td>\n",
       "    </tr>\n",
       "    <tr>\n",
       "      <th>2020-11-30 23:59:00+09:00</th>\n",
       "      <td>NaN</td>\n",
       "      <td>NaN</td>\n",
       "      <td>NaN</td>\n",
       "      <td>NaN</td>\n",
       "      <td>NaN</td>\n",
       "    </tr>\n",
       "  </tbody>\n",
       "</table>\n",
       "<p>38880 rows × 5 columns</p>\n",
       "</div>"
      ],
      "text/plain": [
       "                           Open_6502  High_6502  Low_6502  Close_6502  \\\n",
       "timestamp                                                               \n",
       "2020-11-04 00:00:00+09:00        NaN        NaN       NaN         NaN   \n",
       "2020-11-04 00:01:00+09:00        NaN        NaN       NaN         NaN   \n",
       "2020-11-04 00:02:00+09:00        NaN        NaN       NaN         NaN   \n",
       "2020-11-04 00:03:00+09:00        NaN        NaN       NaN         NaN   \n",
       "2020-11-04 00:04:00+09:00        NaN        NaN       NaN         NaN   \n",
       "...                              ...        ...       ...         ...   \n",
       "2020-11-30 23:55:00+09:00        NaN        NaN       NaN         NaN   \n",
       "2020-11-30 23:56:00+09:00        NaN        NaN       NaN         NaN   \n",
       "2020-11-30 23:57:00+09:00        NaN        NaN       NaN         NaN   \n",
       "2020-11-30 23:58:00+09:00        NaN        NaN       NaN         NaN   \n",
       "2020-11-30 23:59:00+09:00        NaN        NaN       NaN         NaN   \n",
       "\n",
       "                           Volume_6502  \n",
       "timestamp                               \n",
       "2020-11-04 00:00:00+09:00          NaN  \n",
       "2020-11-04 00:01:00+09:00          NaN  \n",
       "2020-11-04 00:02:00+09:00          NaN  \n",
       "2020-11-04 00:03:00+09:00          NaN  \n",
       "2020-11-04 00:04:00+09:00          NaN  \n",
       "...                                ...  \n",
       "2020-11-30 23:55:00+09:00          NaN  \n",
       "2020-11-30 23:56:00+09:00          NaN  \n",
       "2020-11-30 23:57:00+09:00          NaN  \n",
       "2020-11-30 23:58:00+09:00          NaN  \n",
       "2020-11-30 23:59:00+09:00          NaN  \n",
       "\n",
       "[38880 rows x 5 columns]"
      ]
     },
     "execution_count": 44,
     "metadata": {},
     "output_type": "execute_result"
    }
   ],
   "source": [
    "with open(Path(\"develops/aware_stock_df.pickle\"), \"rb\") as f:\n",
    "    aware_stock_df = pickle.load(f)\n",
    "\n",
    "aware_stock_df"
   ]
  },
  {
   "cell_type": "markdown",
   "metadata": {},
   "source": [
    "naiveなdatetimeを持つDataFrame"
   ]
  },
  {
   "cell_type": "code",
   "execution_count": 45,
   "metadata": {
    "ExecuteTime": {
     "end_time": "2021-04-07T05:37:33.721707Z",
     "start_time": "2021-04-07T05:37:33.515144Z"
    }
   },
   "outputs": [
    {
     "data": {
      "text/html": [
       "<div>\n",
       "<style scoped>\n",
       "    .dataframe tbody tr th:only-of-type {\n",
       "        vertical-align: middle;\n",
       "    }\n",
       "\n",
       "    .dataframe tbody tr th {\n",
       "        vertical-align: top;\n",
       "    }\n",
       "\n",
       "    .dataframe thead th {\n",
       "        text-align: right;\n",
       "    }\n",
       "</style>\n",
       "<table border=\"1\" class=\"dataframe\">\n",
       "  <thead>\n",
       "    <tr style=\"text-align: right;\">\n",
       "      <th></th>\n",
       "      <th>Open_6502</th>\n",
       "      <th>High_6502</th>\n",
       "      <th>Low_6502</th>\n",
       "      <th>Close_6502</th>\n",
       "      <th>Volume_6502</th>\n",
       "    </tr>\n",
       "    <tr>\n",
       "      <th>timestamp</th>\n",
       "      <th></th>\n",
       "      <th></th>\n",
       "      <th></th>\n",
       "      <th></th>\n",
       "      <th></th>\n",
       "    </tr>\n",
       "  </thead>\n",
       "  <tbody>\n",
       "    <tr>\n",
       "      <th>2020-11-04 09:00:00</th>\n",
       "      <td>2669.0</td>\n",
       "      <td>2670.0</td>\n",
       "      <td>2658.0</td>\n",
       "      <td>2664.0</td>\n",
       "      <td>93000.0</td>\n",
       "    </tr>\n",
       "    <tr>\n",
       "      <th>2020-11-05 09:00:00</th>\n",
       "      <td>2631.0</td>\n",
       "      <td>2641.0</td>\n",
       "      <td>2630.0</td>\n",
       "      <td>2639.0</td>\n",
       "      <td>55000.0</td>\n",
       "    </tr>\n",
       "    <tr>\n",
       "      <th>2020-11-06 09:00:00</th>\n",
       "      <td>2615.0</td>\n",
       "      <td>2644.0</td>\n",
       "      <td>2609.0</td>\n",
       "      <td>2617.0</td>\n",
       "      <td>90700.0</td>\n",
       "    </tr>\n",
       "    <tr>\n",
       "      <th>2020-11-07 09:00:00</th>\n",
       "      <td>NaN</td>\n",
       "      <td>NaN</td>\n",
       "      <td>NaN</td>\n",
       "      <td>NaN</td>\n",
       "      <td>NaN</td>\n",
       "    </tr>\n",
       "    <tr>\n",
       "      <th>2020-11-08 09:00:00</th>\n",
       "      <td>NaN</td>\n",
       "      <td>NaN</td>\n",
       "      <td>NaN</td>\n",
       "      <td>NaN</td>\n",
       "      <td>NaN</td>\n",
       "    </tr>\n",
       "    <tr>\n",
       "      <th>2020-11-09 09:00:00</th>\n",
       "      <td>2711.0</td>\n",
       "      <td>2719.0</td>\n",
       "      <td>2707.0</td>\n",
       "      <td>2710.0</td>\n",
       "      <td>0.0</td>\n",
       "    </tr>\n",
       "    <tr>\n",
       "      <th>2020-11-10 09:00:00</th>\n",
       "      <td>2780.0</td>\n",
       "      <td>2782.0</td>\n",
       "      <td>2770.0</td>\n",
       "      <td>2777.0</td>\n",
       "      <td>142700.0</td>\n",
       "    </tr>\n",
       "    <tr>\n",
       "      <th>2020-11-11 09:00:00</th>\n",
       "      <td>NaN</td>\n",
       "      <td>NaN</td>\n",
       "      <td>NaN</td>\n",
       "      <td>NaN</td>\n",
       "      <td>NaN</td>\n",
       "    </tr>\n",
       "    <tr>\n",
       "      <th>2020-11-12 09:00:00</th>\n",
       "      <td>2788.0</td>\n",
       "      <td>2800.0</td>\n",
       "      <td>2781.0</td>\n",
       "      <td>2789.0</td>\n",
       "      <td>108400.0</td>\n",
       "    </tr>\n",
       "    <tr>\n",
       "      <th>2020-11-13 09:00:00</th>\n",
       "      <td>2750.0</td>\n",
       "      <td>2754.0</td>\n",
       "      <td>2741.0</td>\n",
       "      <td>2750.0</td>\n",
       "      <td>71500.0</td>\n",
       "    </tr>\n",
       "    <tr>\n",
       "      <th>2020-11-14 09:00:00</th>\n",
       "      <td>NaN</td>\n",
       "      <td>NaN</td>\n",
       "      <td>NaN</td>\n",
       "      <td>NaN</td>\n",
       "      <td>NaN</td>\n",
       "    </tr>\n",
       "    <tr>\n",
       "      <th>2020-11-15 09:00:00</th>\n",
       "      <td>NaN</td>\n",
       "      <td>NaN</td>\n",
       "      <td>NaN</td>\n",
       "      <td>NaN</td>\n",
       "      <td>NaN</td>\n",
       "    </tr>\n",
       "    <tr>\n",
       "      <th>2020-11-16 09:00:00</th>\n",
       "      <td>2714.0</td>\n",
       "      <td>2716.0</td>\n",
       "      <td>2705.0</td>\n",
       "      <td>2710.0</td>\n",
       "      <td>111000.0</td>\n",
       "    </tr>\n",
       "    <tr>\n",
       "      <th>2020-11-17 09:00:00</th>\n",
       "      <td>2748.0</td>\n",
       "      <td>2748.0</td>\n",
       "      <td>2729.0</td>\n",
       "      <td>2734.0</td>\n",
       "      <td>124400.0</td>\n",
       "    </tr>\n",
       "    <tr>\n",
       "      <th>2020-11-18 09:00:00</th>\n",
       "      <td>2819.0</td>\n",
       "      <td>2823.0</td>\n",
       "      <td>2814.0</td>\n",
       "      <td>2820.0</td>\n",
       "      <td>76000.0</td>\n",
       "    </tr>\n",
       "    <tr>\n",
       "      <th>2020-11-19 09:00:00</th>\n",
       "      <td>2858.0</td>\n",
       "      <td>2867.0</td>\n",
       "      <td>2858.0</td>\n",
       "      <td>2860.0</td>\n",
       "      <td>107000.0</td>\n",
       "    </tr>\n",
       "    <tr>\n",
       "      <th>2020-11-20 09:00:00</th>\n",
       "      <td>2875.0</td>\n",
       "      <td>2887.0</td>\n",
       "      <td>2873.0</td>\n",
       "      <td>2884.0</td>\n",
       "      <td>106000.0</td>\n",
       "    </tr>\n",
       "    <tr>\n",
       "      <th>2020-11-21 09:00:00</th>\n",
       "      <td>NaN</td>\n",
       "      <td>NaN</td>\n",
       "      <td>NaN</td>\n",
       "      <td>NaN</td>\n",
       "      <td>NaN</td>\n",
       "    </tr>\n",
       "    <tr>\n",
       "      <th>2020-11-22 09:00:00</th>\n",
       "      <td>NaN</td>\n",
       "      <td>NaN</td>\n",
       "      <td>NaN</td>\n",
       "      <td>NaN</td>\n",
       "      <td>NaN</td>\n",
       "    </tr>\n",
       "    <tr>\n",
       "      <th>2020-11-23 09:00:00</th>\n",
       "      <td>NaN</td>\n",
       "      <td>NaN</td>\n",
       "      <td>NaN</td>\n",
       "      <td>NaN</td>\n",
       "      <td>NaN</td>\n",
       "    </tr>\n",
       "    <tr>\n",
       "      <th>2020-11-24 09:00:00</th>\n",
       "      <td>2957.0</td>\n",
       "      <td>2967.0</td>\n",
       "      <td>2952.0</td>\n",
       "      <td>2966.0</td>\n",
       "      <td>0.0</td>\n",
       "    </tr>\n",
       "    <tr>\n",
       "      <th>2020-11-25 09:00:00</th>\n",
       "      <td>2927.0</td>\n",
       "      <td>2934.0</td>\n",
       "      <td>2926.0</td>\n",
       "      <td>2933.0</td>\n",
       "      <td>74000.0</td>\n",
       "    </tr>\n",
       "    <tr>\n",
       "      <th>2020-11-26 09:00:00</th>\n",
       "      <td>2822.0</td>\n",
       "      <td>2831.0</td>\n",
       "      <td>2818.0</td>\n",
       "      <td>2824.0</td>\n",
       "      <td>93500.0</td>\n",
       "    </tr>\n",
       "    <tr>\n",
       "      <th>2020-11-27 09:00:00</th>\n",
       "      <td>2809.0</td>\n",
       "      <td>2828.0</td>\n",
       "      <td>2809.0</td>\n",
       "      <td>2822.0</td>\n",
       "      <td>107600.0</td>\n",
       "    </tr>\n",
       "    <tr>\n",
       "      <th>2020-11-28 09:00:00</th>\n",
       "      <td>NaN</td>\n",
       "      <td>NaN</td>\n",
       "      <td>NaN</td>\n",
       "      <td>NaN</td>\n",
       "      <td>NaN</td>\n",
       "    </tr>\n",
       "    <tr>\n",
       "      <th>2020-11-29 09:00:00</th>\n",
       "      <td>NaN</td>\n",
       "      <td>NaN</td>\n",
       "      <td>NaN</td>\n",
       "      <td>NaN</td>\n",
       "      <td>NaN</td>\n",
       "    </tr>\n",
       "    <tr>\n",
       "      <th>2020-11-30 09:00:00</th>\n",
       "      <td>2940.0</td>\n",
       "      <td>2954.0</td>\n",
       "      <td>2936.0</td>\n",
       "      <td>2940.0</td>\n",
       "      <td>225300.0</td>\n",
       "    </tr>\n",
       "  </tbody>\n",
       "</table>\n",
       "</div>"
      ],
      "text/plain": [
       "                     Open_6502  High_6502  Low_6502  Close_6502  Volume_6502\n",
       "timestamp                                                                   \n",
       "2020-11-04 09:00:00     2669.0     2670.0    2658.0      2664.0      93000.0\n",
       "2020-11-05 09:00:00     2631.0     2641.0    2630.0      2639.0      55000.0\n",
       "2020-11-06 09:00:00     2615.0     2644.0    2609.0      2617.0      90700.0\n",
       "2020-11-07 09:00:00        NaN        NaN       NaN         NaN          NaN\n",
       "2020-11-08 09:00:00        NaN        NaN       NaN         NaN          NaN\n",
       "2020-11-09 09:00:00     2711.0     2719.0    2707.0      2710.0          0.0\n",
       "2020-11-10 09:00:00     2780.0     2782.0    2770.0      2777.0     142700.0\n",
       "2020-11-11 09:00:00        NaN        NaN       NaN         NaN          NaN\n",
       "2020-11-12 09:00:00     2788.0     2800.0    2781.0      2789.0     108400.0\n",
       "2020-11-13 09:00:00     2750.0     2754.0    2741.0      2750.0      71500.0\n",
       "2020-11-14 09:00:00        NaN        NaN       NaN         NaN          NaN\n",
       "2020-11-15 09:00:00        NaN        NaN       NaN         NaN          NaN\n",
       "2020-11-16 09:00:00     2714.0     2716.0    2705.0      2710.0     111000.0\n",
       "2020-11-17 09:00:00     2748.0     2748.0    2729.0      2734.0     124400.0\n",
       "2020-11-18 09:00:00     2819.0     2823.0    2814.0      2820.0      76000.0\n",
       "2020-11-19 09:00:00     2858.0     2867.0    2858.0      2860.0     107000.0\n",
       "2020-11-20 09:00:00     2875.0     2887.0    2873.0      2884.0     106000.0\n",
       "2020-11-21 09:00:00        NaN        NaN       NaN         NaN          NaN\n",
       "2020-11-22 09:00:00        NaN        NaN       NaN         NaN          NaN\n",
       "2020-11-23 09:00:00        NaN        NaN       NaN         NaN          NaN\n",
       "2020-11-24 09:00:00     2957.0     2967.0    2952.0      2966.0          0.0\n",
       "2020-11-25 09:00:00     2927.0     2934.0    2926.0      2933.0      74000.0\n",
       "2020-11-26 09:00:00     2822.0     2831.0    2818.0      2824.0      93500.0\n",
       "2020-11-27 09:00:00     2809.0     2828.0    2809.0      2822.0     107600.0\n",
       "2020-11-28 09:00:00        NaN        NaN       NaN         NaN          NaN\n",
       "2020-11-29 09:00:00        NaN        NaN       NaN         NaN          NaN\n",
       "2020-11-30 09:00:00     2940.0     2954.0    2936.0      2940.0     225300.0"
      ]
     },
     "execution_count": 45,
     "metadata": {},
     "output_type": "execute_result"
    }
   ],
   "source": [
    "with open(\"develops/naive_stock_df.pickle\", \"rb\") as f:\n",
    "    naive_stock_df = pickle.load(f)\n",
    "\n",
    "naive_stock_df.at_time(datetime.time(9,0))"
   ]
  },
  {
   "cell_type": "markdown",
   "metadata": {},
   "source": [
    "### 営業日データを取得"
   ]
  },
  {
   "cell_type": "markdown",
   "metadata": {},
   "source": [
    "高速化のため，既存のholidayと照らし合わせる方法でとる"
   ]
  },
  {
   "cell_type": "code",
   "execution_count": 46,
   "metadata": {
    "ExecuteTime": {
     "end_time": "2021-04-07T05:37:38.730427Z",
     "start_time": "2021-04-07T05:37:38.681543Z"
    }
   },
   "outputs": [],
   "source": [
    "def extract_workdays_jp_index(dt_index, return_as=\"index\"):\n",
    "    \"\"\"\n",
    "    pd.DatetimeIndexから，営業日のデータのものを抽出\n",
    "    dt_index: pd.DatetimeIndex\n",
    "        入力するDatetimeIndex，すでにdatetimeでソートしていることが前提\n",
    "    return_as: str\n",
    "        出力データの形式\n",
    "        - \"index\": 引数としたdfの対応するインデックスを返す\n",
    "        - \"bool\": 引数としたdfに対応するboolインデックスを返す\n",
    "    \"\"\"\n",
    "    # 返り値の形式の指定\n",
    "    return_as_set = {\"index\", \"bool\"}\n",
    "    if not return_as in return_as_set:\n",
    "        raise Exception(\"return_as must be any in {}\".format(return_as_set))\n",
    "        \n",
    "    # すでにtimestampでソートさてている前提\n",
    "    \n",
    "    start_datetime = dt_index[0].to_pydatetime()\n",
    "    end_datetime = dt_index[-1].to_pydatetime()\n",
    "    \n",
    "    start_datetime, end_datetime = check_jst_datetimes_to_naive(start_datetime, end_datetime)  # 二つのdatetimeのタイムゾーンをチェック・naiveに変更\n",
    "    \n",
    "    # 期間内のholidayを取得\n",
    "    holidays_in_span_index = ((start_datetime-datetime.timedelta(days=1))<option.holidays_datetimeindex)&\\\n",
    "    (option.holidays_datetimeindex<=end_datetime)  # DatetimeIndexを使うことに注意, 当日を含めるため，startから1を引いている．\n",
    "    holidays_in_span_array = option.holidays_date_array[holidays_in_span_index]  # ndarrayを使う\n",
    "    \n",
    "    # 休日に含まれないもの，さらに土日に含まれないもののboolインデックスを取得    \n",
    "    holiday_bool_array = np.in1d(dt_index.date, holidays_in_span_array)  # 休日\n",
    "    holiday_weekday_each_bool_arrays = [dt_index.weekday==weekday for weekday in option.holiday_weekdays]  # inを使うのを回避\n",
    "    holiday_weekday_bool_array = np.logical_or.reduce(holiday_weekday_each_bool_arrays)  # 休日曜日\n",
    "    \n",
    "    workdays_bool_array = (~holiday_bool_array)&(~holiday_weekday_bool_array)  # 休日でなく休日曜日でない\n",
    "    if return_as==\"bool\":  # boolで返す場合\n",
    "        return workdays_bool_array\n",
    "    \n",
    "    elif return_as==\"index\":  # indexで返す場合\n",
    "        workdays_df_indice = dt_index[workdays_bool_array]\n",
    "        return workdays_df_indice"
   ]
  },
  {
   "cell_type": "code",
   "execution_count": 47,
   "metadata": {
    "ExecuteTime": {
     "end_time": "2021-04-07T05:37:38.792271Z",
     "start_time": "2021-04-07T05:37:38.743393Z"
    }
   },
   "outputs": [],
   "source": [
    "def extract_workdays_jp(df, return_as=\"df\"):\n",
    "    \"\"\"\n",
    "    データフレームから，営業日のデータのものを抽出．出力データ形式をreturn_asで指定する．\n",
    "    df: pd.DataFrame(インデックスとしてpd.DatetimeIndex)\n",
    "        入力データ\n",
    "    return_as: str\n",
    "        出力データの形式\n",
    "        - \"df\": 抽出した新しいpd.DataFrameを返す\n",
    "        - \"index\": 引数としたdfの対応するインデックスを返す\n",
    "        - \"bool\": 引数としたdfに対応するboolインデックスを返す\n",
    "    \"\"\"\n",
    "    \n",
    "    # 返り値の形式の指定\n",
    "    return_as_set = {\"df\", \"index\", \"bool\"}\n",
    "    if not return_as in return_as_set:\n",
    "        raise Exception(\"return_as must be any in {}\".format(return_as_set))\n",
    "    \n",
    "    if return_as==\"bool\":\n",
    "        workdays_bool_array = extract_workdays_jp_index(df.index, return_as=\"bool\")\n",
    "        return workdays_bool_array\n",
    "    elif return_as==\"index\":\n",
    "        workdays_bool_array = extract_workdays_jp_index(df.index, return_as=\"bool\")\n",
    "        workdays_df_indice = df.index[workdays_bool_array]\n",
    "        return workdays_df_indice\n",
    "    else:\n",
    "        workdays_bool_array = extract_workdays_jp_index(df.index, return_as=\"bool\")\n",
    "        out_df = df[workdays_bool_array].copy()\n",
    "        return out_df"
   ]
  },
  {
   "cell_type": "code",
   "execution_count": 48,
   "metadata": {
    "ExecuteTime": {
     "end_time": "2021-04-07T05:37:39.153315Z",
     "start_time": "2021-04-07T05:37:38.808217Z"
    }
   },
   "outputs": [
    {
     "data": {
      "text/html": [
       "<div>\n",
       "<style scoped>\n",
       "    .dataframe tbody tr th:only-of-type {\n",
       "        vertical-align: middle;\n",
       "    }\n",
       "\n",
       "    .dataframe tbody tr th {\n",
       "        vertical-align: top;\n",
       "    }\n",
       "\n",
       "    .dataframe thead th {\n",
       "        text-align: right;\n",
       "    }\n",
       "</style>\n",
       "<table border=\"1\" class=\"dataframe\">\n",
       "  <thead>\n",
       "    <tr style=\"text-align: right;\">\n",
       "      <th></th>\n",
       "      <th>Open_6502</th>\n",
       "      <th>High_6502</th>\n",
       "      <th>Low_6502</th>\n",
       "      <th>Close_6502</th>\n",
       "      <th>Volume_6502</th>\n",
       "    </tr>\n",
       "    <tr>\n",
       "      <th>timestamp</th>\n",
       "      <th></th>\n",
       "      <th></th>\n",
       "      <th></th>\n",
       "      <th></th>\n",
       "      <th></th>\n",
       "    </tr>\n",
       "  </thead>\n",
       "  <tbody>\n",
       "    <tr>\n",
       "      <th>2020-11-04 09:00:00+09:00</th>\n",
       "      <td>2669.0</td>\n",
       "      <td>2670.0</td>\n",
       "      <td>2658.0</td>\n",
       "      <td>2664.0</td>\n",
       "      <td>93000.0</td>\n",
       "    </tr>\n",
       "    <tr>\n",
       "      <th>2020-11-05 09:00:00+09:00</th>\n",
       "      <td>2631.0</td>\n",
       "      <td>2641.0</td>\n",
       "      <td>2630.0</td>\n",
       "      <td>2639.0</td>\n",
       "      <td>55000.0</td>\n",
       "    </tr>\n",
       "    <tr>\n",
       "      <th>2020-11-06 09:00:00+09:00</th>\n",
       "      <td>2615.0</td>\n",
       "      <td>2644.0</td>\n",
       "      <td>2609.0</td>\n",
       "      <td>2617.0</td>\n",
       "      <td>90700.0</td>\n",
       "    </tr>\n",
       "    <tr>\n",
       "      <th>2020-11-09 09:00:00+09:00</th>\n",
       "      <td>2711.0</td>\n",
       "      <td>2719.0</td>\n",
       "      <td>2707.0</td>\n",
       "      <td>2710.0</td>\n",
       "      <td>0.0</td>\n",
       "    </tr>\n",
       "    <tr>\n",
       "      <th>2020-11-10 09:00:00+09:00</th>\n",
       "      <td>2780.0</td>\n",
       "      <td>2782.0</td>\n",
       "      <td>2770.0</td>\n",
       "      <td>2777.0</td>\n",
       "      <td>142700.0</td>\n",
       "    </tr>\n",
       "    <tr>\n",
       "      <th>2020-11-11 09:00:00+09:00</th>\n",
       "      <td>NaN</td>\n",
       "      <td>NaN</td>\n",
       "      <td>NaN</td>\n",
       "      <td>NaN</td>\n",
       "      <td>NaN</td>\n",
       "    </tr>\n",
       "    <tr>\n",
       "      <th>2020-11-12 09:00:00+09:00</th>\n",
       "      <td>2788.0</td>\n",
       "      <td>2800.0</td>\n",
       "      <td>2781.0</td>\n",
       "      <td>2789.0</td>\n",
       "      <td>108400.0</td>\n",
       "    </tr>\n",
       "    <tr>\n",
       "      <th>2020-11-13 09:00:00+09:00</th>\n",
       "      <td>2750.0</td>\n",
       "      <td>2754.0</td>\n",
       "      <td>2741.0</td>\n",
       "      <td>2750.0</td>\n",
       "      <td>71500.0</td>\n",
       "    </tr>\n",
       "    <tr>\n",
       "      <th>2020-11-16 09:00:00+09:00</th>\n",
       "      <td>2714.0</td>\n",
       "      <td>2716.0</td>\n",
       "      <td>2705.0</td>\n",
       "      <td>2710.0</td>\n",
       "      <td>111000.0</td>\n",
       "    </tr>\n",
       "    <tr>\n",
       "      <th>2020-11-17 09:00:00+09:00</th>\n",
       "      <td>2748.0</td>\n",
       "      <td>2748.0</td>\n",
       "      <td>2729.0</td>\n",
       "      <td>2734.0</td>\n",
       "      <td>124400.0</td>\n",
       "    </tr>\n",
       "    <tr>\n",
       "      <th>2020-11-18 09:00:00+09:00</th>\n",
       "      <td>2819.0</td>\n",
       "      <td>2823.0</td>\n",
       "      <td>2814.0</td>\n",
       "      <td>2820.0</td>\n",
       "      <td>76000.0</td>\n",
       "    </tr>\n",
       "    <tr>\n",
       "      <th>2020-11-19 09:00:00+09:00</th>\n",
       "      <td>2858.0</td>\n",
       "      <td>2867.0</td>\n",
       "      <td>2858.0</td>\n",
       "      <td>2860.0</td>\n",
       "      <td>107000.0</td>\n",
       "    </tr>\n",
       "    <tr>\n",
       "      <th>2020-11-20 09:00:00+09:00</th>\n",
       "      <td>2875.0</td>\n",
       "      <td>2887.0</td>\n",
       "      <td>2873.0</td>\n",
       "      <td>2884.0</td>\n",
       "      <td>106000.0</td>\n",
       "    </tr>\n",
       "    <tr>\n",
       "      <th>2020-11-24 09:00:00+09:00</th>\n",
       "      <td>2957.0</td>\n",
       "      <td>2967.0</td>\n",
       "      <td>2952.0</td>\n",
       "      <td>2966.0</td>\n",
       "      <td>0.0</td>\n",
       "    </tr>\n",
       "    <tr>\n",
       "      <th>2020-11-25 09:00:00+09:00</th>\n",
       "      <td>2927.0</td>\n",
       "      <td>2934.0</td>\n",
       "      <td>2926.0</td>\n",
       "      <td>2933.0</td>\n",
       "      <td>74000.0</td>\n",
       "    </tr>\n",
       "    <tr>\n",
       "      <th>2020-11-26 09:00:00+09:00</th>\n",
       "      <td>2822.0</td>\n",
       "      <td>2831.0</td>\n",
       "      <td>2818.0</td>\n",
       "      <td>2824.0</td>\n",
       "      <td>93500.0</td>\n",
       "    </tr>\n",
       "    <tr>\n",
       "      <th>2020-11-27 09:00:00+09:00</th>\n",
       "      <td>2809.0</td>\n",
       "      <td>2828.0</td>\n",
       "      <td>2809.0</td>\n",
       "      <td>2822.0</td>\n",
       "      <td>107600.0</td>\n",
       "    </tr>\n",
       "    <tr>\n",
       "      <th>2020-11-30 09:00:00+09:00</th>\n",
       "      <td>2940.0</td>\n",
       "      <td>2954.0</td>\n",
       "      <td>2936.0</td>\n",
       "      <td>2940.0</td>\n",
       "      <td>225300.0</td>\n",
       "    </tr>\n",
       "  </tbody>\n",
       "</table>\n",
       "</div>"
      ],
      "text/plain": [
       "                           Open_6502  High_6502  Low_6502  Close_6502  \\\n",
       "timestamp                                                               \n",
       "2020-11-04 09:00:00+09:00     2669.0     2670.0    2658.0      2664.0   \n",
       "2020-11-05 09:00:00+09:00     2631.0     2641.0    2630.0      2639.0   \n",
       "2020-11-06 09:00:00+09:00     2615.0     2644.0    2609.0      2617.0   \n",
       "2020-11-09 09:00:00+09:00     2711.0     2719.0    2707.0      2710.0   \n",
       "2020-11-10 09:00:00+09:00     2780.0     2782.0    2770.0      2777.0   \n",
       "2020-11-11 09:00:00+09:00        NaN        NaN       NaN         NaN   \n",
       "2020-11-12 09:00:00+09:00     2788.0     2800.0    2781.0      2789.0   \n",
       "2020-11-13 09:00:00+09:00     2750.0     2754.0    2741.0      2750.0   \n",
       "2020-11-16 09:00:00+09:00     2714.0     2716.0    2705.0      2710.0   \n",
       "2020-11-17 09:00:00+09:00     2748.0     2748.0    2729.0      2734.0   \n",
       "2020-11-18 09:00:00+09:00     2819.0     2823.0    2814.0      2820.0   \n",
       "2020-11-19 09:00:00+09:00     2858.0     2867.0    2858.0      2860.0   \n",
       "2020-11-20 09:00:00+09:00     2875.0     2887.0    2873.0      2884.0   \n",
       "2020-11-24 09:00:00+09:00     2957.0     2967.0    2952.0      2966.0   \n",
       "2020-11-25 09:00:00+09:00     2927.0     2934.0    2926.0      2933.0   \n",
       "2020-11-26 09:00:00+09:00     2822.0     2831.0    2818.0      2824.0   \n",
       "2020-11-27 09:00:00+09:00     2809.0     2828.0    2809.0      2822.0   \n",
       "2020-11-30 09:00:00+09:00     2940.0     2954.0    2936.0      2940.0   \n",
       "\n",
       "                           Volume_6502  \n",
       "timestamp                               \n",
       "2020-11-04 09:00:00+09:00      93000.0  \n",
       "2020-11-05 09:00:00+09:00      55000.0  \n",
       "2020-11-06 09:00:00+09:00      90700.0  \n",
       "2020-11-09 09:00:00+09:00          0.0  \n",
       "2020-11-10 09:00:00+09:00     142700.0  \n",
       "2020-11-11 09:00:00+09:00          NaN  \n",
       "2020-11-12 09:00:00+09:00     108400.0  \n",
       "2020-11-13 09:00:00+09:00      71500.0  \n",
       "2020-11-16 09:00:00+09:00     111000.0  \n",
       "2020-11-17 09:00:00+09:00     124400.0  \n",
       "2020-11-18 09:00:00+09:00      76000.0  \n",
       "2020-11-19 09:00:00+09:00     107000.0  \n",
       "2020-11-20 09:00:00+09:00     106000.0  \n",
       "2020-11-24 09:00:00+09:00          0.0  \n",
       "2020-11-25 09:00:00+09:00      74000.0  \n",
       "2020-11-26 09:00:00+09:00      93500.0  \n",
       "2020-11-27 09:00:00+09:00     107600.0  \n",
       "2020-11-30 09:00:00+09:00     225300.0  "
      ]
     },
     "execution_count": 48,
     "metadata": {},
     "output_type": "execute_result"
    }
   ],
   "source": [
    "extracted_stock_df = extract_workdays_jp(aware_stock_df, return_as=\"df\")\n",
    "extracted_stock_df.at_time(datetime.time(9,0))"
   ]
  },
  {
   "cell_type": "code",
   "execution_count": 49,
   "metadata": {
    "ExecuteTime": {
     "end_time": "2021-04-07T05:37:39.454565Z",
     "start_time": "2021-04-07T05:37:39.170271Z"
    },
    "scrolled": false
   },
   "outputs": [
    {
     "name": "stdout",
     "output_type": "stream",
     "text": [
      "Timer unit: 1e-07 s\n",
      "\n",
      "Total time: 0.156867 s\n",
      "File: <ipython-input-46-e6a837f7ca46>\n",
      "Function: extract_workdays_jp_index at line 1\n",
      "\n",
      "Line #      Hits         Time  Per Hit   % Time  Line Contents\n",
      "==============================================================\n",
      "     1                                           def extract_workdays_jp_index(dt_index, return_as=\"index\"):\n",
      "     2                                               \"\"\"\n",
      "     3                                               pd.DatetimeIndexから，営業日のデータのものを抽出\n",
      "     4                                               dt_index: pd.DatetimeIndex\n",
      "     5                                                   入力するDatetimeIndex，すでにdatetimeでソートしていることが前提\n",
      "     6                                               return_as: str\n",
      "     7                                                   出力データの形式\n",
      "     8                                                   - \"index\": 引数としたdfの対応するインデックスを返す\n",
      "     9                                                   - \"bool\": 引数としたdfに対応するboolインデックスを返す\n",
      "    10                                               \"\"\"\n",
      "    11                                               # 返り値の形式の指定\n",
      "    12         1         74.0     74.0      0.0      return_as_set = {\"index\", \"bool\"}\n",
      "    13         1         59.0     59.0      0.0      if not return_as in return_as_set:\n",
      "    14                                                   raise Exception(\"return_as must be any in {}\".format(return_as_set))\n",
      "    15                                                   \n",
      "    16                                               # すでにtimestampでソートさてている前提\n",
      "    17                                               \n",
      "    18         1      14820.0  14820.0      0.9      start_datetime = dt_index[0].to_pydatetime()\n",
      "    19         1       3822.0   3822.0      0.2      end_datetime = dt_index[-1].to_pydatetime()\n",
      "    20                                               \n",
      "    21         1       6307.0   6307.0      0.4      start_datetime, end_datetime = check_jst_datetimes_to_naive(start_datetime, end_datetime)  # 二つのdatetimeのタイムゾーンをチェック・naiveに変更\n",
      "    22                                               \n",
      "    23                                               # 期間内のholidayを取得\n",
      "    24         1      11733.0  11733.0      0.7      holidays_in_span_index = ((start_datetime-datetime.timedelta(days=1))<option.holidays_datetimeindex)&\\\n",
      "    25         1       9964.0   9964.0      0.6      (option.holidays_datetimeindex<=end_datetime)  # DatetimeIndexを使うことに注意, 当日を含めるため，startから1を引いている．\n",
      "    26         1        332.0    332.0      0.0      holidays_in_span_array = option.holidays_date_array[holidays_in_span_index]  # ndarrayを使う\n",
      "    27                                               \n",
      "    28                                               # 休日に含まれないもの，さらに土日に含まれないもののboolインデックスを取得    \n",
      "    29         1     951902.0 951902.0     60.7      holiday_bool_array = np.in1d(dt_index.date, holidays_in_span_array)  # 休日\n",
      "    30         1     557437.0 557437.0     35.5      holiday_weekday_each_bool_arrays = [dt_index.weekday==weekday for weekday in option.holiday_weekdays]  # inを使うのを回避\n",
      "    31         1       1664.0   1664.0      0.1      holiday_weekday_bool_array = np.logical_or.reduce(holiday_weekday_each_bool_arrays)  # 休日曜日\n",
      "    32                                               \n",
      "    33         1      10381.0  10381.0      0.7      workdays_bool_array = (~holiday_bool_array)&(~holiday_weekday_bool_array)  # 休日でなく休日曜日でない\n",
      "    34         1         99.0     99.0      0.0      if return_as==\"bool\":  # boolで返す場合\n",
      "    35         1         73.0     73.0      0.0          return workdays_bool_array\n",
      "    36                                               \n",
      "    37                                               elif return_as==\"index\":  # indexで返す場合\n",
      "    38                                                   workdays_df_indice = dt_index[workdays_bool_array]\n",
      "    39                                                   return workdays_df_indice\n",
      "\n",
      "Total time: 0.168312 s\n",
      "File: <ipython-input-47-38bc3c608d88>\n",
      "Function: extract_workdays_jp at line 1\n",
      "\n",
      "Line #      Hits         Time  Per Hit   % Time  Line Contents\n",
      "==============================================================\n",
      "     1                                           def extract_workdays_jp(df, return_as=\"df\"):\n",
      "     2                                               \"\"\"\n",
      "     3                                               データフレームから，営業日のデータのものを抽出．出力データ形式をreturn_asで指定する．\n",
      "     4                                               df: pd.DataFrame(インデックスとしてpd.DatetimeIndex)\n",
      "     5                                                   入力データ\n",
      "     6                                               return_as: str\n",
      "     7                                                   出力データの形式\n",
      "     8                                                   - \"df\": 抽出した新しいpd.DataFrameを返す\n",
      "     9                                                   - \"index\": 引数としたdfの対応するインデックスを返す\n",
      "    10                                                   - \"bool\": 引数としたdfに対応するboolインデックスを返す\n",
      "    11                                               \"\"\"\n",
      "    12                                               \n",
      "    13                                               # 返り値の形式の指定\n",
      "    14         1        122.0    122.0      0.0      return_as_set = {\"df\", \"index\", \"bool\"}\n",
      "    15         1         66.0     66.0      0.0      if not return_as in return_as_set:\n",
      "    16                                                   raise Exception(\"return_as must be any in {}\".format(return_as_set))\n",
      "    17                                               \n",
      "    18         1         47.0     47.0      0.0      if return_as==\"bool\":\n",
      "    19                                                   workdays_bool_array = extract_workdays_jp_index(df.index, return_as=\"bool\")\n",
      "    20                                                   return workdays_bool_array\n",
      "    21         1         37.0     37.0      0.0      elif return_as==\"index\":\n",
      "    22                                                   workdays_bool_array = extract_workdays_jp_index(df.index, return_as=\"bool\")\n",
      "    23                                                   workdays_df_indice = df.index[workdays_bool_array]\n",
      "    24                                                   return workdays_df_indice\n",
      "    25                                               else:\n",
      "    26         1    1571718.0 1571718.0     93.4          workdays_bool_array = extract_workdays_jp_index(df.index, return_as=\"bool\")\n",
      "    27         1     111051.0 111051.0      6.6          out_df = df[workdays_bool_array].copy()\n",
      "    28         1         81.0     81.0      0.0          return out_df\n",
      "\n"
     ]
    }
   ],
   "source": [
    "def temp_func():\n",
    "    extracted_stock_df = extract_workdays_jp(aware_stock_df, return_as=\"df\")\n",
    "    \n",
    "from line_profiler import LineProfiler\n",
    "prf = LineProfiler()                                                                                         \n",
    "#prf.add_module()                                                                                          \n",
    "prf.add_function(extract_workdays_jp)\n",
    "prf.add_function(extract_workdays_jp_index)\n",
    "prf.runcall(temp_func)                                                                                          \n",
    "prf.print_stats()"
   ]
  },
  {
   "cell_type": "code",
   "execution_count": 50,
   "metadata": {
    "ExecuteTime": {
     "end_time": "2021-04-07T05:37:39.501439Z",
     "start_time": "2021-04-07T05:37:39.464539Z"
    }
   },
   "outputs": [],
   "source": [
    "# すでにtimestampでソートさてている前提\n",
    "start_datetime = aware_stock_df.index[0].to_pydatetime()\n",
    "end_datetime = aware_stock_df.index[-1].to_pydatetime()\n",
    "\n",
    "start_datetime, end_datetime = check_jst_datetimes_to_naive(start_datetime, end_datetime)  # 二つのdatetimeのタイムゾーンをチェック・naiveに変更\n",
    "\n",
    "# 期間内のholidayを取得\n",
    "holidays_in_span_index = ((start_datetime-datetime.timedelta(days=1))<option.holidays_datetimeindex)&(option.holidays_datetimeindex<=end_datetime)  # DatetimeIndexを使うことに注意, 当日を含めるため，startから1を引いている．\n",
    "\n",
    "holidays_in_span_array = option.holidays_date_array[holidays_in_span_index]  # ndarrayを使う\n",
    "holidays_in_span_datetimeindex = option.holidays_datetimeindex[holidays_in_span_index]"
   ]
  },
  {
   "cell_type": "code",
   "execution_count": 51,
   "metadata": {
    "ExecuteTime": {
     "end_time": "2021-04-07T05:37:39.549310Z",
     "start_time": "2021-04-07T05:37:39.520389Z"
    }
   },
   "outputs": [
    {
     "data": {
      "text/plain": [
       "array([datetime.date(2020, 11, 23)], dtype=object)"
      ]
     },
     "execution_count": 51,
     "metadata": {},
     "output_type": "execute_result"
    }
   ],
   "source": [
    "holidays_in_span_array"
   ]
  },
  {
   "cell_type": "markdown",
   "metadata": {},
   "source": [
    "こちらはobjectのndarrayのin1dである．これは遅いことが知られている"
   ]
  },
  {
   "cell_type": "code",
   "execution_count": 52,
   "metadata": {
    "ExecuteTime": {
     "end_time": "2021-04-07T05:37:39.658314Z",
     "start_time": "2021-04-07T05:37:39.559287Z"
    }
   },
   "outputs": [
    {
     "name": "stdout",
     "output_type": "stream",
     "text": [
      "1440\n"
     ]
    }
   ],
   "source": [
    "holiday_bool_array1 = np.in1d(aware_stock_df.index.date, holidays_in_span_array)\n",
    "print(holiday_bool_array1.sum())"
   ]
  },
  {
   "cell_type": "code",
   "execution_count": 53,
   "metadata": {
    "ExecuteTime": {
     "end_time": "2021-04-07T05:37:44.732797Z",
     "start_time": "2021-04-07T05:37:39.674976Z"
    }
   },
   "outputs": [
    {
     "name": "stdout",
     "output_type": "stream",
     "text": [
      "58.5 ms ± 8.15 ms per loop (mean ± std. dev. of 7 runs, 10 loops each)\n"
     ]
    }
   ],
   "source": [
    "%%timeit\n",
    "holiday_bool_array1 = np.in1d(aware_stock_df.index.date, holidays_in_span_array)"
   ]
  },
  {
   "cell_type": "markdown",
   "metadata": {},
   "source": [
    "一方int(unix時間)に変更してしまえば，in1dは高速になる．しかし変更するのに多少時間がかかる．"
   ]
  },
  {
   "cell_type": "code",
   "execution_count": 54,
   "metadata": {
    "ExecuteTime": {
     "end_time": "2021-04-07T05:37:51.356973Z",
     "start_time": "2021-04-07T05:37:44.745763Z"
    }
   },
   "outputs": [
    {
     "name": "stdout",
     "output_type": "stream",
     "text": [
      "8.07 ms ± 2.83 ms per loop (mean ± std. dev. of 7 runs, 100 loops each)\n"
     ]
    }
   ],
   "source": [
    "%%timeit\n",
    "df_index_date_int = aware_stock_df.index.tz_localize(None).floor(\"D\").astype(int).values\n",
    "holidays_in_span_int = holidays_in_span_datetimeindex.astype(int).values\n",
    "holiday_bool_array2 = np.in1d(df_index_date_int, holidays_in_span_int)"
   ]
  },
  {
   "cell_type": "code",
   "execution_count": 55,
   "metadata": {
    "ExecuteTime": {
     "end_time": "2021-04-07T05:37:51.403850Z",
     "start_time": "2021-04-07T05:37:51.366949Z"
    }
   },
   "outputs": [
    {
     "name": "stdout",
     "output_type": "stream",
     "text": [
      "1440\n"
     ]
    }
   ],
   "source": [
    "df_index_date_int = aware_stock_df.index.tz_localize(None).floor(\"D\").astype(int).values\n",
    "holidays_in_span_int = holidays_in_span_datetimeindex.astype(int).values\n",
    "holiday_bool_array2 = np.in1d(df_index_date_int, holidays_in_span_int)\n",
    "print(holiday_bool_array2.sum())"
   ]
  },
  {
   "cell_type": "code",
   "execution_count": 56,
   "metadata": {
    "ExecuteTime": {
     "end_time": "2021-04-07T05:37:51.436191Z",
     "start_time": "2021-04-07T05:37:51.414821Z"
    }
   },
   "outputs": [
    {
     "data": {
      "text/plain": [
       "True"
      ]
     },
     "execution_count": 56,
     "metadata": {},
     "output_type": "execute_result"
    }
   ],
   "source": [
    "np.array_equal(holiday_bool_array1, holiday_bool_array2)"
   ]
  },
  {
   "cell_type": "markdown",
   "metadata": {},
   "source": [
    "もちろんもとのarrayと同じである．"
   ]
  },
  {
   "cell_type": "markdown",
   "metadata": {},
   "source": [
    "他の選択肢としてpd.DatetimeIndexのisinメソッドを利用してみる．こっちの方がintに変換しない分早い?"
   ]
  },
  {
   "cell_type": "code",
   "execution_count": 57,
   "metadata": {
    "ExecuteTime": {
     "end_time": "2021-04-07T05:37:58.395087Z",
     "start_time": "2021-04-07T05:37:51.446267Z"
    }
   },
   "outputs": [
    {
     "name": "stdout",
     "output_type": "stream",
     "text": [
      "8.14 ms ± 1.96 ms per loop (mean ± std. dev. of 7 runs, 100 loops each)\n"
     ]
    }
   ],
   "source": [
    "%%timeit\n",
    "holiday_bool_array3 = aware_stock_df.index.tz_localize(None).floor(\"D\").isin(holidays_in_span_datetimeindex)"
   ]
  },
  {
   "cell_type": "code",
   "execution_count": 58,
   "metadata": {
    "ExecuteTime": {
     "end_time": "2021-04-07T05:37:58.456925Z",
     "start_time": "2021-04-07T05:37:58.411045Z"
    }
   },
   "outputs": [],
   "source": [
    "holiday_bool_array3 = aware_stock_df.index.tz_localize(None).floor(\"D\").isin(holidays_in_span_datetimeindex)"
   ]
  },
  {
   "cell_type": "code",
   "execution_count": 59,
   "metadata": {
    "ExecuteTime": {
     "end_time": "2021-04-07T05:37:58.505791Z",
     "start_time": "2021-04-07T05:37:58.468892Z"
    }
   },
   "outputs": [
    {
     "data": {
      "text/plain": [
       "True"
      ]
     },
     "execution_count": 59,
     "metadata": {},
     "output_type": "execute_result"
    }
   ],
   "source": [
    "np.array_equal(holiday_bool_array1, holiday_bool_array3)"
   ]
  },
  {
   "cell_type": "markdown",
   "metadata": {},
   "source": [
    "### 日中データを取得"
   ]
  },
  {
   "cell_type": "markdown",
   "metadata": {},
   "source": [
    "おそらく使わない，以下の営業日＋日中内で使う．"
   ]
  },
  {
   "cell_type": "code",
   "execution_count": 60,
   "metadata": {
    "ExecuteTime": {
     "end_time": "2021-04-07T05:37:58.598542Z",
     "start_time": "2021-04-07T05:37:58.530727Z"
    }
   },
   "outputs": [],
   "source": [
    "def extract_intraday_jp_index(dt_index, return_as=\"index\"):\n",
    "    \"\"\"\n",
    "    pd.DatetimeIndexから，日中のデータのものを抽出．出力データ形式をreturn_asで指定する．\n",
    "    dt_index: pd.DatetimeIndex\n",
    "        入力するDatetimeIndex\n",
    "    return_as: str\n",
    "        出力データの形式\n",
    "        - \"index\": 引数としたdfの対応するインデックスを返す\n",
    "        - \"bool\": 引数としたdfに対応するboolインデックスを返す\n",
    "    \"\"\"\n",
    "    \n",
    "    # 返り値の形式の指定\n",
    "    return_as_set = {\"index\", \"bool\"}\n",
    "    if not return_as in return_as_set:\n",
    "        raise Exception(\"return_as must be any in {}\".format(return_as_set))    \n",
    "  \n",
    "    bool_array = np.full(len(dt_index), False)\n",
    "    \n",
    "    # ボーダー内のboolをTrueにする\n",
    "    for borders in option.intraday_borders:\n",
    "        start_time, end_time = borders[0], borders[1]  # 開始時刻と終了時刻\n",
    "        in_border_indice = dt_index.indexer_between_time(start_time=start_time, end_time=end_time, include_end=False)\n",
    "        bool_array[in_border_indice] = True\n",
    "    \n",
    "    if return_as==\"bool\":\n",
    "        return bool_array\n",
    "\n",
    "    elif return_as==\"index\":\n",
    "        intraday_indice = dt_index[bool_array]\n",
    "        return intraday_indice"
   ]
  },
  {
   "cell_type": "code",
   "execution_count": 61,
   "metadata": {
    "ExecuteTime": {
     "end_time": "2021-04-07T05:37:58.661376Z",
     "start_time": "2021-04-07T05:37:58.609515Z"
    }
   },
   "outputs": [],
   "source": [
    "def extract_intraday_jp(df, return_as=\"df\"):\n",
    "    \"\"\"\n",
    "    データフレームから，日中のデータのものを抽出．出力データ形式をreturn_asで指定する．\n",
    "    df: pd.DataFrame(インデックスとしてpd.DatetimeIndex)\n",
    "        入力データ\n",
    "    return_as: str\n",
    "        出力データの形式\n",
    "        - \"df\": 抽出した新しいpd.DataFrameを返す\n",
    "        - \"index\": 引数としたdfの対応するインデックスを返す\n",
    "        - \"bool\": 引数としたdfに対応するboolインデックスを返す\n",
    "    \"\"\"\n",
    "    \n",
    "    # 返り値の形式の指定\n",
    "    return_as_set = {\"df\", \"index\", \"bool\"}\n",
    "    if not return_as in return_as_set:\n",
    "        raise Exception(\"return_as must be any in {}\".format(return_as_set))    \n",
    "\n",
    "    if return_as==\"bool\":\n",
    "        intraday_bool_array = extract_intraday_jp_index(df.index, return_as=\"bool\")\n",
    "        return intraday_bool_array \n",
    "    elif return_as==\"index\":\n",
    "        intraday_bool_array = extract_intraday_jp_index(df.index, return_as=\"bool\")\n",
    "        intraday_indice = df.index[intraday_bool_array]\n",
    "        return intraday_indice\n",
    "    else:\n",
    "        intraday_bool_array = extract_intraday_jp_index(df.index, return_as=\"bool\")\n",
    "        out_df = df[intraday_bool_array].copy()\n",
    "        return out_df"
   ]
  },
  {
   "cell_type": "markdown",
   "metadata": {},
   "source": [
    "以下の例では，朝8時のデータは存在しない"
   ]
  },
  {
   "cell_type": "code",
   "execution_count": 62,
   "metadata": {
    "ExecuteTime": {
     "end_time": "2021-04-07T05:37:58.755833Z",
     "start_time": "2021-04-07T05:37:58.673345Z"
    }
   },
   "outputs": [
    {
     "data": {
      "text/html": [
       "<div>\n",
       "<style scoped>\n",
       "    .dataframe tbody tr th:only-of-type {\n",
       "        vertical-align: middle;\n",
       "    }\n",
       "\n",
       "    .dataframe tbody tr th {\n",
       "        vertical-align: top;\n",
       "    }\n",
       "\n",
       "    .dataframe thead th {\n",
       "        text-align: right;\n",
       "    }\n",
       "</style>\n",
       "<table border=\"1\" class=\"dataframe\">\n",
       "  <thead>\n",
       "    <tr style=\"text-align: right;\">\n",
       "      <th></th>\n",
       "      <th>Open_6502</th>\n",
       "      <th>High_6502</th>\n",
       "      <th>Low_6502</th>\n",
       "      <th>Close_6502</th>\n",
       "      <th>Volume_6502</th>\n",
       "    </tr>\n",
       "    <tr>\n",
       "      <th>timestamp</th>\n",
       "      <th></th>\n",
       "      <th></th>\n",
       "      <th></th>\n",
       "      <th></th>\n",
       "      <th></th>\n",
       "    </tr>\n",
       "  </thead>\n",
       "  <tbody>\n",
       "  </tbody>\n",
       "</table>\n",
       "</div>"
      ],
      "text/plain": [
       "Empty DataFrame\n",
       "Columns: [Open_6502, High_6502, Low_6502, Close_6502, Volume_6502]\n",
       "Index: []"
      ]
     },
     "execution_count": 62,
     "metadata": {},
     "output_type": "execute_result"
    }
   ],
   "source": [
    "extracted_df = extract_intraday_jp(naive_stock_df, return_as=\"df\")\n",
    "extracted_df.at_time(datetime.time(8,0))"
   ]
  },
  {
   "cell_type": "code",
   "execution_count": 63,
   "metadata": {
    "ExecuteTime": {
     "end_time": "2021-04-07T05:37:58.946505Z",
     "start_time": "2021-04-07T05:37:58.766758Z"
    }
   },
   "outputs": [
    {
     "name": "stdout",
     "output_type": "stream",
     "text": [
      "Timer unit: 1e-07 s\n",
      "\n",
      "Total time: 0.0154154 s\n",
      "File: <ipython-input-60-6cd31f91260a>\n",
      "Function: extract_intraday_jp_index at line 1\n",
      "\n",
      "Line #      Hits         Time  Per Hit   % Time  Line Contents\n",
      "==============================================================\n",
      "     1                                           def extract_intraday_jp_index(dt_index, return_as=\"index\"):\n",
      "     2                                               \"\"\"\n",
      "     3                                               pd.DatetimeIndexから，日中のデータのものを抽出．出力データ形式をreturn_asで指定する．\n",
      "     4                                               dt_index: pd.DatetimeIndex\n",
      "     5                                                   入力するDatetimeIndex\n",
      "     6                                               return_as: str\n",
      "     7                                                   出力データの形式\n",
      "     8                                                   - \"index\": 引数としたdfの対応するインデックスを返す\n",
      "     9                                                   - \"bool\": 引数としたdfに対応するboolインデックスを返す\n",
      "    10                                               \"\"\"\n",
      "    11                                               \n",
      "    12                                               # 返り値の形式の指定\n",
      "    13         1         99.0     99.0      0.1      return_as_set = {\"index\", \"bool\"}\n",
      "    14         1         58.0     58.0      0.0      if not return_as in return_as_set:\n",
      "    15                                                   raise Exception(\"return_as must be any in {}\".format(return_as_set))    \n",
      "    16                                             \n",
      "    17         1       3160.0   3160.0      2.0      bool_array = np.full(len(dt_index), False)\n",
      "    18                                               \n",
      "    19                                               # ボーダー内のboolをTrueにする\n",
      "    20         3        328.0    109.3      0.2      for borders in option.intraday_borders:\n",
      "    21         2        145.0     72.5      0.1          start_time, end_time = borders[0], borders[1]  # 開始時刻と終了時刻\n",
      "    22         2     148598.0  74299.0     96.4          in_border_indice = dt_index.indexer_between_time(start_time=start_time, end_time=end_time, include_end=False)\n",
      "    23         2       1665.0    832.5      1.1          bool_array[in_border_indice] = True\n",
      "    24                                               \n",
      "    25         1         56.0     56.0      0.0      if return_as==\"bool\":\n",
      "    26         1         45.0     45.0      0.0          return bool_array\n",
      "    27                                           \n",
      "    28                                               elif return_as==\"index\":\n",
      "    29                                                   intraday_indice = dt_index[bool_array]\n",
      "    30                                                   return intraday_indice\n",
      "\n",
      "Total time: 0.0210349 s\n",
      "File: <ipython-input-61-de5662404c14>\n",
      "Function: extract_intraday_jp at line 1\n",
      "\n",
      "Line #      Hits         Time  Per Hit   % Time  Line Contents\n",
      "==============================================================\n",
      "     1                                           def extract_intraday_jp(df, return_as=\"df\"):\n",
      "     2                                               \"\"\"\n",
      "     3                                               データフレームから，日中のデータのものを抽出．出力データ形式をreturn_asで指定する．\n",
      "     4                                               df: pd.DataFrame(インデックスとしてpd.DatetimeIndex)\n",
      "     5                                                   入力データ\n",
      "     6                                               return_as: str\n",
      "     7                                                   出力データの形式\n",
      "     8                                                   - \"df\": 抽出した新しいpd.DataFrameを返す\n",
      "     9                                                   - \"index\": 引数としたdfの対応するインデックスを返す\n",
      "    10                                                   - \"bool\": 引数としたdfに対応するboolインデックスを返す\n",
      "    11                                               \"\"\"\n",
      "    12                                               \n",
      "    13                                               # 返り値の形式の指定\n",
      "    14         1        133.0    133.0      0.1      return_as_set = {\"df\", \"index\", \"bool\"}\n",
      "    15         1         46.0     46.0      0.0      if not return_as in return_as_set:\n",
      "    16                                                   raise Exception(\"return_as must be any in {}\".format(return_as_set))    \n",
      "    17                                           \n",
      "    18         1         63.0     63.0      0.0      if return_as==\"bool\":\n",
      "    19                                                   intraday_bool_array = extract_intraday_jp_index(df.index, return_as=\"bool\")\n",
      "    20                                                   return intraday_bool_array \n",
      "    21         1         57.0     57.0      0.0      elif return_as==\"index\":\n",
      "    22                                                   intraday_bool_array = extract_intraday_jp_index(df.index, return_as=\"bool\")\n",
      "    23                                                   intraday_indice = df.index[intraday_bool_array]\n",
      "    24                                                   return intraday_indice\n",
      "    25                                               else:\n",
      "    26         1     155598.0 155598.0     74.0          intraday_bool_array = extract_intraday_jp_index(df.index, return_as=\"bool\")\n",
      "    27         1      54386.0  54386.0     25.9          out_df = df[intraday_bool_array].copy()\n",
      "    28         1         66.0     66.0      0.0          return out_df\n",
      "\n"
     ]
    }
   ],
   "source": [
    "def temp_func():\n",
    "    extracted_df = extract_intraday_jp(naive_stock_df, return_as=\"df\")\n",
    "    \n",
    "from line_profiler import LineProfiler\n",
    "prf = LineProfiler()                                                                                         \n",
    "#prf.add_module()                                                                                          \n",
    "prf.add_function(extract_intraday_jp)\n",
    "prf.add_function(extract_intraday_jp_index)\n",
    "prf.runcall(temp_func)                                                                                          \n",
    "prf.print_stats()"
   ]
  },
  {
   "cell_type": "markdown",
   "metadata": {},
   "source": [
    "ボトルネックはないようだ"
   ]
  },
  {
   "cell_type": "markdown",
   "metadata": {},
   "source": [
    "### 営業日＋日中データを取得 "
   ]
  },
  {
   "cell_type": "code",
   "execution_count": 64,
   "metadata": {
    "ExecuteTime": {
     "end_time": "2021-04-07T05:37:59.007340Z",
     "start_time": "2021-04-07T05:37:58.958472Z"
    }
   },
   "outputs": [],
   "source": [
    "def extract_workdays_intraday_jp_index(dt_index, return_as=\"index\"):\n",
    "    \"\"\"\n",
    "    pd.DatetimeIndexから，営業日+日中のデータのものを抽出．出力データ形式をreturn_asで指定する．\n",
    "    dt_index: pd.DatetimeIndex\n",
    "        入力するDatetimeIndex\n",
    "    return_as: str\n",
    "        出力データの形式\n",
    "        - \"index\": 引数としたdfの対応するインデックスを返す\n",
    "        - \"bool\": 引数としたdfに対応するboolインデックスを返す\n",
    "    \"\"\"\n",
    "\n",
    "    # 返り値の形式の指定\n",
    "    return_as_set = {\"index\", \"bool\"}\n",
    "    if not return_as in return_as_set:\n",
    "        raise Exception(\"return_as must be any in {}\".format(return_as_set))\n",
    "        \n",
    "    workday_bool_array = extract_workdays_jp_index(dt_index, return_as=\"bool\")\n",
    "    intraday_bool_array = extract_intraday_jp_index(dt_index, return_as=\"bool\")\n",
    "    \n",
    "    workday_intraday_bool_array = workday_bool_array & intraday_bool_array\n",
    "    if return_as==\"bool\":\n",
    "        return workday_intraday_bool_array\n",
    "    elif return_as==\"index\":\n",
    "        workday_intraday_indice = dt_index[workday_intraday_bool_array]\n",
    "        return workday_intraday_indice"
   ]
  },
  {
   "cell_type": "code",
   "execution_count": 65,
   "metadata": {
    "ExecuteTime": {
     "end_time": "2021-04-07T05:37:59.070173Z",
     "start_time": "2021-04-07T05:37:59.021305Z"
    }
   },
   "outputs": [],
   "source": [
    "def extract_workdays_intraday_jp(df, return_as=\"df\"):\n",
    "    \"\"\"\n",
    "    データフレームから，営業日+日中のデータのものを抽出．出力データ形式をreturn_asで指定する．\n",
    "    df: pd.DataFrame(インデックスとしてpd.DatetimeIndex)\n",
    "        入力データ\n",
    "    return_as: str\n",
    "        出力データの形式\n",
    "        - \"df\": 抽出した新しいpd.DataFrameを返す\n",
    "        - \"index\": 引数としたdfの対応するインデックスを返す\n",
    "        - \"bool\": 引数としたdfに対応するboolインデックスを返す\n",
    "    \"\"\"\n",
    "    \n",
    "    # 返り値の形式の指定\n",
    "    return_as_set = {\"df\", \"index\", \"bool\"}\n",
    "    if not return_as in return_as_set:\n",
    "        raise Exception(\"return_as must be any in {}\".format(return_as_set))    \n",
    "       \n",
    "    if return_as==\"bool\":\n",
    "        workday_intraday_bool_array = extract_workdays_intraday_jp_index(df.index, return_as=\"bool\")\n",
    "        return workday_intraday_bool_array\n",
    "    elif return_as==\"index\":\n",
    "        workday_intraday_bool_array = extract_workdays_intraday_jp_index(df.index, return_as=\"bool\")\n",
    "        workday_intraday_indice = df.index[workday_intraday_bool_array]\n",
    "        return workday_intraday_indice\n",
    "    else:\n",
    "        workday_intraday_bool_array = extract_workdays_intraday_jp_index(df.index, return_as=\"bool\")\n",
    "        out_df = df[workday_intraday_bool_array].copy()\n",
    "        return out_df"
   ]
  },
  {
   "cell_type": "code",
   "execution_count": 66,
   "metadata": {
    "ExecuteTime": {
     "end_time": "2021-04-07T05:37:59.420233Z",
     "start_time": "2021-04-07T05:37:59.084136Z"
    }
   },
   "outputs": [
    {
     "data": {
      "text/html": [
       "<div>\n",
       "<style scoped>\n",
       "    .dataframe tbody tr th:only-of-type {\n",
       "        vertical-align: middle;\n",
       "    }\n",
       "\n",
       "    .dataframe tbody tr th {\n",
       "        vertical-align: top;\n",
       "    }\n",
       "\n",
       "    .dataframe thead th {\n",
       "        text-align: right;\n",
       "    }\n",
       "</style>\n",
       "<table border=\"1\" class=\"dataframe\">\n",
       "  <thead>\n",
       "    <tr style=\"text-align: right;\">\n",
       "      <th></th>\n",
       "      <th>Open_6502</th>\n",
       "      <th>High_6502</th>\n",
       "      <th>Low_6502</th>\n",
       "      <th>Close_6502</th>\n",
       "      <th>Volume_6502</th>\n",
       "    </tr>\n",
       "    <tr>\n",
       "      <th>timestamp</th>\n",
       "      <th></th>\n",
       "      <th></th>\n",
       "      <th></th>\n",
       "      <th></th>\n",
       "      <th></th>\n",
       "    </tr>\n",
       "  </thead>\n",
       "  <tbody>\n",
       "    <tr>\n",
       "      <th>2020-11-04 09:00:00+09:00</th>\n",
       "      <td>2669.0</td>\n",
       "      <td>2670.0</td>\n",
       "      <td>2658.0</td>\n",
       "      <td>2664.0</td>\n",
       "      <td>93000.0</td>\n",
       "    </tr>\n",
       "    <tr>\n",
       "      <th>2020-11-05 09:00:00+09:00</th>\n",
       "      <td>2631.0</td>\n",
       "      <td>2641.0</td>\n",
       "      <td>2630.0</td>\n",
       "      <td>2639.0</td>\n",
       "      <td>55000.0</td>\n",
       "    </tr>\n",
       "    <tr>\n",
       "      <th>2020-11-06 09:00:00+09:00</th>\n",
       "      <td>2615.0</td>\n",
       "      <td>2644.0</td>\n",
       "      <td>2609.0</td>\n",
       "      <td>2617.0</td>\n",
       "      <td>90700.0</td>\n",
       "    </tr>\n",
       "    <tr>\n",
       "      <th>2020-11-09 09:00:00+09:00</th>\n",
       "      <td>2711.0</td>\n",
       "      <td>2719.0</td>\n",
       "      <td>2707.0</td>\n",
       "      <td>2710.0</td>\n",
       "      <td>0.0</td>\n",
       "    </tr>\n",
       "    <tr>\n",
       "      <th>2020-11-10 09:00:00+09:00</th>\n",
       "      <td>2780.0</td>\n",
       "      <td>2782.0</td>\n",
       "      <td>2770.0</td>\n",
       "      <td>2777.0</td>\n",
       "      <td>142700.0</td>\n",
       "    </tr>\n",
       "    <tr>\n",
       "      <th>2020-11-11 09:00:00+09:00</th>\n",
       "      <td>NaN</td>\n",
       "      <td>NaN</td>\n",
       "      <td>NaN</td>\n",
       "      <td>NaN</td>\n",
       "      <td>NaN</td>\n",
       "    </tr>\n",
       "    <tr>\n",
       "      <th>2020-11-12 09:00:00+09:00</th>\n",
       "      <td>2788.0</td>\n",
       "      <td>2800.0</td>\n",
       "      <td>2781.0</td>\n",
       "      <td>2789.0</td>\n",
       "      <td>108400.0</td>\n",
       "    </tr>\n",
       "    <tr>\n",
       "      <th>2020-11-13 09:00:00+09:00</th>\n",
       "      <td>2750.0</td>\n",
       "      <td>2754.0</td>\n",
       "      <td>2741.0</td>\n",
       "      <td>2750.0</td>\n",
       "      <td>71500.0</td>\n",
       "    </tr>\n",
       "    <tr>\n",
       "      <th>2020-11-16 09:00:00+09:00</th>\n",
       "      <td>2714.0</td>\n",
       "      <td>2716.0</td>\n",
       "      <td>2705.0</td>\n",
       "      <td>2710.0</td>\n",
       "      <td>111000.0</td>\n",
       "    </tr>\n",
       "    <tr>\n",
       "      <th>2020-11-17 09:00:00+09:00</th>\n",
       "      <td>2748.0</td>\n",
       "      <td>2748.0</td>\n",
       "      <td>2729.0</td>\n",
       "      <td>2734.0</td>\n",
       "      <td>124400.0</td>\n",
       "    </tr>\n",
       "    <tr>\n",
       "      <th>2020-11-18 09:00:00+09:00</th>\n",
       "      <td>2819.0</td>\n",
       "      <td>2823.0</td>\n",
       "      <td>2814.0</td>\n",
       "      <td>2820.0</td>\n",
       "      <td>76000.0</td>\n",
       "    </tr>\n",
       "    <tr>\n",
       "      <th>2020-11-19 09:00:00+09:00</th>\n",
       "      <td>2858.0</td>\n",
       "      <td>2867.0</td>\n",
       "      <td>2858.0</td>\n",
       "      <td>2860.0</td>\n",
       "      <td>107000.0</td>\n",
       "    </tr>\n",
       "    <tr>\n",
       "      <th>2020-11-20 09:00:00+09:00</th>\n",
       "      <td>2875.0</td>\n",
       "      <td>2887.0</td>\n",
       "      <td>2873.0</td>\n",
       "      <td>2884.0</td>\n",
       "      <td>106000.0</td>\n",
       "    </tr>\n",
       "    <tr>\n",
       "      <th>2020-11-24 09:00:00+09:00</th>\n",
       "      <td>2957.0</td>\n",
       "      <td>2967.0</td>\n",
       "      <td>2952.0</td>\n",
       "      <td>2966.0</td>\n",
       "      <td>0.0</td>\n",
       "    </tr>\n",
       "    <tr>\n",
       "      <th>2020-11-25 09:00:00+09:00</th>\n",
       "      <td>2927.0</td>\n",
       "      <td>2934.0</td>\n",
       "      <td>2926.0</td>\n",
       "      <td>2933.0</td>\n",
       "      <td>74000.0</td>\n",
       "    </tr>\n",
       "    <tr>\n",
       "      <th>2020-11-26 09:00:00+09:00</th>\n",
       "      <td>2822.0</td>\n",
       "      <td>2831.0</td>\n",
       "      <td>2818.0</td>\n",
       "      <td>2824.0</td>\n",
       "      <td>93500.0</td>\n",
       "    </tr>\n",
       "    <tr>\n",
       "      <th>2020-11-27 09:00:00+09:00</th>\n",
       "      <td>2809.0</td>\n",
       "      <td>2828.0</td>\n",
       "      <td>2809.0</td>\n",
       "      <td>2822.0</td>\n",
       "      <td>107600.0</td>\n",
       "    </tr>\n",
       "    <tr>\n",
       "      <th>2020-11-30 09:00:00+09:00</th>\n",
       "      <td>2940.0</td>\n",
       "      <td>2954.0</td>\n",
       "      <td>2936.0</td>\n",
       "      <td>2940.0</td>\n",
       "      <td>225300.0</td>\n",
       "    </tr>\n",
       "  </tbody>\n",
       "</table>\n",
       "</div>"
      ],
      "text/plain": [
       "                           Open_6502  High_6502  Low_6502  Close_6502  \\\n",
       "timestamp                                                               \n",
       "2020-11-04 09:00:00+09:00     2669.0     2670.0    2658.0      2664.0   \n",
       "2020-11-05 09:00:00+09:00     2631.0     2641.0    2630.0      2639.0   \n",
       "2020-11-06 09:00:00+09:00     2615.0     2644.0    2609.0      2617.0   \n",
       "2020-11-09 09:00:00+09:00     2711.0     2719.0    2707.0      2710.0   \n",
       "2020-11-10 09:00:00+09:00     2780.0     2782.0    2770.0      2777.0   \n",
       "2020-11-11 09:00:00+09:00        NaN        NaN       NaN         NaN   \n",
       "2020-11-12 09:00:00+09:00     2788.0     2800.0    2781.0      2789.0   \n",
       "2020-11-13 09:00:00+09:00     2750.0     2754.0    2741.0      2750.0   \n",
       "2020-11-16 09:00:00+09:00     2714.0     2716.0    2705.0      2710.0   \n",
       "2020-11-17 09:00:00+09:00     2748.0     2748.0    2729.0      2734.0   \n",
       "2020-11-18 09:00:00+09:00     2819.0     2823.0    2814.0      2820.0   \n",
       "2020-11-19 09:00:00+09:00     2858.0     2867.0    2858.0      2860.0   \n",
       "2020-11-20 09:00:00+09:00     2875.0     2887.0    2873.0      2884.0   \n",
       "2020-11-24 09:00:00+09:00     2957.0     2967.0    2952.0      2966.0   \n",
       "2020-11-25 09:00:00+09:00     2927.0     2934.0    2926.0      2933.0   \n",
       "2020-11-26 09:00:00+09:00     2822.0     2831.0    2818.0      2824.0   \n",
       "2020-11-27 09:00:00+09:00     2809.0     2828.0    2809.0      2822.0   \n",
       "2020-11-30 09:00:00+09:00     2940.0     2954.0    2936.0      2940.0   \n",
       "\n",
       "                           Volume_6502  \n",
       "timestamp                               \n",
       "2020-11-04 09:00:00+09:00      93000.0  \n",
       "2020-11-05 09:00:00+09:00      55000.0  \n",
       "2020-11-06 09:00:00+09:00      90700.0  \n",
       "2020-11-09 09:00:00+09:00          0.0  \n",
       "2020-11-10 09:00:00+09:00     142700.0  \n",
       "2020-11-11 09:00:00+09:00          NaN  \n",
       "2020-11-12 09:00:00+09:00     108400.0  \n",
       "2020-11-13 09:00:00+09:00      71500.0  \n",
       "2020-11-16 09:00:00+09:00     111000.0  \n",
       "2020-11-17 09:00:00+09:00     124400.0  \n",
       "2020-11-18 09:00:00+09:00      76000.0  \n",
       "2020-11-19 09:00:00+09:00     107000.0  \n",
       "2020-11-20 09:00:00+09:00     106000.0  \n",
       "2020-11-24 09:00:00+09:00          0.0  \n",
       "2020-11-25 09:00:00+09:00      74000.0  \n",
       "2020-11-26 09:00:00+09:00      93500.0  \n",
       "2020-11-27 09:00:00+09:00     107600.0  \n",
       "2020-11-30 09:00:00+09:00     225300.0  "
      ]
     },
     "execution_count": 66,
     "metadata": {},
     "output_type": "execute_result"
    }
   ],
   "source": [
    "extracted_df = extract_workdays_intraday_jp(aware_stock_df, return_as=\"df\")\n",
    "extracted_df.at_time(datetime.time(9,0))"
   ]
  },
  {
   "cell_type": "code",
   "execution_count": 67,
   "metadata": {
    "ExecuteTime": {
     "end_time": "2021-04-07T05:37:59.610268Z",
     "start_time": "2021-04-07T05:37:59.439187Z"
    }
   },
   "outputs": [
    {
     "data": {
      "text/html": [
       "<div>\n",
       "<style scoped>\n",
       "    .dataframe tbody tr th:only-of-type {\n",
       "        vertical-align: middle;\n",
       "    }\n",
       "\n",
       "    .dataframe tbody tr th {\n",
       "        vertical-align: top;\n",
       "    }\n",
       "\n",
       "    .dataframe thead th {\n",
       "        text-align: right;\n",
       "    }\n",
       "</style>\n",
       "<table border=\"1\" class=\"dataframe\">\n",
       "  <thead>\n",
       "    <tr style=\"text-align: right;\">\n",
       "      <th></th>\n",
       "      <th>Open_6502</th>\n",
       "      <th>High_6502</th>\n",
       "      <th>Low_6502</th>\n",
       "      <th>Close_6502</th>\n",
       "      <th>Volume_6502</th>\n",
       "    </tr>\n",
       "    <tr>\n",
       "      <th>timestamp</th>\n",
       "      <th></th>\n",
       "      <th></th>\n",
       "      <th></th>\n",
       "      <th></th>\n",
       "      <th></th>\n",
       "    </tr>\n",
       "  </thead>\n",
       "  <tbody>\n",
       "  </tbody>\n",
       "</table>\n",
       "</div>"
      ],
      "text/plain": [
       "Empty DataFrame\n",
       "Columns: [Open_6502, High_6502, Low_6502, Close_6502, Volume_6502]\n",
       "Index: []"
      ]
     },
     "execution_count": 67,
     "metadata": {},
     "output_type": "execute_result"
    }
   ],
   "source": [
    "extracted_df.at_time(datetime.time(8,0))"
   ]
  },
  {
   "cell_type": "markdown",
   "metadata": {},
   "source": [
    "## 以上のプロファイリングを考慮した新しいバージョン "
   ]
  },
  {
   "cell_type": "markdown",
   "metadata": {},
   "source": [
    "## 営業日の取得 "
   ]
  },
  {
   "cell_type": "markdown",
   "metadata": {},
   "source": [
    "### 指定した期間の営業日のndarrayを取得する"
   ]
  },
  {
   "cell_type": "code",
   "execution_count": 68,
   "metadata": {
    "ExecuteTime": {
     "end_time": "2021-04-07T05:37:59.733462Z",
     "start_time": "2021-04-07T05:37:59.627228Z"
    }
   },
   "outputs": [],
   "source": [
    "def get_workdays_jp(start_date, end_date, return_as=\"date\", end_include=False):\n",
    "    \"\"\"\n",
    "    営業日を取得\n",
    "    \n",
    "    start_date: datetime.date\n",
    "        開始時刻のdate\n",
    "    end_datetime: datetime.date\n",
    "        終了時刻のdate\n",
    "    return_as: str, defalt: 'dt'\n",
    "        返り値の形式\n",
    "        - 'dt':pd.DatetimeIndex\n",
    "        - 'date': datetime.date array\n",
    "    end_include: bool\n",
    "        最終日も含めて出力するか\n",
    "    \"\"\"\n",
    "    assert isinstance(start_date, datetime.date) and isinstance(end_date, datetime.date)\n",
    "    # 返り値の形式の指定\n",
    "    return_as_set = {\"dt\", \"date\"}\n",
    "    if not return_as in return_as_set:\n",
    "        raise Exception(\"return_as must be any in {}\".format(return_as_set))\n",
    "    \n",
    "    # datetime.dateをpd.Timestampに変換(datetime.dateは通常pd.DatetimeIndexと比較できないため)\n",
    "    start_timestamp = pd.Timestamp(start_date)\n",
    "    end_timestamp = pd.Timestamp(end_date)\n",
    "    \n",
    "    # 期間中のholidayを取得\n",
    "    holidays_in_span_index = (start_timestamp<=option.holidays_datetimeindex)&(option.holidays_datetimeindex<end_timestamp)  # DatetimeIndexを使うことに注意\n",
    "    holidays_in_span_datetimeindex = option.holidays_datetimeindex[holidays_in_span_index]  # ndarrayを使う\n",
    "\n",
    "    # 期間中のdatetimeのarrayを取得\n",
    "    if end_include:\n",
    "        days_datetimeindex = pd.date_range(start=start_date, end=end_date, freq=\"D\")  # 最終日も含める\n",
    "    else:\n",
    "        days_datetimeindex = pd.date_range(start=start_date, end=end_date-datetime.timedelta(days=1), freq=\"D\")  # 最終日は含めない\n",
    "    \n",
    "    \n",
    "    # 休日に含まれないもの，さらに土日に含まれないもののboolインデックスを取得\n",
    "    holiday_bool_array = days_datetimeindex.isin(holidays_in_span_datetimeindex)  # 休日であるかのブール\n",
    "    \n",
    "    days_weekday_array = days_datetimeindex.weekday.values\n",
    "    holiday_weekday_each_bool_arrays = [days_weekday_array==weekday for weekday in option.holiday_weekdays]  # inを使うのを回避\n",
    "    holiday_weekday_bool_array = np.logical_or.reduce(holiday_weekday_each_bool_arrays)  # 休日曜日\n",
    "    \n",
    "    workdays_bool_array = (~holiday_bool_array)&(~holiday_weekday_bool_array)  # 休日でなく休日曜日でない\n",
    "    \n",
    "    workdays_datetimeindex = days_datetimeindex[workdays_bool_array].copy()\n",
    "    if return_as==\"dt\":\n",
    "        return workdays_datetimeindex\n",
    "    elif return_as==\"date\":\n",
    "        return workdays_datetimeindex.date"
   ]
  },
  {
   "cell_type": "code",
   "execution_count": 69,
   "metadata": {
    "ExecuteTime": {
     "end_time": "2021-04-07T05:37:59.922476Z",
     "start_time": "2021-04-07T05:37:59.744435Z"
    }
   },
   "outputs": [
    {
     "name": "stdout",
     "output_type": "stream",
     "text": [
      "Timer unit: 1e-07 s\n",
      "\n",
      "Total time: 0.0465059 s\n",
      "File: <ipython-input-68-990d4bea55dd>\n",
      "Function: get_workdays_jp at line 1\n",
      "\n",
      "Line #      Hits         Time  Per Hit   % Time  Line Contents\n",
      "==============================================================\n",
      "     1                                           def get_workdays_jp(start_date, end_date, return_as=\"date\", end_include=False):\n",
      "     2                                               \"\"\"\n",
      "     3                                               営業日を取得\n",
      "     4                                               \n",
      "     5                                               start_date: datetime.date\n",
      "     6                                                   開始時刻のdate\n",
      "     7                                               end_datetime: datetime.date\n",
      "     8                                                   終了時刻のdate\n",
      "     9                                               return_as: str, defalt: 'dt'\n",
      "    10                                                   返り値の形式\n",
      "    11                                                   - 'dt':pd.DatetimeIndex\n",
      "    12                                                   - 'date': datetime.date array\n",
      "    13                                               end_include: bool\n",
      "    14                                                   最終日も含めて出力するか\n",
      "    15                                               \"\"\"\n",
      "    16         1        158.0    158.0      0.0      assert isinstance(start_date, datetime.date) and isinstance(end_date, datetime.date)\n",
      "    17                                               # 返り値の形式の指定\n",
      "    18         1         95.0     95.0      0.0      return_as_set = {\"dt\", \"date\"}\n",
      "    19         1        127.0    127.0      0.0      if not return_as in return_as_set:\n",
      "    20                                                   raise Exception(\"return_as must be any in {}\".format(return_as_set))\n",
      "    21                                               \n",
      "    22                                               # datetime.dateをpd.Timestampに変換(datetime.dateは通常pd.DatetimeIndexと比較できないため)\n",
      "    23         1        642.0    642.0      0.1      start_timestamp = pd.Timestamp(start_date)\n",
      "    24         1        273.0    273.0      0.1      end_timestamp = pd.Timestamp(end_date)\n",
      "    25                                               \n",
      "    26                                               # 期間中のholidayを取得\n",
      "    27         1     154218.0 154218.0     33.2      holidays_in_span_index = (start_timestamp<=option.holidays_datetimeindex)&(option.holidays_datetimeindex<end_timestamp)  # DatetimeIndexを使うことに注意\n",
      "    28         1     211860.0 211860.0     45.6      holidays_in_span_datetimeindex = option.holidays_datetimeindex[holidays_in_span_index]  # ndarrayを使う\n",
      "    29                                           \n",
      "    30                                               # 期間中のdatetimeのarrayを取得\n",
      "    31         1        119.0    119.0      0.0      if end_include:\n",
      "    32                                                   days_datetimeindex = pd.date_range(start=start_date, end=end_date, freq=\"D\")  # 最終日も含める\n",
      "    33                                               else:\n",
      "    34         1      22250.0  22250.0      4.8          days_datetimeindex = pd.date_range(start=start_date, end=end_date-datetime.timedelta(days=1), freq=\"D\")  # 最終日は含めない\n",
      "    35                                               \n",
      "    36                                               \n",
      "    37                                               # 休日に含まれないもの，さらに土日に含まれないもののboolインデックスを取得\n",
      "    38         1      12167.0  12167.0      2.6      holiday_bool_array = days_datetimeindex.isin(holidays_in_span_datetimeindex)  # 休日であるかのブール\n",
      "    39                                               \n",
      "    40         1      15090.0  15090.0      3.2      days_weekday_array = days_datetimeindex.weekday.values\n",
      "    41         1       1543.0   1543.0      0.3      holiday_weekday_each_bool_arrays = [days_weekday_array==weekday for weekday in option.holiday_weekdays]  # inを使うのを回避\n",
      "    42         1       1361.0   1361.0      0.3      holiday_weekday_bool_array = np.logical_or.reduce(holiday_weekday_each_bool_arrays)  # 休日曜日\n",
      "    43                                               \n",
      "    44         1        538.0    538.0      0.1      workdays_bool_array = (~holiday_bool_array)&(~holiday_weekday_bool_array)  # 休日でなく休日曜日でない\n",
      "    45                                               \n",
      "    46         1      30233.0  30233.0      6.5      workdays_datetimeindex = days_datetimeindex[workdays_bool_array].copy()\n",
      "    47         1        252.0    252.0      0.1      if return_as==\"dt\":\n",
      "    48                                                   return workdays_datetimeindex\n",
      "    49         1         94.0     94.0      0.0      elif return_as==\"date\":\n",
      "    50         1      14039.0  14039.0      3.0          return workdays_datetimeindex.date\n",
      "\n"
     ]
    }
   ],
   "source": [
    "def temp_func():\n",
    "    start_date = datetime.datetime(2021, 1, 1)\n",
    "    end_date = datetime.datetime(2021, 12, 31)\n",
    "    workdays = get_workdays_jp(start_date, end_date, return_as=\"date\", end_include=False)\n",
    "\n",
    "from line_profiler import LineProfiler\n",
    "prf = LineProfiler()                                                                                         \n",
    "#prf.add_module()                                                                                          \n",
    "prf.add_function(get_workdays_jp)                                                                                      \n",
    "prf.runcall(temp_func)                                                                                          \n",
    "prf.print_stats()"
   ]
  },
  {
   "cell_type": "markdown",
   "metadata": {},
   "source": [
    "### 営業日であるかどうか "
   ]
  },
  {
   "cell_type": "code",
   "execution_count": 70,
   "metadata": {
    "ExecuteTime": {
     "end_time": "2021-04-07T05:37:59.989817Z",
     "start_time": "2021-04-07T05:37:59.941428Z"
    }
   },
   "outputs": [],
   "source": [
    "def check_workday_jp(select_date):\n",
    "    \"\"\"\n",
    "    与えられたdatetime.dateが営業日であるかどうかを出力する\n",
    "    select_date: datetime.date\n",
    "        入力するdate\n",
    "    \"\"\"\n",
    "    assert isinstance(select_date, datetime.date)\n",
    "    # 休日であるかどうか\n",
    "    is_holiday = (option.holidays_date_array==select_date).sum() > 0\n",
    "    \n",
    "    # 休日曜日であるかどうか\n",
    "    is_holiday_weekday = select_date.weekday() in set(option.holiday_weekdays)\n",
    "    \n",
    "    is_workday = not any([is_holiday, is_holiday_weekday])\n",
    "    \n",
    "    return is_workday"
   ]
  },
  {
   "cell_type": "code",
   "execution_count": 71,
   "metadata": {
    "ExecuteTime": {
     "end_time": "2021-04-07T05:38:00.095533Z",
     "start_time": "2021-04-07T05:38:00.008778Z"
    }
   },
   "outputs": [
    {
     "name": "stdout",
     "output_type": "stream",
     "text": [
      "Timer unit: 1e-07 s\n",
      "\n",
      "Total time: 0.00024 s\n",
      "File: <ipython-input-70-32034ee082ba>\n",
      "Function: check_workday_jp at line 1\n",
      "\n",
      "Line #      Hits         Time  Per Hit   % Time  Line Contents\n",
      "==============================================================\n",
      "     1                                           def check_workday_jp(select_date):\n",
      "     2                                               \"\"\"\n",
      "     3                                               与えられたdatetime.dateが営業日であるかどうかを出力する\n",
      "     4                                               select_date: datetime.date\n",
      "     5                                                   入力するdate\n",
      "     6                                               \"\"\"\n",
      "     7         1         96.0     96.0      4.0      assert isinstance(select_date, datetime.date)\n",
      "     8                                               # 休日であるかどうか\n",
      "     9         1       1932.0   1932.0     80.5      is_holiday = (option.holidays_date_array==select_date).sum() > 0\n",
      "    10                                               \n",
      "    11                                               # 休日曜日であるかどうか\n",
      "    12         1        247.0    247.0     10.3      is_holiday_weekday = select_date.weekday() in set(option.holiday_weekdays)\n",
      "    13                                               \n",
      "    14         1         88.0     88.0      3.7      is_workday = not any([is_holiday, is_holiday_weekday])\n",
      "    15                                               \n",
      "    16         1         37.0     37.0      1.5      return is_workday\n",
      "\n"
     ]
    }
   ],
   "source": [
    "def temp_func():\n",
    "    select_date = datetime.date(2021, 1, 3)\n",
    "    check_workday_jp(select_date)\n",
    "    \n",
    "from line_profiler import LineProfiler\n",
    "prf = LineProfiler()                                                                                         \n",
    "#prf.add_module()                                                                                          \n",
    "prf.add_function(check_workday_jp)                                                                                      \n",
    "prf.runcall(temp_func)                                                                                          \n",
    "prf.print_stats()"
   ]
  },
  {
   "cell_type": "markdown",
   "metadata": {},
   "source": [
    "### 非営業日を取得 "
   ]
  },
  {
   "cell_type": "code",
   "execution_count": 72,
   "metadata": {
    "ExecuteTime": {
     "end_time": "2021-04-07T05:38:00.189801Z",
     "start_time": "2021-04-07T05:38:00.106507Z"
    }
   },
   "outputs": [],
   "source": [
    "def get_not_workdays_jp(start_date, end_date, return_as=\"date\", end_include=False):\n",
    "    \"\"\"\n",
    "    非営業日を取得(土日or祝日)\n",
    "    \n",
    "    start_date: datetime.date\n",
    "        開始時刻のdate\n",
    "    end_datetime: datetime.date\n",
    "        終了時刻のdate\n",
    "    return_as: str, defalt: 'dt'\n",
    "        返り値の形式\n",
    "        - 'dt':pd.DatetimeIndex\n",
    "        - 'date': datetime.date array\n",
    "    end_include: bool\n",
    "        最終日も含めて出力するか\n",
    "    \"\"\"\n",
    "    assert isinstance(start_date, datetime.date) and isinstance(end_date, datetime.date)\n",
    "    # 返り値の形式の指定\n",
    "    return_as_set = {\"dt\", \"date\"}\n",
    "    if not return_as in return_as_set:\n",
    "        raise Exception(\"return_as must be any in {}\".format(return_as_set))\n",
    "    \n",
    "    # datetime.dateをpd.Timestampに変換(datetime.dateは通常pd.DatetimeIndexと比較できないため)\n",
    "    start_timestamp = pd.Timestamp(start_date)\n",
    "    end_timestamp = pd.Timestamp(end_date)\n",
    "    \n",
    "    # 期間中のholidayを取得\n",
    "    holidays_in_span_index = (start_timestamp<=option.holidays_datetimeindex)&(option.holidays_datetimeindex<end_timestamp)  # DatetimeIndexを使うことに注意\n",
    "    holidays_in_span_datetimeindex = option.holidays_datetimeindex[holidays_in_span_index]  # pd.DatetimeIndexを使う\n",
    "\n",
    "    # 期間中のdatetimeのarrayを取得\n",
    "    if end_include:\n",
    "        days_datetimeindex = pd.date_range(start=start_date, end=end_date, freq=\"D\")  # 最終日も含める\n",
    "    else:\n",
    "        days_datetimeindex = pd.date_range(start=start_date, end=end_date-datetime.timedelta(days=1), freq=\"D\")  # 最終日は含めない\n",
    "    \n",
    "    # 休日に含まれないもの，さらに休日曜日に含まれないもののboolインデックスを取得\n",
    "    holiday_bool_array = days_datetimeindex.isin(holidays_in_span_datetimeindex)  # 休日であるかのブール\n",
    "    \n",
    "    days_weekday_array = days_datetimeindex.weekday.values\n",
    "    holiday_weekday_each_bool_arrays = [days_weekday_array==weekday for weekday in option.holiday_weekdays]  # inを使うのを回避\n",
    "    holiday_weekday_bool_array = np.logical_or.reduce(holiday_weekday_each_bool_arrays)  # 休日曜日\n",
    "    \n",
    "    not_workdays_bool_array = holiday_bool_array | holiday_weekday_bool_array  # 休日あるいは休日曜日\n",
    "    \n",
    "    not_workdays_datetimeindex = days_datetimeindex[not_workdays_bool_array].copy()\n",
    "    if return_as==\"dt\":\n",
    "        return not_workdays_datetimeindex\n",
    "    elif return_as==\"date\":\n",
    "        return not_workdays_datetimeindex.date"
   ]
  },
  {
   "cell_type": "markdown",
   "metadata": {},
   "source": [
    "## 指定した日数後の営業日を取得 "
   ]
  },
  {
   "cell_type": "code",
   "execution_count": 73,
   "metadata": {
    "ExecuteTime": {
     "end_time": "2021-04-07T05:38:00.252635Z",
     "start_time": "2021-04-07T05:38:00.199777Z"
    }
   },
   "outputs": [],
   "source": [
    "def iter_and_repeat(iterable):\n",
    "    \"\"\"\n",
    "    最初は普通のイテレーターで終了した場合に同じものを返すイテレーター\n",
    "    \"\"\"\n",
    "    iterable = iter(iterable)\n",
    "    is_end = False\n",
    "    while True:\n",
    "        if not is_end:\n",
    "            try:\n",
    "                item = next(iterable)\n",
    "                yield item\n",
    "            except StopIteration:\n",
    "                last_item = item\n",
    "                is_end = True\n",
    "        else:\n",
    "            yield last_item"
   ]
  },
  {
   "cell_type": "code",
   "execution_count": 74,
   "metadata": {
    "ExecuteTime": {
     "end_time": "2021-04-07T05:38:00.427741Z",
     "start_time": "2021-04-07T05:38:00.264603Z"
    }
   },
   "outputs": [],
   "source": [
    "def get_next_workday_jp(select_date, days=1, select_include=False, return_as=\"date\"):\n",
    "    \"\"\"\n",
    "    指定した日数後の営業日を取得\n",
    "    select_date: datetime.date\n",
    "        指定する日時\n",
    "    days: int\n",
    "        日数\n",
    "    return_as: str, defalt: 'dt'\n",
    "        返り値の形式\n",
    "        - 'dt':pd.Timstamp\n",
    "        - 'datetime': datetime.datetime array\n",
    "    \"\"\"\n",
    "    assert isinstance(select_date, datetime.date)\n",
    "    # 返り値の形式の指定\n",
    "    return_as_set = {\"dt\", \"date\"}\n",
    "    if not return_as in return_as_set:\n",
    "        raise Exception(\"return_as must be any in {}\".format(return_as_set))\n",
    "        \n",
    "    if days <= 0 or not isinstance(days, int):\n",
    "        raise Exception(\"select_days is must be integer > 0\")\n",
    "        \n",
    "    holiday_weekdays_set = set(option.holiday_weekdays)  #setにした方が高速？\n",
    "\n",
    "    if (option.holidays_date_array==select_date).sum() > 0:  #selet_day が休日の場合\n",
    "        holiday_bigger_select_index = (option.holidays_date_array<select_date).sum()\n",
    "    else:  # select_dayが休日でない場合\n",
    "        holiday_bigger_select_index = (option.holidays_date_array<=select_date).sum()\n",
    "\n",
    "    holiday_iter = iter_and_repeat(iter(option.holidays_date_array[holiday_bigger_select_index:]))\n",
    "    def days_gen(select_date):\n",
    "        add_days = 0  # select_dateを含める\n",
    "        while True:\n",
    "            yield select_date + datetime.timedelta(days=add_days)\n",
    "            add_days += 1\n",
    "    days_iter = days_gen(select_date)\n",
    "\n",
    "    # 以下二つのイテレーターを比較し，one_dayが休日に含まれる場合カウントし，カウントが指定に達した場合終了する\n",
    "    one_day = next(days_iter)\n",
    "    one_holiday = next(holiday_iter)\n",
    "    assert(one_day <= one_holiday)  # これを満たさないと祝日検出ができない\n",
    "\n",
    "    # 最初はwhileの外で，さらに初日がworkdaysでもカウントしない\n",
    "    if one_day==one_holiday:\n",
    "        one_holiday = next(holiday_iter)   \n",
    "\n",
    "    one_day = next(days_iter)\n",
    "    counter = 0\n",
    "\n",
    "    while True:\n",
    "        if one_day==one_holiday:  #その日が祝日である\n",
    "            one_holiday = next(holiday_iter)\n",
    "        else:\n",
    "            if not one_day.weekday() in holiday_weekdays_set:  #その日が休日曜日である\n",
    "                counter += 1  # カウンターをインクリメント\n",
    "\n",
    "        if counter>= days:\n",
    "            break\n",
    "\n",
    "        one_day = next(days_iter)\n",
    "        \n",
    "    if return_as==\"date\":\n",
    "        return one_day\n",
    "    elif return_as==\"dt\":\n",
    "        return pd.Timestamp(one_day)"
   ]
  },
  {
   "cell_type": "code",
   "execution_count": 75,
   "metadata": {
    "ExecuteTime": {
     "end_time": "2021-04-07T05:38:00.555402Z",
     "start_time": "2021-04-07T05:38:00.449686Z"
    }
   },
   "outputs": [
    {
     "data": {
      "text/plain": [
       "[datetime.date(2021, 1, 4),\n",
       " datetime.date(2021, 1, 5),\n",
       " datetime.date(2021, 1, 6),\n",
       " datetime.date(2021, 1, 7),\n",
       " datetime.date(2021, 1, 8),\n",
       " datetime.date(2021, 1, 12),\n",
       " datetime.date(2021, 1, 13),\n",
       " datetime.date(2021, 1, 14),\n",
       " datetime.date(2021, 1, 15),\n",
       " datetime.date(2021, 1, 18),\n",
       " datetime.date(2021, 1, 19),\n",
       " datetime.date(2021, 1, 20),\n",
       " datetime.date(2021, 1, 21),\n",
       " datetime.date(2021, 1, 22),\n",
       " datetime.date(2021, 1, 25),\n",
       " datetime.date(2021, 1, 26),\n",
       " datetime.date(2021, 1, 27),\n",
       " datetime.date(2021, 1, 28),\n",
       " datetime.date(2021, 1, 29),\n",
       " datetime.date(2021, 2, 1),\n",
       " datetime.date(2021, 2, 2),\n",
       " datetime.date(2021, 2, 3),\n",
       " datetime.date(2021, 2, 4),\n",
       " datetime.date(2021, 2, 5),\n",
       " datetime.date(2021, 2, 8),\n",
       " datetime.date(2021, 2, 9),\n",
       " datetime.date(2021, 2, 10),\n",
       " datetime.date(2021, 2, 12),\n",
       " datetime.date(2021, 2, 15),\n",
       " datetime.date(2021, 2, 16)]"
      ]
     },
     "execution_count": 75,
     "metadata": {},
     "output_type": "execute_result"
    }
   ],
   "source": [
    "[get_next_workday_jp(datetime.date(2021,1,1), days=i) for i in range(1,31)]"
   ]
  },
  {
   "cell_type": "code",
   "execution_count": 76,
   "metadata": {
    "ExecuteTime": {
     "end_time": "2021-04-07T05:38:00.743905Z",
     "start_time": "2021-04-07T05:38:00.572364Z"
    }
   },
   "outputs": [
    {
     "name": "stdout",
     "output_type": "stream",
     "text": [
      "Timer unit: 1e-07 s\n",
      "\n",
      "Total time: 0.0120936 s\n",
      "File: <ipython-input-74-01c73cca4acf>\n",
      "Function: get_next_workday_jp at line 1\n",
      "\n",
      "Line #      Hits         Time  Per Hit   % Time  Line Contents\n",
      "==============================================================\n",
      "     1                                           def get_next_workday_jp(select_date, days=1, select_include=False, return_as=\"date\"):\n",
      "     2                                               \"\"\"\n",
      "     3                                               指定した日数後の営業日を取得\n",
      "     4                                               select_date: datetime.date\n",
      "     5                                                   指定する日時\n",
      "     6                                               days: int\n",
      "     7                                                   日数\n",
      "     8                                               return_as: str, defalt: 'dt'\n",
      "     9                                                   返り値の形式\n",
      "    10                                                   - 'dt':pd.Timstamp\n",
      "    11                                                   - 'datetime': datetime.datetime array\n",
      "    12                                               \"\"\"\n",
      "    13         1        195.0    195.0      0.2      assert isinstance(select_date, datetime.date)\n",
      "    14                                               # 返り値の形式の指定\n",
      "    15         1        233.0    233.0      0.2      return_as_set = {\"dt\", \"date\"}\n",
      "    16         1        181.0    181.0      0.1      if not return_as in return_as_set:\n",
      "    17                                                   raise Exception(\"return_as must be any in {}\".format(return_as_set))\n",
      "    18                                                   \n",
      "    19         1        128.0    128.0      0.1      if days <= 0 or not isinstance(days, int):\n",
      "    20                                                   raise Exception(\"select_days is must be integer > 0\")\n",
      "    21                                                   \n",
      "    22         1        259.0    259.0      0.2      holiday_weekdays_set = set(option.holiday_weekdays)  #setにした方が高速？\n",
      "    23                                           \n",
      "    24         1       2454.0   2454.0      2.0      if (option.holidays_date_array==select_date).sum() > 0:  #selet_day が休日の場合\n",
      "    25         1       1276.0   1276.0      1.1          holiday_bigger_select_index = (option.holidays_date_array<select_date).sum()\n",
      "    26                                               else:  # select_dayが休日でない場合\n",
      "    27                                                   holiday_bigger_select_index = (option.holidays_date_array<=select_date).sum()\n",
      "    28                                           \n",
      "    29         1        246.0    246.0      0.2      holiday_iter = iter_and_repeat(iter(option.holidays_date_array[holiday_bigger_select_index:]))\n",
      "    30         1         89.0     89.0      0.1      def days_gen(select_date):\n",
      "    31                                                   add_days = 0  # select_dateを含める\n",
      "    32                                                   while True:\n",
      "    33                                                       yield select_date + datetime.timedelta(days=add_days)\n",
      "    34                                                       add_days += 1\n",
      "    35         1         85.0     85.0      0.1      days_iter = days_gen(select_date)\n",
      "    36                                           \n",
      "    37                                               # 以下二つのイテレーターを比較し，one_dayが休日に含まれる場合カウントし，カウントが指定に達した場合終了する\n",
      "    38         1        340.0    340.0      0.3      one_day = next(days_iter)\n",
      "    39         1        269.0    269.0      0.2      one_holiday = next(holiday_iter)\n",
      "    40         1         84.0     84.0      0.1      assert(one_day <= one_holiday)  # これを満たさないと祝日検出ができない\n",
      "    41                                           \n",
      "    42                                               # 最初はwhileの外で，さらに初日がworkdaysでもカウントしない\n",
      "    43         1         74.0     74.0      0.1      if one_day==one_holiday:\n",
      "    44         1        188.0    188.0      0.2          one_holiday = next(holiday_iter)   \n",
      "    45                                           \n",
      "    46         1        277.0    277.0      0.2      one_day = next(days_iter)\n",
      "    47         1         70.0     70.0      0.1      counter = 0\n",
      "    48                                           \n",
      "    49         1         70.0     70.0      0.1      while True:\n",
      "    50        66       8176.0    123.9      6.8          if one_day==one_holiday:  #その日が祝日である\n",
      "    51         3        692.0    230.7      0.6              one_holiday = next(holiday_iter)\n",
      "    52                                                   else:\n",
      "    53        63       6208.0     98.5      5.1              if not one_day.weekday() in holiday_weekdays_set:  #その日が休日曜日である\n",
      "    54        43      72255.0   1680.3     59.7                  counter += 1  # カウンターをインクリメント\n",
      "    55                                           \n",
      "    56        66       8743.0    132.5      7.2          if counter>= days:\n",
      "    57         1         72.0     72.0      0.1              break\n",
      "    58                                           \n",
      "    59        65      18127.0    278.9     15.0          one_day = next(days_iter)\n",
      "    60                                                   \n",
      "    61         1         78.0     78.0      0.1      if return_as==\"date\":\n",
      "    62         1         67.0     67.0      0.1          return one_day\n",
      "    63                                               elif return_as==\"dt\":\n",
      "    64                                                   return pd.Timestamp(one_day)\n",
      "\n"
     ]
    }
   ],
   "source": [
    "def temp_func():\n",
    "    select_date = datetime.date(2021, 1, 1)\n",
    "    next_workday = get_next_workday_jp(select_date, days=43, return_as=\"date\")\n",
    "    \n",
    "from line_profiler import LineProfiler\n",
    "prf = LineProfiler()                                                                                         \n",
    "#prf.add_module()                                                                                          \n",
    "prf.add_function(get_next_workday_jp)                                                                                      \n",
    "prf.runcall(temp_func)                                                                                          \n",
    "prf.print_stats()"
   ]
  },
  {
   "cell_type": "markdown",
   "metadata": {},
   "source": [
    "## データフレームに関しての処理 "
   ]
  },
  {
   "cell_type": "markdown",
   "metadata": {},
   "source": [
    "### 営業日データを取得 "
   ]
  },
  {
   "cell_type": "code",
   "execution_count": 77,
   "metadata": {
    "ExecuteTime": {
     "end_time": "2021-04-07T05:38:00.836651Z",
     "start_time": "2021-04-07T05:38:00.760856Z"
    }
   },
   "outputs": [],
   "source": [
    "def extract_workdays_jp_index(dt_index, return_as=\"index\"):\n",
    "    \"\"\"\n",
    "    pd.DatetimeIndexから，営業日のデータのものを抽出\n",
    "    dt_index: pd.DatetimeIndex\n",
    "        入力するDatetimeIndex，すでにdatetimeでソートしていることが前提\n",
    "    return_as: str\n",
    "        出力データの形式\n",
    "        - \"index\": 引数としたdfの対応するインデックスを返す\n",
    "        - \"bool\": 引数としたdfに対応するboolインデックスを返す\n",
    "    \"\"\"\n",
    "    # 返り値の形式の指定\n",
    "    return_as_set = {\"index\", \"bool\"}\n",
    "    if not return_as in return_as_set:\n",
    "        raise Exception(\"return_as must be any in {}\".format(return_as_set))\n",
    "        \n",
    "    # すでにtimestampでソートさてている前提\n",
    "    start_datetime = dt_index[0].to_pydatetime()\n",
    "    end_datetime = dt_index[-1].to_pydatetime()\n",
    "    \n",
    "    start_datetime, end_datetime = check_jst_datetimes_to_naive(start_datetime, end_datetime)  # 二つのdatetimeのタイムゾーンをチェック・naiveに変更\n",
    "    \n",
    "    # 期間内のholidayを取得\n",
    "    holidays_in_span_index = ((start_datetime-datetime.timedelta(days=1))<option.holidays_datetimeindex)&\\\n",
    "    (option.holidays_datetimeindex<=end_datetime)  # DatetimeIndexを使うことに注意, 当日を含めるため，startから1を引いている．\n",
    "    holidays_in_span_datetimeindex = option.holidays_datetimeindex[holidays_in_span_index]  # pd.DatetimeIndexを使う\n",
    "    \n",
    "    # 休日に含まれないもの，さらに土日に含まれないもののboolインデックスを取得    \n",
    "    holiday_bool_array = dt_index.tz_localize(None).floor(\"D\").isin(holidays_in_span_datetimeindex)  # 休日\n",
    "    \n",
    "    dt_index_weekday = dt_index.weekday\n",
    "    holiday_weekday_each_bool_arrays = [dt_index_weekday==weekday for weekday in option.holiday_weekdays]  # inを使うのを回避\n",
    "    holiday_weekday_bool_array = np.logical_or.reduce(holiday_weekday_each_bool_arrays)  # 休日曜日\n",
    "    \n",
    "    workdays_bool_array = (~holiday_bool_array)&(~holiday_weekday_bool_array)  # 休日でなく休日曜日でない\n",
    "    if return_as==\"bool\":  # boolで返す場合\n",
    "        return workdays_bool_array\n",
    "    \n",
    "    elif return_as==\"index\":  # indexで返す場合\n",
    "        workdays_df_indice = dt_index[workdays_bool_array]\n",
    "        return workdays_df_indice"
   ]
  },
  {
   "cell_type": "code",
   "execution_count": 78,
   "metadata": {
    "ExecuteTime": {
     "end_time": "2021-04-07T05:38:01.041620Z",
     "start_time": "2021-04-07T05:38:00.849617Z"
    },
    "scrolled": false
   },
   "outputs": [
    {
     "name": "stdout",
     "output_type": "stream",
     "text": [
      "Timer unit: 1e-07 s\n",
      "\n",
      "Total time: 0.0730168 s\n",
      "File: <ipython-input-47-38bc3c608d88>\n",
      "Function: extract_workdays_jp at line 1\n",
      "\n",
      "Line #      Hits         Time  Per Hit   % Time  Line Contents\n",
      "==============================================================\n",
      "     1                                           def extract_workdays_jp(df, return_as=\"df\"):\n",
      "     2                                               \"\"\"\n",
      "     3                                               データフレームから，営業日のデータのものを抽出．出力データ形式をreturn_asで指定する．\n",
      "     4                                               df: pd.DataFrame(インデックスとしてpd.DatetimeIndex)\n",
      "     5                                                   入力データ\n",
      "     6                                               return_as: str\n",
      "     7                                                   出力データの形式\n",
      "     8                                                   - \"df\": 抽出した新しいpd.DataFrameを返す\n",
      "     9                                                   - \"index\": 引数としたdfの対応するインデックスを返す\n",
      "    10                                                   - \"bool\": 引数としたdfに対応するboolインデックスを返す\n",
      "    11                                               \"\"\"\n",
      "    12                                               \n",
      "    13                                               # 返り値の形式の指定\n",
      "    14         1         81.0     81.0      0.0      return_as_set = {\"df\", \"index\", \"bool\"}\n",
      "    15         1         55.0     55.0      0.0      if not return_as in return_as_set:\n",
      "    16                                                   raise Exception(\"return_as must be any in {}\".format(return_as_set))\n",
      "    17                                               \n",
      "    18         1         46.0     46.0      0.0      if return_as==\"bool\":\n",
      "    19                                                   workdays_bool_array = extract_workdays_jp_index(df.index, return_as=\"bool\")\n",
      "    20                                                   return workdays_bool_array\n",
      "    21         1         42.0     42.0      0.0      elif return_as==\"index\":\n",
      "    22                                                   workdays_bool_array = extract_workdays_jp_index(df.index, return_as=\"bool\")\n",
      "    23                                                   workdays_df_indice = df.index[workdays_bool_array]\n",
      "    24                                                   return workdays_df_indice\n",
      "    25                                               else:\n",
      "    26         1     600555.0 600555.0     82.2          workdays_bool_array = extract_workdays_jp_index(df.index, return_as=\"bool\")\n",
      "    27         1     129316.0 129316.0     17.7          out_df = df[workdays_bool_array].copy()\n",
      "    28         1         73.0     73.0      0.0          return out_df\n",
      "\n",
      "Total time: 0.0598161 s\n",
      "File: <ipython-input-77-b9144e4bcd56>\n",
      "Function: extract_workdays_jp_index at line 1\n",
      "\n",
      "Line #      Hits         Time  Per Hit   % Time  Line Contents\n",
      "==============================================================\n",
      "     1                                           def extract_workdays_jp_index(dt_index, return_as=\"index\"):\n",
      "     2                                               \"\"\"\n",
      "     3                                               pd.DatetimeIndexから，営業日のデータのものを抽出\n",
      "     4                                               dt_index: pd.DatetimeIndex\n",
      "     5                                                   入力するDatetimeIndex，すでにdatetimeでソートしていることが前提\n",
      "     6                                               return_as: str\n",
      "     7                                                   出力データの形式\n",
      "     8                                                   - \"index\": 引数としたdfの対応するインデックスを返す\n",
      "     9                                                   - \"bool\": 引数としたdfに対応するboolインデックスを返す\n",
      "    10                                               \"\"\"\n",
      "    11                                               # 返り値の形式の指定\n",
      "    12         1         79.0     79.0      0.0      return_as_set = {\"index\", \"bool\"}\n",
      "    13         1         70.0     70.0      0.0      if not return_as in return_as_set:\n",
      "    14                                                   raise Exception(\"return_as must be any in {}\".format(return_as_set))\n",
      "    15                                                   \n",
      "    16                                               # すでにtimestampでソートさてている前提\n",
      "    17         1       3560.0   3560.0      0.6      start_datetime = dt_index[0].to_pydatetime()\n",
      "    18         1       2358.0   2358.0      0.4      end_datetime = dt_index[-1].to_pydatetime()\n",
      "    19                                               \n",
      "    20         1       2125.0   2125.0      0.4      start_datetime, end_datetime = check_jst_datetimes_to_naive(start_datetime, end_datetime)  # 二つのdatetimeのタイムゾーンをチェック・naiveに変更\n",
      "    21                                               \n",
      "    22                                               # 期間内のholidayを取得\n",
      "    23         1       6784.0   6784.0      1.1      holidays_in_span_index = ((start_datetime-datetime.timedelta(days=1))<option.holidays_datetimeindex)&\\\n",
      "    24         1       5150.0   5150.0      0.9      (option.holidays_datetimeindex<=end_datetime)  # DatetimeIndexを使うことに注意, 当日を含めるため，startから1を引いている．\n",
      "    25         1      14334.0  14334.0      2.4      holidays_in_span_datetimeindex = option.holidays_datetimeindex[holidays_in_span_index]  # pd.DatetimeIndexを使う\n",
      "    26                                               \n",
      "    27                                               # 休日に含まれないもの，さらに土日に含まれないもののboolインデックスを取得    \n",
      "    28         1     252568.0 252568.0     42.2      holiday_bool_array = dt_index.tz_localize(None).floor(\"D\").isin(holidays_in_span_datetimeindex)  # 休日\n",
      "    29                                               \n",
      "    30         1     230394.0 230394.0     38.5      dt_index_weekday = dt_index.weekday\n",
      "    31         1      72807.0  72807.0     12.2      holiday_weekday_each_bool_arrays = [dt_index_weekday==weekday for weekday in option.holiday_weekdays]  # inを使うのを回避\n",
      "    32         1       1970.0   1970.0      0.3      holiday_weekday_bool_array = np.logical_or.reduce(holiday_weekday_each_bool_arrays)  # 休日曜日\n",
      "    33                                               \n",
      "    34         1       5819.0   5819.0      1.0      workdays_bool_array = (~holiday_bool_array)&(~holiday_weekday_bool_array)  # 休日でなく休日曜日でない\n",
      "    35         1         79.0     79.0      0.0      if return_as==\"bool\":  # boolで返す場合\n",
      "    36         1         64.0     64.0      0.0          return workdays_bool_array\n",
      "    37                                               \n",
      "    38                                               elif return_as==\"index\":  # indexで返す場合\n",
      "    39                                                   workdays_df_indice = dt_index[workdays_bool_array]\n",
      "    40                                                   return workdays_df_indice\n",
      "\n"
     ]
    }
   ],
   "source": [
    "def temp_func():\n",
    "    extracted_stock_df = extract_workdays_jp(aware_stock_df, return_as=\"df\")\n",
    "    \n",
    "from line_profiler import LineProfiler\n",
    "prf = LineProfiler()                                                                                         \n",
    "#prf.add_module()                                                                                          \n",
    "prf.add_function(extract_workdays_jp)\n",
    "prf.add_function(extract_workdays_jp_index)\n",
    "prf.runcall(temp_func)                                                                                          \n",
    "prf.print_stats()"
   ]
  },
  {
   "cell_type": "code",
   "execution_count": 79,
   "metadata": {
    "ExecuteTime": {
     "end_time": "2021-04-07T05:38:01.198468Z",
     "start_time": "2021-04-07T05:38:01.051596Z"
    }
   },
   "outputs": [
    {
     "data": {
      "text/html": [
       "<div>\n",
       "<style scoped>\n",
       "    .dataframe tbody tr th:only-of-type {\n",
       "        vertical-align: middle;\n",
       "    }\n",
       "\n",
       "    .dataframe tbody tr th {\n",
       "        vertical-align: top;\n",
       "    }\n",
       "\n",
       "    .dataframe thead th {\n",
       "        text-align: right;\n",
       "    }\n",
       "</style>\n",
       "<table border=\"1\" class=\"dataframe\">\n",
       "  <thead>\n",
       "    <tr style=\"text-align: right;\">\n",
       "      <th></th>\n",
       "      <th>Open_6502</th>\n",
       "      <th>High_6502</th>\n",
       "      <th>Low_6502</th>\n",
       "      <th>Close_6502</th>\n",
       "      <th>Volume_6502</th>\n",
       "    </tr>\n",
       "    <tr>\n",
       "      <th>timestamp</th>\n",
       "      <th></th>\n",
       "      <th></th>\n",
       "      <th></th>\n",
       "      <th></th>\n",
       "      <th></th>\n",
       "    </tr>\n",
       "  </thead>\n",
       "  <tbody>\n",
       "    <tr>\n",
       "      <th>2020-11-04 09:00:00+09:00</th>\n",
       "      <td>2669.0</td>\n",
       "      <td>2670.0</td>\n",
       "      <td>2658.0</td>\n",
       "      <td>2664.0</td>\n",
       "      <td>93000.0</td>\n",
       "    </tr>\n",
       "    <tr>\n",
       "      <th>2020-11-05 09:00:00+09:00</th>\n",
       "      <td>2631.0</td>\n",
       "      <td>2641.0</td>\n",
       "      <td>2630.0</td>\n",
       "      <td>2639.0</td>\n",
       "      <td>55000.0</td>\n",
       "    </tr>\n",
       "    <tr>\n",
       "      <th>2020-11-06 09:00:00+09:00</th>\n",
       "      <td>2615.0</td>\n",
       "      <td>2644.0</td>\n",
       "      <td>2609.0</td>\n",
       "      <td>2617.0</td>\n",
       "      <td>90700.0</td>\n",
       "    </tr>\n",
       "    <tr>\n",
       "      <th>2020-11-09 09:00:00+09:00</th>\n",
       "      <td>2711.0</td>\n",
       "      <td>2719.0</td>\n",
       "      <td>2707.0</td>\n",
       "      <td>2710.0</td>\n",
       "      <td>0.0</td>\n",
       "    </tr>\n",
       "    <tr>\n",
       "      <th>2020-11-10 09:00:00+09:00</th>\n",
       "      <td>2780.0</td>\n",
       "      <td>2782.0</td>\n",
       "      <td>2770.0</td>\n",
       "      <td>2777.0</td>\n",
       "      <td>142700.0</td>\n",
       "    </tr>\n",
       "    <tr>\n",
       "      <th>2020-11-11 09:00:00+09:00</th>\n",
       "      <td>NaN</td>\n",
       "      <td>NaN</td>\n",
       "      <td>NaN</td>\n",
       "      <td>NaN</td>\n",
       "      <td>NaN</td>\n",
       "    </tr>\n",
       "    <tr>\n",
       "      <th>2020-11-12 09:00:00+09:00</th>\n",
       "      <td>2788.0</td>\n",
       "      <td>2800.0</td>\n",
       "      <td>2781.0</td>\n",
       "      <td>2789.0</td>\n",
       "      <td>108400.0</td>\n",
       "    </tr>\n",
       "    <tr>\n",
       "      <th>2020-11-13 09:00:00+09:00</th>\n",
       "      <td>2750.0</td>\n",
       "      <td>2754.0</td>\n",
       "      <td>2741.0</td>\n",
       "      <td>2750.0</td>\n",
       "      <td>71500.0</td>\n",
       "    </tr>\n",
       "    <tr>\n",
       "      <th>2020-11-16 09:00:00+09:00</th>\n",
       "      <td>2714.0</td>\n",
       "      <td>2716.0</td>\n",
       "      <td>2705.0</td>\n",
       "      <td>2710.0</td>\n",
       "      <td>111000.0</td>\n",
       "    </tr>\n",
       "    <tr>\n",
       "      <th>2020-11-17 09:00:00+09:00</th>\n",
       "      <td>2748.0</td>\n",
       "      <td>2748.0</td>\n",
       "      <td>2729.0</td>\n",
       "      <td>2734.0</td>\n",
       "      <td>124400.0</td>\n",
       "    </tr>\n",
       "    <tr>\n",
       "      <th>2020-11-18 09:00:00+09:00</th>\n",
       "      <td>2819.0</td>\n",
       "      <td>2823.0</td>\n",
       "      <td>2814.0</td>\n",
       "      <td>2820.0</td>\n",
       "      <td>76000.0</td>\n",
       "    </tr>\n",
       "    <tr>\n",
       "      <th>2020-11-19 09:00:00+09:00</th>\n",
       "      <td>2858.0</td>\n",
       "      <td>2867.0</td>\n",
       "      <td>2858.0</td>\n",
       "      <td>2860.0</td>\n",
       "      <td>107000.0</td>\n",
       "    </tr>\n",
       "    <tr>\n",
       "      <th>2020-11-20 09:00:00+09:00</th>\n",
       "      <td>2875.0</td>\n",
       "      <td>2887.0</td>\n",
       "      <td>2873.0</td>\n",
       "      <td>2884.0</td>\n",
       "      <td>106000.0</td>\n",
       "    </tr>\n",
       "    <tr>\n",
       "      <th>2020-11-24 09:00:00+09:00</th>\n",
       "      <td>2957.0</td>\n",
       "      <td>2967.0</td>\n",
       "      <td>2952.0</td>\n",
       "      <td>2966.0</td>\n",
       "      <td>0.0</td>\n",
       "    </tr>\n",
       "    <tr>\n",
       "      <th>2020-11-25 09:00:00+09:00</th>\n",
       "      <td>2927.0</td>\n",
       "      <td>2934.0</td>\n",
       "      <td>2926.0</td>\n",
       "      <td>2933.0</td>\n",
       "      <td>74000.0</td>\n",
       "    </tr>\n",
       "    <tr>\n",
       "      <th>2020-11-26 09:00:00+09:00</th>\n",
       "      <td>2822.0</td>\n",
       "      <td>2831.0</td>\n",
       "      <td>2818.0</td>\n",
       "      <td>2824.0</td>\n",
       "      <td>93500.0</td>\n",
       "    </tr>\n",
       "    <tr>\n",
       "      <th>2020-11-27 09:00:00+09:00</th>\n",
       "      <td>2809.0</td>\n",
       "      <td>2828.0</td>\n",
       "      <td>2809.0</td>\n",
       "      <td>2822.0</td>\n",
       "      <td>107600.0</td>\n",
       "    </tr>\n",
       "    <tr>\n",
       "      <th>2020-11-30 09:00:00+09:00</th>\n",
       "      <td>2940.0</td>\n",
       "      <td>2954.0</td>\n",
       "      <td>2936.0</td>\n",
       "      <td>2940.0</td>\n",
       "      <td>225300.0</td>\n",
       "    </tr>\n",
       "  </tbody>\n",
       "</table>\n",
       "</div>"
      ],
      "text/plain": [
       "                           Open_6502  High_6502  Low_6502  Close_6502  \\\n",
       "timestamp                                                               \n",
       "2020-11-04 09:00:00+09:00     2669.0     2670.0    2658.0      2664.0   \n",
       "2020-11-05 09:00:00+09:00     2631.0     2641.0    2630.0      2639.0   \n",
       "2020-11-06 09:00:00+09:00     2615.0     2644.0    2609.0      2617.0   \n",
       "2020-11-09 09:00:00+09:00     2711.0     2719.0    2707.0      2710.0   \n",
       "2020-11-10 09:00:00+09:00     2780.0     2782.0    2770.0      2777.0   \n",
       "2020-11-11 09:00:00+09:00        NaN        NaN       NaN         NaN   \n",
       "2020-11-12 09:00:00+09:00     2788.0     2800.0    2781.0      2789.0   \n",
       "2020-11-13 09:00:00+09:00     2750.0     2754.0    2741.0      2750.0   \n",
       "2020-11-16 09:00:00+09:00     2714.0     2716.0    2705.0      2710.0   \n",
       "2020-11-17 09:00:00+09:00     2748.0     2748.0    2729.0      2734.0   \n",
       "2020-11-18 09:00:00+09:00     2819.0     2823.0    2814.0      2820.0   \n",
       "2020-11-19 09:00:00+09:00     2858.0     2867.0    2858.0      2860.0   \n",
       "2020-11-20 09:00:00+09:00     2875.0     2887.0    2873.0      2884.0   \n",
       "2020-11-24 09:00:00+09:00     2957.0     2967.0    2952.0      2966.0   \n",
       "2020-11-25 09:00:00+09:00     2927.0     2934.0    2926.0      2933.0   \n",
       "2020-11-26 09:00:00+09:00     2822.0     2831.0    2818.0      2824.0   \n",
       "2020-11-27 09:00:00+09:00     2809.0     2828.0    2809.0      2822.0   \n",
       "2020-11-30 09:00:00+09:00     2940.0     2954.0    2936.0      2940.0   \n",
       "\n",
       "                           Volume_6502  \n",
       "timestamp                               \n",
       "2020-11-04 09:00:00+09:00      93000.0  \n",
       "2020-11-05 09:00:00+09:00      55000.0  \n",
       "2020-11-06 09:00:00+09:00      90700.0  \n",
       "2020-11-09 09:00:00+09:00          0.0  \n",
       "2020-11-10 09:00:00+09:00     142700.0  \n",
       "2020-11-11 09:00:00+09:00          NaN  \n",
       "2020-11-12 09:00:00+09:00     108400.0  \n",
       "2020-11-13 09:00:00+09:00      71500.0  \n",
       "2020-11-16 09:00:00+09:00     111000.0  \n",
       "2020-11-17 09:00:00+09:00     124400.0  \n",
       "2020-11-18 09:00:00+09:00      76000.0  \n",
       "2020-11-19 09:00:00+09:00     107000.0  \n",
       "2020-11-20 09:00:00+09:00     106000.0  \n",
       "2020-11-24 09:00:00+09:00          0.0  \n",
       "2020-11-25 09:00:00+09:00      74000.0  \n",
       "2020-11-26 09:00:00+09:00      93500.0  \n",
       "2020-11-27 09:00:00+09:00     107600.0  \n",
       "2020-11-30 09:00:00+09:00     225300.0  "
      ]
     },
     "execution_count": 79,
     "metadata": {},
     "output_type": "execute_result"
    }
   ],
   "source": [
    "extracted_stock_df = extract_workdays_jp(aware_stock_df, return_as=\"df\")\n",
    "extracted_stock_df.at_time(datetime.time(9,0))"
   ]
  }
 ],
 "metadata": {
  "kernelspec": {
   "display_name": "torch_py37",
   "language": "python",
   "name": "torch_py37"
  },
  "language_info": {
   "codemirror_mode": {
    "name": "ipython",
    "version": 3
   },
   "file_extension": ".py",
   "mimetype": "text/x-python",
   "name": "python",
   "nbconvert_exporter": "python",
   "pygments_lexer": "ipython3",
   "version": "3.7.4"
  },
  "toc": {
   "base_numbering": 1,
   "nav_menu": {},
   "number_sections": true,
   "sideBar": true,
   "skip_h1_title": true,
   "title_cell": "Table of Contents",
   "title_sidebar": "Contents",
   "toc_cell": false,
   "toc_position": {
    "height": "calc(100% - 180px)",
    "left": "10px",
    "top": "150px",
    "width": "165px"
   },
   "toc_section_display": true,
   "toc_window_display": false
  }
 },
 "nbformat": 4,
 "nbformat_minor": 4
}

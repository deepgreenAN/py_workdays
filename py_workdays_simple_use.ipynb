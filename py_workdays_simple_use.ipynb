{
 "cells": [
  {
   "cell_type": "code",
   "execution_count": 1,
   "metadata": {
    "ExecuteTime": {
     "end_time": "2021-03-27T06:29:49.061459Z",
     "start_time": "2021-03-27T06:29:49.039519Z"
    }
   },
   "outputs": [],
   "source": [
    "import datetime\n",
    "import pickle"
   ]
  },
  {
   "cell_type": "code",
   "execution_count": 3,
   "metadata": {
    "ExecuteTime": {
     "end_time": "2021-03-27T06:30:45.473547Z",
     "start_time": "2021-03-27T06:30:45.450989Z"
    }
   },
   "outputs": [],
   "source": [
    "from py_workdays_ver3 import get_workdays_jp, check_workday_jp, get_next_workday_jp"
   ]
  },
  {
   "cell_type": "code",
   "execution_count": 4,
   "metadata": {
    "ExecuteTime": {
     "end_time": "2021-03-27T06:30:46.409964Z",
     "start_time": "2021-03-27T06:30:46.379047Z"
    }
   },
   "outputs": [],
   "source": [
    "from py_workdays_ver3 import get_workdays_number_jp, extract_workdays_intraday_jp, option"
   ]
  },
  {
   "cell_type": "markdown",
   "metadata": {},
   "source": [
    "## 指定期間の営業日を取得"
   ]
  },
  {
   "cell_type": "code",
   "execution_count": 15,
   "metadata": {
    "ExecuteTime": {
     "end_time": "2021-03-27T06:32:40.254028Z",
     "start_time": "2021-03-27T06:32:40.221149Z"
    }
   },
   "outputs": [],
   "source": [
    "start_date = datetime.date(2020,11,1)\n",
    "end_date = datetime.date(2021,1,1)\n",
    "\n",
    "workdays = get_workdays_jp(start_date, end_date, return_as=\"date\")"
   ]
  },
  {
   "cell_type": "code",
   "execution_count": 16,
   "metadata": {
    "ExecuteTime": {
     "end_time": "2021-03-27T06:32:40.318764Z",
     "start_time": "2021-03-27T06:32:40.273882Z"
    }
   },
   "outputs": [
    {
     "data": {
      "text/plain": [
       "array([datetime.date(2020, 11, 2), datetime.date(2020, 11, 4),\n",
       "       datetime.date(2020, 11, 5), datetime.date(2020, 11, 6),\n",
       "       datetime.date(2020, 11, 9), datetime.date(2020, 11, 10),\n",
       "       datetime.date(2020, 11, 11), datetime.date(2020, 11, 12),\n",
       "       datetime.date(2020, 11, 13), datetime.date(2020, 11, 16),\n",
       "       datetime.date(2020, 11, 17), datetime.date(2020, 11, 18),\n",
       "       datetime.date(2020, 11, 19), datetime.date(2020, 11, 20),\n",
       "       datetime.date(2020, 11, 24), datetime.date(2020, 11, 25),\n",
       "       datetime.date(2020, 11, 26), datetime.date(2020, 11, 27),\n",
       "       datetime.date(2020, 11, 30), datetime.date(2020, 12, 1),\n",
       "       datetime.date(2020, 12, 2), datetime.date(2020, 12, 3),\n",
       "       datetime.date(2020, 12, 4), datetime.date(2020, 12, 7),\n",
       "       datetime.date(2020, 12, 8), datetime.date(2020, 12, 9),\n",
       "       datetime.date(2020, 12, 10), datetime.date(2020, 12, 11),\n",
       "       datetime.date(2020, 12, 14), datetime.date(2020, 12, 15),\n",
       "       datetime.date(2020, 12, 16), datetime.date(2020, 12, 17),\n",
       "       datetime.date(2020, 12, 18), datetime.date(2020, 12, 21),\n",
       "       datetime.date(2020, 12, 22), datetime.date(2020, 12, 23),\n",
       "       datetime.date(2020, 12, 24), datetime.date(2020, 12, 25),\n",
       "       datetime.date(2020, 12, 28), datetime.date(2020, 12, 29),\n",
       "       datetime.date(2020, 12, 30), datetime.date(2020, 12, 31)],\n",
       "      dtype=object)"
      ]
     },
     "execution_count": 16,
     "metadata": {},
     "output_type": "execute_result"
    }
   ],
   "source": [
    "workdays"
   ]
  },
  {
   "cell_type": "code",
   "execution_count": 17,
   "metadata": {
    "ExecuteTime": {
     "end_time": "2021-03-27T06:32:51.150489Z",
     "start_time": "2021-03-27T06:32:51.128556Z"
    }
   },
   "outputs": [],
   "source": [
    "workdays1 = workdays1"
   ]
  },
  {
   "cell_type": "markdown",
   "metadata": {},
   "source": [
    "## 営業日かどうか判定 "
   ]
  },
  {
   "cell_type": "code",
   "execution_count": 7,
   "metadata": {
    "ExecuteTime": {
     "end_time": "2021-03-27T06:30:52.030152Z",
     "start_time": "2021-03-27T06:30:52.003826Z"
    }
   },
   "outputs": [
    {
     "data": {
      "text/plain": [
       "False"
      ]
     },
     "execution_count": 7,
     "metadata": {},
     "output_type": "execute_result"
    }
   ],
   "source": [
    "select_date = datetime.date(2020,1,1)\n",
    "\n",
    "check_workday_jp(select_date)"
   ]
  },
  {
   "cell_type": "markdown",
   "metadata": {},
   "source": [
    "## 次の営業日を取得 "
   ]
  },
  {
   "cell_type": "code",
   "execution_count": 8,
   "metadata": {
    "ExecuteTime": {
     "end_time": "2021-03-27T06:30:53.000356Z",
     "start_time": "2021-03-27T06:30:52.980887Z"
    }
   },
   "outputs": [],
   "source": [
    "select_datetime = datetime.date(2020,1,1)\n",
    "\n",
    "next_workday = get_next_workday_jp(select_datetime, days=6, return_as=\"dt\")"
   ]
  },
  {
   "cell_type": "code",
   "execution_count": 9,
   "metadata": {
    "ExecuteTime": {
     "end_time": "2021-03-27T06:30:53.871653Z",
     "start_time": "2021-03-27T06:30:53.844212Z"
    }
   },
   "outputs": [
    {
     "data": {
      "text/plain": [
       "Timestamp('2020-01-09 00:00:00')"
      ]
     },
     "execution_count": 9,
     "metadata": {},
     "output_type": "execute_result"
    }
   ],
   "source": [
    "next_workday"
   ]
  },
  {
   "cell_type": "markdown",
   "metadata": {},
   "source": [
    "## 指定する日数分の営業日を取得 "
   ]
  },
  {
   "cell_type": "code",
   "execution_count": 18,
   "metadata": {
    "ExecuteTime": {
     "end_time": "2021-03-27T06:32:57.336478Z",
     "start_time": "2021-03-27T06:32:57.263661Z"
    }
   },
   "outputs": [
    {
     "data": {
      "text/plain": [
       "array([datetime.date(2020, 11, 2), datetime.date(2020, 11, 4),\n",
       "       datetime.date(2020, 11, 5), datetime.date(2020, 11, 6),\n",
       "       datetime.date(2020, 11, 9), datetime.date(2020, 11, 10),\n",
       "       datetime.date(2020, 11, 11), datetime.date(2020, 11, 12),\n",
       "       datetime.date(2020, 11, 13), datetime.date(2020, 11, 16),\n",
       "       datetime.date(2020, 11, 17), datetime.date(2020, 11, 18),\n",
       "       datetime.date(2020, 11, 19), datetime.date(2020, 11, 20),\n",
       "       datetime.date(2020, 11, 24), datetime.date(2020, 11, 25),\n",
       "       datetime.date(2020, 11, 26), datetime.date(2020, 11, 27),\n",
       "       datetime.date(2020, 11, 30), datetime.date(2020, 12, 1),\n",
       "       datetime.date(2020, 12, 2), datetime.date(2020, 12, 3),\n",
       "       datetime.date(2020, 12, 4), datetime.date(2020, 12, 7),\n",
       "       datetime.date(2020, 12, 8), datetime.date(2020, 12, 9),\n",
       "       datetime.date(2020, 12, 10), datetime.date(2020, 12, 11),\n",
       "       datetime.date(2020, 12, 14), datetime.date(2020, 12, 15),\n",
       "       datetime.date(2020, 12, 16), datetime.date(2020, 12, 17),\n",
       "       datetime.date(2020, 12, 18), datetime.date(2020, 12, 21),\n",
       "       datetime.date(2020, 12, 22), datetime.date(2020, 12, 23),\n",
       "       datetime.date(2020, 12, 24), datetime.date(2020, 12, 25),\n",
       "       datetime.date(2020, 12, 28), datetime.date(2020, 12, 29),\n",
       "       datetime.date(2020, 12, 30), datetime.date(2020, 12, 31)],\n",
       "      dtype=object)"
      ]
     },
     "execution_count": 18,
     "metadata": {},
     "output_type": "execute_result"
    }
   ],
   "source": [
    "start_date = datetime.date(2020,11,1)\n",
    "days = 42\n",
    "\n",
    "workdays = get_workdays_number_jp(start_date, days)\n",
    "workdays"
   ]
  },
  {
   "cell_type": "markdown",
   "metadata": {},
   "source": [
    "## 既存のデータフレームから営業日・営業時間のものを取得 "
   ]
  },
  {
   "cell_type": "markdown",
   "metadata": {},
   "source": [
    "もちろん，営業日のものみ抽出・営業時間のもののみ抽出も可能である．"
   ]
  },
  {
   "cell_type": "markdown",
   "metadata": {},
   "source": [
    "デフォルトでは，東京証券取引所の営業日(土日・祝日，振替休日を除く)・営業時間(9時～11時30分，12時30分～15時)として利用できる．"
   ]
  },
  {
   "cell_type": "code",
   "execution_count": 12,
   "metadata": {
    "ExecuteTime": {
     "end_time": "2021-03-26T21:41:19.753486Z",
     "start_time": "2021-03-26T21:41:17.829064Z"
    }
   },
   "outputs": [
    {
     "data": {
      "text/html": [
       "<div>\n",
       "<style scoped>\n",
       "    .dataframe tbody tr th:only-of-type {\n",
       "        vertical-align: middle;\n",
       "    }\n",
       "\n",
       "    .dataframe tbody tr th {\n",
       "        vertical-align: top;\n",
       "    }\n",
       "\n",
       "    .dataframe thead th {\n",
       "        text-align: right;\n",
       "    }\n",
       "</style>\n",
       "<table border=\"1\" class=\"dataframe\">\n",
       "  <thead>\n",
       "    <tr style=\"text-align: right;\">\n",
       "      <th></th>\n",
       "      <th>Open_6502</th>\n",
       "      <th>High_6502</th>\n",
       "      <th>Low_6502</th>\n",
       "      <th>Close_6502</th>\n",
       "      <th>Volume_6502</th>\n",
       "    </tr>\n",
       "    <tr>\n",
       "      <th>timestamp</th>\n",
       "      <th></th>\n",
       "      <th></th>\n",
       "      <th></th>\n",
       "      <th></th>\n",
       "      <th></th>\n",
       "    </tr>\n",
       "  </thead>\n",
       "  <tbody>\n",
       "    <tr>\n",
       "      <th>2020-11-04 00:00:00+09:00</th>\n",
       "      <td>NaN</td>\n",
       "      <td>NaN</td>\n",
       "      <td>NaN</td>\n",
       "      <td>NaN</td>\n",
       "      <td>NaN</td>\n",
       "    </tr>\n",
       "    <tr>\n",
       "      <th>2020-11-04 00:01:00+09:00</th>\n",
       "      <td>NaN</td>\n",
       "      <td>NaN</td>\n",
       "      <td>NaN</td>\n",
       "      <td>NaN</td>\n",
       "      <td>NaN</td>\n",
       "    </tr>\n",
       "    <tr>\n",
       "      <th>2020-11-04 00:02:00+09:00</th>\n",
       "      <td>NaN</td>\n",
       "      <td>NaN</td>\n",
       "      <td>NaN</td>\n",
       "      <td>NaN</td>\n",
       "      <td>NaN</td>\n",
       "    </tr>\n",
       "    <tr>\n",
       "      <th>2020-11-04 00:03:00+09:00</th>\n",
       "      <td>NaN</td>\n",
       "      <td>NaN</td>\n",
       "      <td>NaN</td>\n",
       "      <td>NaN</td>\n",
       "      <td>NaN</td>\n",
       "    </tr>\n",
       "    <tr>\n",
       "      <th>2020-11-04 00:04:00+09:00</th>\n",
       "      <td>NaN</td>\n",
       "      <td>NaN</td>\n",
       "      <td>NaN</td>\n",
       "      <td>NaN</td>\n",
       "      <td>NaN</td>\n",
       "    </tr>\n",
       "    <tr>\n",
       "      <th>...</th>\n",
       "      <td>...</td>\n",
       "      <td>...</td>\n",
       "      <td>...</td>\n",
       "      <td>...</td>\n",
       "      <td>...</td>\n",
       "    </tr>\n",
       "    <tr>\n",
       "      <th>2020-11-30 23:55:00+09:00</th>\n",
       "      <td>NaN</td>\n",
       "      <td>NaN</td>\n",
       "      <td>NaN</td>\n",
       "      <td>NaN</td>\n",
       "      <td>NaN</td>\n",
       "    </tr>\n",
       "    <tr>\n",
       "      <th>2020-11-30 23:56:00+09:00</th>\n",
       "      <td>NaN</td>\n",
       "      <td>NaN</td>\n",
       "      <td>NaN</td>\n",
       "      <td>NaN</td>\n",
       "      <td>NaN</td>\n",
       "    </tr>\n",
       "    <tr>\n",
       "      <th>2020-11-30 23:57:00+09:00</th>\n",
       "      <td>NaN</td>\n",
       "      <td>NaN</td>\n",
       "      <td>NaN</td>\n",
       "      <td>NaN</td>\n",
       "      <td>NaN</td>\n",
       "    </tr>\n",
       "    <tr>\n",
       "      <th>2020-11-30 23:58:00+09:00</th>\n",
       "      <td>NaN</td>\n",
       "      <td>NaN</td>\n",
       "      <td>NaN</td>\n",
       "      <td>NaN</td>\n",
       "      <td>NaN</td>\n",
       "    </tr>\n",
       "    <tr>\n",
       "      <th>2020-11-30 23:59:00+09:00</th>\n",
       "      <td>NaN</td>\n",
       "      <td>NaN</td>\n",
       "      <td>NaN</td>\n",
       "      <td>NaN</td>\n",
       "      <td>NaN</td>\n",
       "    </tr>\n",
       "  </tbody>\n",
       "</table>\n",
       "<p>29520 rows × 5 columns</p>\n",
       "</div>"
      ],
      "text/plain": [
       "                           Open_6502  High_6502  Low_6502  Close_6502  \\\n",
       "timestamp                                                               \n",
       "2020-11-04 00:00:00+09:00        NaN        NaN       NaN         NaN   \n",
       "2020-11-04 00:01:00+09:00        NaN        NaN       NaN         NaN   \n",
       "2020-11-04 00:02:00+09:00        NaN        NaN       NaN         NaN   \n",
       "2020-11-04 00:03:00+09:00        NaN        NaN       NaN         NaN   \n",
       "2020-11-04 00:04:00+09:00        NaN        NaN       NaN         NaN   \n",
       "...                              ...        ...       ...         ...   \n",
       "2020-11-30 23:55:00+09:00        NaN        NaN       NaN         NaN   \n",
       "2020-11-30 23:56:00+09:00        NaN        NaN       NaN         NaN   \n",
       "2020-11-30 23:57:00+09:00        NaN        NaN       NaN         NaN   \n",
       "2020-11-30 23:58:00+09:00        NaN        NaN       NaN         NaN   \n",
       "2020-11-30 23:59:00+09:00        NaN        NaN       NaN         NaN   \n",
       "\n",
       "                           Volume_6502  \n",
       "timestamp                               \n",
       "2020-11-04 00:00:00+09:00          NaN  \n",
       "2020-11-04 00:01:00+09:00          NaN  \n",
       "2020-11-04 00:02:00+09:00          NaN  \n",
       "2020-11-04 00:03:00+09:00          NaN  \n",
       "2020-11-04 00:04:00+09:00          NaN  \n",
       "...                                ...  \n",
       "2020-11-30 23:55:00+09:00          NaN  \n",
       "2020-11-30 23:56:00+09:00          NaN  \n",
       "2020-11-30 23:57:00+09:00          NaN  \n",
       "2020-11-30 23:58:00+09:00          NaN  \n",
       "2020-11-30 23:59:00+09:00          NaN  \n",
       "\n",
       "[29520 rows x 5 columns]"
      ]
     },
     "execution_count": 12,
     "metadata": {},
     "output_type": "execute_result"
    }
   ],
   "source": [
    "with open(\"aware_stock_df.pickle\", \"rb\") as f:\n",
    "    aware_stock_df = pickle.load(f)\n",
    "    \n",
    "aware_stock_df"
   ]
  },
  {
   "cell_type": "code",
   "execution_count": 13,
   "metadata": {
    "ExecuteTime": {
     "end_time": "2021-03-26T21:41:21.331741Z",
     "start_time": "2021-03-26T21:41:20.984491Z"
    }
   },
   "outputs": [
    {
     "data": {
      "text/html": [
       "<div>\n",
       "<style scoped>\n",
       "    .dataframe tbody tr th:only-of-type {\n",
       "        vertical-align: middle;\n",
       "    }\n",
       "\n",
       "    .dataframe tbody tr th {\n",
       "        vertical-align: top;\n",
       "    }\n",
       "\n",
       "    .dataframe thead th {\n",
       "        text-align: right;\n",
       "    }\n",
       "</style>\n",
       "<table border=\"1\" class=\"dataframe\">\n",
       "  <thead>\n",
       "    <tr style=\"text-align: right;\">\n",
       "      <th></th>\n",
       "      <th>Open_6502</th>\n",
       "      <th>High_6502</th>\n",
       "      <th>Low_6502</th>\n",
       "      <th>Close_6502</th>\n",
       "      <th>Volume_6502</th>\n",
       "    </tr>\n",
       "    <tr>\n",
       "      <th>timestamp</th>\n",
       "      <th></th>\n",
       "      <th></th>\n",
       "      <th></th>\n",
       "      <th></th>\n",
       "      <th></th>\n",
       "    </tr>\n",
       "  </thead>\n",
       "  <tbody>\n",
       "    <tr>\n",
       "      <th>2020-11-04 09:00:00+09:00</th>\n",
       "      <td>2669.0</td>\n",
       "      <td>2670.0</td>\n",
       "      <td>2658.0</td>\n",
       "      <td>2664.0</td>\n",
       "      <td>93000.0</td>\n",
       "    </tr>\n",
       "    <tr>\n",
       "      <th>2020-11-04 09:01:00+09:00</th>\n",
       "      <td>2663.0</td>\n",
       "      <td>2664.0</td>\n",
       "      <td>2650.0</td>\n",
       "      <td>2652.0</td>\n",
       "      <td>17600.0</td>\n",
       "    </tr>\n",
       "    <tr>\n",
       "      <th>2020-11-04 09:02:00+09:00</th>\n",
       "      <td>2649.0</td>\n",
       "      <td>2655.0</td>\n",
       "      <td>2646.0</td>\n",
       "      <td>2649.0</td>\n",
       "      <td>19200.0</td>\n",
       "    </tr>\n",
       "    <tr>\n",
       "      <th>2020-11-04 09:03:00+09:00</th>\n",
       "      <td>2652.0</td>\n",
       "      <td>2670.0</td>\n",
       "      <td>2651.0</td>\n",
       "      <td>2670.0</td>\n",
       "      <td>31200.0</td>\n",
       "    </tr>\n",
       "    <tr>\n",
       "      <th>2020-11-04 09:04:00+09:00</th>\n",
       "      <td>2671.0</td>\n",
       "      <td>2674.0</td>\n",
       "      <td>2670.0</td>\n",
       "      <td>2674.0</td>\n",
       "      <td>12800.0</td>\n",
       "    </tr>\n",
       "    <tr>\n",
       "      <th>...</th>\n",
       "      <td>...</td>\n",
       "      <td>...</td>\n",
       "      <td>...</td>\n",
       "      <td>...</td>\n",
       "      <td>...</td>\n",
       "    </tr>\n",
       "    <tr>\n",
       "      <th>2020-11-30 14:55:00+09:00</th>\n",
       "      <td>2908.0</td>\n",
       "      <td>2908.0</td>\n",
       "      <td>2905.0</td>\n",
       "      <td>2905.0</td>\n",
       "      <td>26300.0</td>\n",
       "    </tr>\n",
       "    <tr>\n",
       "      <th>2020-11-30 14:56:00+09:00</th>\n",
       "      <td>2905.0</td>\n",
       "      <td>2908.0</td>\n",
       "      <td>2905.0</td>\n",
       "      <td>2907.0</td>\n",
       "      <td>21700.0</td>\n",
       "    </tr>\n",
       "    <tr>\n",
       "      <th>2020-11-30 14:57:00+09:00</th>\n",
       "      <td>2908.0</td>\n",
       "      <td>2909.0</td>\n",
       "      <td>2906.0</td>\n",
       "      <td>2907.0</td>\n",
       "      <td>27200.0</td>\n",
       "    </tr>\n",
       "    <tr>\n",
       "      <th>2020-11-30 14:58:00+09:00</th>\n",
       "      <td>2907.0</td>\n",
       "      <td>2910.0</td>\n",
       "      <td>2905.0</td>\n",
       "      <td>2908.0</td>\n",
       "      <td>42600.0</td>\n",
       "    </tr>\n",
       "    <tr>\n",
       "      <th>2020-11-30 14:59:00+09:00</th>\n",
       "      <td>2910.0</td>\n",
       "      <td>2920.0</td>\n",
       "      <td>2902.0</td>\n",
       "      <td>2920.0</td>\n",
       "      <td>146100.0</td>\n",
       "    </tr>\n",
       "  </tbody>\n",
       "</table>\n",
       "<p>5400 rows × 5 columns</p>\n",
       "</div>"
      ],
      "text/plain": [
       "                           Open_6502  High_6502  Low_6502  Close_6502  \\\n",
       "timestamp                                                               \n",
       "2020-11-04 09:00:00+09:00     2669.0     2670.0    2658.0      2664.0   \n",
       "2020-11-04 09:01:00+09:00     2663.0     2664.0    2650.0      2652.0   \n",
       "2020-11-04 09:02:00+09:00     2649.0     2655.0    2646.0      2649.0   \n",
       "2020-11-04 09:03:00+09:00     2652.0     2670.0    2651.0      2670.0   \n",
       "2020-11-04 09:04:00+09:00     2671.0     2674.0    2670.0      2674.0   \n",
       "...                              ...        ...       ...         ...   \n",
       "2020-11-30 14:55:00+09:00     2908.0     2908.0    2905.0      2905.0   \n",
       "2020-11-30 14:56:00+09:00     2905.0     2908.0    2905.0      2907.0   \n",
       "2020-11-30 14:57:00+09:00     2908.0     2909.0    2906.0      2907.0   \n",
       "2020-11-30 14:58:00+09:00     2907.0     2910.0    2905.0      2908.0   \n",
       "2020-11-30 14:59:00+09:00     2910.0     2920.0    2902.0      2920.0   \n",
       "\n",
       "                           Volume_6502  \n",
       "timestamp                               \n",
       "2020-11-04 09:00:00+09:00      93000.0  \n",
       "2020-11-04 09:01:00+09:00      17600.0  \n",
       "2020-11-04 09:02:00+09:00      19200.0  \n",
       "2020-11-04 09:03:00+09:00      31200.0  \n",
       "2020-11-04 09:04:00+09:00      12800.0  \n",
       "...                                ...  \n",
       "2020-11-30 14:55:00+09:00      26300.0  \n",
       "2020-11-30 14:56:00+09:00      21700.0  \n",
       "2020-11-30 14:57:00+09:00      27200.0  \n",
       "2020-11-30 14:58:00+09:00      42600.0  \n",
       "2020-11-30 14:59:00+09:00     146100.0  \n",
       "\n",
       "[5400 rows x 5 columns]"
      ]
     },
     "execution_count": 13,
     "metadata": {},
     "output_type": "execute_result"
    }
   ],
   "source": [
    "extracted_stock_df = extract_workdays_intraday_jp(aware_stock_df, return_as=\"df\")\n",
    "extracted_stock_df"
   ]
  },
  {
   "cell_type": "markdown",
   "metadata": {},
   "source": [
    "## Option "
   ]
  },
  {
   "cell_type": "markdown",
   "metadata": {},
   "source": [
    "### 祝日・休日の探索期間"
   ]
  },
  {
   "cell_type": "markdown",
   "metadata": {},
   "source": [
    "祝日・休日はデフォルトでは現在年の5年前から利用できる．開始・終了年はオプションから変更できる"
   ]
  },
  {
   "cell_type": "code",
   "execution_count": 14,
   "metadata": {
    "ExecuteTime": {
     "end_time": "2021-03-26T21:41:25.828042Z",
     "start_time": "2021-03-26T21:41:25.792138Z"
    }
   },
   "outputs": [
    {
     "name": "stdout",
     "output_type": "stream",
     "text": [
      "2016\n",
      "[datetime.date(2016, 1, 1) datetime.date(2016, 1, 11)\n",
      " datetime.date(2016, 2, 11) datetime.date(2016, 3, 20)\n",
      " datetime.date(2016, 3, 21)]\n",
      "2021\n",
      "[datetime.date(2021, 8, 9) datetime.date(2021, 9, 20)\n",
      " datetime.date(2021, 9, 23) datetime.date(2021, 11, 3)\n",
      " datetime.date(2021, 11, 23)]\n"
     ]
    }
   ],
   "source": [
    "# default\n",
    "print(option.holiday_start_year)\n",
    "print(option.holidays_date_array[:5])\n",
    "print(option.holiday_end_year)\n",
    "print(option.holidays_date_array[-5:])"
   ]
  },
  {
   "cell_type": "markdown",
   "metadata": {},
   "source": [
    "### バックエンド"
   ]
  },
  {
   "cell_type": "markdown",
   "metadata": {},
   "source": [
    "祝日・休日を取得する方法として，[jpholiday](https://pypi.org/project/jpholiday/)を利用するか(\"jpholiday\")，特定のcsvファイルを利用するか(\"csv\")選べる．csvは複数のパスを指定でき，\n",
    "```\n",
    "python scrape_and_make_source.py\n",
    "```\n",
    "で自動でスクレイピングできる．"
   ]
  },
  {
   "cell_type": "code",
   "execution_count": 15,
   "metadata": {
    "ExecuteTime": {
     "end_time": "2021-03-26T21:41:27.778362Z",
     "start_time": "2021-03-26T21:41:27.749442Z"
    }
   },
   "outputs": [
    {
     "name": "stdout",
     "output_type": "stream",
     "text": [
      "csv\n",
      "[WindowsPath('E:/py_workdays/source/holiday_naikaku.csv')]\n"
     ]
    }
   ],
   "source": [
    "# default\n",
    "print(option.backend)\n",
    "print(option.csv_source_paths)"
   ]
  },
  {
   "cell_type": "markdown",
   "metadata": {},
   "source": [
    "ここで，`csv_source_paths`のデフォルトは自動的にpyworkdaysのあるディレクトリのsourceディレクトリ内のholiday_naikaku.csv一つである．これは内部で`__file__`を参照しているためである．"
   ]
  },
  {
   "cell_type": "markdown",
   "metadata": {},
   "source": [
    "### 休日曜日・営業時間 "
   ]
  },
  {
   "cell_type": "markdown",
   "metadata": {},
   "source": [
    "休日とする曜日を整数で指定できる．デフォルトは土日(5,6)．営業時間は東京証券取引所のものであり，開始時間と終了時間のペアを複数指定できる．"
   ]
  },
  {
   "cell_type": "code",
   "execution_count": 16,
   "metadata": {
    "ExecuteTime": {
     "end_time": "2021-03-26T21:41:35.852574Z",
     "start_time": "2021-03-26T21:41:35.828364Z"
    }
   },
   "outputs": [
    {
     "name": "stdout",
     "output_type": "stream",
     "text": [
      "[5, 6]\n",
      "[[datetime.time(9, 0), datetime.time(11, 30)], [datetime.time(12, 30), datetime.time(15, 0)]]\n"
     ]
    }
   ],
   "source": [
    "# default\n",
    "print(option.holiday_weekdays)\n",
    "print(option.intraday_borders)"
   ]
  },
  {
   "cell_type": "markdown",
   "metadata": {},
   "source": [
    "### Optionの変更 "
   ]
  },
  {
   "cell_type": "markdown",
   "metadata": {},
   "source": [
    "下の例では代入しているが，リストの場合はappendでもよい．値の型を間違えると，関数の利用時にエラーが出る．optionの値を初期化したいときは`option.__init__()`を呼べばよい．"
   ]
  },
  {
   "cell_type": "code",
   "execution_count": 17,
   "metadata": {
    "ExecuteTime": {
     "end_time": "2021-03-26T21:41:39.250684Z",
     "start_time": "2021-03-26T21:41:39.227744Z"
    }
   },
   "outputs": [],
   "source": [
    "option.intraday_borders = [[datetime.time(9, 0), datetime.time(13, 0)],]"
   ]
  },
  {
   "cell_type": "code",
   "execution_count": 18,
   "metadata": {
    "ExecuteTime": {
     "end_time": "2021-03-26T21:41:40.089044Z",
     "start_time": "2021-03-26T21:41:39.925956Z"
    }
   },
   "outputs": [
    {
     "data": {
      "text/html": [
       "<div>\n",
       "<style scoped>\n",
       "    .dataframe tbody tr th:only-of-type {\n",
       "        vertical-align: middle;\n",
       "    }\n",
       "\n",
       "    .dataframe tbody tr th {\n",
       "        vertical-align: top;\n",
       "    }\n",
       "\n",
       "    .dataframe thead th {\n",
       "        text-align: right;\n",
       "    }\n",
       "</style>\n",
       "<table border=\"1\" class=\"dataframe\">\n",
       "  <thead>\n",
       "    <tr style=\"text-align: right;\">\n",
       "      <th></th>\n",
       "      <th>Open_6502</th>\n",
       "      <th>High_6502</th>\n",
       "      <th>Low_6502</th>\n",
       "      <th>Close_6502</th>\n",
       "      <th>Volume_6502</th>\n",
       "    </tr>\n",
       "    <tr>\n",
       "      <th>timestamp</th>\n",
       "      <th></th>\n",
       "      <th></th>\n",
       "      <th></th>\n",
       "      <th></th>\n",
       "      <th></th>\n",
       "    </tr>\n",
       "  </thead>\n",
       "  <tbody>\n",
       "    <tr>\n",
       "      <th>2020-11-04 12:00:00+09:00</th>\n",
       "      <td>NaN</td>\n",
       "      <td>NaN</td>\n",
       "      <td>NaN</td>\n",
       "      <td>NaN</td>\n",
       "      <td>NaN</td>\n",
       "    </tr>\n",
       "    <tr>\n",
       "      <th>2020-11-05 12:00:00+09:00</th>\n",
       "      <td>NaN</td>\n",
       "      <td>NaN</td>\n",
       "      <td>NaN</td>\n",
       "      <td>NaN</td>\n",
       "      <td>NaN</td>\n",
       "    </tr>\n",
       "    <tr>\n",
       "      <th>2020-11-06 12:00:00+09:00</th>\n",
       "      <td>NaN</td>\n",
       "      <td>NaN</td>\n",
       "      <td>NaN</td>\n",
       "      <td>NaN</td>\n",
       "      <td>NaN</td>\n",
       "    </tr>\n",
       "    <tr>\n",
       "      <th>2020-11-09 12:00:00+09:00</th>\n",
       "      <td>NaN</td>\n",
       "      <td>NaN</td>\n",
       "      <td>NaN</td>\n",
       "      <td>NaN</td>\n",
       "      <td>NaN</td>\n",
       "    </tr>\n",
       "    <tr>\n",
       "      <th>2020-11-10 12:00:00+09:00</th>\n",
       "      <td>NaN</td>\n",
       "      <td>NaN</td>\n",
       "      <td>NaN</td>\n",
       "      <td>NaN</td>\n",
       "      <td>NaN</td>\n",
       "    </tr>\n",
       "    <tr>\n",
       "      <th>2020-11-11 12:00:00+09:00</th>\n",
       "      <td>NaN</td>\n",
       "      <td>NaN</td>\n",
       "      <td>NaN</td>\n",
       "      <td>NaN</td>\n",
       "      <td>NaN</td>\n",
       "    </tr>\n",
       "    <tr>\n",
       "      <th>2020-11-12 12:00:00+09:00</th>\n",
       "      <td>NaN</td>\n",
       "      <td>NaN</td>\n",
       "      <td>NaN</td>\n",
       "      <td>NaN</td>\n",
       "      <td>NaN</td>\n",
       "    </tr>\n",
       "    <tr>\n",
       "      <th>2020-11-13 12:00:00+09:00</th>\n",
       "      <td>NaN</td>\n",
       "      <td>NaN</td>\n",
       "      <td>NaN</td>\n",
       "      <td>NaN</td>\n",
       "      <td>NaN</td>\n",
       "    </tr>\n",
       "    <tr>\n",
       "      <th>2020-11-16 12:00:00+09:00</th>\n",
       "      <td>NaN</td>\n",
       "      <td>NaN</td>\n",
       "      <td>NaN</td>\n",
       "      <td>NaN</td>\n",
       "      <td>NaN</td>\n",
       "    </tr>\n",
       "    <tr>\n",
       "      <th>2020-11-17 12:00:00+09:00</th>\n",
       "      <td>NaN</td>\n",
       "      <td>NaN</td>\n",
       "      <td>NaN</td>\n",
       "      <td>NaN</td>\n",
       "      <td>NaN</td>\n",
       "    </tr>\n",
       "    <tr>\n",
       "      <th>2020-11-18 12:00:00+09:00</th>\n",
       "      <td>NaN</td>\n",
       "      <td>NaN</td>\n",
       "      <td>NaN</td>\n",
       "      <td>NaN</td>\n",
       "      <td>NaN</td>\n",
       "    </tr>\n",
       "    <tr>\n",
       "      <th>2020-11-19 12:00:00+09:00</th>\n",
       "      <td>NaN</td>\n",
       "      <td>NaN</td>\n",
       "      <td>NaN</td>\n",
       "      <td>NaN</td>\n",
       "      <td>NaN</td>\n",
       "    </tr>\n",
       "    <tr>\n",
       "      <th>2020-11-20 12:00:00+09:00</th>\n",
       "      <td>NaN</td>\n",
       "      <td>NaN</td>\n",
       "      <td>NaN</td>\n",
       "      <td>NaN</td>\n",
       "      <td>NaN</td>\n",
       "    </tr>\n",
       "    <tr>\n",
       "      <th>2020-11-24 12:00:00+09:00</th>\n",
       "      <td>NaN</td>\n",
       "      <td>NaN</td>\n",
       "      <td>NaN</td>\n",
       "      <td>NaN</td>\n",
       "      <td>NaN</td>\n",
       "    </tr>\n",
       "    <tr>\n",
       "      <th>2020-11-25 12:00:00+09:00</th>\n",
       "      <td>NaN</td>\n",
       "      <td>NaN</td>\n",
       "      <td>NaN</td>\n",
       "      <td>NaN</td>\n",
       "      <td>NaN</td>\n",
       "    </tr>\n",
       "    <tr>\n",
       "      <th>2020-11-26 12:00:00+09:00</th>\n",
       "      <td>NaN</td>\n",
       "      <td>NaN</td>\n",
       "      <td>NaN</td>\n",
       "      <td>NaN</td>\n",
       "      <td>NaN</td>\n",
       "    </tr>\n",
       "    <tr>\n",
       "      <th>2020-11-27 12:00:00+09:00</th>\n",
       "      <td>NaN</td>\n",
       "      <td>NaN</td>\n",
       "      <td>NaN</td>\n",
       "      <td>NaN</td>\n",
       "      <td>NaN</td>\n",
       "    </tr>\n",
       "    <tr>\n",
       "      <th>2020-11-30 12:00:00+09:00</th>\n",
       "      <td>NaN</td>\n",
       "      <td>NaN</td>\n",
       "      <td>NaN</td>\n",
       "      <td>NaN</td>\n",
       "      <td>NaN</td>\n",
       "    </tr>\n",
       "  </tbody>\n",
       "</table>\n",
       "</div>"
      ],
      "text/plain": [
       "                           Open_6502  High_6502  Low_6502  Close_6502  \\\n",
       "timestamp                                                               \n",
       "2020-11-04 12:00:00+09:00        NaN        NaN       NaN         NaN   \n",
       "2020-11-05 12:00:00+09:00        NaN        NaN       NaN         NaN   \n",
       "2020-11-06 12:00:00+09:00        NaN        NaN       NaN         NaN   \n",
       "2020-11-09 12:00:00+09:00        NaN        NaN       NaN         NaN   \n",
       "2020-11-10 12:00:00+09:00        NaN        NaN       NaN         NaN   \n",
       "2020-11-11 12:00:00+09:00        NaN        NaN       NaN         NaN   \n",
       "2020-11-12 12:00:00+09:00        NaN        NaN       NaN         NaN   \n",
       "2020-11-13 12:00:00+09:00        NaN        NaN       NaN         NaN   \n",
       "2020-11-16 12:00:00+09:00        NaN        NaN       NaN         NaN   \n",
       "2020-11-17 12:00:00+09:00        NaN        NaN       NaN         NaN   \n",
       "2020-11-18 12:00:00+09:00        NaN        NaN       NaN         NaN   \n",
       "2020-11-19 12:00:00+09:00        NaN        NaN       NaN         NaN   \n",
       "2020-11-20 12:00:00+09:00        NaN        NaN       NaN         NaN   \n",
       "2020-11-24 12:00:00+09:00        NaN        NaN       NaN         NaN   \n",
       "2020-11-25 12:00:00+09:00        NaN        NaN       NaN         NaN   \n",
       "2020-11-26 12:00:00+09:00        NaN        NaN       NaN         NaN   \n",
       "2020-11-27 12:00:00+09:00        NaN        NaN       NaN         NaN   \n",
       "2020-11-30 12:00:00+09:00        NaN        NaN       NaN         NaN   \n",
       "\n",
       "                           Volume_6502  \n",
       "timestamp                               \n",
       "2020-11-04 12:00:00+09:00          NaN  \n",
       "2020-11-05 12:00:00+09:00          NaN  \n",
       "2020-11-06 12:00:00+09:00          NaN  \n",
       "2020-11-09 12:00:00+09:00          NaN  \n",
       "2020-11-10 12:00:00+09:00          NaN  \n",
       "2020-11-11 12:00:00+09:00          NaN  \n",
       "2020-11-12 12:00:00+09:00          NaN  \n",
       "2020-11-13 12:00:00+09:00          NaN  \n",
       "2020-11-16 12:00:00+09:00          NaN  \n",
       "2020-11-17 12:00:00+09:00          NaN  \n",
       "2020-11-18 12:00:00+09:00          NaN  \n",
       "2020-11-19 12:00:00+09:00          NaN  \n",
       "2020-11-20 12:00:00+09:00          NaN  \n",
       "2020-11-24 12:00:00+09:00          NaN  \n",
       "2020-11-25 12:00:00+09:00          NaN  \n",
       "2020-11-26 12:00:00+09:00          NaN  \n",
       "2020-11-27 12:00:00+09:00          NaN  \n",
       "2020-11-30 12:00:00+09:00          NaN  "
      ]
     },
     "execution_count": 18,
     "metadata": {},
     "output_type": "execute_result"
    }
   ],
   "source": [
    "extracted_stock_df = extract_workdays_intraday_jp(aware_stock_df, return_as=\"df\")\n",
    "extracted_stock_df.at_time(datetime.time(12,0))"
   ]
  }
 ],
 "metadata": {
  "kernelspec": {
   "display_name": "torch_py37",
   "language": "python",
   "name": "torch_py37"
  },
  "toc": {
   "base_numbering": 1,
   "nav_menu": {},
   "number_sections": true,
   "sideBar": true,
   "skip_h1_title": true,
   "title_cell": "Table of Contents",
   "title_sidebar": "Contents",
   "toc_cell": false,
   "toc_position": {},
   "toc_section_display": true,
   "toc_window_display": false
  }
 },
 "nbformat": 4,
 "nbformat_minor": 4
}

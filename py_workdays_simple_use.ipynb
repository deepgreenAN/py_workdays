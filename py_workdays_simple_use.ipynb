{
 "cells": [
  {
   "cell_type": "code",
   "execution_count": 7,
   "metadata": {
    "ExecuteTime": {
     "end_time": "2020-12-31T20:58:48.417302Z",
     "start_time": "2020-12-31T20:58:48.407327Z"
    }
   },
   "outputs": [],
   "source": [
    "import datetime\n",
    "import pickle"
   ]
  },
  {
   "cell_type": "code",
   "execution_count": 2,
   "metadata": {
    "ExecuteTime": {
     "end_time": "2020-12-31T20:54:25.825686Z",
     "start_time": "2020-12-31T20:54:23.629564Z"
    }
   },
   "outputs": [],
   "source": [
    "from py_workdays import get_workdays_jp, check_workday_jp, extract_workdays_jp, extract_workdays_intraday_jp, option"
   ]
  },
  {
   "cell_type": "markdown",
   "metadata": {},
   "source": [
    "### 営業日を取得"
   ]
  },
  {
   "cell_type": "code",
   "execution_count": 6,
   "metadata": {
    "ExecuteTime": {
     "end_time": "2020-12-31T20:56:07.478750Z",
     "start_time": "2020-12-31T20:56:07.441849Z"
    }
   },
   "outputs": [
    {
     "data": {
      "text/plain": [
       "array([datetime.date(2020, 11, 2), datetime.date(2020, 11, 4),\n",
       "       datetime.date(2020, 11, 5), datetime.date(2020, 11, 6),\n",
       "       datetime.date(2020, 11, 9), datetime.date(2020, 11, 10),\n",
       "       datetime.date(2020, 11, 11), datetime.date(2020, 11, 12),\n",
       "       datetime.date(2020, 11, 13), datetime.date(2020, 11, 16),\n",
       "       datetime.date(2020, 11, 17), datetime.date(2020, 11, 18),\n",
       "       datetime.date(2020, 11, 19), datetime.date(2020, 11, 20),\n",
       "       datetime.date(2020, 11, 24), datetime.date(2020, 11, 25),\n",
       "       datetime.date(2020, 11, 26), datetime.date(2020, 11, 27),\n",
       "       datetime.date(2020, 11, 30), datetime.date(2020, 12, 1),\n",
       "       datetime.date(2020, 12, 2), datetime.date(2020, 12, 3),\n",
       "       datetime.date(2020, 12, 4), datetime.date(2020, 12, 7),\n",
       "       datetime.date(2020, 12, 8), datetime.date(2020, 12, 9),\n",
       "       datetime.date(2020, 12, 10), datetime.date(2020, 12, 11),\n",
       "       datetime.date(2020, 12, 14), datetime.date(2020, 12, 15),\n",
       "       datetime.date(2020, 12, 16), datetime.date(2020, 12, 17),\n",
       "       datetime.date(2020, 12, 18), datetime.date(2020, 12, 21),\n",
       "       datetime.date(2020, 12, 22), datetime.date(2020, 12, 23),\n",
       "       datetime.date(2020, 12, 24), datetime.date(2020, 12, 25),\n",
       "       datetime.date(2020, 12, 28), datetime.date(2020, 12, 29),\n",
       "       datetime.date(2020, 12, 30), datetime.date(2020, 12, 31)],\n",
       "      dtype=object)"
      ]
     },
     "execution_count": 6,
     "metadata": {},
     "output_type": "execute_result"
    }
   ],
   "source": [
    "start_date = datetime.date(2020,11,1)\n",
    "end_date = datetime.date(2021,1,1)\n",
    "\n",
    "get_workdays_jp(start_date, end_date, return_as=\"date\")"
   ]
  },
  {
   "cell_type": "markdown",
   "metadata": {},
   "source": [
    "### 営業日かどうか判定 "
   ]
  },
  {
   "cell_type": "code",
   "execution_count": 5,
   "metadata": {
    "ExecuteTime": {
     "end_time": "2020-12-31T20:55:33.965376Z",
     "start_time": "2020-12-31T20:55:33.943437Z"
    }
   },
   "outputs": [
    {
     "data": {
      "text/plain": [
       "False"
      ]
     },
     "execution_count": 5,
     "metadata": {},
     "output_type": "execute_result"
    }
   ],
   "source": [
    "select_date = datetime.date(2020,1,1)\n",
    "\n",
    "check_workday_jp(select_date)"
   ]
  },
  {
   "cell_type": "markdown",
   "metadata": {},
   "source": [
    "### 既存のデータフレームから営業日・営業時間(東京証券取引所)のものを取得 "
   ]
  },
  {
   "cell_type": "code",
   "execution_count": 8,
   "metadata": {
    "ExecuteTime": {
     "end_time": "2020-12-31T20:59:39.028886Z",
     "start_time": "2020-12-31T20:59:37.857022Z"
    }
   },
   "outputs": [
    {
     "data": {
      "text/html": [
       "<div>\n",
       "<style scoped>\n",
       "    .dataframe tbody tr th:only-of-type {\n",
       "        vertical-align: middle;\n",
       "    }\n",
       "\n",
       "    .dataframe tbody tr th {\n",
       "        vertical-align: top;\n",
       "    }\n",
       "\n",
       "    .dataframe thead th {\n",
       "        text-align: right;\n",
       "    }\n",
       "</style>\n",
       "<table border=\"1\" class=\"dataframe\">\n",
       "  <thead>\n",
       "    <tr style=\"text-align: right;\">\n",
       "      <th></th>\n",
       "      <th>Open_6502</th>\n",
       "      <th>High_6502</th>\n",
       "      <th>Low_6502</th>\n",
       "      <th>Close_6502</th>\n",
       "      <th>Volume_6502</th>\n",
       "    </tr>\n",
       "    <tr>\n",
       "      <th>timestamp</th>\n",
       "      <th></th>\n",
       "      <th></th>\n",
       "      <th></th>\n",
       "      <th></th>\n",
       "      <th></th>\n",
       "    </tr>\n",
       "  </thead>\n",
       "  <tbody>\n",
       "    <tr>\n",
       "      <th>2020-11-04 00:00:00+09:00</th>\n",
       "      <td>NaN</td>\n",
       "      <td>NaN</td>\n",
       "      <td>NaN</td>\n",
       "      <td>NaN</td>\n",
       "      <td>NaN</td>\n",
       "    </tr>\n",
       "    <tr>\n",
       "      <th>2020-11-04 00:01:00+09:00</th>\n",
       "      <td>NaN</td>\n",
       "      <td>NaN</td>\n",
       "      <td>NaN</td>\n",
       "      <td>NaN</td>\n",
       "      <td>NaN</td>\n",
       "    </tr>\n",
       "    <tr>\n",
       "      <th>2020-11-04 00:02:00+09:00</th>\n",
       "      <td>NaN</td>\n",
       "      <td>NaN</td>\n",
       "      <td>NaN</td>\n",
       "      <td>NaN</td>\n",
       "      <td>NaN</td>\n",
       "    </tr>\n",
       "    <tr>\n",
       "      <th>2020-11-04 00:03:00+09:00</th>\n",
       "      <td>NaN</td>\n",
       "      <td>NaN</td>\n",
       "      <td>NaN</td>\n",
       "      <td>NaN</td>\n",
       "      <td>NaN</td>\n",
       "    </tr>\n",
       "    <tr>\n",
       "      <th>2020-11-04 00:04:00+09:00</th>\n",
       "      <td>NaN</td>\n",
       "      <td>NaN</td>\n",
       "      <td>NaN</td>\n",
       "      <td>NaN</td>\n",
       "      <td>NaN</td>\n",
       "    </tr>\n",
       "    <tr>\n",
       "      <th>...</th>\n",
       "      <td>...</td>\n",
       "      <td>...</td>\n",
       "      <td>...</td>\n",
       "      <td>...</td>\n",
       "      <td>...</td>\n",
       "    </tr>\n",
       "    <tr>\n",
       "      <th>2020-11-30 23:55:00+09:00</th>\n",
       "      <td>NaN</td>\n",
       "      <td>NaN</td>\n",
       "      <td>NaN</td>\n",
       "      <td>NaN</td>\n",
       "      <td>NaN</td>\n",
       "    </tr>\n",
       "    <tr>\n",
       "      <th>2020-11-30 23:56:00+09:00</th>\n",
       "      <td>NaN</td>\n",
       "      <td>NaN</td>\n",
       "      <td>NaN</td>\n",
       "      <td>NaN</td>\n",
       "      <td>NaN</td>\n",
       "    </tr>\n",
       "    <tr>\n",
       "      <th>2020-11-30 23:57:00+09:00</th>\n",
       "      <td>NaN</td>\n",
       "      <td>NaN</td>\n",
       "      <td>NaN</td>\n",
       "      <td>NaN</td>\n",
       "      <td>NaN</td>\n",
       "    </tr>\n",
       "    <tr>\n",
       "      <th>2020-11-30 23:58:00+09:00</th>\n",
       "      <td>NaN</td>\n",
       "      <td>NaN</td>\n",
       "      <td>NaN</td>\n",
       "      <td>NaN</td>\n",
       "      <td>NaN</td>\n",
       "    </tr>\n",
       "    <tr>\n",
       "      <th>2020-11-30 23:59:00+09:00</th>\n",
       "      <td>NaN</td>\n",
       "      <td>NaN</td>\n",
       "      <td>NaN</td>\n",
       "      <td>NaN</td>\n",
       "      <td>NaN</td>\n",
       "    </tr>\n",
       "  </tbody>\n",
       "</table>\n",
       "<p>29520 rows × 5 columns</p>\n",
       "</div>"
      ],
      "text/plain": [
       "                           Open_6502  High_6502  Low_6502  Close_6502  \\\n",
       "timestamp                                                               \n",
       "2020-11-04 00:00:00+09:00        NaN        NaN       NaN         NaN   \n",
       "2020-11-04 00:01:00+09:00        NaN        NaN       NaN         NaN   \n",
       "2020-11-04 00:02:00+09:00        NaN        NaN       NaN         NaN   \n",
       "2020-11-04 00:03:00+09:00        NaN        NaN       NaN         NaN   \n",
       "2020-11-04 00:04:00+09:00        NaN        NaN       NaN         NaN   \n",
       "...                              ...        ...       ...         ...   \n",
       "2020-11-30 23:55:00+09:00        NaN        NaN       NaN         NaN   \n",
       "2020-11-30 23:56:00+09:00        NaN        NaN       NaN         NaN   \n",
       "2020-11-30 23:57:00+09:00        NaN        NaN       NaN         NaN   \n",
       "2020-11-30 23:58:00+09:00        NaN        NaN       NaN         NaN   \n",
       "2020-11-30 23:59:00+09:00        NaN        NaN       NaN         NaN   \n",
       "\n",
       "                           Volume_6502  \n",
       "timestamp                               \n",
       "2020-11-04 00:00:00+09:00          NaN  \n",
       "2020-11-04 00:01:00+09:00          NaN  \n",
       "2020-11-04 00:02:00+09:00          NaN  \n",
       "2020-11-04 00:03:00+09:00          NaN  \n",
       "2020-11-04 00:04:00+09:00          NaN  \n",
       "...                                ...  \n",
       "2020-11-30 23:55:00+09:00          NaN  \n",
       "2020-11-30 23:56:00+09:00          NaN  \n",
       "2020-11-30 23:57:00+09:00          NaN  \n",
       "2020-11-30 23:58:00+09:00          NaN  \n",
       "2020-11-30 23:59:00+09:00          NaN  \n",
       "\n",
       "[29520 rows x 5 columns]"
      ]
     },
     "execution_count": 8,
     "metadata": {},
     "output_type": "execute_result"
    }
   ],
   "source": [
    "with open(\"aware_stock_df.pickle\", \"rb\") as f:\n",
    "    aware_stock_df = pickle.load(f)\n",
    "    \n",
    "aware_stock_df"
   ]
  },
  {
   "cell_type": "code",
   "execution_count": 9,
   "metadata": {
    "ExecuteTime": {
     "end_time": "2020-12-31T21:00:25.977275Z",
     "start_time": "2020-12-31T21:00:25.794767Z"
    }
   },
   "outputs": [
    {
     "data": {
      "text/html": [
       "<div>\n",
       "<style scoped>\n",
       "    .dataframe tbody tr th:only-of-type {\n",
       "        vertical-align: middle;\n",
       "    }\n",
       "\n",
       "    .dataframe tbody tr th {\n",
       "        vertical-align: top;\n",
       "    }\n",
       "\n",
       "    .dataframe thead th {\n",
       "        text-align: right;\n",
       "    }\n",
       "</style>\n",
       "<table border=\"1\" class=\"dataframe\">\n",
       "  <thead>\n",
       "    <tr style=\"text-align: right;\">\n",
       "      <th></th>\n",
       "      <th>Open_6502</th>\n",
       "      <th>High_6502</th>\n",
       "      <th>Low_6502</th>\n",
       "      <th>Close_6502</th>\n",
       "      <th>Volume_6502</th>\n",
       "    </tr>\n",
       "    <tr>\n",
       "      <th>timestamp</th>\n",
       "      <th></th>\n",
       "      <th></th>\n",
       "      <th></th>\n",
       "      <th></th>\n",
       "      <th></th>\n",
       "    </tr>\n",
       "  </thead>\n",
       "  <tbody>\n",
       "    <tr>\n",
       "      <th>2020-11-04 09:00:00+09:00</th>\n",
       "      <td>2669.0</td>\n",
       "      <td>2670.0</td>\n",
       "      <td>2658.0</td>\n",
       "      <td>2664.0</td>\n",
       "      <td>93000.0</td>\n",
       "    </tr>\n",
       "    <tr>\n",
       "      <th>2020-11-04 09:01:00+09:00</th>\n",
       "      <td>2663.0</td>\n",
       "      <td>2664.0</td>\n",
       "      <td>2650.0</td>\n",
       "      <td>2652.0</td>\n",
       "      <td>17600.0</td>\n",
       "    </tr>\n",
       "    <tr>\n",
       "      <th>2020-11-04 09:02:00+09:00</th>\n",
       "      <td>2649.0</td>\n",
       "      <td>2655.0</td>\n",
       "      <td>2646.0</td>\n",
       "      <td>2649.0</td>\n",
       "      <td>19200.0</td>\n",
       "    </tr>\n",
       "    <tr>\n",
       "      <th>2020-11-04 09:03:00+09:00</th>\n",
       "      <td>2652.0</td>\n",
       "      <td>2670.0</td>\n",
       "      <td>2651.0</td>\n",
       "      <td>2670.0</td>\n",
       "      <td>31200.0</td>\n",
       "    </tr>\n",
       "    <tr>\n",
       "      <th>2020-11-04 09:04:00+09:00</th>\n",
       "      <td>2671.0</td>\n",
       "      <td>2674.0</td>\n",
       "      <td>2670.0</td>\n",
       "      <td>2674.0</td>\n",
       "      <td>12800.0</td>\n",
       "    </tr>\n",
       "    <tr>\n",
       "      <th>...</th>\n",
       "      <td>...</td>\n",
       "      <td>...</td>\n",
       "      <td>...</td>\n",
       "      <td>...</td>\n",
       "      <td>...</td>\n",
       "    </tr>\n",
       "    <tr>\n",
       "      <th>2020-11-30 14:55:00+09:00</th>\n",
       "      <td>2908.0</td>\n",
       "      <td>2908.0</td>\n",
       "      <td>2905.0</td>\n",
       "      <td>2905.0</td>\n",
       "      <td>26300.0</td>\n",
       "    </tr>\n",
       "    <tr>\n",
       "      <th>2020-11-30 14:56:00+09:00</th>\n",
       "      <td>2905.0</td>\n",
       "      <td>2908.0</td>\n",
       "      <td>2905.0</td>\n",
       "      <td>2907.0</td>\n",
       "      <td>21700.0</td>\n",
       "    </tr>\n",
       "    <tr>\n",
       "      <th>2020-11-30 14:57:00+09:00</th>\n",
       "      <td>2908.0</td>\n",
       "      <td>2909.0</td>\n",
       "      <td>2906.0</td>\n",
       "      <td>2907.0</td>\n",
       "      <td>27200.0</td>\n",
       "    </tr>\n",
       "    <tr>\n",
       "      <th>2020-11-30 14:58:00+09:00</th>\n",
       "      <td>2907.0</td>\n",
       "      <td>2910.0</td>\n",
       "      <td>2905.0</td>\n",
       "      <td>2908.0</td>\n",
       "      <td>42600.0</td>\n",
       "    </tr>\n",
       "    <tr>\n",
       "      <th>2020-11-30 14:59:00+09:00</th>\n",
       "      <td>2910.0</td>\n",
       "      <td>2920.0</td>\n",
       "      <td>2902.0</td>\n",
       "      <td>2920.0</td>\n",
       "      <td>146100.0</td>\n",
       "    </tr>\n",
       "  </tbody>\n",
       "</table>\n",
       "<p>5400 rows × 5 columns</p>\n",
       "</div>"
      ],
      "text/plain": [
       "                           Open_6502  High_6502  Low_6502  Close_6502  \\\n",
       "timestamp                                                               \n",
       "2020-11-04 09:00:00+09:00     2669.0     2670.0    2658.0      2664.0   \n",
       "2020-11-04 09:01:00+09:00     2663.0     2664.0    2650.0      2652.0   \n",
       "2020-11-04 09:02:00+09:00     2649.0     2655.0    2646.0      2649.0   \n",
       "2020-11-04 09:03:00+09:00     2652.0     2670.0    2651.0      2670.0   \n",
       "2020-11-04 09:04:00+09:00     2671.0     2674.0    2670.0      2674.0   \n",
       "...                              ...        ...       ...         ...   \n",
       "2020-11-30 14:55:00+09:00     2908.0     2908.0    2905.0      2905.0   \n",
       "2020-11-30 14:56:00+09:00     2905.0     2908.0    2905.0      2907.0   \n",
       "2020-11-30 14:57:00+09:00     2908.0     2909.0    2906.0      2907.0   \n",
       "2020-11-30 14:58:00+09:00     2907.0     2910.0    2905.0      2908.0   \n",
       "2020-11-30 14:59:00+09:00     2910.0     2920.0    2902.0      2920.0   \n",
       "\n",
       "                           Volume_6502  \n",
       "timestamp                               \n",
       "2020-11-04 09:00:00+09:00      93000.0  \n",
       "2020-11-04 09:01:00+09:00      17600.0  \n",
       "2020-11-04 09:02:00+09:00      19200.0  \n",
       "2020-11-04 09:03:00+09:00      31200.0  \n",
       "2020-11-04 09:04:00+09:00      12800.0  \n",
       "...                                ...  \n",
       "2020-11-30 14:55:00+09:00      26300.0  \n",
       "2020-11-30 14:56:00+09:00      21700.0  \n",
       "2020-11-30 14:57:00+09:00      27200.0  \n",
       "2020-11-30 14:58:00+09:00      42600.0  \n",
       "2020-11-30 14:59:00+09:00     146100.0  \n",
       "\n",
       "[5400 rows x 5 columns]"
      ]
     },
     "execution_count": 9,
     "metadata": {},
     "output_type": "execute_result"
    }
   ],
   "source": [
    "extracted_stock_df = extract_workdays_intraday_jp(aware_stock_df, return_as=\"df\")\n",
    "extracted_stock_df"
   ]
  },
  {
   "cell_type": "markdown",
   "metadata": {},
   "source": [
    "### 休日の探索期間"
   ]
  },
  {
   "cell_type": "markdown",
   "metadata": {},
   "source": [
    "休日はデフォルトでは2015年から2021年のものを利用できる．オプションから変更できる"
   ]
  },
  {
   "cell_type": "code",
   "execution_count": 12,
   "metadata": {
    "ExecuteTime": {
     "end_time": "2020-12-31T21:04:05.143934Z",
     "start_time": "2020-12-31T21:04:05.127976Z"
    }
   },
   "outputs": [
    {
     "data": {
      "text/plain": [
       "array([datetime.date(2015, 1, 1), datetime.date(2015, 1, 12),\n",
       "       datetime.date(2015, 2, 11), datetime.date(2015, 3, 21),\n",
       "       datetime.date(2015, 4, 29)], dtype=object)"
      ]
     },
     "execution_count": 12,
     "metadata": {},
     "output_type": "execute_result"
    }
   ],
   "source": [
    "# default\n",
    "option.holidays_date_array[:5]"
   ]
  },
  {
   "cell_type": "code",
   "execution_count": 14,
   "metadata": {
    "ExecuteTime": {
     "end_time": "2020-12-31T21:04:36.881019Z",
     "start_time": "2020-12-31T21:04:33.678588Z"
    }
   },
   "outputs": [
    {
     "data": {
      "text/plain": [
       "array([datetime.date(2000, 1, 1), datetime.date(2000, 1, 10),\n",
       "       datetime.date(2000, 2, 11), datetime.date(2000, 3, 20),\n",
       "       datetime.date(2000, 4, 29)], dtype=object)"
      ]
     },
     "execution_count": 14,
     "metadata": {},
     "output_type": "execute_result"
    }
   ],
   "source": [
    "option.holiday_start_year = 2000\n",
    "option.holidays_date_array[:5]"
   ]
  }
 ],
 "metadata": {
  "kernelspec": {
   "display_name": "torch_py37",
   "language": "python",
   "name": "torch_py37"
  },
  "language_info": {
   "codemirror_mode": {
    "name": "ipython",
    "version": 3
   },
   "file_extension": ".py",
   "mimetype": "text/x-python",
   "name": "python",
   "nbconvert_exporter": "python",
   "pygments_lexer": "ipython3",
   "version": "3.7.4"
  },
  "toc": {
   "base_numbering": 1,
   "nav_menu": {},
   "number_sections": true,
   "sideBar": true,
   "skip_h1_title": true,
   "title_cell": "Table of Contents",
   "title_sidebar": "Contents",
   "toc_cell": false,
   "toc_position": {},
   "toc_section_display": true,
   "toc_window_display": false
  }
 },
 "nbformat": 4,
 "nbformat_minor": 4
}

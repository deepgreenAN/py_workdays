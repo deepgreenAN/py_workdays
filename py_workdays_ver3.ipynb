{
 "cells": [
  {
   "cell_type": "markdown",
   "metadata": {},
   "source": [
    "# 特定の日時のリストを取得する "
   ]
  },
  {
   "cell_type": "code",
   "execution_count": 1,
   "metadata": {
    "ExecuteTime": {
     "end_time": "2021-03-26T19:31:52.214655Z",
     "start_time": "2021-03-26T19:31:52.109228Z"
    }
   },
   "outputs": [],
   "source": [
    "import jpholiday\n",
    "from pytz import timezone, utc\n",
    "import datetime\n",
    "import pickle\n",
    "from pathlib import Path"
   ]
  },
  {
   "cell_type": "code",
   "execution_count": 2,
   "metadata": {
    "ExecuteTime": {
     "end_time": "2021-03-26T19:31:56.244490Z",
     "start_time": "2021-03-26T19:31:52.225606Z"
    }
   },
   "outputs": [],
   "source": [
    "import numpy as np\n",
    "import pandas as pd"
   ]
  },
  {
   "cell_type": "code",
   "execution_count": 3,
   "metadata": {
    "ExecuteTime": {
     "end_time": "2021-03-26T19:31:56.382890Z",
     "start_time": "2021-03-26T19:31:56.257457Z"
    }
   },
   "outputs": [],
   "source": [
    "def check_jst_datetimes_to_naive(*arg_datetimes):\n",
    "    \"\"\"\n",
    "    ＊*今のところ，ローカルが東京でないnaiveなdatetimeはそのまま通してしまう\n",
    "    引数のタイムゾーンが同じかどうかチェックし，存在するなら日本であるかチェック\n",
    "    awareな場合は，naiveに変更\n",
    "    \"\"\"\n",
    "    jst_timezone = timezone(\"Asia/Tokyo\")\n",
    "    tz_info_set = set([one_datetime.tzinfo for one_datetime in arg_datetimes])\n",
    "    if len(tz_info_set) > 1:\n",
    "        raise Exception(\"timezones are different\")\n",
    "        \n",
    "    datetimes_tzinfo = list(tz_info_set)[0]\n",
    "    \n",
    "    if datetimes_tzinfo is not None:  # 長さが1のはず\n",
    "        if timezone(str(datetimes_tzinfo)) != jst_timezone:\n",
    "            raise Exception(\"timezones must be Asia/Tokyo\")\n",
    "        # naiveなdatetimeに変更\n",
    "        arg_datetimes = [one_datetime.replace(tzinfo=None) for one_datetime in arg_datetimes]\n",
    "    \n",
    "    # 引数が一つであるかどうか\n",
    "    if len(arg_datetimes) > 1:  # 引数が複数の場合\n",
    "        return tuple(arg_datetimes)\n",
    "    else:  # 引数が一つの場合\n",
    "        return arg_datetimes[0]"
   ]
  },
  {
   "cell_type": "markdown",
   "metadata": {},
   "source": [
    "## 営業日・休日を取得する "
   ]
  },
  {
   "cell_type": "markdown",
   "metadata": {},
   "source": [
    "Optionの簡単化のため，HolidayGetterクラスを作成する．jpholidayを利用するものとCSVファイルを読み込むものの二つを用意する．"
   ]
  },
  {
   "cell_type": "markdown",
   "metadata": {},
   "source": [
    "### 祝日のndarrayを取得する(jpholidayを利用)"
   ]
  },
  {
   "cell_type": "markdown",
   "metadata": {},
   "source": [
    "以下はjpholidayを利用した素直な実装だが，遅い．そこで一度しか呼ばないようにすべき"
   ]
  },
  {
   "cell_type": "code",
   "execution_count": 4,
   "metadata": {
    "ExecuteTime": {
     "end_time": "2021-03-26T19:31:56.551497Z",
     "start_time": "2021-03-26T19:31:56.452233Z"
    }
   },
   "outputs": [],
   "source": [
    "class JPHolidayGetter:\n",
    "    def get_holidays(self, start_date, end_date, with_name=False):\n",
    "        \"\"\"\n",
    "        期間を指定して祝日を取得．jpholidayを利用して祝日を取得している．\n",
    "\n",
    "        start_date: datetime.date\n",
    "            開始時刻のdate\n",
    "        end_datetime: datetime.date\n",
    "            終了時刻のdate\n",
    "        with_name: bool\n",
    "            休日の名前を出力するかどうか\n",
    "        to_date: bool\n",
    "            出力をdatetime.datetimeにするかdatetime.dateにするか\n",
    "        \"\"\"\n",
    "        assert isinstance(start_date, datetime.date) and isinstance(end_date, datetime.date)\n",
    "\n",
    "        holidays_array = np.array(jpholiday.between(start_date, end_date))\n",
    "\n",
    "        if not with_name:  # 祝日名がいらない場合\n",
    "            return holidays_array[:,0].copy()\n",
    "\n",
    "        return holidays_array\n",
    "        "
   ]
  },
  {
   "cell_type": "code",
   "execution_count": 5,
   "metadata": {
    "ExecuteTime": {
     "end_time": "2021-03-26T19:32:17.023286Z",
     "start_time": "2021-03-26T19:31:56.568454Z"
    }
   },
   "outputs": [],
   "source": [
    "start_date = datetime.date(1960, 1, 1)\n",
    "end_date = datetime.date(2021, 12, 31)\n",
    "\n",
    "holidays_array = JPHolidayGetter().get_holidays(start_date, end_date, with_name=True)"
   ]
  },
  {
   "cell_type": "code",
   "execution_count": 6,
   "metadata": {
    "ExecuteTime": {
     "end_time": "2021-03-26T19:32:17.115292Z",
     "start_time": "2021-03-26T19:32:17.036249Z"
    }
   },
   "outputs": [
    {
     "data": {
      "text/plain": [
       "array([[datetime.date(1960, 1, 1), '元日'],\n",
       "       [datetime.date(1960, 1, 15), '成人の日'],\n",
       "       [datetime.date(1960, 3, 20), '春分の日'],\n",
       "       ...,\n",
       "       [datetime.date(2021, 9, 23), '秋分の日'],\n",
       "       [datetime.date(2021, 11, 3), '文化の日'],\n",
       "       [datetime.date(2021, 11, 23), '勤労感謝の日']], dtype=object)"
      ]
     },
     "execution_count": 6,
     "metadata": {},
     "output_type": "execute_result"
    }
   ],
   "source": [
    "holidays_array"
   ]
  },
  {
   "cell_type": "code",
   "execution_count": 7,
   "metadata": {
    "ExecuteTime": {
     "end_time": "2021-03-26T19:32:17.178123Z",
     "start_time": "2021-03-26T19:32:17.144212Z"
    }
   },
   "outputs": [
    {
     "data": {
      "text/plain": [
       "937"
      ]
     },
     "execution_count": 7,
     "metadata": {},
     "output_type": "execute_result"
    }
   ],
   "source": [
    "len(holidays_array)"
   ]
  },
  {
   "cell_type": "markdown",
   "metadata": {},
   "source": [
    "### 祝日のndarrayを取得(CSVファイルを利用) "
   ]
  },
  {
   "cell_type": "markdown",
   "metadata": {},
   "source": [
    "思ったより速度が速いので，毎回これを呼ぶことも可能であるが，jpholidayのものを踏襲してこれも一度あるいはOptionを変更したときのみ呼ばれるようにする．"
   ]
  },
  {
   "cell_type": "code",
   "execution_count": 8,
   "metadata": {
    "ExecuteTime": {
     "end_time": "2021-03-26T19:32:17.532630Z",
     "start_time": "2021-03-26T19:32:17.204058Z"
    }
   },
   "outputs": [],
   "source": [
    "class CSVHolidayGetter:\n",
    "    def __init__(self, csv_paths):\n",
    "        if not isinstance(csv_paths, list):  # リストでないなら，リストにしておく\n",
    "            csv_paths = [csv_paths]\n",
    "            \n",
    "        self.csv_paths = csv_paths\n",
    "        \n",
    "    def get_holidays(self, start_date, end_date, with_name=False):\n",
    "        \"\"\"\n",
    "        期間を指定して祝日を取得．csvファイルを利用して祝日を取得している．\n",
    "\n",
    "        start_date: datetime.date\n",
    "            開始時刻のdate\n",
    "        end_datetime: datetime.date\n",
    "            終了時刻のdate\n",
    "        with_name: bool\n",
    "            休日の名前を出力するかどうか\n",
    "        to_date: bool\n",
    "            出力をdatetime.datetimeにするかdatetime.dateにするか\n",
    "        \"\"\"\n",
    "        assert isinstance(start_date, datetime.date) and isinstance(end_date, datetime.date)\n",
    "        \n",
    "        # datetime.dateをpd.Timestampに変換(datetime.dateは通常pd.DatetimeIndexと比較できないため)\n",
    "        start_timestamp = pd.Timestamp(start_date)\n",
    "        end_timestamp = pd.Timestamp(end_date)\n",
    "        \n",
    "        for i, csv_path in enumerate(self.csv_paths):\n",
    "            holiday_df = pd.read_csv(csv_path, \n",
    "                                     header=None,\n",
    "                                     names=[\"date\", \"holiday_name\"],\n",
    "                                     index_col=\"date\",\n",
    "                                     parse_dates=True\n",
    "                                    )\n",
    "            if i == 0:\n",
    "                left_df = holiday_df\n",
    "            else:\n",
    "                append_bool = ~holiday_df.index.isin(left_df.index)  # 左Dataframeに存在しない部分を追加\n",
    "                left_df = left_df.append(holiday_df.loc[append_bool], sort=True)\n",
    "\n",
    "        \n",
    "        # 指定範囲内の祝日を取得\n",
    "        holiday_in_span_index = (start_timestamp<=left_df.index)&(left_df.index<end_timestamp)\n",
    "        holiday_in_span_df = left_df.loc[holiday_in_span_index]\n",
    "        \n",
    "        holiday_in_span_date_array = holiday_in_span_df.index.date\n",
    "        holiday_in_span_name_array = holiday_in_span_df.loc[:,\"holiday_name\"].values\n",
    "        holiday_in_span_array = np.stack([holiday_in_span_date_array,\n",
    "                                          holiday_in_span_name_array\n",
    "                                         ],\n",
    "                                         axis=1\n",
    "                                        )\n",
    "        \n",
    "        if not with_name:  # 祝日名がいらない場合\n",
    "            return holiday_in_span_date_array\n",
    "            \n",
    "        return holiday_in_span_array\n",
    "            "
   ]
  },
  {
   "cell_type": "code",
   "execution_count": 9,
   "metadata": {
    "ExecuteTime": {
     "end_time": "2021-03-26T19:32:17.824546Z",
     "start_time": "2021-03-26T19:32:17.547499Z"
    }
   },
   "outputs": [
    {
     "data": {
      "text/plain": [
       "array([[datetime.date(1960, 1, 1), '元日'],\n",
       "       [datetime.date(1960, 1, 15), '成人の日'],\n",
       "       [datetime.date(1960, 3, 20), '春分の日'],\n",
       "       ...,\n",
       "       [datetime.date(2021, 9, 23), '秋分の日'],\n",
       "       [datetime.date(2021, 11, 3), '文化の日'],\n",
       "       [datetime.date(2021, 11, 23), '勤労感謝の日']], dtype=object)"
      ]
     },
     "execution_count": 9,
     "metadata": {},
     "output_type": "execute_result"
    }
   ],
   "source": [
    "source_paths = [Path(\"source/holiday_naikaku.csv\"),\n",
    "                Path(\"source/holiday_api.csv\")\n",
    "               ]\n",
    "\n",
    "holiday_getter = CSVHolidayGetter(source_paths)\n",
    "\n",
    "start_date = datetime.date(1960, 1, 1)\n",
    "end_date = datetime.date(2021, 12, 31)\n",
    "\n",
    "holidays_array = holiday_getter.get_holidays(start_date, end_date, with_name=True)\n",
    "holidays_array"
   ]
  },
  {
   "cell_type": "code",
   "execution_count": 10,
   "metadata": {
    "ExecuteTime": {
     "end_time": "2021-03-26T19:32:17.918443Z",
     "start_time": "2021-03-26T19:32:17.845490Z"
    }
   },
   "outputs": [
    {
     "data": {
      "text/plain": [
       "913"
      ]
     },
     "execution_count": 10,
     "metadata": {},
     "output_type": "execute_result"
    }
   ],
   "source": [
    "len(holidays_array)"
   ]
  },
  {
   "cell_type": "code",
   "execution_count": 11,
   "metadata": {
    "ExecuteTime": {
     "end_time": "2021-03-26T19:32:18.486318Z",
     "start_time": "2021-03-26T19:32:17.930495Z"
    }
   },
   "outputs": [
    {
     "name": "stdout",
     "output_type": "stream",
     "text": [
      "Timer unit: 1e-07 s\n",
      "\n",
      "Total time: 0 s\n",
      "File: <ipython-input-8-73157d16bb73>\n",
      "Function: __init__ at line 2\n",
      "\n",
      "Line #      Hits         Time  Per Hit   % Time  Line Contents\n",
      "==============================================================\n",
      "     2                                               def __init__(self, csv_paths):\n",
      "     3                                                   if not isinstance(csv_paths, list):  # リストでないなら，リストにしておく\n",
      "     4                                                       csv_paths = [csv_paths]\n",
      "     5                                                       \n",
      "     6                                                   self.csv_paths = csv_paths\n",
      "\n",
      "Total time: 0.259739 s\n",
      "File: <ipython-input-8-73157d16bb73>\n",
      "Function: get_holidays at line 8\n",
      "\n",
      "Line #      Hits         Time  Per Hit   % Time  Line Contents\n",
      "==============================================================\n",
      "     8                                               def get_holidays(self, start_date, end_date, with_name=False):\n",
      "     9                                                   \"\"\"\n",
      "    10                                                   期間を指定して祝日を取得．csvファイルを利用して祝日を取得している．\n",
      "    11                                           \n",
      "    12                                                   start_date: datetime.date\n",
      "    13                                                       開始時刻のdate\n",
      "    14                                                   end_datetime: datetime.date\n",
      "    15                                                       終了時刻のdate\n",
      "    16                                                   with_name: bool\n",
      "    17                                                       休日の名前を出力するかどうか\n",
      "    18                                                   to_date: bool\n",
      "    19                                                       出力をdatetime.datetimeにするかdatetime.dateにするか\n",
      "    20                                                   \"\"\"\n",
      "    21         1        553.0    553.0      0.0          assert isinstance(start_date, datetime.date) and isinstance(end_date, datetime.date)\n",
      "    22                                                   \n",
      "    23                                                   # datetime.dateをpd.Timestampに変換(datetime.dateは通常pd.DatetimeIndexと比較できないため)\n",
      "    24         1       4283.0   4283.0      0.2          start_timestamp = pd.Timestamp(start_date)\n",
      "    25         1       1766.0   1766.0      0.1          end_timestamp = pd.Timestamp(end_date)\n",
      "    26                                                   \n",
      "    27         3        395.0    131.7      0.0          for i, csv_path in enumerate(self.csv_paths):\n",
      "    28         2        175.0     87.5      0.0              holiday_df = pd.read_csv(csv_path, \n",
      "    29         2        118.0     59.0      0.0                                       header=None,\n",
      "    30         2        136.0     68.0      0.0                                       names=[\"date\", \"holiday_name\"],\n",
      "    31         2        115.0     57.5      0.0                                       index_col=\"date\",\n",
      "    32         2    2328364.0 1164182.0     89.6                                       parse_dates=True\n",
      "    33                                                                               )\n",
      "    34         2        233.0    116.5      0.0              if i == 0:\n",
      "    35         1         65.0     65.0      0.0                  left_df = holiday_df\n",
      "    36                                                       else:\n",
      "    37         1      15260.0  15260.0      0.6                  append_bool = ~holiday_df.index.isin(left_df.index)  # 左Dataframeに存在しない部分を追加\n",
      "    38         1     149699.0 149699.0      5.8                  left_df = left_df.append(holiday_df.loc[append_bool], sort=True)\n",
      "    39                                           \n",
      "    40                                                   \n",
      "    41                                                   # 指定範囲内の祝日を取得\n",
      "    42         1      23690.0  23690.0      0.9          holiday_in_span_index = (start_timestamp<=left_df.index)&(left_df.index<end_timestamp)\n",
      "    43         1      37087.0  37087.0      1.4          holiday_in_span_df = left_df.loc[holiday_in_span_index]\n",
      "    44                                                   \n",
      "    45         1      17882.0  17882.0      0.7          holiday_in_span_date_array = holiday_in_span_df.index.date\n",
      "    46         1      15305.0  15305.0      0.6          holiday_in_span_name_array = holiday_in_span_df.loc[:,\"holiday_name\"].values\n",
      "    47         1         93.0     93.0      0.0          holiday_in_span_array = np.stack([holiday_in_span_date_array,\n",
      "    48         1         62.0     62.0      0.0                                            holiday_in_span_name_array\n",
      "    49                                                                                    ],\n",
      "    50         1       2004.0   2004.0      0.1                                           axis=1\n",
      "    51                                                                                   )\n",
      "    52                                                   \n",
      "    53         1         58.0     58.0      0.0          if not with_name:  # 祝日名がいらない場合\n",
      "    54                                                       return holiday_in_span_date_array\n",
      "    55                                                       \n",
      "    56         1         43.0     43.0      0.0          return holiday_in_span_array\n",
      "\n"
     ]
    }
   ],
   "source": [
    "def temp_func():\n",
    "    holidays_array = holiday_getter.get_holidays(start_date, end_date, with_name=True)\n",
    "\n",
    "from line_profiler import LineProfiler\n",
    "prf = LineProfiler()                                                                                         \n",
    "prf.add_module(CSVHolidayGetter)                                                                                          \n",
    "#prf.add_function()                                                                                      \n",
    "prf.runcall(temp_func)                                                                                          \n",
    "prf.print_stats()"
   ]
  },
  {
   "cell_type": "markdown",
   "metadata": {},
   "source": [
    "このメソッドはそれほど呼ばないので速度が遅くてもかまわない．それに速度の向上は期待できない．"
   ]
  },
  {
   "cell_type": "markdown",
   "metadata": {},
   "source": [
    "## Option"
   ]
  },
  {
   "cell_type": "markdown",
   "metadata": {},
   "source": [
    "jpholidayの休日取得速度が遅いため(csvとしても毎回読み込むのは非効率なため)，パッケージとして読み込む時にあらかじめ利用する休日をarrayとして保持しておくOptionを作成する．さらに利用する休日の期間やcsvとjpholidayの切り替え，休日曜日の切り替え，日中時間の切り替えなどを行うことができる．"
   ]
  },
  {
   "cell_type": "code",
   "execution_count": 29,
   "metadata": {
    "ExecuteTime": {
     "end_time": "2021-03-26T19:51:38.050374Z",
     "start_time": "2021-03-26T19:51:37.745144Z"
    },
    "code_folding": []
   },
   "outputs": [],
   "source": [
    "class Option():\n",
    "    \"\"\"\n",
    "    オプションの指定のためのクラス\n",
    "    holiday_start_year: int\n",
    "        利用する休日の開始年\n",
    "    holiday_end_year: int\n",
    "        利用する休日の終了年\n",
    "    backend: str\n",
    "        休日取得のバックエンド．csvかjpholidayのいずれかが選べる\n",
    "    csv_source_paths: list of str or pathlib.Path\n",
    "        バックエンドをcsvにした場合の休日のソースcsvファイル\n",
    "    holiday_weekdays: list of int\n",
    "        休日曜日の整数のリスト\n",
    "    intraday_borders: list of list of 2 datetime.time\n",
    "        日中を指定する境界時間のリストのリスト\n",
    "    \"\"\"\n",
    "    def __init__(self):\n",
    "        self._holiday_start_year = datetime.datetime.now().year-5\n",
    "        self._holiday_end_year = datetime.datetime.now().year\n",
    "        \n",
    "        self._backend = \"csv\"\n",
    "        self._csv_source_paths = [Path(\"source/holiday_naikaku.csv\"),]\n",
    "        \n",
    "        self.make_holiday_getter()  # HolidayGetterを作成\n",
    "        self.make_holidays()  # アトリビュートに追加\n",
    "        \n",
    "        self._holiday_weekdays = [5,6]  # 土曜日・日曜日\n",
    "        self._intraday_borders = [[datetime.time(9,0), datetime.time(11,30)],\n",
    "                                  [datetime.time(12,30), datetime.time(15,0)]]\n",
    "        \n",
    "    \n",
    "    def make_holiday_getter(self):\n",
    "        if self.backend == \"jp_holiday\":\n",
    "            self._holiday_getter = JPHolidayGetter()\n",
    "        elif self.backend == \"csv\":\n",
    "            self._holiday_getter = CSVHolidayGetter(self.csv_source_paths)\n",
    "        \n",
    "    \n",
    "    def make_holidays(self):\n",
    "        \"\"\"\n",
    "        利用する休日のarrayとDatetimeIndexをアトリビュートとして作成\n",
    "        \"\"\"\n",
    "        self._holidays_date_array = self._holiday_getter.get_holidays(start_date=datetime.date(self.holiday_start_year,1,1),\n",
    "                                                    end_date=datetime.date(self.holiday_end_year,12,31),\n",
    "                                                    with_name=False,\n",
    "                                                   )\n",
    "        self._holidays_datetimeindex =  pd.DatetimeIndex(self._holidays_date_array)\n",
    "        \n",
    "    \n",
    "    @property\n",
    "    def holiday_start_year(self):\n",
    "        return self._holiday_start_year\n",
    "    \n",
    "    @holiday_start_year.setter\n",
    "    def holiday_start_year(self, year):\n",
    "        assert isinstance(year,int)\n",
    "        self._holiday_start_year = year\n",
    "        self.make_holidays()  # アトリビュートに追加\n",
    "    \n",
    "    @property\n",
    "    def holiday_end_year(self):\n",
    "        return self._holiday_end_year\n",
    "\n",
    "    @holiday_end_year.setter\n",
    "    def holiday_end_year(self, year):\n",
    "        assert isinstance(year,int)\n",
    "        self._holiday_end_year = year\n",
    "        self.make_holidays()  # アトリビュートに追加\n",
    "    \n",
    "    @property\n",
    "    def backend(self):\n",
    "        return self._backend\n",
    "    \n",
    "    @backend.setter\n",
    "    def backend(self, backend_str):\n",
    "        if backend_str not in (\"jp_holiday\",\"csv\"):\n",
    "            raise Exception(\"backend must be 'jp_holiday' or 'csv'.\")\n",
    "        self._backend = backend_str\n",
    "        self.make_holiday_getter()  # HolidayGetterを作成\n",
    "    \n",
    "    @property\n",
    "    def csv_source_paths(self):\n",
    "        #中身の確認\n",
    "        for csv_source_path in self._csv_source_paths:\n",
    "            if not isinstance(csv_source_path, str) and not isinstance(csv_source_path, Path):\n",
    "                raise Exception(\"csv_source_paths must be list of str or pathlib.Path\")\n",
    "        \n",
    "        return self._csv_source_paths\n",
    "    \n",
    "    @csv_source_paths.setter\n",
    "    def csv_source_paths(self, path_list):\n",
    "        self.csv_source_paths = path_list\n",
    "        \n",
    "    @property\n",
    "    def holidays_date_array(self):\n",
    "        return self._holidays_date_array\n",
    "    \n",
    "    @property\n",
    "    def holidays_datetimeindex(self):\n",
    "        return self._holidays_datetimeindex\n",
    "    \n",
    "    @property\n",
    "    def holiday_weekdays(self):\n",
    "        # 中身の確認\n",
    "        for weekday in self._holiday_weekdays:\n",
    "            if not isinstance(weekday, int):\n",
    "                raise Exception(\"holiday_weekdays must be list of integer(0<=x<=6)\")\n",
    "                \n",
    "        return self._holiday_weekdays\n",
    "    \n",
    "    @holiday_weekdays.setter\n",
    "    def holiday_weekdays(self, weekdays_list):\n",
    "        self._holiday_weekdays = weekdays_list\n",
    "    \n",
    "    @property\n",
    "    def intraday_borders(self):\n",
    "        # 中身の確認\n",
    "        for border in self._intraday_borders:\n",
    "            if not isinstance(border, list) or len(border) != 2:\n",
    "                raise Exception(\"intraday_borders must be list of list whitch has 2 datetime.time\")\n",
    "                \n",
    "            for border_time in border:\n",
    "                if not isinstance(border_time, datetime.time):\n",
    "                    raise Exception(\"intraday_borders must be list of list whitch has 2 datetime.time\")\n",
    "             \n",
    "        return self._intraday_borders\n",
    "    \n",
    "    @intraday_borders.setter\n",
    "    def intraday_borders(self, borders_list):\n",
    "        self._intraday_borders = borders_list"
   ]
  },
  {
   "cell_type": "markdown",
   "metadata": {},
   "source": [
    "### Optionのコンストラクト "
   ]
  },
  {
   "cell_type": "code",
   "execution_count": 30,
   "metadata": {
    "ExecuteTime": {
     "end_time": "2021-03-26T19:51:39.171644Z",
     "start_time": "2021-03-26T19:51:38.973173Z"
    }
   },
   "outputs": [],
   "source": [
    "option = Option()"
   ]
  },
  {
   "cell_type": "markdown",
   "metadata": {},
   "source": [
    "### 休日を取得する関数"
   ]
  },
  {
   "cell_type": "code",
   "execution_count": 31,
   "metadata": {
    "ExecuteTime": {
     "end_time": "2021-03-26T19:51:40.302015Z",
     "start_time": "2021-03-26T19:51:40.248157Z"
    }
   },
   "outputs": [],
   "source": [
    "def get_holidays_jp(start_date, end_date, with_name=False, independent=False):\n",
    "        \"\"\"\n",
    "        期間を指定して祝日を取得．\n",
    "\n",
    "        start_date: datetime.date\n",
    "            開始時刻のdate\n",
    "        end_datetime: datetime.date\n",
    "            終了時刻のdate\n",
    "        with_name: bool\n",
    "            休日の名前を出力するかどうか\n",
    "        to_date: bool\n",
    "            出力をdatetime.datetimeにするかdatetime.dateにするか\n",
    "        independent: bool，default:False\n",
    "            休日をoptionから独立させるかどうか．FalseならばOption内で保持する休日が取得される\n",
    "        \"\"\"\n",
    "        assert isinstance(start_date, datetime.date) and isinstance(end_date, datetime.date)\n",
    "        \n",
    "        if not independent:\n",
    "            # datetime.dateをpd.Timestampに変換(datetime.dateは通常pd.DatetimeIndexと比較できないため)\n",
    "            start_timestamp = pd.Timestamp(start_date)\n",
    "            end_timestamp = pd.Timestamp(end_date)\n",
    "\n",
    "            holidays_in_span_index = (start_timestamp<=option.holidays_datetimeindex)&(option.holidays_datetimeindex<end_timestamp)  # DatetimeIndexを使うことに注意\n",
    "            holidays_in_span_array = option.holidays_date_array[holidays_in_span_index]  # ndarrayを使う\n",
    "\n",
    "            return holidays_in_span_array\n",
    "        else:\n",
    "            if option.backend == \"jp_holiday\":\n",
    "                holiday_getter = JPHolidayGetter()\n",
    "            elif option.backend == \"csv\":\n",
    "                holiday_getter = CSVHolidayGetter(option.csv_source_paths)\n",
    "                \n",
    "            holidays_array = holiday_getter.get_holidays(start_date=start_date,\n",
    "                                                         end_date=end_date,\n",
    "                                                         with_name=with_name\n",
    "                                                        ) \n",
    "            return  holidays_array"
   ]
  },
  {
   "cell_type": "code",
   "execution_count": 32,
   "metadata": {
    "ExecuteTime": {
     "end_time": "2021-03-26T19:51:41.752035Z",
     "start_time": "2021-03-26T19:51:41.694184Z"
    }
   },
   "outputs": [
    {
     "data": {
      "text/plain": [
       "array([datetime.date(2016, 1, 1), datetime.date(2016, 1, 11),\n",
       "       datetime.date(2016, 2, 11), datetime.date(2016, 3, 20),\n",
       "       datetime.date(2016, 3, 21), datetime.date(2016, 4, 29),\n",
       "       datetime.date(2016, 5, 3), datetime.date(2016, 5, 4),\n",
       "       datetime.date(2016, 5, 5), datetime.date(2016, 7, 18),\n",
       "       datetime.date(2016, 8, 11), datetime.date(2016, 9, 19),\n",
       "       datetime.date(2016, 9, 22), datetime.date(2016, 10, 10),\n",
       "       datetime.date(2016, 11, 3), datetime.date(2016, 11, 23),\n",
       "       datetime.date(2016, 12, 23), datetime.date(2017, 1, 1),\n",
       "       datetime.date(2017, 1, 2), datetime.date(2017, 1, 9),\n",
       "       datetime.date(2017, 2, 11), datetime.date(2017, 3, 20),\n",
       "       datetime.date(2017, 4, 29), datetime.date(2017, 5, 3),\n",
       "       datetime.date(2017, 5, 4), datetime.date(2017, 5, 5),\n",
       "       datetime.date(2017, 7, 17), datetime.date(2017, 8, 11),\n",
       "       datetime.date(2017, 9, 18), datetime.date(2017, 9, 23),\n",
       "       datetime.date(2017, 10, 9), datetime.date(2017, 11, 3),\n",
       "       datetime.date(2017, 11, 23), datetime.date(2017, 12, 23),\n",
       "       datetime.date(2018, 1, 1), datetime.date(2018, 1, 8),\n",
       "       datetime.date(2018, 2, 11), datetime.date(2018, 2, 12),\n",
       "       datetime.date(2018, 3, 21), datetime.date(2018, 4, 29),\n",
       "       datetime.date(2018, 4, 30), datetime.date(2018, 5, 3),\n",
       "       datetime.date(2018, 5, 4), datetime.date(2018, 5, 5),\n",
       "       datetime.date(2018, 7, 16), datetime.date(2018, 8, 11),\n",
       "       datetime.date(2018, 9, 17), datetime.date(2018, 9, 23),\n",
       "       datetime.date(2018, 9, 24), datetime.date(2018, 10, 8),\n",
       "       datetime.date(2018, 11, 3), datetime.date(2018, 11, 23),\n",
       "       datetime.date(2018, 12, 23), datetime.date(2018, 12, 24),\n",
       "       datetime.date(2019, 1, 1), datetime.date(2019, 1, 14),\n",
       "       datetime.date(2019, 2, 11), datetime.date(2019, 3, 21),\n",
       "       datetime.date(2019, 4, 29), datetime.date(2019, 4, 30),\n",
       "       datetime.date(2019, 5, 1), datetime.date(2019, 5, 2),\n",
       "       datetime.date(2019, 5, 3), datetime.date(2019, 5, 4),\n",
       "       datetime.date(2019, 5, 5), datetime.date(2019, 5, 6),\n",
       "       datetime.date(2019, 7, 15), datetime.date(2019, 8, 11),\n",
       "       datetime.date(2019, 8, 12), datetime.date(2019, 9, 16),\n",
       "       datetime.date(2019, 9, 23), datetime.date(2019, 10, 14),\n",
       "       datetime.date(2019, 10, 22), datetime.date(2019, 11, 3),\n",
       "       datetime.date(2019, 11, 4), datetime.date(2019, 11, 23),\n",
       "       datetime.date(2020, 1, 1), datetime.date(2020, 1, 13),\n",
       "       datetime.date(2020, 2, 11), datetime.date(2020, 2, 23),\n",
       "       datetime.date(2020, 2, 24), datetime.date(2020, 3, 20),\n",
       "       datetime.date(2020, 4, 29), datetime.date(2020, 5, 3),\n",
       "       datetime.date(2020, 5, 4), datetime.date(2020, 5, 5),\n",
       "       datetime.date(2020, 5, 6), datetime.date(2020, 7, 23),\n",
       "       datetime.date(2020, 7, 24), datetime.date(2020, 8, 10),\n",
       "       datetime.date(2020, 9, 21), datetime.date(2020, 9, 22),\n",
       "       datetime.date(2020, 11, 3), datetime.date(2020, 11, 23),\n",
       "       datetime.date(2021, 1, 1), datetime.date(2021, 1, 11),\n",
       "       datetime.date(2021, 2, 11), datetime.date(2021, 2, 23),\n",
       "       datetime.date(2021, 3, 20), datetime.date(2021, 4, 29),\n",
       "       datetime.date(2021, 5, 3), datetime.date(2021, 5, 4),\n",
       "       datetime.date(2021, 5, 5), datetime.date(2021, 7, 22),\n",
       "       datetime.date(2021, 7, 23), datetime.date(2021, 8, 8),\n",
       "       datetime.date(2021, 8, 9), datetime.date(2021, 9, 20),\n",
       "       datetime.date(2021, 9, 23), datetime.date(2021, 11, 3),\n",
       "       datetime.date(2021, 11, 23)], dtype=object)"
      ]
     },
     "execution_count": 32,
     "metadata": {},
     "output_type": "execute_result"
    }
   ],
   "source": [
    "start_date = datetime.date(1960, 1, 1)\n",
    "end_date = datetime.date(2021, 12, 31)\n",
    "\n",
    "holidays_array = get_holidays_jp(start_date, \n",
    "                                end_date,\n",
    "                                with_name=True,\n",
    "                                independent=False\n",
    "                               )\n",
    "holidays_array"
   ]
  },
  {
   "cell_type": "code",
   "execution_count": 33,
   "metadata": {
    "ExecuteTime": {
     "end_time": "2021-03-26T19:51:43.413983Z",
     "start_time": "2021-03-26T19:51:43.335191Z"
    }
   },
   "outputs": [
    {
     "name": "stdout",
     "output_type": "stream",
     "text": [
      "Timer unit: 1e-07 s\n",
      "\n",
      "Total time: 0.0027388 s\n",
      "File: <ipython-input-31-2ff14dc42e2a>\n",
      "Function: get_holidays_jp at line 1\n",
      "\n",
      "Line #      Hits         Time  Per Hit   % Time  Line Contents\n",
      "==============================================================\n",
      "     1                                           def get_holidays_jp(start_date, end_date, with_name=False, independent=False):\n",
      "     2                                                   \"\"\"\n",
      "     3                                                   期間を指定して祝日を取得．\n",
      "     4                                           \n",
      "     5                                                   start_date: datetime.date\n",
      "     6                                                       開始時刻のdate\n",
      "     7                                                   end_datetime: datetime.date\n",
      "     8                                                       終了時刻のdate\n",
      "     9                                                   with_name: bool\n",
      "    10                                                       休日の名前を出力するかどうか\n",
      "    11                                                   to_date: bool\n",
      "    12                                                       出力をdatetime.datetimeにするかdatetime.dateにするか\n",
      "    13                                                   independent: bool，default:False\n",
      "    14                                                       休日をoptionから独立させるかどうか．FalseならばOption内で保持する休日が取得される\n",
      "    15                                                   \"\"\"\n",
      "    16         1        159.0    159.0      0.6          assert isinstance(start_date, datetime.date) and isinstance(end_date, datetime.date)\n",
      "    17                                                   \n",
      "    18         1         64.0     64.0      0.2          if not independent:\n",
      "    19                                                       # datetime.dateをpd.Timestampに変換(datetime.dateは通常pd.DatetimeIndexと比較できないため)\n",
      "    20         1        683.0    683.0      2.5              start_timestamp = pd.Timestamp(start_date)\n",
      "    21         1        293.0    293.0      1.1              end_timestamp = pd.Timestamp(end_date)\n",
      "    22                                           \n",
      "    23         1      25722.0  25722.0     93.9              holidays_in_span_index = (start_timestamp<=option.holidays_datetimeindex)&(option.holidays_datetimeindex<end_timestamp)  # DatetimeIndexを使うことに注意\n",
      "    24         1        411.0    411.0      1.5              holidays_in_span_array = option.holidays_date_array[holidays_in_span_index]  # ndarrayを使うtamp(end_date)\n",
      "    25                                           \n",
      "    26         1         56.0     56.0      0.2              return holidays_in_span_array\n",
      "    27                                                   else:\n",
      "    28                                                       if option.backend == \"jp_holiday\":\n",
      "    29                                                           holiday_getter = JPHolidayGetter()\n",
      "    30                                                       elif option.backend == \"csv\":\n",
      "    31                                                           holiday_getter = CSVHolidayGetter(option.csv_source_paths)\n",
      "    32                                                           \n",
      "    33                                                       holidays_array = holiday_getter.get_holidays(start_date=start_date,\n",
      "    34                                                                                                    end_date=end_date,\n",
      "    35                                                                                                    with_name=with_name\n",
      "    36                                                                                                   ) \n",
      "    37                                                       return  holidays_array\n",
      "\n"
     ]
    }
   ],
   "source": [
    "def temp_func():\n",
    "    holidays_array = get_holidays_jp(start_date, \n",
    "                                end_date,\n",
    "                                with_name=True,\n",
    "                                independent=False\n",
    "                               )\n",
    "\n",
    "from line_profiler import LineProfiler\n",
    "prf = LineProfiler()                                                                                         \n",
    "#prf.add_module()                                                                                          \n",
    "prf.add_function(get_holidays_jp)                                                                                      \n",
    "prf.runcall(temp_func)                                                                                          \n",
    "prf.print_stats()"
   ]
  },
  {
   "cell_type": "markdown",
   "metadata": {},
   "source": [
    "ボトルネックはなさそう"
   ]
  },
  {
   "cell_type": "markdown",
   "metadata": {},
   "source": [
    "## 営業日の取得 "
   ]
  },
  {
   "cell_type": "markdown",
   "metadata": {},
   "source": [
    "optionの休日を参照する．"
   ]
  },
  {
   "cell_type": "markdown",
   "metadata": {},
   "source": [
    "### 指定した期間の営業日のndarrayを取得する"
   ]
  },
  {
   "cell_type": "code",
   "execution_count": 34,
   "metadata": {
    "ExecuteTime": {
     "end_time": "2021-03-26T19:52:03.497775Z",
     "start_time": "2021-03-26T19:52:03.410011Z"
    },
    "code_folding": []
   },
   "outputs": [],
   "source": [
    "def get_workdays_jp(start_date, end_date, return_as=\"date\", end_include=False):\n",
    "    \"\"\"\n",
    "    営業日を取得\n",
    "    \n",
    "    start_date: datetime.date\n",
    "        開始時刻のdate\n",
    "    end_datetime: datetime.date\n",
    "        終了時刻のdate\n",
    "    return_as: str, defalt: 'dt'\n",
    "        返り値の形式\n",
    "        - 'dt':pd.DatetimeIndex\n",
    "        - 'date': datetime.date array\n",
    "    end_include: bool\n",
    "        最終日も含めて出力するか\n",
    "    \"\"\"\n",
    "    assert isinstance(start_date, datetime.date) and isinstance(end_date, datetime.date)\n",
    "    # 返り値の形式の指定\n",
    "    return_as_set = {\"dt\", \"date\"}\n",
    "    if not return_as in return_as_set:\n",
    "        raise Exception(\"return_as must be any in {}\".format(return_as_set))\n",
    "    \n",
    "    # datetime.dateをpd.Timestampに変換(datetime.dateは通常pd.DatetimeIndexと比較できないため)\n",
    "    start_timestamp = pd.Timestamp(start_date)\n",
    "    end_timestamp = pd.Timestamp(end_date)\n",
    "    \n",
    "    # 期間中のholidayを取得\n",
    "    holidays_in_span_index = (start_timestamp<=option.holidays_datetimeindex)&(option.holidays_datetimeindex<end_timestamp)  # DatetimeIndexを使うことに注意\n",
    "    holidays_in_span_array = option.holidays_date_array[holidays_in_span_index]  # ndarrayを使う\n",
    "\n",
    "    # 期間中のdatetimeのarrayを取得\n",
    "    if end_include:\n",
    "        days_datetimeindex = pd.date_range(start=start_date, end=end_date, freq=\"D\")  # 最終日も含める\n",
    "    else:\n",
    "        days_datetimeindex = pd.date_range(start=start_date, end=end_date-datetime.timedelta(days=1), freq=\"D\")  # 最終日は含めない\n",
    "    \n",
    "    \n",
    "    # 休日に含まれないもの，さらに土日に含まれないもののboolインデックスを取得\n",
    "    holiday_bool_array = np.in1d(days_datetimeindex.date, holidays_in_span_array)  # 休日であるかのブール(pd.DatetimeIndex.isin)でもいい\n",
    "    holiday_weekday_each_bool_arrays = [days_datetimeindex.weekday==weekday for weekday in option.holiday_weekdays]  # inを使うのを回避\n",
    "    holiday_weekday_bool_array = np.logical_or.reduce(holiday_weekday_each_bool_arrays)  # 休日曜日\n",
    "    \n",
    "    workdays_bool_array = (~holiday_bool_array)&(~holiday_weekday_bool_array)  # 休日でなく休日曜日でない\n",
    "    \n",
    "    workdays_datetimeindex = days_datetimeindex[workdays_bool_array].copy()\n",
    "    if return_as==\"dt\":\n",
    "        return workdays_datetimeindex\n",
    "    elif return_as==\"date\":\n",
    "        return workdays_datetimeindex.date"
   ]
  },
  {
   "cell_type": "code",
   "execution_count": 35,
   "metadata": {
    "ExecuteTime": {
     "end_time": "2021-03-26T19:52:04.434025Z",
     "start_time": "2021-03-26T19:52:04.386156Z"
    }
   },
   "outputs": [],
   "source": [
    "start_date = datetime.datetime(2021, 1, 1)\n",
    "end_date = datetime.datetime(2021, 12, 31)\n",
    "\n",
    "workdays = get_workdays_jp(start_date, end_date, return_as=\"date\", end_include=False)"
   ]
  },
  {
   "cell_type": "code",
   "execution_count": 167,
   "metadata": {
    "ExecuteTime": {
     "end_time": "2021-03-27T05:53:19.818312Z",
     "start_time": "2021-03-27T05:53:19.770482Z"
    }
   },
   "outputs": [
    {
     "data": {
      "text/plain": [
       "array([datetime.date(2021, 1, 4), datetime.date(2021, 1, 5),\n",
       "       datetime.date(2021, 1, 6), datetime.date(2021, 1, 7),\n",
       "       datetime.date(2021, 1, 8), datetime.date(2021, 1, 12),\n",
       "       datetime.date(2021, 1, 13), datetime.date(2021, 1, 14),\n",
       "       datetime.date(2021, 1, 15), datetime.date(2021, 1, 18),\n",
       "       datetime.date(2021, 1, 19), datetime.date(2021, 1, 20),\n",
       "       datetime.date(2021, 1, 21), datetime.date(2021, 1, 22),\n",
       "       datetime.date(2021, 1, 25), datetime.date(2021, 1, 26),\n",
       "       datetime.date(2021, 1, 27), datetime.date(2021, 1, 28),\n",
       "       datetime.date(2021, 1, 29), datetime.date(2021, 2, 1),\n",
       "       datetime.date(2021, 2, 2), datetime.date(2021, 2, 3),\n",
       "       datetime.date(2021, 2, 4), datetime.date(2021, 2, 5),\n",
       "       datetime.date(2021, 2, 8), datetime.date(2021, 2, 9),\n",
       "       datetime.date(2021, 2, 10), datetime.date(2021, 2, 12),\n",
       "       datetime.date(2021, 2, 15), datetime.date(2021, 2, 16),\n",
       "       datetime.date(2021, 2, 17), datetime.date(2021, 2, 18),\n",
       "       datetime.date(2021, 2, 19), datetime.date(2021, 2, 22),\n",
       "       datetime.date(2021, 2, 24), datetime.date(2021, 2, 25),\n",
       "       datetime.date(2021, 2, 26), datetime.date(2021, 3, 1),\n",
       "       datetime.date(2021, 3, 2), datetime.date(2021, 3, 3),\n",
       "       datetime.date(2021, 3, 4), datetime.date(2021, 3, 5),\n",
       "       datetime.date(2021, 3, 8), datetime.date(2021, 3, 9),\n",
       "       datetime.date(2021, 3, 10), datetime.date(2021, 3, 11),\n",
       "       datetime.date(2021, 3, 12), datetime.date(2021, 3, 15),\n",
       "       datetime.date(2021, 3, 16), datetime.date(2021, 3, 17)],\n",
       "      dtype=object)"
      ]
     },
     "execution_count": 167,
     "metadata": {},
     "output_type": "execute_result"
    }
   ],
   "source": [
    "workdays[:50]"
   ]
  },
  {
   "cell_type": "code",
   "execution_count": 37,
   "metadata": {
    "ExecuteTime": {
     "end_time": "2021-03-26T19:52:06.064063Z",
     "start_time": "2021-03-26T19:52:05.940316Z"
    }
   },
   "outputs": [
    {
     "name": "stdout",
     "output_type": "stream",
     "text": [
      "Timer unit: 1e-07 s\n",
      "\n",
      "Total time: 0.0264773 s\n",
      "File: <ipython-input-34-e1372a9d4670>\n",
      "Function: get_workdays_jp at line 1\n",
      "\n",
      "Line #      Hits         Time  Per Hit   % Time  Line Contents\n",
      "==============================================================\n",
      "     1                                           def get_workdays_jp(start_date, end_date, return_as=\"date\", end_include=False):\n",
      "     2                                               \"\"\"\n",
      "     3                                               営業日を取得\n",
      "     4                                               \n",
      "     5                                               start_date: datetime.date\n",
      "     6                                                   開始時刻のdate\n",
      "     7                                               end_datetime: datetime.date\n",
      "     8                                                   終了時刻のdate\n",
      "     9                                               return_as: str, defalt: 'dt'\n",
      "    10                                                   返り値の形式\n",
      "    11                                                   - 'dt':pd.DatetimeIndex\n",
      "    12                                                   - 'date': datetime.date array\n",
      "    13                                               end_include: bool\n",
      "    14                                                   最終日も含めて出力するか\n",
      "    15                                               \"\"\"\n",
      "    16         1        169.0    169.0      0.1      assert isinstance(start_date, datetime.date) and isinstance(end_date, datetime.date)\n",
      "    17                                               # 返り値の形式の指定\n",
      "    18         1         94.0     94.0      0.0      return_as_set = {\"dt\", \"date\"}\n",
      "    19         1         81.0     81.0      0.0      if not return_as in return_as_set:\n",
      "    20                                                   raise Exception(\"return_as must be any in {}\".format(return_as_set))\n",
      "    21                                               \n",
      "    22                                               # datetime.dateをpd.Timestampに変換(datetime.dateは通常pd.DatetimeIndexと比較できないため)\n",
      "    23         1       1744.0   1744.0      0.7      start_timestamp = pd.Timestamp(start_date)\n",
      "    24         1       1740.0   1740.0      0.7      end_timestamp = pd.Timestamp(end_date)\n",
      "    25                                               \n",
      "    26                                               # 期間中のholidayを取得\n",
      "    27         1      16556.0  16556.0      6.3      holidays_in_span_index = (start_timestamp<=option.holidays_datetimeindex)&(option.holidays_datetimeindex<end_timestamp)  # DatetimeIndexを使うことに注意\n",
      "    28         1        401.0    401.0      0.2      holidays_in_span_array = option.holidays_date_array[holidays_in_span_index]  # ndarrayを使う\n",
      "    29                                           \n",
      "    30                                               # 期間中のdatetimeのarrayを取得\n",
      "    31         1         96.0     96.0      0.0      if end_include:\n",
      "    32                                                   days_datetimeindex = pd.date_range(start=start_date, end=end_date, freq=\"D\")  # 最終日も含める\n",
      "    33                                               else:\n",
      "    34         1      45789.0  45789.0     17.3          days_datetimeindex = pd.date_range(start=start_date, end=end_date-datetime.timedelta(days=1), freq=\"D\")  # 最終日は含めない\n",
      "    35                                               \n",
      "    36                                               \n",
      "    37                                               # 休日に含まれないもの，さらに土日に含まれないもののboolインデックスを取得\n",
      "    38         1      28232.0  28232.0     10.7      holiday_bool_array = np.in1d(days_datetimeindex.date, holidays_in_span_array)  # 休日であるかのブール(pd.DatetimeIndex.isin)でもいい\n",
      "    39         1      95029.0  95029.0     35.9      holiday_weekday_each_bool_arrays = [days_datetimeindex.weekday==weekday for weekday in option.holiday_weekdays]  # inを使うのを回避\n",
      "    40         1      15741.0  15741.0      5.9      holiday_weekday_bool_array = np.logical_or.reduce(holiday_weekday_each_bool_arrays)  # 休日曜日\n",
      "    41                                               \n",
      "    42         1        474.0    474.0      0.2      workdays_bool_array = (~holiday_bool_array)&(~holiday_weekday_bool_array)  # 休日でなく休日曜日でない\n",
      "    43                                               \n",
      "    44         1      52175.0  52175.0     19.7      workdays_datetimeindex = days_datetimeindex[workdays_bool_array].copy()\n",
      "    45         1        106.0    106.0      0.0      if return_as==\"dt\":\n",
      "    46                                                   return workdays_datetimeindex\n",
      "    47         1         81.0     81.0      0.0      elif return_as==\"date\":\n",
      "    48         1       6265.0   6265.0      2.4          return workdays_datetimeindex.date\n",
      "\n"
     ]
    }
   ],
   "source": [
    "def temp_func():\n",
    "    workdays = get_workdays_jp(start_date, end_date, return_as=\"date\", end_include=False)\n",
    "\n",
    "from line_profiler import LineProfiler\n",
    "prf = LineProfiler()                                                                                         \n",
    "#prf.add_module()                                                                                          \n",
    "prf.add_function(get_workdays_jp)                                                                                      \n",
    "prf.runcall(temp_func)                                                                                          \n",
    "prf.print_stats()"
   ]
  },
  {
   "cell_type": "code",
   "execution_count": 38,
   "metadata": {
    "ExecuteTime": {
     "end_time": "2021-03-26T19:52:18.871717Z",
     "start_time": "2021-03-26T19:52:18.845292Z"
    }
   },
   "outputs": [],
   "source": [
    "days_datetimeindex = pd.date_range(start=start_date, end=end_date, freq=\"D\")"
   ]
  },
  {
   "cell_type": "markdown",
   "metadata": {},
   "source": [
    "ボトルネックは以下の部分である．"
   ]
  },
  {
   "cell_type": "code",
   "execution_count": 39,
   "metadata": {
    "ExecuteTime": {
     "end_time": "2021-03-26T19:52:22.643754Z",
     "start_time": "2021-03-26T19:52:20.174199Z"
    }
   },
   "outputs": [
    {
     "name": "stdout",
     "output_type": "stream",
     "text": [
      "2.85 ms ± 429 µs per loop (mean ± std. dev. of 7 runs, 100 loops each)\n"
     ]
    }
   ],
   "source": [
    "%%timeit \n",
    "[days_datetimeindex.weekday==weekday for weekday in option.holiday_weekdays]"
   ]
  },
  {
   "cell_type": "markdown",
   "metadata": {},
   "source": [
    "ここで，weekdayアトリビュートの取得にほぼすべての時間が費やされていることに注意すれば"
   ]
  },
  {
   "cell_type": "code",
   "execution_count": 40,
   "metadata": {
    "ExecuteTime": {
     "end_time": "2021-03-26T19:52:34.826492Z",
     "start_time": "2021-03-26T19:52:29.162800Z"
    }
   },
   "outputs": [
    {
     "name": "stdout",
     "output_type": "stream",
     "text": [
      "594 µs ± 44.7 µs per loop (mean ± std. dev. of 7 runs, 1000 loops each)\n"
     ]
    }
   ],
   "source": [
    "%%timeit\n",
    "weekday_array = days_datetimeindex.weekday.values\n",
    "[weekday_array==weekday for weekday in option.holiday_weekdays]"
   ]
  },
  {
   "cell_type": "markdown",
   "metadata": {},
   "source": [
    "これでholiday_weekdaysの個数に依存しなくなる．"
   ]
  },
  {
   "cell_type": "markdown",
   "metadata": {},
   "source": [
    "### 営業日であるかどうか "
   ]
  },
  {
   "cell_type": "code",
   "execution_count": 41,
   "metadata": {
    "ExecuteTime": {
     "end_time": "2021-03-26T19:52:42.558108Z",
     "start_time": "2021-03-26T19:52:42.529188Z"
    }
   },
   "outputs": [],
   "source": [
    "def check_workday_jp(select_date):\n",
    "    \"\"\"\n",
    "    与えられたdatetime.dateが営業日であるかどうかを出力する\n",
    "    select_date: datetime.date\n",
    "        入力するdate\n",
    "    \"\"\"\n",
    "    assert isinstance(select_date, datetime.date)\n",
    "    select_date_array = np.array([select_date])  # データ数が一つのndarray\n",
    "    # 休日であるかどうか\n",
    "    is_holiday = np.in1d(select_date_array, option.holidays_date_array).item()  # データ数が一つのため，item\n",
    "    \n",
    "    # 休日曜日であるかどうか\n",
    "    is_holiday_weekday = select_date.weekday() in option.holiday_weekdays\n",
    "    \n",
    "    is_workday = not any([is_holiday, is_holiday_weekday])\n",
    "    \n",
    "    return is_workday"
   ]
  },
  {
   "cell_type": "code",
   "execution_count": 42,
   "metadata": {
    "ExecuteTime": {
     "end_time": "2021-03-26T19:52:43.532861Z",
     "start_time": "2021-03-26T19:52:43.493008Z"
    }
   },
   "outputs": [
    {
     "data": {
      "text/plain": [
       "False"
      ]
     },
     "execution_count": 42,
     "metadata": {},
     "output_type": "execute_result"
    }
   ],
   "source": [
    "select_date = datetime.date(2021, 1, 3)\n",
    "check_workday_jp(select_date)"
   ]
  },
  {
   "cell_type": "code",
   "execution_count": 43,
   "metadata": {
    "ExecuteTime": {
     "end_time": "2021-03-26T19:52:44.952389Z",
     "start_time": "2021-03-26T19:52:44.895540Z"
    }
   },
   "outputs": [
    {
     "name": "stdout",
     "output_type": "stream",
     "text": [
      "Timer unit: 1e-07 s\n",
      "\n",
      "Total time: 0.0068659 s\n",
      "File: <ipython-input-41-45ef695fe0ae>\n",
      "Function: check_workday_jp at line 1\n",
      "\n",
      "Line #      Hits         Time  Per Hit   % Time  Line Contents\n",
      "==============================================================\n",
      "     1                                           def check_workday_jp(select_date):\n",
      "     2                                               \"\"\"\n",
      "     3                                               与えられたdatetime.dateが営業日であるかどうかを出力する\n",
      "     4                                               select_date: datetime.date\n",
      "     5                                                   入力するdate\n",
      "     6                                               \"\"\"\n",
      "     7         1        102.0    102.0      0.1      assert isinstance(select_date, datetime.date)\n",
      "     8         1        459.0    459.0      0.7      select_date_array = np.array([select_date])  # データ数が一つのndarray\n",
      "     9                                               # 休日であるかどうか\n",
      "    10         1      67670.0  67670.0     98.6      is_holiday = np.in1d(select_date_array, option.holidays_date_array).item()  # データ数が一つのため，item\n",
      "    11                                               \n",
      "    12                                               # 休日曜日であるかどうか\n",
      "    13         1        311.0    311.0      0.5      is_holiday_weekday = select_date.weekday() in option.holiday_weekdays\n",
      "    14                                               \n",
      "    15         1         81.0     81.0      0.1      is_workday = not any([is_holiday, is_holiday_weekday])\n",
      "    16                                               \n",
      "    17         1         36.0     36.0      0.1      return is_workday\n",
      "\n"
     ]
    }
   ],
   "source": [
    "def temp_func():\n",
    "    check_workday_jp(select_date)\n",
    "    \n",
    "from line_profiler import LineProfiler\n",
    "prf = LineProfiler()                                                                                         \n",
    "#prf.add_module()                                                                                          \n",
    "prf.add_function(check_workday_jp)                                                                                      \n",
    "prf.runcall(temp_func)                                                                                          \n",
    "prf.print_stats()"
   ]
  },
  {
   "cell_type": "markdown",
   "metadata": {},
   "source": [
    "np.in1dの速度とコンストラクタの速度の問題がある．"
   ]
  },
  {
   "cell_type": "code",
   "execution_count": 144,
   "metadata": {
    "ExecuteTime": {
     "end_time": "2021-03-26T23:43:51.265163Z",
     "start_time": "2021-03-26T23:43:46.321387Z"
    }
   },
   "outputs": [
    {
     "name": "stdout",
     "output_type": "stream",
     "text": [
      "5.99 ms ± 715 µs per loop (mean ± std. dev. of 7 runs, 100 loops each)\n"
     ]
    }
   ],
   "source": [
    "%%timeit\n",
    "select_date = datetime.date(2021, 1, 3)\n",
    "select_date_array = select_date_array = np.array([select_date])\n",
    "np.in1d(select_date_array, option.holidays_date_array).item()  # データ数が一つのため，item"
   ]
  },
  {
   "cell_type": "markdown",
   "metadata": {},
   "source": [
    "この問題では探すのが1つであるので，以下のようにdatetime.dateの比較演算子を利用できる．"
   ]
  },
  {
   "cell_type": "code",
   "execution_count": 145,
   "metadata": {
    "ExecuteTime": {
     "end_time": "2021-03-26T23:44:30.761549Z",
     "start_time": "2021-03-26T23:44:24.738658Z"
    }
   },
   "outputs": [
    {
     "name": "stdout",
     "output_type": "stream",
     "text": [
      "71.7 µs ± 10.3 µs per loop (mean ± std. dev. of 7 runs, 10000 loops each)\n"
     ]
    }
   ],
   "source": [
    "%%timeit \n",
    "select_date = datetime.date(2021, 1, 3)\n",
    "(option.holidays_date_array == select_date).sum() > 0"
   ]
  },
  {
   "cell_type": "markdown",
   "metadata": {},
   "source": [
    "### 非営業日を取得"
   ]
  },
  {
   "cell_type": "markdown",
   "metadata": {},
   "source": [
    "同様に，すでに取得したholidayと照らし合わせる．"
   ]
  },
  {
   "cell_type": "code",
   "execution_count": 44,
   "metadata": {
    "ExecuteTime": {
     "end_time": "2021-03-26T19:53:31.876426Z",
     "start_time": "2021-03-26T19:53:31.786403Z"
    }
   },
   "outputs": [],
   "source": [
    "def get_not_workdays_jp(start_date, end_date, return_as=\"date\", end_include=False):\n",
    "    \"\"\"\n",
    "    非営業日を取得(土日or祝日)\n",
    "    \n",
    "    start_date: datetime.date\n",
    "        開始時刻のdate\n",
    "    end_datetime: datetime.date\n",
    "        終了時刻のdate\n",
    "    return_as: str, defalt: 'dt'\n",
    "        返り値の形式\n",
    "        - 'dt':pd.DatetimeIndex\n",
    "        - 'date': datetime.date array\n",
    "    end_include: bool\n",
    "        最終日も含めて出力するか\n",
    "    \"\"\"\n",
    "    assert isinstance(start_date, datetime.date) and isinstance(end_date, datetime.date)\n",
    "    # 返り値の形式の指定\n",
    "    return_as_set = {\"dt\", \"date\"}\n",
    "    if not return_as in return_as_set:\n",
    "        raise Exception(\"return_as must be any in {}\".format(return_as_set))\n",
    "    \n",
    "    # datetime.dateをpd.Timestampに変換(datetime.dateは通常pd.DatetimeIndexと比較できないため)\n",
    "    start_timestamp = pd.Timestamp(start_date)\n",
    "    end_timestamp = pd.Timestamp(end_date)\n",
    "    \n",
    "    # 期間中のholidayを取得\n",
    "    holidays_in_span_index = (start_timestamp<=option.holidays_datetimeindex)&(option.holidays_datetimeindex<end_timestamp)  # DatetimeIndexを使うことに注意\n",
    "    holidays_in_span_array = option.holidays_date_array[holidays_in_span_index]  # ndarrayを使う\n",
    "\n",
    "    # 期間中のdatetimeのarrayを取得\n",
    "    if end_include:\n",
    "        days_datetimeindex = pd.date_range(start=start_date, end=end_date, freq=\"D\")  # 最終日も含める\n",
    "    else:\n",
    "        days_datetimeindex = pd.date_range(start=start_date, end=end_date-datetime.timedelta(days=1), freq=\"D\")  # 最終日は含めない\n",
    "    \n",
    "    # 休日に含まれないもの，さらに休日曜日に含まれないもののboolインデックスを取得\n",
    "    holiday_bool_array = np.in1d(days_datetimeindex.date, holidays_in_span_array)  # 休日であるかのブール(pd.DatetimeIndex.isin)でもいい\n",
    "    holiday_weekday_each_bool_arrays = [days_datetimeindex.weekday==weekday for weekday in option.holiday_weekdays]  # inを使うのを回避\n",
    "    holiday_weekday_bool_array = np.logical_or.reduce(holiday_weekday_each_bool_arrays)  # 休日曜日\n",
    "    \n",
    "    not_workdays_bool_array = holiday_bool_array | holiday_weekday_bool_array  # 休日あるいは休日曜日\n",
    "    \n",
    "    not_workdays_datetimeindex = days_datetimeindex[not_workdays_bool_array].copy()\n",
    "    if return_as==\"dt\":\n",
    "        return not_workdays_datetimeindex\n",
    "    elif return_as==\"date\":\n",
    "        return not_workdays_datetimeindex.date"
   ]
  },
  {
   "cell_type": "code",
   "execution_count": 45,
   "metadata": {
    "ExecuteTime": {
     "end_time": "2021-03-26T19:53:32.299571Z",
     "start_time": "2021-03-26T19:53:32.254687Z"
    }
   },
   "outputs": [],
   "source": [
    "start_datetime = datetime.date(2019, 1, 1)\n",
    "end_datetime = datetime.date(2019, 12, 31)\n",
    "\n",
    "not_workdays = get_not_workdays_jp(start_date, end_date, return_as=\"dt\")"
   ]
  },
  {
   "cell_type": "code",
   "execution_count": 46,
   "metadata": {
    "ExecuteTime": {
     "end_time": "2021-03-26T19:53:33.608392Z",
     "start_time": "2021-03-26T19:53:33.545571Z"
    }
   },
   "outputs": [
    {
     "data": {
      "text/plain": [
       "DatetimeIndex(['2021-01-01', '2021-01-02', '2021-01-03', '2021-01-09',\n",
       "               '2021-01-10', '2021-01-11', '2021-01-16', '2021-01-17',\n",
       "               '2021-01-23', '2021-01-24',\n",
       "               ...\n",
       "               '2021-11-27', '2021-11-28', '2021-12-04', '2021-12-05',\n",
       "               '2021-12-11', '2021-12-12', '2021-12-18', '2021-12-19',\n",
       "               '2021-12-25', '2021-12-26'],\n",
       "              dtype='datetime64[ns]', length=119, freq=None)"
      ]
     },
     "execution_count": 46,
     "metadata": {},
     "output_type": "execute_result"
    }
   ],
   "source": [
    "not_workdays"
   ]
  },
  {
   "cell_type": "markdown",
   "metadata": {},
   "source": [
    "プロファイリングは省略"
   ]
  },
  {
   "cell_type": "markdown",
   "metadata": {},
   "source": [
    "## 指定した日数後の営業日を取得"
   ]
  },
  {
   "cell_type": "code",
   "execution_count": 191,
   "metadata": {
    "ExecuteTime": {
     "end_time": "2021-03-27T06:15:35.268116Z",
     "start_time": "2021-03-27T06:15:35.199466Z"
    }
   },
   "outputs": [],
   "source": [
    "def get_next_workday_jp(select_date, days=1, select_include=False, return_as=\"date\"):\n",
    "    \"\"\"\n",
    "    指定した日数後の営業日を取得\n",
    "    select_date: datetime.date\n",
    "        指定する日時\n",
    "    days: int\n",
    "        日数\n",
    "    return_as: str, defalt: 'dt'\n",
    "        返り値の形式\n",
    "        - 'dt':pd.Timstamp\n",
    "        - 'datetime': datetime.datetime array\n",
    "    \"\"\"\n",
    "    assert isinstance(select_date, datetime.date)\n",
    "    # 返り値の形式の指定\n",
    "    return_as_set = {\"dt\", \"date\"}\n",
    "    if not return_as in return_as_set:\n",
    "        raise Exception(\"return_as must be any in {}\".format(return_as_set))\n",
    "        \n",
    "\n",
    "    def get_next_workday_jp_gen(select_date):\n",
    "        add_days = 1  # 追加日数の初期値\n",
    "        while True:\n",
    "            next_day = select_date + datetime.timedelta(days=add_days)\n",
    "            if check_workday_jp(next_day):\n",
    "                yield next_day\n",
    "            add_days += 1  # 追加日数をさらに追加\n",
    "    \n",
    "    next_workday_gen = get_next_workday_jp_gen(select_date)\n",
    "    \n",
    "    for i in range(days):\n",
    "        next_day = next(next_workday_gen)\n",
    "    \n",
    "    if return_as==\"date\":\n",
    "        return next_day\n",
    "    elif return_as==\"dt\":\n",
    "        return pd.Timestamp(next_day)"
   ]
  },
  {
   "cell_type": "code",
   "execution_count": 192,
   "metadata": {
    "ExecuteTime": {
     "end_time": "2021-03-27T06:15:36.365733Z",
     "start_time": "2021-03-27T06:15:36.314425Z"
    }
   },
   "outputs": [
    {
     "data": {
      "text/plain": [
       "datetime.date(2021, 1, 18)"
      ]
     },
     "execution_count": 192,
     "metadata": {},
     "output_type": "execute_result"
    }
   ],
   "source": [
    "select_date = datetime.date(2021, 1, 1)\n",
    "next_workday = get_next_workday_jp(select_date, days=10, return_as=\"date\")\n",
    "next_workday"
   ]
  },
  {
   "cell_type": "code",
   "execution_count": 193,
   "metadata": {
    "ExecuteTime": {
     "end_time": "2021-03-27T06:15:37.854658Z",
     "start_time": "2021-03-27T06:15:37.743825Z"
    }
   },
   "outputs": [
    {
     "name": "stdout",
     "output_type": "stream",
     "text": [
      "Timer unit: 1e-07 s\n",
      "\n",
      "Total time: 0.0262004 s\n",
      "File: <ipython-input-191-eab34ca25371>\n",
      "Function: get_next_workday_jp at line 1\n",
      "\n",
      "Line #      Hits         Time  Per Hit   % Time  Line Contents\n",
      "==============================================================\n",
      "     1                                           def get_next_workday_jp(select_date, days=1, select_include=False, return_as=\"date\"):\n",
      "     2                                               \"\"\"\n",
      "     3                                               select_date: datetime.date\n",
      "     4                                                   指定する日時\n",
      "     5                                               return_as: str, defalt: 'dt'\n",
      "     6                                                   返り値の形式\n",
      "     7                                                   - 'dt':pd.Timstamp\n",
      "     8                                                   - 'datetime': datetime.datetime array\n",
      "     9                                               \"\"\"\n",
      "    10         1        218.0    218.0      0.1      assert isinstance(select_date, datetime.date)\n",
      "    11                                               # 返り値の形式の指定\n",
      "    12         1        128.0    128.0      0.0      return_as_set = {\"dt\", \"date\"}\n",
      "    13         1        114.0    114.0      0.0      if not return_as in return_as_set:\n",
      "    14                                                   raise Exception(\"return_as must be any in {}\".format(return_as_set))\n",
      "    15                                                   \n",
      "    16                                           \n",
      "    17         1        112.0    112.0      0.0      def get_next_workday_jp_gen(select_date):\n",
      "    18                                                   add_days = 1  # 追加日数の初期値\n",
      "    19                                                   while True:\n",
      "    20                                                       next_day = select_date + datetime.timedelta(days=add_days)\n",
      "    21                                                       if check_workday_jp(next_day):\n",
      "    22                                                           yield next_day\n",
      "    23                                                       add_days += 1  # 追加日数をさらに追加\n",
      "    24                                               \n",
      "    25         1        114.0    114.0      0.0      next_workday_gen = get_next_workday_jp_gen(select_date)\n",
      "    26                                               \n",
      "    27        44       6674.0    151.7      2.5      for i in range(days):\n",
      "    28        43     254436.0   5917.1     97.1          next_day = next(next_workday_gen)\n",
      "    29                                               \n",
      "    30         1        107.0    107.0      0.0      if return_as==\"date\":\n",
      "    31         1        101.0    101.0      0.0          return next_day\n",
      "    32                                               elif return_as==\"dt\":\n",
      "    33                                                   return pd.Timestamp(next_day)\n",
      "\n"
     ]
    }
   ],
   "source": [
    "def temp_func():\n",
    "    select_date = datetime.date(2021, 1, 1)\n",
    "    next_workday = get_next_workday_jp(select_date, days=43, return_as=\"date\")\n",
    "    \n",
    "from line_profiler import LineProfiler\n",
    "prf = LineProfiler()                                                                                         \n",
    "#prf.add_module()                                                                                          \n",
    "prf.add_function(get_next_workday_jp)                                                                                      \n",
    "prf.runcall(temp_func)                                                                                          \n",
    "prf.print_stats()"
   ]
  },
  {
   "cell_type": "markdown",
   "metadata": {
    "ExecuteTime": {
     "end_time": "2021-03-26T16:01:59.370652Z",
     "start_time": "2021-03-26T16:01:59.219055Z"
    }
   },
   "source": [
    "ボトルネックは明らかであり，毎回get_next_workday_jpで判定していることである．結局のところ，普通の日にちのイテレーターと休日イテレーターを回しながら一つづつ判定するのが効果的と思われる．"
   ]
  },
  {
   "cell_type": "code",
   "execution_count": 195,
   "metadata": {
    "ExecuteTime": {
     "end_time": "2021-03-27T06:15:52.384307Z",
     "start_time": "2021-03-27T06:15:52.336663Z"
    }
   },
   "outputs": [],
   "source": [
    "select_date = datetime.date(2021, 1, 1)\n",
    "select_days = 10\n",
    "\n",
    "counter = 0\n",
    "holiday_weekdays_set = set(option.holiday_weekdays)  #setにした方が高速？\n",
    "\n",
    "holiday_bigger_select_index = (option.holidays_date_array<=select_date).sum()\n",
    "holiday_iter = iter(option.holidays_date_array[holiday_bigger_select_index:])\n",
    "def days_gen(select_date):\n",
    "    add_days = 1  # select_dateを含まない\n",
    "    while True:\n",
    "        yield select_date + datetime.timedelta(days=add_days)\n",
    "        add_days += 1\n",
    "days_iter = days_gen(select_date)\n",
    "\n",
    "# 以下二つのイテレーターを比較し，one_dayが休日に含まれる場合，カウントしカウントが指定に達した場合終了する\n",
    "one_day = next(days_iter)\n",
    "\n",
    "one_holiday = next(holiday_iter)\n",
    "\n",
    "while True:\n",
    "    if one_day==one_holiday:  #その日が祝日である\n",
    "        one_holiday = next(holiday_iter)\n",
    "    else:\n",
    "        if not one_day.weekday() in holiday_weekdays_set:  #その日が休日曜日である\n",
    "            #print(one_day)\n",
    "            counter += 1  # カウンターをインクリメント\n",
    "    \n",
    "    if counter >= select_days:\n",
    "        break\n",
    "    \n",
    "    one_day = next(days_iter)"
   ]
  },
  {
   "cell_type": "code",
   "execution_count": 196,
   "metadata": {
    "ExecuteTime": {
     "end_time": "2021-03-27T06:15:53.370554Z",
     "start_time": "2021-03-27T06:15:53.338640Z"
    }
   },
   "outputs": [
    {
     "data": {
      "text/plain": [
       "datetime.date(2021, 1, 18)"
      ]
     },
     "execution_count": 196,
     "metadata": {},
     "output_type": "execute_result"
    }
   ],
   "source": [
    "one_day"
   ]
  },
  {
   "cell_type": "code",
   "execution_count": 197,
   "metadata": {
    "ExecuteTime": {
     "end_time": "2021-03-27T06:15:55.418776Z",
     "start_time": "2021-03-27T06:15:55.386454Z"
    }
   },
   "outputs": [
    {
     "data": {
      "text/plain": [
       "True"
      ]
     },
     "execution_count": 197,
     "metadata": {},
     "output_type": "execute_result"
    }
   ],
   "source": [
    "datetime.date(2021,1,1) == datetime.date(2021,1,1)"
   ]
  },
  {
   "cell_type": "markdown",
   "metadata": {},
   "source": [
    "## 指定した日数分の営業日を取得"
   ]
  },
  {
   "cell_type": "code",
   "execution_count": 200,
   "metadata": {
    "ExecuteTime": {
     "end_time": "2021-03-27T06:19:09.218836Z",
     "start_time": "2021-03-27T06:19:09.181200Z"
    }
   },
   "outputs": [],
   "source": [
    "def get_workdays_number_jp(start_date, days, return_as=\"date\"):\n",
    "    \"\"\"\n",
    "    指定した日数分の営業日を取得\n",
    "    start_date: datetime.date\n",
    "        開始日時\n",
    "    days: int\n",
    "        日数\n",
    "    return_as: str, defalt: 'dt'\n",
    "        返り値の形式\n",
    "        - 'dt':pd.Timstamp\n",
    "        - 'datetime': datetime.datetime array\n",
    "    \"\"\"\n",
    "    end_date = get_next_workday_jp(start_date, days=days, return_as=\"date\")\n",
    "    return get_workdays_jp(start_date, end_date, end_include=True, return_as=return_as)"
   ]
  },
  {
   "cell_type": "code",
   "execution_count": 201,
   "metadata": {
    "ExecuteTime": {
     "end_time": "2021-03-27T06:19:10.294803Z",
     "start_time": "2021-03-27T06:19:10.236807Z"
    }
   },
   "outputs": [
    {
     "data": {
      "text/plain": [
       "array([datetime.date(2021, 1, 4), datetime.date(2021, 1, 5),\n",
       "       datetime.date(2021, 1, 6), datetime.date(2021, 1, 7),\n",
       "       datetime.date(2021, 1, 8), datetime.date(2021, 1, 12),\n",
       "       datetime.date(2021, 1, 13), datetime.date(2021, 1, 14),\n",
       "       datetime.date(2021, 1, 15), datetime.date(2021, 1, 18)],\n",
       "      dtype=object)"
      ]
     },
     "execution_count": 201,
     "metadata": {},
     "output_type": "execute_result"
    }
   ],
   "source": [
    "start__date = datetime.date(2021, 1, 1)\n",
    "workdays = get_workdays_number_jp(select_date, days=10, return_as=\"date\")\n",
    "workdays"
   ]
  },
  {
   "cell_type": "markdown",
   "metadata": {},
   "source": [
    "## データフレームに関しての処理"
   ]
  },
  {
   "cell_type": "markdown",
   "metadata": {},
   "source": [
    "### データの用意 "
   ]
  },
  {
   "cell_type": "markdown",
   "metadata": {},
   "source": [
    "awareなdatetimeを持つDataFrame"
   ]
  },
  {
   "cell_type": "code",
   "execution_count": 52,
   "metadata": {
    "ExecuteTime": {
     "end_time": "2021-03-26T19:54:12.694160Z",
     "start_time": "2021-03-26T19:54:12.368165Z"
    }
   },
   "outputs": [
    {
     "data": {
      "text/html": [
       "<div>\n",
       "<style scoped>\n",
       "    .dataframe tbody tr th:only-of-type {\n",
       "        vertical-align: middle;\n",
       "    }\n",
       "\n",
       "    .dataframe tbody tr th {\n",
       "        vertical-align: top;\n",
       "    }\n",
       "\n",
       "    .dataframe thead th {\n",
       "        text-align: right;\n",
       "    }\n",
       "</style>\n",
       "<table border=\"1\" class=\"dataframe\">\n",
       "  <thead>\n",
       "    <tr style=\"text-align: right;\">\n",
       "      <th></th>\n",
       "      <th>Open_6502</th>\n",
       "      <th>High_6502</th>\n",
       "      <th>Low_6502</th>\n",
       "      <th>Close_6502</th>\n",
       "      <th>Volume_6502</th>\n",
       "    </tr>\n",
       "    <tr>\n",
       "      <th>timestamp</th>\n",
       "      <th></th>\n",
       "      <th></th>\n",
       "      <th></th>\n",
       "      <th></th>\n",
       "      <th></th>\n",
       "    </tr>\n",
       "  </thead>\n",
       "  <tbody>\n",
       "    <tr>\n",
       "      <th>2020-11-04 00:00:00+09:00</th>\n",
       "      <td>NaN</td>\n",
       "      <td>NaN</td>\n",
       "      <td>NaN</td>\n",
       "      <td>NaN</td>\n",
       "      <td>NaN</td>\n",
       "    </tr>\n",
       "    <tr>\n",
       "      <th>2020-11-04 00:01:00+09:00</th>\n",
       "      <td>NaN</td>\n",
       "      <td>NaN</td>\n",
       "      <td>NaN</td>\n",
       "      <td>NaN</td>\n",
       "      <td>NaN</td>\n",
       "    </tr>\n",
       "    <tr>\n",
       "      <th>2020-11-04 00:02:00+09:00</th>\n",
       "      <td>NaN</td>\n",
       "      <td>NaN</td>\n",
       "      <td>NaN</td>\n",
       "      <td>NaN</td>\n",
       "      <td>NaN</td>\n",
       "    </tr>\n",
       "    <tr>\n",
       "      <th>2020-11-04 00:03:00+09:00</th>\n",
       "      <td>NaN</td>\n",
       "      <td>NaN</td>\n",
       "      <td>NaN</td>\n",
       "      <td>NaN</td>\n",
       "      <td>NaN</td>\n",
       "    </tr>\n",
       "    <tr>\n",
       "      <th>2020-11-04 00:04:00+09:00</th>\n",
       "      <td>NaN</td>\n",
       "      <td>NaN</td>\n",
       "      <td>NaN</td>\n",
       "      <td>NaN</td>\n",
       "      <td>NaN</td>\n",
       "    </tr>\n",
       "    <tr>\n",
       "      <th>...</th>\n",
       "      <td>...</td>\n",
       "      <td>...</td>\n",
       "      <td>...</td>\n",
       "      <td>...</td>\n",
       "      <td>...</td>\n",
       "    </tr>\n",
       "    <tr>\n",
       "      <th>2020-11-30 23:55:00+09:00</th>\n",
       "      <td>NaN</td>\n",
       "      <td>NaN</td>\n",
       "      <td>NaN</td>\n",
       "      <td>NaN</td>\n",
       "      <td>NaN</td>\n",
       "    </tr>\n",
       "    <tr>\n",
       "      <th>2020-11-30 23:56:00+09:00</th>\n",
       "      <td>NaN</td>\n",
       "      <td>NaN</td>\n",
       "      <td>NaN</td>\n",
       "      <td>NaN</td>\n",
       "      <td>NaN</td>\n",
       "    </tr>\n",
       "    <tr>\n",
       "      <th>2020-11-30 23:57:00+09:00</th>\n",
       "      <td>NaN</td>\n",
       "      <td>NaN</td>\n",
       "      <td>NaN</td>\n",
       "      <td>NaN</td>\n",
       "      <td>NaN</td>\n",
       "    </tr>\n",
       "    <tr>\n",
       "      <th>2020-11-30 23:58:00+09:00</th>\n",
       "      <td>NaN</td>\n",
       "      <td>NaN</td>\n",
       "      <td>NaN</td>\n",
       "      <td>NaN</td>\n",
       "      <td>NaN</td>\n",
       "    </tr>\n",
       "    <tr>\n",
       "      <th>2020-11-30 23:59:00+09:00</th>\n",
       "      <td>NaN</td>\n",
       "      <td>NaN</td>\n",
       "      <td>NaN</td>\n",
       "      <td>NaN</td>\n",
       "      <td>NaN</td>\n",
       "    </tr>\n",
       "  </tbody>\n",
       "</table>\n",
       "<p>29520 rows × 5 columns</p>\n",
       "</div>"
      ],
      "text/plain": [
       "                           Open_6502  High_6502  Low_6502  Close_6502  \\\n",
       "timestamp                                                               \n",
       "2020-11-04 00:00:00+09:00        NaN        NaN       NaN         NaN   \n",
       "2020-11-04 00:01:00+09:00        NaN        NaN       NaN         NaN   \n",
       "2020-11-04 00:02:00+09:00        NaN        NaN       NaN         NaN   \n",
       "2020-11-04 00:03:00+09:00        NaN        NaN       NaN         NaN   \n",
       "2020-11-04 00:04:00+09:00        NaN        NaN       NaN         NaN   \n",
       "...                              ...        ...       ...         ...   \n",
       "2020-11-30 23:55:00+09:00        NaN        NaN       NaN         NaN   \n",
       "2020-11-30 23:56:00+09:00        NaN        NaN       NaN         NaN   \n",
       "2020-11-30 23:57:00+09:00        NaN        NaN       NaN         NaN   \n",
       "2020-11-30 23:58:00+09:00        NaN        NaN       NaN         NaN   \n",
       "2020-11-30 23:59:00+09:00        NaN        NaN       NaN         NaN   \n",
       "\n",
       "                           Volume_6502  \n",
       "timestamp                               \n",
       "2020-11-04 00:00:00+09:00          NaN  \n",
       "2020-11-04 00:01:00+09:00          NaN  \n",
       "2020-11-04 00:02:00+09:00          NaN  \n",
       "2020-11-04 00:03:00+09:00          NaN  \n",
       "2020-11-04 00:04:00+09:00          NaN  \n",
       "...                                ...  \n",
       "2020-11-30 23:55:00+09:00          NaN  \n",
       "2020-11-30 23:56:00+09:00          NaN  \n",
       "2020-11-30 23:57:00+09:00          NaN  \n",
       "2020-11-30 23:58:00+09:00          NaN  \n",
       "2020-11-30 23:59:00+09:00          NaN  \n",
       "\n",
       "[29520 rows x 5 columns]"
      ]
     },
     "execution_count": 52,
     "metadata": {},
     "output_type": "execute_result"
    }
   ],
   "source": [
    "with open(\"aware_stock_df.pickle\", \"rb\") as f:\n",
    "    aware_stock_df = pickle.load(f)\n",
    "\n",
    "aware_stock_df"
   ]
  },
  {
   "cell_type": "markdown",
   "metadata": {},
   "source": [
    "naiveなdatetimeを持つDataFrame"
   ]
  },
  {
   "cell_type": "code",
   "execution_count": 53,
   "metadata": {
    "ExecuteTime": {
     "end_time": "2021-03-26T19:54:17.923108Z",
     "start_time": "2021-03-26T19:54:17.739197Z"
    }
   },
   "outputs": [
    {
     "data": {
      "text/html": [
       "<div>\n",
       "<style scoped>\n",
       "    .dataframe tbody tr th:only-of-type {\n",
       "        vertical-align: middle;\n",
       "    }\n",
       "\n",
       "    .dataframe tbody tr th {\n",
       "        vertical-align: top;\n",
       "    }\n",
       "\n",
       "    .dataframe thead th {\n",
       "        text-align: right;\n",
       "    }\n",
       "</style>\n",
       "<table border=\"1\" class=\"dataframe\">\n",
       "  <thead>\n",
       "    <tr style=\"text-align: right;\">\n",
       "      <th></th>\n",
       "      <th>Open_6502</th>\n",
       "      <th>High_6502</th>\n",
       "      <th>Low_6502</th>\n",
       "      <th>Close_6502</th>\n",
       "      <th>Volume_6502</th>\n",
       "    </tr>\n",
       "    <tr>\n",
       "      <th>timestamp</th>\n",
       "      <th></th>\n",
       "      <th></th>\n",
       "      <th></th>\n",
       "      <th></th>\n",
       "      <th></th>\n",
       "    </tr>\n",
       "  </thead>\n",
       "  <tbody>\n",
       "    <tr>\n",
       "      <th>2020-11-04 09:00:00</th>\n",
       "      <td>2669.0</td>\n",
       "      <td>2670.0</td>\n",
       "      <td>2658.0</td>\n",
       "      <td>2664.0</td>\n",
       "      <td>93000.0</td>\n",
       "    </tr>\n",
       "    <tr>\n",
       "      <th>2020-11-05 09:00:00</th>\n",
       "      <td>2631.0</td>\n",
       "      <td>2641.0</td>\n",
       "      <td>2630.0</td>\n",
       "      <td>2639.0</td>\n",
       "      <td>55000.0</td>\n",
       "    </tr>\n",
       "    <tr>\n",
       "      <th>2020-11-06 09:00:00</th>\n",
       "      <td>2615.0</td>\n",
       "      <td>2644.0</td>\n",
       "      <td>2609.0</td>\n",
       "      <td>2617.0</td>\n",
       "      <td>90700.0</td>\n",
       "    </tr>\n",
       "    <tr>\n",
       "      <th>2020-11-09 09:00:00</th>\n",
       "      <td>2711.0</td>\n",
       "      <td>2719.0</td>\n",
       "      <td>2707.0</td>\n",
       "      <td>2710.0</td>\n",
       "      <td>0.0</td>\n",
       "    </tr>\n",
       "    <tr>\n",
       "      <th>2020-11-10 09:00:00</th>\n",
       "      <td>2780.0</td>\n",
       "      <td>2782.0</td>\n",
       "      <td>2770.0</td>\n",
       "      <td>2777.0</td>\n",
       "      <td>142700.0</td>\n",
       "    </tr>\n",
       "    <tr>\n",
       "      <th>2020-11-11 09:00:00</th>\n",
       "      <td>NaN</td>\n",
       "      <td>NaN</td>\n",
       "      <td>NaN</td>\n",
       "      <td>NaN</td>\n",
       "      <td>NaN</td>\n",
       "    </tr>\n",
       "    <tr>\n",
       "      <th>2020-11-12 09:00:00</th>\n",
       "      <td>2788.0</td>\n",
       "      <td>2800.0</td>\n",
       "      <td>2781.0</td>\n",
       "      <td>2789.0</td>\n",
       "      <td>108400.0</td>\n",
       "    </tr>\n",
       "    <tr>\n",
       "      <th>2020-11-13 09:00:00</th>\n",
       "      <td>2750.0</td>\n",
       "      <td>2754.0</td>\n",
       "      <td>2741.0</td>\n",
       "      <td>2750.0</td>\n",
       "      <td>71500.0</td>\n",
       "    </tr>\n",
       "    <tr>\n",
       "      <th>2020-11-14 09:00:00</th>\n",
       "      <td>NaN</td>\n",
       "      <td>NaN</td>\n",
       "      <td>NaN</td>\n",
       "      <td>NaN</td>\n",
       "      <td>NaN</td>\n",
       "    </tr>\n",
       "    <tr>\n",
       "      <th>2020-11-15 09:00:00</th>\n",
       "      <td>NaN</td>\n",
       "      <td>NaN</td>\n",
       "      <td>NaN</td>\n",
       "      <td>NaN</td>\n",
       "      <td>NaN</td>\n",
       "    </tr>\n",
       "    <tr>\n",
       "      <th>2020-11-16 09:00:00</th>\n",
       "      <td>2714.0</td>\n",
       "      <td>2716.0</td>\n",
       "      <td>2705.0</td>\n",
       "      <td>2710.0</td>\n",
       "      <td>111000.0</td>\n",
       "    </tr>\n",
       "    <tr>\n",
       "      <th>2020-11-17 09:00:00</th>\n",
       "      <td>2748.0</td>\n",
       "      <td>2748.0</td>\n",
       "      <td>2729.0</td>\n",
       "      <td>2734.0</td>\n",
       "      <td>124400.0</td>\n",
       "    </tr>\n",
       "    <tr>\n",
       "      <th>2020-11-18 09:00:00</th>\n",
       "      <td>2819.0</td>\n",
       "      <td>2823.0</td>\n",
       "      <td>2814.0</td>\n",
       "      <td>2820.0</td>\n",
       "      <td>76000.0</td>\n",
       "    </tr>\n",
       "    <tr>\n",
       "      <th>2020-11-19 09:00:00</th>\n",
       "      <td>2858.0</td>\n",
       "      <td>2867.0</td>\n",
       "      <td>2858.0</td>\n",
       "      <td>2860.0</td>\n",
       "      <td>107000.0</td>\n",
       "    </tr>\n",
       "    <tr>\n",
       "      <th>2020-11-20 09:00:00</th>\n",
       "      <td>2875.0</td>\n",
       "      <td>2887.0</td>\n",
       "      <td>2873.0</td>\n",
       "      <td>2884.0</td>\n",
       "      <td>106000.0</td>\n",
       "    </tr>\n",
       "    <tr>\n",
       "      <th>2020-11-24 09:00:00</th>\n",
       "      <td>2957.0</td>\n",
       "      <td>2967.0</td>\n",
       "      <td>2952.0</td>\n",
       "      <td>2966.0</td>\n",
       "      <td>0.0</td>\n",
       "    </tr>\n",
       "    <tr>\n",
       "      <th>2020-11-25 09:00:00</th>\n",
       "      <td>2927.0</td>\n",
       "      <td>2934.0</td>\n",
       "      <td>2926.0</td>\n",
       "      <td>2933.0</td>\n",
       "      <td>74000.0</td>\n",
       "    </tr>\n",
       "    <tr>\n",
       "      <th>2020-11-26 09:00:00</th>\n",
       "      <td>2822.0</td>\n",
       "      <td>2831.0</td>\n",
       "      <td>2818.0</td>\n",
       "      <td>2824.0</td>\n",
       "      <td>93500.0</td>\n",
       "    </tr>\n",
       "    <tr>\n",
       "      <th>2020-11-27 09:00:00</th>\n",
       "      <td>2809.0</td>\n",
       "      <td>2828.0</td>\n",
       "      <td>2809.0</td>\n",
       "      <td>2822.0</td>\n",
       "      <td>107600.0</td>\n",
       "    </tr>\n",
       "    <tr>\n",
       "      <th>2020-11-28 09:00:00</th>\n",
       "      <td>NaN</td>\n",
       "      <td>NaN</td>\n",
       "      <td>NaN</td>\n",
       "      <td>NaN</td>\n",
       "      <td>NaN</td>\n",
       "    </tr>\n",
       "    <tr>\n",
       "      <th>2020-11-29 09:00:00</th>\n",
       "      <td>NaN</td>\n",
       "      <td>NaN</td>\n",
       "      <td>NaN</td>\n",
       "      <td>NaN</td>\n",
       "      <td>NaN</td>\n",
       "    </tr>\n",
       "    <tr>\n",
       "      <th>2020-11-30 09:00:00</th>\n",
       "      <td>2940.0</td>\n",
       "      <td>2954.0</td>\n",
       "      <td>2936.0</td>\n",
       "      <td>2940.0</td>\n",
       "      <td>225300.0</td>\n",
       "    </tr>\n",
       "  </tbody>\n",
       "</table>\n",
       "</div>"
      ],
      "text/plain": [
       "                     Open_6502  High_6502  Low_6502  Close_6502  Volume_6502\n",
       "timestamp                                                                   \n",
       "2020-11-04 09:00:00     2669.0     2670.0    2658.0      2664.0      93000.0\n",
       "2020-11-05 09:00:00     2631.0     2641.0    2630.0      2639.0      55000.0\n",
       "2020-11-06 09:00:00     2615.0     2644.0    2609.0      2617.0      90700.0\n",
       "2020-11-09 09:00:00     2711.0     2719.0    2707.0      2710.0          0.0\n",
       "2020-11-10 09:00:00     2780.0     2782.0    2770.0      2777.0     142700.0\n",
       "2020-11-11 09:00:00        NaN        NaN       NaN         NaN          NaN\n",
       "2020-11-12 09:00:00     2788.0     2800.0    2781.0      2789.0     108400.0\n",
       "2020-11-13 09:00:00     2750.0     2754.0    2741.0      2750.0      71500.0\n",
       "2020-11-14 09:00:00        NaN        NaN       NaN         NaN          NaN\n",
       "2020-11-15 09:00:00        NaN        NaN       NaN         NaN          NaN\n",
       "2020-11-16 09:00:00     2714.0     2716.0    2705.0      2710.0     111000.0\n",
       "2020-11-17 09:00:00     2748.0     2748.0    2729.0      2734.0     124400.0\n",
       "2020-11-18 09:00:00     2819.0     2823.0    2814.0      2820.0      76000.0\n",
       "2020-11-19 09:00:00     2858.0     2867.0    2858.0      2860.0     107000.0\n",
       "2020-11-20 09:00:00     2875.0     2887.0    2873.0      2884.0     106000.0\n",
       "2020-11-24 09:00:00     2957.0     2967.0    2952.0      2966.0          0.0\n",
       "2020-11-25 09:00:00     2927.0     2934.0    2926.0      2933.0      74000.0\n",
       "2020-11-26 09:00:00     2822.0     2831.0    2818.0      2824.0      93500.0\n",
       "2020-11-27 09:00:00     2809.0     2828.0    2809.0      2822.0     107600.0\n",
       "2020-11-28 09:00:00        NaN        NaN       NaN         NaN          NaN\n",
       "2020-11-29 09:00:00        NaN        NaN       NaN         NaN          NaN\n",
       "2020-11-30 09:00:00     2940.0     2954.0    2936.0      2940.0     225300.0"
      ]
     },
     "execution_count": 53,
     "metadata": {},
     "output_type": "execute_result"
    }
   ],
   "source": [
    "with open(\"naive_stock_df.pickle\", \"rb\") as f:\n",
    "    naive_stock_df = pickle.load(f)\n",
    "\n",
    "naive_stock_df.at_time(datetime.time(9,0))"
   ]
  },
  {
   "cell_type": "markdown",
   "metadata": {},
   "source": [
    "### 営業日データを取得"
   ]
  },
  {
   "cell_type": "markdown",
   "metadata": {},
   "source": [
    "高速化のため，既存のholidayと照らし合わせる方法でとる"
   ]
  },
  {
   "cell_type": "code",
   "execution_count": 54,
   "metadata": {
    "ExecuteTime": {
     "end_time": "2021-03-26T19:54:24.281775Z",
     "start_time": "2021-03-26T19:54:24.208843Z"
    }
   },
   "outputs": [],
   "source": [
    "def extract_workdays_jp_index(dt_index, return_as=\"index\"):\n",
    "    \"\"\"\n",
    "    pd.DatetimeIndexから，営業日のデータのものを抽出\n",
    "    dt_index: pd.DatetimeIndex\n",
    "        入力するDatetimeIndex，すでにdatetimeでソートしていることが前提\n",
    "    return_as: str\n",
    "        出力データの形式\n",
    "        - \"index\": 引数としたdfの対応するインデックスを返す\n",
    "        - \"bool\": 引数としたdfに対応するboolインデックスを返す\n",
    "    \"\"\"\n",
    "    # 返り値の形式の指定\n",
    "    return_as_set = {\"index\", \"bool\"}\n",
    "    if not return_as in return_as_set:\n",
    "        raise Exception(\"return_as must be any in {}\".format(return_as_set))\n",
    "        \n",
    "    # すでにtimestampでソートさてている前提\n",
    "    start_datetime = dt_index[0].to_pydatetime()\n",
    "    end_datetime = dt_index[-1].to_pydatetime()\n",
    "    \n",
    "    start_datetime, end_datetime = check_jst_datetimes_to_naive(start_datetime, end_datetime)  # 二つのdatetimeのタイムゾーンをチェック・naiveに変更\n",
    "    \n",
    "    # 期間内のholidayを取得\n",
    "    holidays_in_span_index = ((start_datetime-datetime.timedelta(days=1))<option.holidays_datetimeindex)&\\\n",
    "    (option.holidays_datetimeindex<=end_datetime)  # DatetimeIndexを使うことに注意, 当日を含めるため，startから1を引いている．\n",
    "    holidays_in_span_array = option.holidays_date_array[holidays_in_span_index]  # ndarrayを使う\n",
    "    \n",
    "    # 休日に含まれないもの，さらに土日に含まれないもののboolインデックスを取得    \n",
    "    holiday_bool_array = np.in1d(dt_index.date, holidays_in_span_array)  # 休日\n",
    "    holiday_weekday_each_bool_arrays = [dt_index.weekday==weekday for weekday in option.holiday_weekdays]  # inを使うのを回避\n",
    "    holiday_weekday_bool_array = np.logical_or.reduce(holiday_weekday_each_bool_arrays)  # 休日曜日\n",
    "    \n",
    "    workdays_bool_array = (~holiday_bool_array)&(~holiday_weekday_bool_array)  # 休日でなく休日曜日でない\n",
    "    if return_as==\"bool\":  # boolで返す場合\n",
    "        return workdays_bool_array\n",
    "    \n",
    "    elif return_as==\"index\":  # indexで返す場合\n",
    "        workdays_df_indice = dt_index[workdays_bool_array]\n",
    "        return workdays_df_indice"
   ]
  },
  {
   "cell_type": "code",
   "execution_count": 55,
   "metadata": {
    "ExecuteTime": {
     "end_time": "2021-03-26T19:54:26.548444Z",
     "start_time": "2021-03-26T19:54:26.500564Z"
    }
   },
   "outputs": [],
   "source": [
    "def extract_workdays_jp(df, return_as=\"df\"):\n",
    "    \"\"\"\n",
    "    データフレームから，営業日のデータのものを抽出．出力データ形式をreturn_asで指定する．\n",
    "    df: pd.DataFrame(インデックスとしてpd.DatetimeIndex)\n",
    "        入力データ\n",
    "    return_as: str\n",
    "        出力データの形式\n",
    "        - \"df\": 抽出した新しいpd.DataFrameを返す\n",
    "        - \"index\": 引数としたdfの対応するインデックスを返す\n",
    "        - \"bool\": 引数としたdfに対応するboolインデックスを返す\n",
    "    \"\"\"\n",
    "    \n",
    "    # 返り値の形式の指定\n",
    "    return_as_set = {\"df\", \"index\", \"bool\"}\n",
    "    if not return_as in return_as_set:\n",
    "        raise Exception(\"return_as must be any in {}\".format(return_as_set))\n",
    "    \n",
    "    workdays_bool_array = extract_workdays_jp_index(df.index, return_as=\"bool\")\n",
    "    if return_as==\"bool\":\n",
    "        return workdays_bool_array\n",
    "    \n",
    "    workdays_df_indice = df.index[workdays_bool_array]\n",
    "    if return_as==\"index\":\n",
    "        return workdays_df_indice\n",
    "\n",
    "    out_df = df.loc[workdays_df_indice].copy()\n",
    "    return out_df"
   ]
  },
  {
   "cell_type": "code",
   "execution_count": 56,
   "metadata": {
    "ExecuteTime": {
     "end_time": "2021-03-26T19:54:28.520626Z",
     "start_time": "2021-03-26T19:54:28.181631Z"
    }
   },
   "outputs": [
    {
     "data": {
      "text/html": [
       "<div>\n",
       "<style scoped>\n",
       "    .dataframe tbody tr th:only-of-type {\n",
       "        vertical-align: middle;\n",
       "    }\n",
       "\n",
       "    .dataframe tbody tr th {\n",
       "        vertical-align: top;\n",
       "    }\n",
       "\n",
       "    .dataframe thead th {\n",
       "        text-align: right;\n",
       "    }\n",
       "</style>\n",
       "<table border=\"1\" class=\"dataframe\">\n",
       "  <thead>\n",
       "    <tr style=\"text-align: right;\">\n",
       "      <th></th>\n",
       "      <th>Open_6502</th>\n",
       "      <th>High_6502</th>\n",
       "      <th>Low_6502</th>\n",
       "      <th>Close_6502</th>\n",
       "      <th>Volume_6502</th>\n",
       "    </tr>\n",
       "    <tr>\n",
       "      <th>timestamp</th>\n",
       "      <th></th>\n",
       "      <th></th>\n",
       "      <th></th>\n",
       "      <th></th>\n",
       "      <th></th>\n",
       "    </tr>\n",
       "  </thead>\n",
       "  <tbody>\n",
       "    <tr>\n",
       "      <th>2020-11-04 09:00:00+09:00</th>\n",
       "      <td>2669.0</td>\n",
       "      <td>2670.0</td>\n",
       "      <td>2658.0</td>\n",
       "      <td>2664.0</td>\n",
       "      <td>93000.0</td>\n",
       "    </tr>\n",
       "    <tr>\n",
       "      <th>2020-11-05 09:00:00+09:00</th>\n",
       "      <td>2631.0</td>\n",
       "      <td>2641.0</td>\n",
       "      <td>2630.0</td>\n",
       "      <td>2639.0</td>\n",
       "      <td>55000.0</td>\n",
       "    </tr>\n",
       "    <tr>\n",
       "      <th>2020-11-06 09:00:00+09:00</th>\n",
       "      <td>2615.0</td>\n",
       "      <td>2644.0</td>\n",
       "      <td>2609.0</td>\n",
       "      <td>2617.0</td>\n",
       "      <td>90700.0</td>\n",
       "    </tr>\n",
       "    <tr>\n",
       "      <th>2020-11-09 09:00:00+09:00</th>\n",
       "      <td>2711.0</td>\n",
       "      <td>2719.0</td>\n",
       "      <td>2707.0</td>\n",
       "      <td>2710.0</td>\n",
       "      <td>0.0</td>\n",
       "    </tr>\n",
       "    <tr>\n",
       "      <th>2020-11-10 09:00:00+09:00</th>\n",
       "      <td>2780.0</td>\n",
       "      <td>2782.0</td>\n",
       "      <td>2770.0</td>\n",
       "      <td>2777.0</td>\n",
       "      <td>142700.0</td>\n",
       "    </tr>\n",
       "    <tr>\n",
       "      <th>2020-11-11 09:00:00+09:00</th>\n",
       "      <td>NaN</td>\n",
       "      <td>NaN</td>\n",
       "      <td>NaN</td>\n",
       "      <td>NaN</td>\n",
       "      <td>NaN</td>\n",
       "    </tr>\n",
       "    <tr>\n",
       "      <th>2020-11-12 09:00:00+09:00</th>\n",
       "      <td>2788.0</td>\n",
       "      <td>2800.0</td>\n",
       "      <td>2781.0</td>\n",
       "      <td>2789.0</td>\n",
       "      <td>108400.0</td>\n",
       "    </tr>\n",
       "    <tr>\n",
       "      <th>2020-11-13 09:00:00+09:00</th>\n",
       "      <td>2750.0</td>\n",
       "      <td>2754.0</td>\n",
       "      <td>2741.0</td>\n",
       "      <td>2750.0</td>\n",
       "      <td>71500.0</td>\n",
       "    </tr>\n",
       "    <tr>\n",
       "      <th>2020-11-16 09:00:00+09:00</th>\n",
       "      <td>2714.0</td>\n",
       "      <td>2716.0</td>\n",
       "      <td>2705.0</td>\n",
       "      <td>2710.0</td>\n",
       "      <td>111000.0</td>\n",
       "    </tr>\n",
       "    <tr>\n",
       "      <th>2020-11-17 09:00:00+09:00</th>\n",
       "      <td>2748.0</td>\n",
       "      <td>2748.0</td>\n",
       "      <td>2729.0</td>\n",
       "      <td>2734.0</td>\n",
       "      <td>124400.0</td>\n",
       "    </tr>\n",
       "    <tr>\n",
       "      <th>2020-11-18 09:00:00+09:00</th>\n",
       "      <td>2819.0</td>\n",
       "      <td>2823.0</td>\n",
       "      <td>2814.0</td>\n",
       "      <td>2820.0</td>\n",
       "      <td>76000.0</td>\n",
       "    </tr>\n",
       "    <tr>\n",
       "      <th>2020-11-19 09:00:00+09:00</th>\n",
       "      <td>2858.0</td>\n",
       "      <td>2867.0</td>\n",
       "      <td>2858.0</td>\n",
       "      <td>2860.0</td>\n",
       "      <td>107000.0</td>\n",
       "    </tr>\n",
       "    <tr>\n",
       "      <th>2020-11-20 09:00:00+09:00</th>\n",
       "      <td>2875.0</td>\n",
       "      <td>2887.0</td>\n",
       "      <td>2873.0</td>\n",
       "      <td>2884.0</td>\n",
       "      <td>106000.0</td>\n",
       "    </tr>\n",
       "    <tr>\n",
       "      <th>2020-11-24 09:00:00+09:00</th>\n",
       "      <td>2957.0</td>\n",
       "      <td>2967.0</td>\n",
       "      <td>2952.0</td>\n",
       "      <td>2966.0</td>\n",
       "      <td>0.0</td>\n",
       "    </tr>\n",
       "    <tr>\n",
       "      <th>2020-11-25 09:00:00+09:00</th>\n",
       "      <td>2927.0</td>\n",
       "      <td>2934.0</td>\n",
       "      <td>2926.0</td>\n",
       "      <td>2933.0</td>\n",
       "      <td>74000.0</td>\n",
       "    </tr>\n",
       "    <tr>\n",
       "      <th>2020-11-26 09:00:00+09:00</th>\n",
       "      <td>2822.0</td>\n",
       "      <td>2831.0</td>\n",
       "      <td>2818.0</td>\n",
       "      <td>2824.0</td>\n",
       "      <td>93500.0</td>\n",
       "    </tr>\n",
       "    <tr>\n",
       "      <th>2020-11-27 09:00:00+09:00</th>\n",
       "      <td>2809.0</td>\n",
       "      <td>2828.0</td>\n",
       "      <td>2809.0</td>\n",
       "      <td>2822.0</td>\n",
       "      <td>107600.0</td>\n",
       "    </tr>\n",
       "    <tr>\n",
       "      <th>2020-11-30 09:00:00+09:00</th>\n",
       "      <td>2940.0</td>\n",
       "      <td>2954.0</td>\n",
       "      <td>2936.0</td>\n",
       "      <td>2940.0</td>\n",
       "      <td>225300.0</td>\n",
       "    </tr>\n",
       "  </tbody>\n",
       "</table>\n",
       "</div>"
      ],
      "text/plain": [
       "                           Open_6502  High_6502  Low_6502  Close_6502  \\\n",
       "timestamp                                                               \n",
       "2020-11-04 09:00:00+09:00     2669.0     2670.0    2658.0      2664.0   \n",
       "2020-11-05 09:00:00+09:00     2631.0     2641.0    2630.0      2639.0   \n",
       "2020-11-06 09:00:00+09:00     2615.0     2644.0    2609.0      2617.0   \n",
       "2020-11-09 09:00:00+09:00     2711.0     2719.0    2707.0      2710.0   \n",
       "2020-11-10 09:00:00+09:00     2780.0     2782.0    2770.0      2777.0   \n",
       "2020-11-11 09:00:00+09:00        NaN        NaN       NaN         NaN   \n",
       "2020-11-12 09:00:00+09:00     2788.0     2800.0    2781.0      2789.0   \n",
       "2020-11-13 09:00:00+09:00     2750.0     2754.0    2741.0      2750.0   \n",
       "2020-11-16 09:00:00+09:00     2714.0     2716.0    2705.0      2710.0   \n",
       "2020-11-17 09:00:00+09:00     2748.0     2748.0    2729.0      2734.0   \n",
       "2020-11-18 09:00:00+09:00     2819.0     2823.0    2814.0      2820.0   \n",
       "2020-11-19 09:00:00+09:00     2858.0     2867.0    2858.0      2860.0   \n",
       "2020-11-20 09:00:00+09:00     2875.0     2887.0    2873.0      2884.0   \n",
       "2020-11-24 09:00:00+09:00     2957.0     2967.0    2952.0      2966.0   \n",
       "2020-11-25 09:00:00+09:00     2927.0     2934.0    2926.0      2933.0   \n",
       "2020-11-26 09:00:00+09:00     2822.0     2831.0    2818.0      2824.0   \n",
       "2020-11-27 09:00:00+09:00     2809.0     2828.0    2809.0      2822.0   \n",
       "2020-11-30 09:00:00+09:00     2940.0     2954.0    2936.0      2940.0   \n",
       "\n",
       "                           Volume_6502  \n",
       "timestamp                               \n",
       "2020-11-04 09:00:00+09:00      93000.0  \n",
       "2020-11-05 09:00:00+09:00      55000.0  \n",
       "2020-11-06 09:00:00+09:00      90700.0  \n",
       "2020-11-09 09:00:00+09:00          0.0  \n",
       "2020-11-10 09:00:00+09:00     142700.0  \n",
       "2020-11-11 09:00:00+09:00          NaN  \n",
       "2020-11-12 09:00:00+09:00     108400.0  \n",
       "2020-11-13 09:00:00+09:00      71500.0  \n",
       "2020-11-16 09:00:00+09:00     111000.0  \n",
       "2020-11-17 09:00:00+09:00     124400.0  \n",
       "2020-11-18 09:00:00+09:00      76000.0  \n",
       "2020-11-19 09:00:00+09:00     107000.0  \n",
       "2020-11-20 09:00:00+09:00     106000.0  \n",
       "2020-11-24 09:00:00+09:00          0.0  \n",
       "2020-11-25 09:00:00+09:00      74000.0  \n",
       "2020-11-26 09:00:00+09:00      93500.0  \n",
       "2020-11-27 09:00:00+09:00     107600.0  \n",
       "2020-11-30 09:00:00+09:00     225300.0  "
      ]
     },
     "execution_count": 56,
     "metadata": {},
     "output_type": "execute_result"
    }
   ],
   "source": [
    "extracted_stock_df = extract_workdays_jp(aware_stock_df, return_as=\"df\")\n",
    "extracted_stock_df.at_time(datetime.time(9,0))"
   ]
  },
  {
   "cell_type": "code",
   "execution_count": 57,
   "metadata": {
    "ExecuteTime": {
     "end_time": "2021-03-26T19:54:30.399414Z",
     "start_time": "2021-03-26T19:54:30.111972Z"
    },
    "scrolled": false
   },
   "outputs": [
    {
     "name": "stdout",
     "output_type": "stream",
     "text": [
      "Timer unit: 1e-07 s\n",
      "\n",
      "Total time: 0.118979 s\n",
      "File: <ipython-input-54-2a9ab9585719>\n",
      "Function: extract_workdays_jp_index at line 1\n",
      "\n",
      "Line #      Hits         Time  Per Hit   % Time  Line Contents\n",
      "==============================================================\n",
      "     1                                           def extract_workdays_jp_index(dt_index, return_as=\"index\"):\n",
      "     2                                               \"\"\"\n",
      "     3                                               pd.DatetimeIndexから，営業日のデータのものを抽出\n",
      "     4                                               dt_index: pd.DatetimeIndex\n",
      "     5                                                   入力するDatetimeIndex，すでにdatetimeでソートしていることが前提\n",
      "     6                                               return_as: str\n",
      "     7                                                   出力データの形式\n",
      "     8                                                   - \"index\": 引数としたdfの対応するインデックスを返す\n",
      "     9                                                   - \"bool\": 引数としたdfに対応するboolインデックスを返す\n",
      "    10                                               \"\"\"\n",
      "    11                                               # 返り値の形式の指定\n",
      "    12         1         81.0     81.0      0.0      return_as_set = {\"index\", \"bool\"}\n",
      "    13         1         71.0     71.0      0.0      if not return_as in return_as_set:\n",
      "    14                                                   raise Exception(\"return_as must be any in {}\".format(return_as_set))\n",
      "    15                                                   \n",
      "    16                                               # すでにtimestampでソートさてている前提\n",
      "    17         1      23102.0  23102.0      1.9      start_datetime = dt_index[0].to_pydatetime()\n",
      "    18         1       3899.0   3899.0      0.3      end_datetime = dt_index[-1].to_pydatetime()\n",
      "    19                                               \n",
      "    20         1      13823.0  13823.0      1.2      start_datetime, end_datetime = check_jst_datetimes_to_naive(start_datetime, end_datetime)  # 二つのdatetimeのタイムゾーンをチェック・naiveに変更\n",
      "    21                                               \n",
      "    22                                               # 期間内のholidayを取得\n",
      "    23         1       8228.0   8228.0      0.7      holidays_in_span_index = ((start_datetime-datetime.timedelta(days=1))<option.holidays_datetimeindex)&\\\n",
      "    24         1       6429.0   6429.0      0.5      (option.holidays_datetimeindex<=end_datetime)  # DatetimeIndexを使うことに注意, 当日を含めるため，startから1を引いている．\n",
      "    25         1        282.0    282.0      0.0      holidays_in_span_array = option.holidays_date_array[holidays_in_span_index]  # ndarrayを使う\n",
      "    26                                               \n",
      "    27                                               # 休日に含まれないもの，さらに土日に含まれないもののboolインデックスを取得    \n",
      "    28         1     700547.0 700547.0     58.9      holiday_bool_array = np.in1d(dt_index.date, holidays_in_span_array)  # 休日\n",
      "    29         1     427307.0 427307.0     35.9      holiday_weekday_each_bool_arrays = [dt_index.weekday==weekday for weekday in option.holiday_weekdays]  # inを使うのを回避\n",
      "    30         1       1442.0   1442.0      0.1      holiday_weekday_bool_array = np.logical_or.reduce(holiday_weekday_each_bool_arrays)  # 休日曜日\n",
      "    31                                               \n",
      "    32         1       4436.0   4436.0      0.4      workdays_bool_array = (~holiday_bool_array)&(~holiday_weekday_bool_array)  # 休日でなく休日曜日でない\n",
      "    33         1         80.0     80.0      0.0      if return_as==\"bool\":  # boolで返す場合\n",
      "    34         1         68.0     68.0      0.0          return workdays_bool_array\n",
      "    35                                               \n",
      "    36                                               elif return_as==\"index\":  # indexで返す場合\n",
      "    37                                                   workdays_df_indice = dt_index[workdays_bool_array]\n",
      "    38                                                   return workdays_df_indice\n",
      "\n",
      "Total time: 0.156555 s\n",
      "File: <ipython-input-55-73f69d09a7f8>\n",
      "Function: extract_workdays_jp at line 1\n",
      "\n",
      "Line #      Hits         Time  Per Hit   % Time  Line Contents\n",
      "==============================================================\n",
      "     1                                           def extract_workdays_jp(df, return_as=\"df\"):\n",
      "     2                                               \"\"\"\n",
      "     3                                               データフレームから，営業日のデータのものを抽出．出力データ形式をreturn_asで指定する．\n",
      "     4                                               df: pd.DataFrame(インデックスとしてpd.DatetimeIndex)\n",
      "     5                                                   入力データ\n",
      "     6                                               return_as: str\n",
      "     7                                                   出力データの形式\n",
      "     8                                                   - \"df\": 抽出した新しいpd.DataFrameを返す\n",
      "     9                                                   - \"index\": 引数としたdfの対応するインデックスを返す\n",
      "    10                                                   - \"bool\": 引数としたdfに対応するboolインデックスを返す\n",
      "    11                                               \"\"\"\n",
      "    12                                               \n",
      "    13                                               # 返り値の形式の指定\n",
      "    14         1        111.0    111.0      0.0      return_as_set = {\"df\", \"index\", \"bool\"}\n",
      "    15         1         57.0     57.0      0.0      if not return_as in return_as_set:\n",
      "    16                                                   raise Exception(\"return_as must be any in {}\".format(return_as_set))\n",
      "    17                                               \n",
      "    18         1    1191875.0 1191875.0     76.1      workdays_bool_array = extract_workdays_jp_index(df.index, return_as=\"bool\")\n",
      "    19         1         45.0     45.0      0.0      if return_as==\"bool\":\n",
      "    20                                                   return workdays_bool_array\n",
      "    21                                               \n",
      "    22         1      25760.0  25760.0      1.6      workdays_df_indice = df.index[workdays_bool_array]\n",
      "    23         1         71.0     71.0      0.0      if return_as==\"index\":\n",
      "    24                                                   return workdays_df_indice\n",
      "    25                                           \n",
      "    26         1     347568.0 347568.0     22.2      out_df = df.loc[workdays_df_indice].copy()\n",
      "    27         1         64.0     64.0      0.0      return out_df\n",
      "\n"
     ]
    }
   ],
   "source": [
    "def temp_func():\n",
    "    extracted_stock_df = extract_workdays_jp(aware_stock_df, return_as=\"df\")\n",
    "    \n",
    "from line_profiler import LineProfiler\n",
    "prf = LineProfiler()                                                                                         \n",
    "#prf.add_module()                                                                                          \n",
    "prf.add_function(extract_workdays_jp)\n",
    "prf.add_function(extract_workdays_jp_index)\n",
    "prf.runcall(temp_func)                                                                                          \n",
    "prf.print_stats()"
   ]
  },
  {
   "cell_type": "code",
   "execution_count": 58,
   "metadata": {
    "ExecuteTime": {
     "end_time": "2021-03-26T19:54:52.147407Z",
     "start_time": "2021-03-26T19:54:52.091564Z"
    }
   },
   "outputs": [],
   "source": [
    "start_datetime = aware_stock_df.index[0].to_pydatetime()\n",
    "end_datetime = aware_stock_df.index[-1].to_pydatetime()\n",
    "start_datetime, end_datetime = check_jst_datetimes_to_naive(start_datetime, end_datetime)  # 二つのdatetimeのタイムゾーンをチェック・naiveに変更\n",
    "\n",
    "holidays_in_span_index = ((start_datetime-datetime.timedelta(days=1))<option.holidays_datetimeindex)&(option.holidays_datetimeindex<=end_datetime)  # DatetimeIndexを使うことに注意, 当日を含めるため，startから1を引いている．\n",
    "holidays_in_span_array = option.holidays_date_array[holidays_in_span_index]  # ndarrayを使う\n",
    "holidays_in_span_datetimeindex = option.holidays_datetimeindex[holidays_in_span_index]"
   ]
  },
  {
   "cell_type": "markdown",
   "metadata": {},
   "source": [
    "こちらはobjectのndarrayのin1dである．これは遅いことが知られている"
   ]
  },
  {
   "cell_type": "code",
   "execution_count": 59,
   "metadata": {
    "ExecuteTime": {
     "end_time": "2021-03-26T19:54:54.825906Z",
     "start_time": "2021-03-26T19:54:54.741137Z"
    }
   },
   "outputs": [],
   "source": [
    "holiday_bool_array1 = np.in1d(aware_stock_df.index.date, holidays_in_span_array)"
   ]
  },
  {
   "cell_type": "code",
   "execution_count": 69,
   "metadata": {
    "ExecuteTime": {
     "end_time": "2021-03-26T19:56:03.589770Z",
     "start_time": "2021-03-26T19:55:57.535116Z"
    }
   },
   "outputs": [
    {
     "name": "stdout",
     "output_type": "stream",
     "text": [
      "72.8 ms ± 15 ms per loop (mean ± std. dev. of 7 runs, 10 loops each)\n"
     ]
    }
   ],
   "source": [
    "%%timeit\n",
    "holiday_bool_array1 = np.in1d(aware_stock_df.index.date, holidays_in_span_array)"
   ]
  },
  {
   "cell_type": "markdown",
   "metadata": {},
   "source": [
    "一方int(unix時間)に変更してしまえば，in1dは高速になる．しかし変更するのに多少時間がかかる．"
   ]
  },
  {
   "cell_type": "code",
   "execution_count": 72,
   "metadata": {
    "ExecuteTime": {
     "end_time": "2021-03-26T19:57:45.310476Z",
     "start_time": "2021-03-26T19:57:43.710492Z"
    }
   },
   "outputs": [
    {
     "name": "stdout",
     "output_type": "stream",
     "text": [
      "19 ms ± 3.15 ms per loop (mean ± std. dev. of 7 runs, 10 loops each)\n"
     ]
    }
   ],
   "source": [
    "%%timeit\n",
    "df_index_date_int = aware_stock_df.index.floor(\"D\").astype(int).values\n",
    "holidays_in_span_int = holidays_in_span_datetimeindex.astype(int).values\n",
    "holiday_bool_array2 = np.in1d(df_index_date_int, holidays_in_span_int)"
   ]
  },
  {
   "cell_type": "code",
   "execution_count": 73,
   "metadata": {
    "ExecuteTime": {
     "end_time": "2021-03-26T19:58:04.293468Z",
     "start_time": "2021-03-26T19:58:02.300124Z"
    }
   },
   "outputs": [
    {
     "name": "stdout",
     "output_type": "stream",
     "text": [
      "237 µs ± 41.2 µs per loop (mean ± std. dev. of 7 runs, 1000 loops each)\n"
     ]
    }
   ],
   "source": [
    "%timeit np.in1d(df_index_date_int, holidays_in_span_int)"
   ]
  },
  {
   "cell_type": "code",
   "execution_count": 66,
   "metadata": {
    "ExecuteTime": {
     "end_time": "2021-03-26T19:55:24.109758Z",
     "start_time": "2021-03-26T19:55:24.068341Z"
    }
   },
   "outputs": [
    {
     "data": {
      "text/plain": [
       "True"
      ]
     },
     "execution_count": 66,
     "metadata": {},
     "output_type": "execute_result"
    }
   ],
   "source": [
    "np.array_equal(holiday_bool_array1, holiday_bool_array2)"
   ]
  },
  {
   "cell_type": "markdown",
   "metadata": {},
   "source": [
    "もちろんもとのarrayと同じである．"
   ]
  },
  {
   "cell_type": "markdown",
   "metadata": {},
   "source": [
    "他の選択肢としてpd.DatetimeIndexのisinメソッドを利用してみる．こっちの方がintに変換しない分早い?"
   ]
  },
  {
   "cell_type": "code",
   "execution_count": 76,
   "metadata": {
    "ExecuteTime": {
     "end_time": "2021-03-26T20:00:33.663851Z",
     "start_time": "2021-03-26T20:00:32.064167Z"
    }
   },
   "outputs": [
    {
     "name": "stdout",
     "output_type": "stream",
     "text": [
      "18.8 ms ± 2.66 ms per loop (mean ± std. dev. of 7 runs, 10 loops each)\n"
     ]
    }
   ],
   "source": [
    "%%timeit \n",
    "holiday_bool_array3 = aware_stock_df.index.floor(\"D\").isin(holidays_in_span_datetimeindex)"
   ]
  },
  {
   "cell_type": "code",
   "execution_count": 78,
   "metadata": {
    "ExecuteTime": {
     "end_time": "2021-03-26T20:02:28.942331Z",
     "start_time": "2021-03-26T20:02:28.916406Z"
    }
   },
   "outputs": [
    {
     "data": {
      "text/plain": [
       "True"
      ]
     },
     "execution_count": 78,
     "metadata": {},
     "output_type": "execute_result"
    }
   ],
   "source": [
    "np.array_equal(holiday_bool_array1, holiday_bool_array3)"
   ]
  },
  {
   "cell_type": "markdown",
   "metadata": {},
   "source": [
    "### 日中データを取得"
   ]
  },
  {
   "cell_type": "markdown",
   "metadata": {},
   "source": [
    "おそらく使わない，以下の営業日＋日中内で使う．"
   ]
  },
  {
   "cell_type": "code",
   "execution_count": 79,
   "metadata": {
    "ExecuteTime": {
     "end_time": "2021-03-26T20:17:45.920163Z",
     "start_time": "2021-03-26T20:17:45.787516Z"
    }
   },
   "outputs": [],
   "source": [
    "def extract_intraday_jp_index(dt_index, return_as=\"index\"):\n",
    "    \"\"\"\n",
    "    pd.DatetimeIndexから，日中のデータのものを抽出．出力データ形式をreturn_asで指定する．\n",
    "    dt_index: pd.DatetimeIndex\n",
    "        入力するDatetimeIndex\n",
    "    return_as: str\n",
    "        出力データの形式\n",
    "        - \"index\": 引数としたdfの対応するインデックスを返す\n",
    "        - \"bool\": 引数としたdfに対応するboolインデックスを返す\n",
    "    \"\"\"\n",
    "    \n",
    "    # 返り値の形式の指定\n",
    "    return_as_set = {\"index\", \"bool\"}\n",
    "    if not return_as in return_as_set:\n",
    "        raise Exception(\"return_as must be any in {}\".format(return_as_set))    \n",
    "  \n",
    "    bool_array = np.full(len(dt_index), False)\n",
    "    \n",
    "    # ボーダー内のboolをTrueにする\n",
    "    for borders in option.intraday_borders:\n",
    "        start_time, end_time = borders[0], borders[1]  # 開始時刻と終了時刻\n",
    "        in_border_indice = dt_index.indexer_between_time(start_time=start_time, end_time=end_time, include_end=False)\n",
    "        bool_array[in_border_indice] = True\n",
    "    \n",
    "    if return_as==\"bool\":\n",
    "        return bool_array\n",
    "\n",
    "    elif return_as==\"index\":\n",
    "        intraday_indice = dt_index[bool_array]\n",
    "        return intraday_indice"
   ]
  },
  {
   "cell_type": "code",
   "execution_count": 80,
   "metadata": {
    "ExecuteTime": {
     "end_time": "2021-03-26T20:17:46.806793Z",
     "start_time": "2021-03-26T20:17:46.770888Z"
    }
   },
   "outputs": [],
   "source": [
    "def extract_intraday_jp(df, return_as=\"df\"):\n",
    "    \"\"\"\n",
    "    データフレームから，日中のデータのものを抽出．出力データ形式をreturn_asで指定する．\n",
    "    df: pd.DataFrame(インデックスとしてpd.DatetimeIndex)\n",
    "        入力データ\n",
    "    return_as: str\n",
    "        出力データの形式\n",
    "        - \"df\": 抽出した新しいpd.DataFrameを返す\n",
    "        - \"index\": 引数としたdfの対応するインデックスを返す\n",
    "        - \"bool\": 引数としたdfに対応するboolインデックスを返す\n",
    "    \"\"\"\n",
    "    \n",
    "    # 返り値の形式の指定\n",
    "    return_as_set = {\"df\", \"index\", \"bool\"}\n",
    "    if not return_as in return_as_set:\n",
    "        raise Exception(\"return_as must be any in {}\".format(return_as_set))    \n",
    "  \n",
    "    intraday_bool_array = extract_intraday_jp_index(df.index, return_as=\"bool\")\n",
    "    if return_as==\"bool\":\n",
    "        return intraday_bool_array\n",
    "    \n",
    "    intraday_indice = df.index[intraday_bool_array]\n",
    "    if return_as==\"index\":\n",
    "        return intraday_indice\n",
    "    \n",
    "    out_df = df.loc[intraday_indice].copy()\n",
    "    return out_df"
   ]
  },
  {
   "cell_type": "markdown",
   "metadata": {},
   "source": [
    "以下の例では，朝8時のデータは存在しない"
   ]
  },
  {
   "cell_type": "code",
   "execution_count": 81,
   "metadata": {
    "ExecuteTime": {
     "end_time": "2021-03-26T20:17:54.544103Z",
     "start_time": "2021-03-26T20:17:54.219973Z"
    }
   },
   "outputs": [
    {
     "data": {
      "text/html": [
       "<div>\n",
       "<style scoped>\n",
       "    .dataframe tbody tr th:only-of-type {\n",
       "        vertical-align: middle;\n",
       "    }\n",
       "\n",
       "    .dataframe tbody tr th {\n",
       "        vertical-align: top;\n",
       "    }\n",
       "\n",
       "    .dataframe thead th {\n",
       "        text-align: right;\n",
       "    }\n",
       "</style>\n",
       "<table border=\"1\" class=\"dataframe\">\n",
       "  <thead>\n",
       "    <tr style=\"text-align: right;\">\n",
       "      <th></th>\n",
       "      <th>Open_6502</th>\n",
       "      <th>High_6502</th>\n",
       "      <th>Low_6502</th>\n",
       "      <th>Close_6502</th>\n",
       "      <th>Volume_6502</th>\n",
       "    </tr>\n",
       "    <tr>\n",
       "      <th>timestamp</th>\n",
       "      <th></th>\n",
       "      <th></th>\n",
       "      <th></th>\n",
       "      <th></th>\n",
       "      <th></th>\n",
       "    </tr>\n",
       "  </thead>\n",
       "  <tbody>\n",
       "  </tbody>\n",
       "</table>\n",
       "</div>"
      ],
      "text/plain": [
       "Empty DataFrame\n",
       "Columns: [Open_6502, High_6502, Low_6502, Close_6502, Volume_6502]\n",
       "Index: []"
      ]
     },
     "execution_count": 81,
     "metadata": {},
     "output_type": "execute_result"
    }
   ],
   "source": [
    "extracted_df = extract_intraday_jp(naive_stock_df, return_as=\"df\")\n",
    "extracted_df.at_time(datetime.time(8,0))"
   ]
  },
  {
   "cell_type": "code",
   "execution_count": 82,
   "metadata": {
    "ExecuteTime": {
     "end_time": "2021-03-26T20:18:09.822248Z",
     "start_time": "2021-03-26T20:18:09.702570Z"
    }
   },
   "outputs": [
    {
     "name": "stdout",
     "output_type": "stream",
     "text": [
      "Timer unit: 1e-07 s\n",
      "\n",
      "Total time: 0.0132707 s\n",
      "File: <ipython-input-79-6cd31f91260a>\n",
      "Function: extract_intraday_jp_index at line 1\n",
      "\n",
      "Line #      Hits         Time  Per Hit   % Time  Line Contents\n",
      "==============================================================\n",
      "     1                                           def extract_intraday_jp_index(dt_index, return_as=\"index\"):\n",
      "     2                                               \"\"\"\n",
      "     3                                               pd.DatetimeIndexから，日中のデータのものを抽出．出力データ形式をreturn_asで指定する．\n",
      "     4                                               dt_index: pd.DatetimeIndex\n",
      "     5                                                   入力するDatetimeIndex\n",
      "     6                                               return_as: str\n",
      "     7                                                   出力データの形式\n",
      "     8                                                   - \"index\": 引数としたdfの対応するインデックスを返す\n",
      "     9                                                   - \"bool\": 引数としたdfに対応するboolインデックスを返す\n",
      "    10                                               \"\"\"\n",
      "    11                                               \n",
      "    12                                               # 返り値の形式の指定\n",
      "    13         1         50.0     50.0      0.0      return_as_set = {\"index\", \"bool\"}\n",
      "    14         1         42.0     42.0      0.0      if not return_as in return_as_set:\n",
      "    15                                                   raise Exception(\"return_as must be any in {}\".format(return_as_set))    \n",
      "    16                                             \n",
      "    17         1       5170.0   5170.0      3.9      bool_array = np.full(len(dt_index), False)\n",
      "    18                                               \n",
      "    19                                               # ボーダー内のboolをTrueにする\n",
      "    20         3        822.0    274.0      0.6      for borders in option.intraday_borders:\n",
      "    21         2        148.0     74.0      0.1          start_time, end_time = borders[0], borders[1]  # 開始時刻と終了時刻\n",
      "    22         2     125032.0  62516.0     94.2          in_border_indice = dt_index.indexer_between_time(start_time=start_time, end_time=end_time, include_end=False)\n",
      "    23         2       1343.0    671.5      1.0          bool_array[in_border_indice] = True\n",
      "    24                                               \n",
      "    25         1         54.0     54.0      0.0      if return_as==\"bool\":\n",
      "    26         1         46.0     46.0      0.0          return bool_array\n",
      "    27                                           \n",
      "    28                                               elif return_as==\"index\":\n",
      "    29                                                   intraday_indice = dt_index[bool_array]\n",
      "    30                                                   return intraday_indice\n",
      "\n",
      "Total time: 0.0233623 s\n",
      "File: <ipython-input-80-1516331a793b>\n",
      "Function: extract_intraday_jp at line 1\n",
      "\n",
      "Line #      Hits         Time  Per Hit   % Time  Line Contents\n",
      "==============================================================\n",
      "     1                                           def extract_intraday_jp(df, return_as=\"df\"):\n",
      "     2                                               \"\"\"\n",
      "     3                                               データフレームから，日中のデータのものを抽出．出力データ形式をreturn_asで指定する．\n",
      "     4                                               df: pd.DataFrame(インデックスとしてpd.DatetimeIndex)\n",
      "     5                                                   入力データ\n",
      "     6                                               return_as: str\n",
      "     7                                                   出力データの形式\n",
      "     8                                                   - \"df\": 抽出した新しいpd.DataFrameを返す\n",
      "     9                                                   - \"index\": 引数としたdfの対応するインデックスを返す\n",
      "    10                                                   - \"bool\": 引数としたdfに対応するboolインデックスを返す\n",
      "    11                                               \"\"\"\n",
      "    12                                               \n",
      "    13                                               # 返り値の形式の指定\n",
      "    14         1        257.0    257.0      0.1      return_as_set = {\"df\", \"index\", \"bool\"}\n",
      "    15         1         56.0     56.0      0.0      if not return_as in return_as_set:\n",
      "    16                                                   raise Exception(\"return_as must be any in {}\".format(return_as_set))    \n",
      "    17                                             \n",
      "    18         1     134137.0 134137.0     57.4      intraday_bool_array = extract_intraday_jp_index(df.index, return_as=\"bool\")\n",
      "    19         1         42.0     42.0      0.0      if return_as==\"bool\":\n",
      "    20                                                   return intraday_bool_array\n",
      "    21                                               \n",
      "    22         1      18744.0  18744.0      8.0      intraday_indice = df.index[intraday_bool_array]\n",
      "    23         1         73.0     73.0      0.0      if return_as==\"index\":\n",
      "    24                                                   return intraday_indice\n",
      "    25                                               \n",
      "    26         1      80251.0  80251.0     34.4      out_df = df.loc[intraday_indice].copy()\n",
      "    27         1         63.0     63.0      0.0      return out_df\n",
      "\n"
     ]
    }
   ],
   "source": [
    "def temp_func():\n",
    "    extracted_df = extract_intraday_jp(naive_stock_df, return_as=\"df\")\n",
    "    \n",
    "from line_profiler import LineProfiler\n",
    "prf = LineProfiler()                                                                                         \n",
    "#prf.add_module()                                                                                          \n",
    "prf.add_function(extract_intraday_jp)\n",
    "prf.add_function(extract_intraday_jp_index)\n",
    "prf.runcall(temp_func)                                                                                          \n",
    "prf.print_stats()"
   ]
  },
  {
   "cell_type": "markdown",
   "metadata": {},
   "source": [
    "ボトルネックはないようだ"
   ]
  },
  {
   "cell_type": "markdown",
   "metadata": {},
   "source": [
    "### 営業日＋日中データを取得 "
   ]
  },
  {
   "cell_type": "code",
   "execution_count": 33,
   "metadata": {
    "ExecuteTime": {
     "end_time": "2021-03-19T16:45:30.198125Z",
     "start_time": "2021-03-19T16:45:30.128312Z"
    }
   },
   "outputs": [],
   "source": [
    "def extract_workdays_intraday_jp_index(dt_index, return_as=\"index\"):\n",
    "    \"\"\"\n",
    "    pd.DatetimeIndexから，営業日+日中のデータのものを抽出．出力データ形式をreturn_asで指定する．\n",
    "    dt_index: pd.DatetimeIndex\n",
    "        入力するDatetimeIndex\n",
    "    return_as: str\n",
    "        出力データの形式\n",
    "        - \"index\": 引数としたdfの対応するインデックスを返す\n",
    "        - \"bool\": 引数としたdfに対応するboolインデックスを返す\n",
    "    \"\"\"\n",
    "\n",
    "    # 返り値の形式の指定\n",
    "    return_as_set = {\"index\", \"bool\"}\n",
    "    if not return_as in return_as_set:\n",
    "        raise Exception(\"return_as must be any in {}\".format(return_as_set))\n",
    "        \n",
    "    workday_bool_array = extract_workdays_jp_index(dt_index, return_as=\"bool\")\n",
    "    intraday_bool_array = extract_intraday_jp_index(dt_index, return_as=\"bool\")\n",
    "    \n",
    "    workday_intraday_bool_array = workday_bool_array & intraday_bool_array\n",
    "    if return_as==\"bool\":\n",
    "        return workday_intraday_bool_array\n",
    "    elif return_as==\"index\":\n",
    "        workday_intraday_indice = dt_index[workday_intraday_bool_array]\n",
    "        return workday_intraday_indice"
   ]
  },
  {
   "cell_type": "code",
   "execution_count": 34,
   "metadata": {
    "ExecuteTime": {
     "end_time": "2021-03-19T16:45:30.309826Z",
     "start_time": "2021-03-19T16:45:30.271925Z"
    }
   },
   "outputs": [],
   "source": [
    "def extract_workdays_intraday_jp(df, return_as=\"df\"):\n",
    "    \"\"\"\n",
    "    データフレームから，営業日+日中のデータのものを抽出．出力データ形式をreturn_asで指定する．\n",
    "    df: pd.DataFrame(インデックスとしてpd.DatetimeIndex)\n",
    "        入力データ\n",
    "    return_as: str\n",
    "        出力データの形式\n",
    "        - \"df\": 抽出した新しいpd.DataFrameを返す\n",
    "        - \"index\": 引数としたdfの対応するインデックスを返す\n",
    "        - \"bool\": 引数としたdfに対応するboolインデックスを返す\n",
    "    \"\"\"\n",
    "    \n",
    "    # 返り値の形式の指定\n",
    "    return_as_set = {\"df\", \"index\", \"bool\"}\n",
    "    if not return_as in return_as_set:\n",
    "        raise Exception(\"return_as must be any in {}\".format(return_as_set))    \n",
    "       \n",
    "    workday_intraday_bool_array = extract_workdays_intraday_jp_index(df.index, return_as=\"bool\")\n",
    "    \n",
    "    if return_as==\"bool\":\n",
    "        return workday_intraday_bool_array\n",
    "    \n",
    "    workday_intraday_indice = df.index[workday_intraday_bool_array]\n",
    "    \n",
    "    if return_as==\"index\":\n",
    "        return workday_intraday_indice\n",
    "    \n",
    "    out_df = df.loc[workday_intraday_indice].copy()\n",
    "    return out_df"
   ]
  },
  {
   "cell_type": "code",
   "execution_count": 35,
   "metadata": {
    "ExecuteTime": {
     "end_time": "2021-03-19T16:45:30.690805Z",
     "start_time": "2021-03-19T16:45:30.334758Z"
    }
   },
   "outputs": [
    {
     "data": {
      "text/html": [
       "<div>\n",
       "<style scoped>\n",
       "    .dataframe tbody tr th:only-of-type {\n",
       "        vertical-align: middle;\n",
       "    }\n",
       "\n",
       "    .dataframe tbody tr th {\n",
       "        vertical-align: top;\n",
       "    }\n",
       "\n",
       "    .dataframe thead th {\n",
       "        text-align: right;\n",
       "    }\n",
       "</style>\n",
       "<table border=\"1\" class=\"dataframe\">\n",
       "  <thead>\n",
       "    <tr style=\"text-align: right;\">\n",
       "      <th></th>\n",
       "      <th>Open_6502</th>\n",
       "      <th>High_6502</th>\n",
       "      <th>Low_6502</th>\n",
       "      <th>Close_6502</th>\n",
       "      <th>Volume_6502</th>\n",
       "    </tr>\n",
       "    <tr>\n",
       "      <th>timestamp</th>\n",
       "      <th></th>\n",
       "      <th></th>\n",
       "      <th></th>\n",
       "      <th></th>\n",
       "      <th></th>\n",
       "    </tr>\n",
       "  </thead>\n",
       "  <tbody>\n",
       "    <tr>\n",
       "      <th>2020-11-04 09:00:00+09:00</th>\n",
       "      <td>2669.0</td>\n",
       "      <td>2670.0</td>\n",
       "      <td>2658.0</td>\n",
       "      <td>2664.0</td>\n",
       "      <td>93000.0</td>\n",
       "    </tr>\n",
       "    <tr>\n",
       "      <th>2020-11-05 09:00:00+09:00</th>\n",
       "      <td>2631.0</td>\n",
       "      <td>2641.0</td>\n",
       "      <td>2630.0</td>\n",
       "      <td>2639.0</td>\n",
       "      <td>55000.0</td>\n",
       "    </tr>\n",
       "    <tr>\n",
       "      <th>2020-11-06 09:00:00+09:00</th>\n",
       "      <td>2615.0</td>\n",
       "      <td>2644.0</td>\n",
       "      <td>2609.0</td>\n",
       "      <td>2617.0</td>\n",
       "      <td>90700.0</td>\n",
       "    </tr>\n",
       "    <tr>\n",
       "      <th>2020-11-09 09:00:00+09:00</th>\n",
       "      <td>2711.0</td>\n",
       "      <td>2719.0</td>\n",
       "      <td>2707.0</td>\n",
       "      <td>2710.0</td>\n",
       "      <td>0.0</td>\n",
       "    </tr>\n",
       "    <tr>\n",
       "      <th>2020-11-10 09:00:00+09:00</th>\n",
       "      <td>2780.0</td>\n",
       "      <td>2782.0</td>\n",
       "      <td>2770.0</td>\n",
       "      <td>2777.0</td>\n",
       "      <td>142700.0</td>\n",
       "    </tr>\n",
       "    <tr>\n",
       "      <th>2020-11-11 09:00:00+09:00</th>\n",
       "      <td>NaN</td>\n",
       "      <td>NaN</td>\n",
       "      <td>NaN</td>\n",
       "      <td>NaN</td>\n",
       "      <td>NaN</td>\n",
       "    </tr>\n",
       "    <tr>\n",
       "      <th>2020-11-12 09:00:00+09:00</th>\n",
       "      <td>2788.0</td>\n",
       "      <td>2800.0</td>\n",
       "      <td>2781.0</td>\n",
       "      <td>2789.0</td>\n",
       "      <td>108400.0</td>\n",
       "    </tr>\n",
       "    <tr>\n",
       "      <th>2020-11-13 09:00:00+09:00</th>\n",
       "      <td>2750.0</td>\n",
       "      <td>2754.0</td>\n",
       "      <td>2741.0</td>\n",
       "      <td>2750.0</td>\n",
       "      <td>71500.0</td>\n",
       "    </tr>\n",
       "    <tr>\n",
       "      <th>2020-11-16 09:00:00+09:00</th>\n",
       "      <td>2714.0</td>\n",
       "      <td>2716.0</td>\n",
       "      <td>2705.0</td>\n",
       "      <td>2710.0</td>\n",
       "      <td>111000.0</td>\n",
       "    </tr>\n",
       "    <tr>\n",
       "      <th>2020-11-17 09:00:00+09:00</th>\n",
       "      <td>2748.0</td>\n",
       "      <td>2748.0</td>\n",
       "      <td>2729.0</td>\n",
       "      <td>2734.0</td>\n",
       "      <td>124400.0</td>\n",
       "    </tr>\n",
       "    <tr>\n",
       "      <th>2020-11-18 09:00:00+09:00</th>\n",
       "      <td>2819.0</td>\n",
       "      <td>2823.0</td>\n",
       "      <td>2814.0</td>\n",
       "      <td>2820.0</td>\n",
       "      <td>76000.0</td>\n",
       "    </tr>\n",
       "    <tr>\n",
       "      <th>2020-11-19 09:00:00+09:00</th>\n",
       "      <td>2858.0</td>\n",
       "      <td>2867.0</td>\n",
       "      <td>2858.0</td>\n",
       "      <td>2860.0</td>\n",
       "      <td>107000.0</td>\n",
       "    </tr>\n",
       "    <tr>\n",
       "      <th>2020-11-20 09:00:00+09:00</th>\n",
       "      <td>2875.0</td>\n",
       "      <td>2887.0</td>\n",
       "      <td>2873.0</td>\n",
       "      <td>2884.0</td>\n",
       "      <td>106000.0</td>\n",
       "    </tr>\n",
       "    <tr>\n",
       "      <th>2020-11-24 09:00:00+09:00</th>\n",
       "      <td>2957.0</td>\n",
       "      <td>2967.0</td>\n",
       "      <td>2952.0</td>\n",
       "      <td>2966.0</td>\n",
       "      <td>0.0</td>\n",
       "    </tr>\n",
       "    <tr>\n",
       "      <th>2020-11-25 09:00:00+09:00</th>\n",
       "      <td>2927.0</td>\n",
       "      <td>2934.0</td>\n",
       "      <td>2926.0</td>\n",
       "      <td>2933.0</td>\n",
       "      <td>74000.0</td>\n",
       "    </tr>\n",
       "    <tr>\n",
       "      <th>2020-11-26 09:00:00+09:00</th>\n",
       "      <td>2822.0</td>\n",
       "      <td>2831.0</td>\n",
       "      <td>2818.0</td>\n",
       "      <td>2824.0</td>\n",
       "      <td>93500.0</td>\n",
       "    </tr>\n",
       "    <tr>\n",
       "      <th>2020-11-27 09:00:00+09:00</th>\n",
       "      <td>2809.0</td>\n",
       "      <td>2828.0</td>\n",
       "      <td>2809.0</td>\n",
       "      <td>2822.0</td>\n",
       "      <td>107600.0</td>\n",
       "    </tr>\n",
       "    <tr>\n",
       "      <th>2020-11-30 09:00:00+09:00</th>\n",
       "      <td>2940.0</td>\n",
       "      <td>2954.0</td>\n",
       "      <td>2936.0</td>\n",
       "      <td>2940.0</td>\n",
       "      <td>225300.0</td>\n",
       "    </tr>\n",
       "  </tbody>\n",
       "</table>\n",
       "</div>"
      ],
      "text/plain": [
       "                           Open_6502  High_6502  Low_6502  Close_6502  \\\n",
       "timestamp                                                               \n",
       "2020-11-04 09:00:00+09:00     2669.0     2670.0    2658.0      2664.0   \n",
       "2020-11-05 09:00:00+09:00     2631.0     2641.0    2630.0      2639.0   \n",
       "2020-11-06 09:00:00+09:00     2615.0     2644.0    2609.0      2617.0   \n",
       "2020-11-09 09:00:00+09:00     2711.0     2719.0    2707.0      2710.0   \n",
       "2020-11-10 09:00:00+09:00     2780.0     2782.0    2770.0      2777.0   \n",
       "2020-11-11 09:00:00+09:00        NaN        NaN       NaN         NaN   \n",
       "2020-11-12 09:00:00+09:00     2788.0     2800.0    2781.0      2789.0   \n",
       "2020-11-13 09:00:00+09:00     2750.0     2754.0    2741.0      2750.0   \n",
       "2020-11-16 09:00:00+09:00     2714.0     2716.0    2705.0      2710.0   \n",
       "2020-11-17 09:00:00+09:00     2748.0     2748.0    2729.0      2734.0   \n",
       "2020-11-18 09:00:00+09:00     2819.0     2823.0    2814.0      2820.0   \n",
       "2020-11-19 09:00:00+09:00     2858.0     2867.0    2858.0      2860.0   \n",
       "2020-11-20 09:00:00+09:00     2875.0     2887.0    2873.0      2884.0   \n",
       "2020-11-24 09:00:00+09:00     2957.0     2967.0    2952.0      2966.0   \n",
       "2020-11-25 09:00:00+09:00     2927.0     2934.0    2926.0      2933.0   \n",
       "2020-11-26 09:00:00+09:00     2822.0     2831.0    2818.0      2824.0   \n",
       "2020-11-27 09:00:00+09:00     2809.0     2828.0    2809.0      2822.0   \n",
       "2020-11-30 09:00:00+09:00     2940.0     2954.0    2936.0      2940.0   \n",
       "\n",
       "                           Volume_6502  \n",
       "timestamp                               \n",
       "2020-11-04 09:00:00+09:00      93000.0  \n",
       "2020-11-05 09:00:00+09:00      55000.0  \n",
       "2020-11-06 09:00:00+09:00      90700.0  \n",
       "2020-11-09 09:00:00+09:00          0.0  \n",
       "2020-11-10 09:00:00+09:00     142700.0  \n",
       "2020-11-11 09:00:00+09:00          NaN  \n",
       "2020-11-12 09:00:00+09:00     108400.0  \n",
       "2020-11-13 09:00:00+09:00      71500.0  \n",
       "2020-11-16 09:00:00+09:00     111000.0  \n",
       "2020-11-17 09:00:00+09:00     124400.0  \n",
       "2020-11-18 09:00:00+09:00      76000.0  \n",
       "2020-11-19 09:00:00+09:00     107000.0  \n",
       "2020-11-20 09:00:00+09:00     106000.0  \n",
       "2020-11-24 09:00:00+09:00          0.0  \n",
       "2020-11-25 09:00:00+09:00      74000.0  \n",
       "2020-11-26 09:00:00+09:00      93500.0  \n",
       "2020-11-27 09:00:00+09:00     107600.0  \n",
       "2020-11-30 09:00:00+09:00     225300.0  "
      ]
     },
     "execution_count": 35,
     "metadata": {},
     "output_type": "execute_result"
    }
   ],
   "source": [
    "extracted_df = extract_workdays_intraday_jp(aware_stock_df, return_as=\"df\")\n",
    "extracted_df.at_time(datetime.time(9,0))"
   ]
  },
  {
   "cell_type": "code",
   "execution_count": 36,
   "metadata": {
    "ExecuteTime": {
     "end_time": "2021-03-19T16:45:30.799518Z",
     "start_time": "2021-03-19T16:45:30.701784Z"
    }
   },
   "outputs": [
    {
     "data": {
      "text/html": [
       "<div>\n",
       "<style scoped>\n",
       "    .dataframe tbody tr th:only-of-type {\n",
       "        vertical-align: middle;\n",
       "    }\n",
       "\n",
       "    .dataframe tbody tr th {\n",
       "        vertical-align: top;\n",
       "    }\n",
       "\n",
       "    .dataframe thead th {\n",
       "        text-align: right;\n",
       "    }\n",
       "</style>\n",
       "<table border=\"1\" class=\"dataframe\">\n",
       "  <thead>\n",
       "    <tr style=\"text-align: right;\">\n",
       "      <th></th>\n",
       "      <th>Open_6502</th>\n",
       "      <th>High_6502</th>\n",
       "      <th>Low_6502</th>\n",
       "      <th>Close_6502</th>\n",
       "      <th>Volume_6502</th>\n",
       "    </tr>\n",
       "    <tr>\n",
       "      <th>timestamp</th>\n",
       "      <th></th>\n",
       "      <th></th>\n",
       "      <th></th>\n",
       "      <th></th>\n",
       "      <th></th>\n",
       "    </tr>\n",
       "  </thead>\n",
       "  <tbody>\n",
       "  </tbody>\n",
       "</table>\n",
       "</div>"
      ],
      "text/plain": [
       "Empty DataFrame\n",
       "Columns: [Open_6502, High_6502, Low_6502, Close_6502, Volume_6502]\n",
       "Index: []"
      ]
     },
     "execution_count": 36,
     "metadata": {},
     "output_type": "execute_result"
    }
   ],
   "source": [
    "extracted_df.at_time(datetime.time(8,0))"
   ]
  },
  {
   "cell_type": "markdown",
   "metadata": {},
   "source": [
    "## 以上のプロファイリングを考慮した新しいバージョン "
   ]
  },
  {
   "cell_type": "markdown",
   "metadata": {},
   "source": [
    "## 営業日の取得 "
   ]
  },
  {
   "cell_type": "markdown",
   "metadata": {},
   "source": [
    "### 指定した期間の営業日のndarrayを取得する"
   ]
  },
  {
   "cell_type": "code",
   "execution_count": 87,
   "metadata": {
    "ExecuteTime": {
     "end_time": "2021-03-26T20:38:50.249475Z",
     "start_time": "2021-03-26T20:38:50.169691Z"
    }
   },
   "outputs": [],
   "source": [
    "def get_workdays_jp(start_date, end_date, return_as=\"date\", end_include=False):\n",
    "    \"\"\"\n",
    "    営業日を取得\n",
    "    \n",
    "    start_date: datetime.date\n",
    "        開始時刻のdate\n",
    "    end_datetime: datetime.date\n",
    "        終了時刻のdate\n",
    "    return_as: str, defalt: 'dt'\n",
    "        返り値の形式\n",
    "        - 'dt':pd.DatetimeIndex\n",
    "        - 'date': datetime.date array\n",
    "    end_include: bool\n",
    "        最終日も含めて出力するか\n",
    "    \"\"\"\n",
    "    assert isinstance(start_date, datetime.date) and isinstance(end_date, datetime.date)\n",
    "    # 返り値の形式の指定\n",
    "    return_as_set = {\"dt\", \"date\"}\n",
    "    if not return_as in return_as_set:\n",
    "        raise Exception(\"return_as must be any in {}\".format(return_as_set))\n",
    "    \n",
    "    # datetime.dateをpd.Timestampに変換(datetime.dateは通常pd.DatetimeIndexと比較できないため)\n",
    "    start_timestamp = pd.Timestamp(start_date)\n",
    "    end_timestamp = pd.Timestamp(end_date)\n",
    "    \n",
    "    # 期間中のholidayを取得\n",
    "    holidays_in_span_index = (start_timestamp<=option.holidays_datetimeindex)&(option.holidays_datetimeindex<end_timestamp)  # DatetimeIndexを使うことに注意\n",
    "    holidays_in_span_datetimeindex = option.holidays_datetimeindex[holidays_in_span_index]  # ndarrayを使う\n",
    "\n",
    "    # 期間中のdatetimeのarrayを取得\n",
    "    if end_include:\n",
    "        days_datetimeindex = pd.date_range(start=start_date, end=end_date, freq=\"D\")  # 最終日も含める\n",
    "    else:\n",
    "        days_datetimeindex = pd.date_range(start=start_date, end=end_date-datetime.timedelta(days=1), freq=\"D\")  # 最終日は含めない\n",
    "    \n",
    "    \n",
    "    # 休日に含まれないもの，さらに土日に含まれないもののboolインデックスを取得\n",
    "    holiday_bool_array = days_datetimeindex.isin(holidays_in_span_datetimeindex)  # 休日であるかのブール\n",
    "    \n",
    "    days_weekday_array = days_datetimeindex.weekday.values\n",
    "    holiday_weekday_each_bool_arrays = [days_weekday_array==weekday for weekday in option.holiday_weekdays]  # inを使うのを回避\n",
    "    holiday_weekday_bool_array = np.logical_or.reduce(holiday_weekday_each_bool_arrays)  # 休日曜日\n",
    "    \n",
    "    workdays_bool_array = (~holiday_bool_array)&(~holiday_weekday_bool_array)  # 休日でなく休日曜日でない\n",
    "    \n",
    "    workdays_datetimeindex = days_datetimeindex[workdays_bool_array].copy()\n",
    "    if return_as==\"dt\":\n",
    "        return workdays_datetimeindex\n",
    "    elif return_as==\"date\":\n",
    "        return workdays_datetimeindex.date"
   ]
  },
  {
   "cell_type": "code",
   "execution_count": 88,
   "metadata": {
    "ExecuteTime": {
     "end_time": "2021-03-26T20:38:51.711900Z",
     "start_time": "2021-03-26T20:38:51.606656Z"
    }
   },
   "outputs": [
    {
     "name": "stdout",
     "output_type": "stream",
     "text": [
      "Timer unit: 1e-07 s\n",
      "\n",
      "Total time: 0.0135881 s\n",
      "File: <ipython-input-87-6acf899d182f>\n",
      "Function: get_workdays_jp at line 1\n",
      "\n",
      "Line #      Hits         Time  Per Hit   % Time  Line Contents\n",
      "==============================================================\n",
      "     1                                           def get_workdays_jp(start_date, end_date, return_as=\"date\", end_include=False):\n",
      "     2                                               \"\"\"\n",
      "     3                                               営業日を取得\n",
      "     4                                               \n",
      "     5                                               start_date: datetime.date\n",
      "     6                                                   開始時刻のdate\n",
      "     7                                               end_datetime: datetime.date\n",
      "     8                                                   終了時刻のdate\n",
      "     9                                               return_as: str, defalt: 'dt'\n",
      "    10                                                   返り値の形式\n",
      "    11                                                   - 'dt':pd.DatetimeIndex\n",
      "    12                                                   - 'date': datetime.date array\n",
      "    13                                               end_include: bool\n",
      "    14                                                   最終日も含めて出力するか\n",
      "    15                                               \"\"\"\n",
      "    16         1        160.0    160.0      0.1      assert isinstance(start_date, datetime.date) and isinstance(end_date, datetime.date)\n",
      "    17                                               # 返り値の形式の指定\n",
      "    18         1         91.0     91.0      0.1      return_as_set = {\"dt\", \"date\"}\n",
      "    19         1         80.0     80.0      0.1      if not return_as in return_as_set:\n",
      "    20                                                   raise Exception(\"return_as must be any in {}\".format(return_as_set))\n",
      "    21                                               \n",
      "    22                                               # datetime.dateをpd.Timestampに変換(datetime.dateは通常pd.DatetimeIndexと比較できないため)\n",
      "    23         1        579.0    579.0      0.4      start_timestamp = pd.Timestamp(start_date)\n",
      "    24         1        250.0    250.0      0.2      end_timestamp = pd.Timestamp(end_date)\n",
      "    25                                               \n",
      "    26                                               # 期間中のholidayを取得\n",
      "    27         1      12893.0  12893.0      9.5      holidays_in_span_index = (start_timestamp<=option.holidays_datetimeindex)&(option.holidays_datetimeindex<end_timestamp)  # DatetimeIndexを使うことに注意\n",
      "    28         1      23231.0  23231.0     17.1      holidays_in_span_datetimeindex = option.holidays_datetimeindex[holidays_in_span_index]  # ndarrayを使う\n",
      "    29                                           \n",
      "    30                                               # 期間中のdatetimeのarrayを取得\n",
      "    31         1        113.0    113.0      0.1      if end_include:\n",
      "    32                                                   days_datetimeindex = pd.date_range(start=start_date, end=end_date, freq=\"D\")  # 最終日も含める\n",
      "    33                                               else:\n",
      "    34         1      29278.0  29278.0     21.5          days_datetimeindex = pd.date_range(start=start_date, end=end_date-datetime.timedelta(days=1), freq=\"D\")  # 最終日は含めない\n",
      "    35                                               \n",
      "    36                                               \n",
      "    37                                               # 休日に含まれないもの，さらに土日に含まれないもののboolインデックスを取得\n",
      "    38                                               #holiday_bool_array = np.in1d(days_datetimeindex.date, holidays_in_span_array)  # 休日であるかのブール(pd.DatetimeIndex.isin)でもいい\n",
      "    39         1      17288.0  17288.0     12.7      holiday_bool_array = days_datetimeindex.isin(holidays_in_span_datetimeindex)\n",
      "    40                                               \n",
      "    41         1      18346.0  18346.0     13.5      days_weekday_array = days_datetimeindex.weekday.values\n",
      "    42         1       1231.0   1231.0      0.9      holiday_weekday_each_bool_arrays = [days_weekday_array==weekday for weekday in option.holiday_weekdays]  # inを使うのを回避\n",
      "    43         1       1388.0   1388.0      1.0      holiday_weekday_bool_array = np.logical_or.reduce(holiday_weekday_each_bool_arrays)  # 休日曜日\n",
      "    44                                               \n",
      "    45         1        527.0    527.0      0.4      workdays_bool_array = (~holiday_bool_array)&(~holiday_weekday_bool_array)  # 休日でなく休日曜日でない\n",
      "    46                                               \n",
      "    47         1      24254.0  24254.0     17.8      workdays_datetimeindex = days_datetimeindex[workdays_bool_array].copy()\n",
      "    48         1        108.0    108.0      0.1      if return_as==\"dt\":\n",
      "    49                                                   return workdays_datetimeindex\n",
      "    50         1         86.0     86.0      0.1      elif return_as==\"date\":\n",
      "    51         1       5978.0   5978.0      4.4          return workdays_datetimeindex.date\n",
      "\n"
     ]
    }
   ],
   "source": [
    "def temp_func():\n",
    "    start_date = datetime.datetime(2021, 1, 1)\n",
    "    end_date = datetime.datetime(2021, 12, 31)\n",
    "    workdays = get_workdays_jp(start_date, end_date, return_as=\"date\", end_include=False)\n",
    "\n",
    "from line_profiler import LineProfiler\n",
    "prf = LineProfiler()                                                                                         \n",
    "#prf.add_module()                                                                                          \n",
    "prf.add_function(get_workdays_jp)                                                                                      \n",
    "prf.runcall(temp_func)                                                                                          \n",
    "prf.print_stats()"
   ]
  },
  {
   "cell_type": "markdown",
   "metadata": {},
   "source": [
    "### 営業日であるかどうか "
   ]
  },
  {
   "cell_type": "code",
   "execution_count": 146,
   "metadata": {
    "ExecuteTime": {
     "end_time": "2021-03-26T23:47:57.327185Z",
     "start_time": "2021-03-26T23:47:57.300255Z"
    }
   },
   "outputs": [],
   "source": [
    "def check_workday_jp(select_date):\n",
    "    \"\"\"\n",
    "    与えられたdatetime.dateが営業日であるかどうかを出力する\n",
    "    select_date: datetime.date\n",
    "        入力するdate\n",
    "    \"\"\"\n",
    "    assert isinstance(select_date, datetime.date)\n",
    "    # 休日であるかどうか\n",
    "    is_holiday = (option.holidays_date_array==select_date).sum() > 0\n",
    "    \n",
    "    # 休日曜日であるかどうか\n",
    "    is_holiday_weekday = select_date.weekday() in set(option.holiday_weekdays)\n",
    "    \n",
    "    is_workday = not any([is_holiday, is_holiday_weekday])\n",
    "    \n",
    "    return is_workday"
   ]
  },
  {
   "cell_type": "code",
   "execution_count": 148,
   "metadata": {
    "ExecuteTime": {
     "end_time": "2021-03-26T23:48:11.020568Z",
     "start_time": "2021-03-26T23:48:10.958731Z"
    }
   },
   "outputs": [
    {
     "name": "stdout",
     "output_type": "stream",
     "text": [
      "Timer unit: 1e-07 s\n",
      "\n",
      "Total time: 0.0017455 s\n",
      "File: <ipython-input-146-32034ee082ba>\n",
      "Function: check_workday_jp at line 1\n",
      "\n",
      "Line #      Hits         Time  Per Hit   % Time  Line Contents\n",
      "==============================================================\n",
      "     1                                           def check_workday_jp(select_date):\n",
      "     2                                               \"\"\"\n",
      "     3                                               与えられたdatetime.dateが営業日であるかどうかを出力する\n",
      "     4                                               select_date: datetime.date\n",
      "     5                                                   入力するdate\n",
      "     6                                               \"\"\"\n",
      "     7         1        450.0    450.0      2.6      assert isinstance(select_date, datetime.date)\n",
      "     8                                               # 休日であるかどうか\n",
      "     9         1      16474.0  16474.0     94.4      is_holiday = (option.holidays_date_array==select_date).sum() > 0\n",
      "    10                                               \n",
      "    11                                               # 休日曜日であるかどうか\n",
      "    12         1        404.0    404.0      2.3      is_holiday_weekday = select_date.weekday() in set(option.holiday_weekdays)\n",
      "    13                                               \n",
      "    14         1         92.0     92.0      0.5      is_workday = not any([is_holiday, is_holiday_weekday])\n",
      "    15                                               \n",
      "    16         1         35.0     35.0      0.2      return is_workday\n",
      "\n"
     ]
    }
   ],
   "source": [
    "def temp_func():\n",
    "    select_date = datetime.date(2021, 1, 3)\n",
    "    check_workday_jp(select_date)\n",
    "    \n",
    "from line_profiler import LineProfiler\n",
    "prf = LineProfiler()                                                                                         \n",
    "#prf.add_module()                                                                                          \n",
    "prf.add_function(check_workday_jp)                                                                                      \n",
    "prf.runcall(temp_func)                                                                                          \n",
    "prf.print_stats()"
   ]
  },
  {
   "cell_type": "code",
   "execution_count": 149,
   "metadata": {
    "ExecuteTime": {
     "end_time": "2021-03-26T23:50:19.773277Z",
     "start_time": "2021-03-26T23:50:19.694485Z"
    }
   },
   "outputs": [
    {
     "name": "stdout",
     "output_type": "stream",
     "text": [
      "Timer unit: 1e-07 s\n",
      "\n",
      "Total time: 0.0126762 s\n",
      "File: <ipython-input-135-eab34ca25371>\n",
      "Function: get_next_workday_jp at line 1\n",
      "\n",
      "Line #      Hits         Time  Per Hit   % Time  Line Contents\n",
      "==============================================================\n",
      "     1                                           def get_next_workday_jp(select_date, days=1, select_include=False, return_as=\"date\"):\n",
      "     2                                               \"\"\"\n",
      "     3                                               select_date: datetime.date\n",
      "     4                                                   指定する日時\n",
      "     5                                               return_as: str, defalt: 'dt'\n",
      "     6                                                   返り値の形式\n",
      "     7                                                   - 'dt':pd.Timstamp\n",
      "     8                                                   - 'datetime': datetime.datetime array\n",
      "     9                                               \"\"\"\n",
      "    10         1        150.0    150.0      0.1      assert isinstance(select_date, datetime.date)\n",
      "    11                                               # 返り値の形式の指定\n",
      "    12         1         72.0     72.0      0.1      return_as_set = {\"dt\", \"date\"}\n",
      "    13         1         54.0     54.0      0.0      if not return_as in return_as_set:\n",
      "    14                                                   raise Exception(\"return_as must be any in {}\".format(return_as_set))\n",
      "    15                                                   \n",
      "    16                                           \n",
      "    17         1         51.0     51.0      0.0      def get_next_workday_jp_gen(select_date):\n",
      "    18                                                   add_days = 1  # 追加日数の初期値\n",
      "    19                                                   while True:\n",
      "    20                                                       next_day = select_date + datetime.timedelta(days=add_days)\n",
      "    21                                                       if check_workday_jp(next_day):\n",
      "    22                                                           yield next_day\n",
      "    23                                                       add_days += 1  # 追加日数をさらに追加\n",
      "    24                                               \n",
      "    25         1         57.0     57.0      0.0      next_workday_gen = get_next_workday_jp_gen(select_date)\n",
      "    26                                               \n",
      "    27        44       2460.0     55.9      1.9      for i in range(days):\n",
      "    28        43     123817.0   2879.5     97.7          next_day = next(next_workday_gen)\n",
      "    29                                               \n",
      "    30         1         54.0     54.0      0.0      if return_as==\"date\":\n",
      "    31         1         47.0     47.0      0.0          return next_day\n",
      "    32                                               elif return_as==\"dt\":\n",
      "    33                                                   return pd.Timestamp(next_day)\n",
      "\n",
      "Total time: 0.0094554 s\n",
      "File: <ipython-input-146-32034ee082ba>\n",
      "Function: check_workday_jp at line 1\n",
      "\n",
      "Line #      Hits         Time  Per Hit   % Time  Line Contents\n",
      "==============================================================\n",
      "     1                                           def check_workday_jp(select_date):\n",
      "     2                                               \"\"\"\n",
      "     3                                               与えられたdatetime.dateが営業日であるかどうかを出力する\n",
      "     4                                               select_date: datetime.date\n",
      "     5                                                   入力するdate\n",
      "     6                                               \"\"\"\n",
      "     7        66       3208.0     48.6      3.4      assert isinstance(select_date, datetime.date)\n",
      "     8                                               # 休日であるかどうか\n",
      "     9        66      71729.0   1086.8     75.9      is_holiday = (option.holidays_date_array==select_date).sum() > 0\n",
      "    10                                               \n",
      "    11                                               # 休日曜日であるかどうか\n",
      "    12        66      13637.0    206.6     14.4      is_holiday_weekday = select_date.weekday() in set(option.holiday_weekdays)\n",
      "    13                                               \n",
      "    14        66       3803.0     57.6      4.0      is_workday = not any([is_holiday, is_holiday_weekday])\n",
      "    15                                               \n",
      "    16        66       2177.0     33.0      2.3      return is_workday\n",
      "\n"
     ]
    }
   ],
   "source": [
    "def temp_func():\n",
    "    next_workday = get_next_workday_jp(select_datetime, days=43, return_as=\"date\")\n",
    "\n",
    "from line_profiler import LineProfiler\n",
    "prf = LineProfiler()                                                                                         \n",
    "#prf.add_module()                                                                                          \n",
    "prf.add_function(check_workday_jp) \n",
    "prf.add_function(get_next_workday_jp)\n",
    "prf.runcall(temp_func)                                                                                          \n",
    "prf.print_stats()"
   ]
  },
  {
   "cell_type": "markdown",
   "metadata": {},
   "source": [
    "### 非営業日を取得 "
   ]
  },
  {
   "cell_type": "code",
   "execution_count": 99,
   "metadata": {
    "ExecuteTime": {
     "end_time": "2021-03-26T21:02:07.130509Z",
     "start_time": "2021-03-26T21:02:07.014633Z"
    }
   },
   "outputs": [],
   "source": [
    "def get_not_workdays_jp(start_date, end_date, return_as=\"date\", end_include=False):\n",
    "    \"\"\"\n",
    "    非営業日を取得(土日or祝日)\n",
    "    \n",
    "    start_date: datetime.date\n",
    "        開始時刻のdate\n",
    "    end_datetime: datetime.date\n",
    "        終了時刻のdate\n",
    "    return_as: str, defalt: 'dt'\n",
    "        返り値の形式\n",
    "        - 'dt':pd.DatetimeIndex\n",
    "        - 'date': datetime.date array\n",
    "    end_include: bool\n",
    "        最終日も含めて出力するか\n",
    "    \"\"\"\n",
    "    assert isinstance(start_date, datetime.date) and isinstance(end_date, datetime.date)\n",
    "    # 返り値の形式の指定\n",
    "    return_as_set = {\"dt\", \"date\"}\n",
    "    if not return_as in return_as_set:\n",
    "        raise Exception(\"return_as must be any in {}\".format(return_as_set))\n",
    "    \n",
    "    # datetime.dateをpd.Timestampに変換(datetime.dateは通常pd.DatetimeIndexと比較できないため)\n",
    "    start_timestamp = pd.Timestamp(start_date)\n",
    "    end_timestamp = pd.Timestamp(end_date)\n",
    "    \n",
    "    # 期間中のholidayを取得\n",
    "    holidays_in_span_index = (start_timestamp<=option.holidays_datetimeindex)&(option.holidays_datetimeindex<end_timestamp)  # DatetimeIndexを使うことに注意\n",
    "    holidays_in_span_datetimeindex = option.holidays_datetimeindex[holidays_in_span_index]  # pd.DatetimeIndexを使う\n",
    "\n",
    "    # 期間中のdatetimeのarrayを取得\n",
    "    if end_include:\n",
    "        days_datetimeindex = pd.date_range(start=start_date, end=end_date, freq=\"D\")  # 最終日も含める\n",
    "    else:\n",
    "        days_datetimeindex = pd.date_range(start=start_date, end=end_date-datetime.timedelta(days=1), freq=\"D\")  # 最終日は含めない\n",
    "    \n",
    "    # 休日に含まれないもの，さらに休日曜日に含まれないもののboolインデックスを取得\n",
    "    holiday_bool_array = days_datetimeindex.isin(holidays_in_span_datetimeindex)  # 休日であるかのブール\n",
    "    \n",
    "    days_weekday_array = days_datetimeindex.weekday.values\n",
    "    holiday_weekday_each_bool_arrays = [days_weekday_array==weekday for weekday in option.holiday_weekdays]  # inを使うのを回避\n",
    "    holiday_weekday_bool_array = np.logical_or.reduce(holiday_weekday_each_bool_arrays)  # 休日曜日\n",
    "    \n",
    "    not_workdays_bool_array = holiday_bool_array | holiday_weekday_bool_array  # 休日あるいは休日曜日\n",
    "    \n",
    "    not_workdays_datetimeindex = days_datetimeindex[not_workdays_bool_array].copy()\n",
    "    if return_as==\"dt\":\n",
    "        return not_workdays_datetimeindex\n",
    "    elif return_as==\"date\":\n",
    "        return not_workdays_datetimeindex.date"
   ]
  },
  {
   "cell_type": "markdown",
   "metadata": {},
   "source": [
    "## 指定した日数後の営業日を取得 "
   ]
  },
  {
   "cell_type": "code",
   "execution_count": 185,
   "metadata": {
    "ExecuteTime": {
     "end_time": "2021-03-27T06:09:02.183590Z",
     "start_time": "2021-03-27T06:09:02.099107Z"
    }
   },
   "outputs": [],
   "source": [
    "def get_next_workday_jp(select_date, days=1, select_include=False, return_as=\"date\"):\n",
    "    \"\"\"\n",
    "    指定した日数後の営業日を取得\n",
    "    select_date: datetime.date\n",
    "        指定する日時\n",
    "    days: int\n",
    "        日数\n",
    "    return_as: str, defalt: 'dt'\n",
    "        返り値の形式\n",
    "        - 'dt':pd.Timstamp\n",
    "        - 'datetime': datetime.datetime array\n",
    "    \"\"\"\n",
    "    assert isinstance(select_date, datetime.date)\n",
    "    # 返り値の形式の指定\n",
    "    return_as_set = {\"dt\", \"date\"}\n",
    "    if not return_as in return_as_set:\n",
    "        raise Exception(\"return_as must be any in {}\".format(return_as_set))\n",
    "        \n",
    "    day_counter = 0\n",
    "    holiday_weekdays_set = set(option.holiday_weekdays)  #setにした方が高速？\n",
    "\n",
    "    holiday_bigger_select_index = (option.holidays_date_array<=select_date).sum()\n",
    "    # 祝日イテレータ\n",
    "    holiday_iter = iter(option.holidays_date_array[holiday_bigger_select_index:])\n",
    "    def days_gen(select_date):\n",
    "        add_days = 1  # select_dateを含まない\n",
    "        while True:\n",
    "            yield select_date + datetime.timedelta(days=add_days)\n",
    "            add_days += 1\n",
    "    # 日にちイテレータ\n",
    "    days_iter = days_gen(select_date)\n",
    "\n",
    "    # 以下二つのイテレーターを比較し，one_dayが休日に含まれる場合，カウントしカウントが指定に達した場合終了する\n",
    "    one_day = next(days_iter)\n",
    "\n",
    "    one_holiday = next(holiday_iter)\n",
    "\n",
    "    while True:\n",
    "        if one_day==one_holiday:  #その日が祝日である\n",
    "            one_holiday = next(holiday_iter)\n",
    "        else:\n",
    "            if not one_day.weekday() in holiday_weekdays_set:  #その日が休日曜日である\n",
    "                #print(one_day)\n",
    "                day_counter += 1  # カウンターをインクリメント\n",
    "\n",
    "        if day_counter >= days:\n",
    "            break\n",
    "\n",
    "        one_day = next(days_iter)\n",
    "        \n",
    "    if return_as==\"date\":\n",
    "        return one_day\n",
    "    elif return_as==\"dt\":\n",
    "        return pd.Timestamp(one_day)"
   ]
  },
  {
   "cell_type": "code",
   "execution_count": 186,
   "metadata": {
    "ExecuteTime": {
     "end_time": "2021-03-27T06:09:03.207068Z",
     "start_time": "2021-03-27T06:09:03.111415Z"
    }
   },
   "outputs": [
    {
     "name": "stdout",
     "output_type": "stream",
     "text": [
      "Timer unit: 1e-07 s\n",
      "\n",
      "Total time: 0.0031899 s\n",
      "File: <ipython-input-185-4a0fcab84af8>\n",
      "Function: get_next_workday_jp at line 1\n",
      "\n",
      "Line #      Hits         Time  Per Hit   % Time  Line Contents\n",
      "==============================================================\n",
      "     1                                           def get_next_workday_jp(select_date, days=1, select_include=False, return_as=\"date\"):\n",
      "     2                                               \"\"\"\n",
      "     3                                               select_date: datetime.date\n",
      "     4                                                   指定する日時\n",
      "     5                                               return_as: str, defalt: 'dt'\n",
      "     6                                                   返り値の形式\n",
      "     7                                                   - 'dt':pd.Timstamp\n",
      "     8                                                   - 'datetime': datetime.datetime array\n",
      "     9                                               \"\"\"\n",
      "    10         1        214.0    214.0      0.7      assert isinstance(select_date, datetime.date)\n",
      "    11                                               # 返り値の形式の指定\n",
      "    12         1         86.0     86.0      0.3      return_as_set = {\"dt\", \"date\"}\n",
      "    13         1         50.0     50.0      0.2      if not return_as in return_as_set:\n",
      "    14                                                   raise Exception(\"return_as must be any in {}\".format(return_as_set))\n",
      "    15                                                   \n",
      "    16         1         36.0     36.0      0.1      day_counter = 0\n",
      "    17         1        311.0    311.0      1.0      holiday_weekdays_set = set(option.holiday_weekdays)  #setにした方が高速？\n",
      "    18                                           \n",
      "    19         1       2033.0   2033.0      6.4      holiday_bigger_select_index = (option.holidays_date_array<=select_date).sum()\n",
      "    20                                               # 祝日イテレータ\n",
      "    21         1        286.0    286.0      0.9      holiday_iter = iter(option.holidays_date_array[holiday_bigger_select_index:])\n",
      "    22         1         73.0     73.0      0.2      def days_gen(select_date):\n",
      "    23                                                   add_days = 1  # select_dateを含まない\n",
      "    24                                                   while True:\n",
      "    25                                                       yield select_date + datetime.timedelta(days=add_days)\n",
      "    26                                                       add_days += 1\n",
      "    27                                               # 日にちイテレータ\n",
      "    28         1         80.0     80.0      0.3      days_iter = days_gen(select_date)\n",
      "    29                                           \n",
      "    30                                               # 以下二つのイテレーターを比較し，one_dayが休日に含まれる場合，カウントしカウントが指定に達した場合終了する\n",
      "    31         1        341.0    341.0      1.1      one_day = next(days_iter)\n",
      "    32                                           \n",
      "    33         1         83.0     83.0      0.3      one_holiday = next(holiday_iter)\n",
      "    34                                           \n",
      "    35         1         62.0     62.0      0.2      while True:\n",
      "    36        66       4284.0     64.9     13.4          if one_day==one_holiday:  #その日が祝日である\n",
      "    37         3        220.0     73.3      0.7              one_holiday = next(holiday_iter)\n",
      "    38                                                   else:\n",
      "    39        63       4468.0     70.9     14.0              if not one_day.weekday() in holiday_weekdays_set:  #その日が休日曜日である\n",
      "    40                                                           #print(one_day)\n",
      "    41        43       2871.0     66.8      9.0                  day_counter += 1  # カウンターをインクリメント\n",
      "    42                                           \n",
      "    43        66       4560.0     69.1     14.3          if day_counter >= days:\n",
      "    44         1         60.0     60.0      0.2              break\n",
      "    45                                           \n",
      "    46        65      11660.0    179.4     36.6          one_day = next(days_iter)\n",
      "    47                                                   \n",
      "    48         1         65.0     65.0      0.2      if return_as==\"date\":\n",
      "    49         1         56.0     56.0      0.2          return one_day\n",
      "    50                                               elif return_as==\"dt\":\n",
      "    51                                                   return pd.Timestamp(one_day)\n",
      "\n"
     ]
    }
   ],
   "source": [
    "def temp_func():\n",
    "    select_date = datetime.date(2021, 1, 1)\n",
    "    next_workday = get_next_workday_jp(select_date, days=43, return_as=\"date\")\n",
    "    \n",
    "from line_profiler import LineProfiler\n",
    "prf = LineProfiler()                                                                                         \n",
    "#prf.add_module()                                                                                          \n",
    "prf.add_function(get_next_workday_jp)                                                                                      \n",
    "prf.runcall(temp_func)                                                                                          \n",
    "prf.print_stats()"
   ]
  },
  {
   "cell_type": "markdown",
   "metadata": {},
   "source": [
    "## データフレームに関しての処理 "
   ]
  },
  {
   "cell_type": "markdown",
   "metadata": {},
   "source": [
    "### 営業日データを取得 "
   ]
  },
  {
   "cell_type": "code",
   "execution_count": 103,
   "metadata": {
    "ExecuteTime": {
     "end_time": "2021-03-26T21:12:12.748766Z",
     "start_time": "2021-03-26T21:12:12.669978Z"
    }
   },
   "outputs": [],
   "source": [
    "def extract_workdays_jp_index(dt_index, return_as=\"index\"):\n",
    "    \"\"\"\n",
    "    pd.DatetimeIndexから，営業日のデータのものを抽出\n",
    "    dt_index: pd.DatetimeIndex\n",
    "        入力するDatetimeIndex，すでにdatetimeでソートしていることが前提\n",
    "    return_as: str\n",
    "        出力データの形式\n",
    "        - \"index\": 引数としたdfの対応するインデックスを返す\n",
    "        - \"bool\": 引数としたdfに対応するboolインデックスを返す\n",
    "    \"\"\"\n",
    "    # 返り値の形式の指定\n",
    "    return_as_set = {\"index\", \"bool\"}\n",
    "    if not return_as in return_as_set:\n",
    "        raise Exception(\"return_as must be any in {}\".format(return_as_set))\n",
    "        \n",
    "    # すでにtimestampでソートさてている前提\n",
    "    start_datetime = dt_index[0].to_pydatetime()\n",
    "    end_datetime = dt_index[-1].to_pydatetime()\n",
    "    \n",
    "    start_datetime, end_datetime = check_jst_datetimes_to_naive(start_datetime, end_datetime)  # 二つのdatetimeのタイムゾーンをチェック・naiveに変更\n",
    "    \n",
    "    # 期間内のholidayを取得\n",
    "    holidays_in_span_index = ((start_datetime-datetime.timedelta(days=1))<option.holidays_datetimeindex)&\\\n",
    "    (option.holidays_datetimeindex<=end_datetime)  # DatetimeIndexを使うことに注意, 当日を含めるため，startから1を引いている．\n",
    "    holidays_in_span_datetimeindex = option.holidays_datetimeindex[holidays_in_span_index]  # pd.DatetimeIndexを使う\n",
    "    \n",
    "    # 休日に含まれないもの，さらに土日に含まれないもののboolインデックスを取得    \n",
    "    holiday_bool_array = dt_index.floor(\"D\").isin(holidays_in_span_datetimeindex)  # 休日\n",
    "    \n",
    "    dt_index_weekday = dt_index.weekday\n",
    "    holiday_weekday_each_bool_arrays = [dt_index_weekday==weekday for weekday in option.holiday_weekdays]  # inを使うのを回避\n",
    "    holiday_weekday_bool_array = np.logical_or.reduce(holiday_weekday_each_bool_arrays)  # 休日曜日\n",
    "    \n",
    "    workdays_bool_array = (~holiday_bool_array)&(~holiday_weekday_bool_array)  # 休日でなく休日曜日でない\n",
    "    if return_as==\"bool\":  # boolで返す場合\n",
    "        return workdays_bool_array\n",
    "    \n",
    "    elif return_as==\"index\":  # indexで返す場合\n",
    "        workdays_df_indice = dt_index[workdays_bool_array]\n",
    "        return workdays_df_indice"
   ]
  },
  {
   "cell_type": "code",
   "execution_count": 105,
   "metadata": {
    "ExecuteTime": {
     "end_time": "2021-03-26T21:15:41.936950Z",
     "start_time": "2021-03-26T21:15:41.756430Z"
    },
    "scrolled": false
   },
   "outputs": [
    {
     "name": "stdout",
     "output_type": "stream",
     "text": [
      "Timer unit: 1e-07 s\n",
      "\n",
      "Total time: 0.0806603 s\n",
      "File: <ipython-input-103-560262c406e5>\n",
      "Function: extract_workdays_jp_index at line 1\n",
      "\n",
      "Line #      Hits         Time  Per Hit   % Time  Line Contents\n",
      "==============================================================\n",
      "     1                                           def extract_workdays_jp_index(dt_index, return_as=\"index\"):\n",
      "     2                                               \"\"\"\n",
      "     3                                               pd.DatetimeIndexから，営業日のデータのものを抽出\n",
      "     4                                               dt_index: pd.DatetimeIndex\n",
      "     5                                                   入力するDatetimeIndex，すでにdatetimeでソートしていることが前提\n",
      "     6                                               return_as: str\n",
      "     7                                                   出力データの形式\n",
      "     8                                                   - \"index\": 引数としたdfの対応するインデックスを返す\n",
      "     9                                                   - \"bool\": 引数としたdfに対応するboolインデックスを返す\n",
      "    10                                               \"\"\"\n",
      "    11                                               # 返り値の形式の指定\n",
      "    12         1        101.0    101.0      0.0      return_as_set = {\"index\", \"bool\"}\n",
      "    13         1         81.0     81.0      0.0      if not return_as in return_as_set:\n",
      "    14                                                   raise Exception(\"return_as must be any in {}\".format(return_as_set))\n",
      "    15                                                   \n",
      "    16                                               # すでにtimestampでソートさてている前提\n",
      "    17         1       8094.0   8094.0      1.0      start_datetime = dt_index[0].to_pydatetime()\n",
      "    18         1       3635.0   3635.0      0.5      end_datetime = dt_index[-1].to_pydatetime()\n",
      "    19                                               \n",
      "    20         1       8116.0   8116.0      1.0      start_datetime, end_datetime = check_jst_datetimes_to_naive(start_datetime, end_datetime)  # 二つのdatetimeのタイムゾーンをチェック・naiveに変更\n",
      "    21                                               \n",
      "    22                                               # 期間内のholidayを取得\n",
      "    23         1      16885.0  16885.0      2.1      holidays_in_span_index = ((start_datetime-datetime.timedelta(days=1))<option.holidays_datetimeindex)&\\\n",
      "    24         1      17244.0  17244.0      2.1      (option.holidays_datetimeindex<=end_datetime)  # DatetimeIndexを使うことに注意, 当日を含めるため，startから1を引いている．\n",
      "    25         1      29555.0  29555.0      3.7      holidays_in_span_datetimeindex = option.holidays_datetimeindex[holidays_in_span_index]  # pd.DatetimeIndexを使う\n",
      "    26                                               \n",
      "    27                                               # 休日に含まれないもの，さらに土日に含まれないもののboolインデックスを取得    \n",
      "    28         1     359389.0 359389.0     44.6      holiday_bool_array = dt_index.floor(\"D\").isin(holidays_in_span_datetimeindex)  # 休日\n",
      "    29                                               \n",
      "    30         1     282208.0 282208.0     35.0      dt_index_weekday = dt_index.weekday\n",
      "    31         1      68224.0  68224.0      8.5      holiday_weekday_each_bool_arrays = [dt_index_weekday==weekday for weekday in option.holiday_weekdays]  # inを使うのを回避\n",
      "    32         1       6183.0   6183.0      0.8      holiday_weekday_bool_array = np.logical_or.reduce(holiday_weekday_each_bool_arrays)  # 休日曜日\n",
      "    33                                               \n",
      "    34         1       6768.0   6768.0      0.8      workdays_bool_array = (~holiday_bool_array)&(~holiday_weekday_bool_array)  # 休日でなく休日曜日でない\n",
      "    35         1         67.0     67.0      0.0      if return_as==\"bool\":  # boolで返す場合\n",
      "    36         1         53.0     53.0      0.0          return workdays_bool_array\n",
      "    37                                               \n",
      "    38                                               elif return_as==\"index\":  # indexで返す場合\n",
      "    39                                                   workdays_df_indice = dt_index[workdays_bool_array]\n",
      "    40                                                   return workdays_df_indice\n",
      "\n",
      "Total time: 0.0997232 s\n",
      "File: <ipython-input-55-73f69d09a7f8>\n",
      "Function: extract_workdays_jp at line 1\n",
      "\n",
      "Line #      Hits         Time  Per Hit   % Time  Line Contents\n",
      "==============================================================\n",
      "     1                                           def extract_workdays_jp(df, return_as=\"df\"):\n",
      "     2                                               \"\"\"\n",
      "     3                                               データフレームから，営業日のデータのものを抽出．出力データ形式をreturn_asで指定する．\n",
      "     4                                               df: pd.DataFrame(インデックスとしてpd.DatetimeIndex)\n",
      "     5                                                   入力データ\n",
      "     6                                               return_as: str\n",
      "     7                                                   出力データの形式\n",
      "     8                                                   - \"df\": 抽出した新しいpd.DataFrameを返す\n",
      "     9                                                   - \"index\": 引数としたdfの対応するインデックスを返す\n",
      "    10                                                   - \"bool\": 引数としたdfに対応するboolインデックスを返す\n",
      "    11                                               \"\"\"\n",
      "    12                                               \n",
      "    13                                               # 返り値の形式の指定\n",
      "    14         1       2699.0   2699.0      0.3      return_as_set = {\"df\", \"index\", \"bool\"}\n",
      "    15         1        323.0    323.0      0.0      if not return_as in return_as_set:\n",
      "    16                                                   raise Exception(\"return_as must be any in {}\".format(return_as_set))\n",
      "    17                                               \n",
      "    18         1     811301.0 811301.0     81.4      workdays_bool_array = extract_workdays_jp_index(df.index, return_as=\"bool\")\n",
      "    19         1         42.0     42.0      0.0      if return_as==\"bool\":\n",
      "    20                                                   return workdays_bool_array\n",
      "    21                                               \n",
      "    22         1      24941.0  24941.0      2.5      workdays_df_indice = df.index[workdays_bool_array]\n",
      "    23         1         60.0     60.0      0.0      if return_as==\"index\":\n",
      "    24                                                   return workdays_df_indice\n",
      "    25                                           \n",
      "    26         1     157800.0 157800.0     15.8      out_df = df.loc[workdays_df_indice].copy()\n",
      "    27         1         66.0     66.0      0.0      return out_df\n",
      "\n"
     ]
    }
   ],
   "source": [
    "def temp_func():\n",
    "    extracted_stock_df = extract_workdays_jp(aware_stock_df, return_as=\"df\")\n",
    "    \n",
    "from line_profiler import LineProfiler\n",
    "prf = LineProfiler()                                                                                         \n",
    "#prf.add_module()                                                                                          \n",
    "prf.add_function(extract_workdays_jp)\n",
    "prf.add_function(extract_workdays_jp_index)\n",
    "prf.runcall(temp_func)                                                                                          \n",
    "prf.print_stats()"
   ]
  },
  {
   "cell_type": "code",
   "execution_count": null,
   "metadata": {},
   "outputs": [],
   "source": []
  }
 ],
 "metadata": {
  "kernelspec": {
   "display_name": "torch_py37",
   "language": "python",
   "name": "torch_py37"
  },
  "language_info": {
   "codemirror_mode": {
    "name": "ipython",
    "version": 3
   },
   "file_extension": ".py",
   "mimetype": "text/x-python",
   "name": "python",
   "nbconvert_exporter": "python",
   "pygments_lexer": "ipython3",
   "version": "3.7.4"
  },
  "toc": {
   "base_numbering": 1,
   "nav_menu": {},
   "number_sections": true,
   "sideBar": true,
   "skip_h1_title": true,
   "title_cell": "Table of Contents",
   "title_sidebar": "Contents",
   "toc_cell": false,
   "toc_position": {
    "height": "calc(100% - 180px)",
    "left": "10px",
    "top": "150px",
    "width": "165px"
   },
   "toc_section_display": true,
   "toc_window_display": false
  }
 },
 "nbformat": 4,
 "nbformat_minor": 4
}

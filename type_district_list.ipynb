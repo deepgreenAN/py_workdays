{
 "cells": [
  {
   "cell_type": "code",
   "execution_count": null,
   "metadata": {},
   "outputs": [],
   "source": [
    "class MyList(list):\n",
    "    def __init__(self, *args):\n",
    "        def type_dicision(item):\n",
    "            if isinstance(item, list) or isinstance(item, tuple):\n",
    "                return [type_dicision(item[0])]\n",
    "            else:\n",
    "                return type(item)\n",
    "        self.type_structure = args\n",
    "        \n",
    "        def length_dicision(item):\n",
    "            if isinstance(item, list) or isinstance(item, tuple):\n",
    "                return [length_dicision(item[0])]     \n",
    "        \n",
    "        super(MyList, self).__init__(*args)\n",
    "        \n",
    "    def append(self):\n",
    "        \n",
    "    def check_type(self):\n",
    "        def "
   ]
  }
 ],
 "metadata": {
  "kernelspec": {
   "display_name": "torch_py37",
   "language": "python",
   "name": "torch_py37"
  },
  "language_info": {
   "codemirror_mode": {
    "name": "ipython",
    "version": 3
   },
   "file_extension": ".py",
   "mimetype": "text/x-python",
   "name": "python",
   "nbconvert_exporter": "python",
   "pygments_lexer": "ipython3",
   "version": "3.7.4"
  },
  "toc": {
   "base_numbering": 1,
   "nav_menu": {},
   "number_sections": true,
   "sideBar": true,
   "skip_h1_title": true,
   "title_cell": "Table of Contents",
   "title_sidebar": "Contents",
   "toc_cell": false,
   "toc_position": {},
   "toc_section_display": true,
   "toc_window_display": false
  }
 },
 "nbformat": 4,
 "nbformat_minor": 4
}

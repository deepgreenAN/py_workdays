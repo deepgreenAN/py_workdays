{
 "cells": [
  {
   "cell_type": "code",
   "execution_count": 1,
   "metadata": {
    "ExecuteTime": {
     "end_time": "2021-04-03T03:09:04.457370Z",
     "start_time": "2021-04-03T03:09:04.428445Z"
    }
   },
   "outputs": [
    {
     "name": "stdout",
     "output_type": "stream",
     "text": [
      "E:\\py_workdays\n"
     ]
    }
   ],
   "source": [
    "%cd .."
   ]
  },
  {
   "cell_type": "code",
   "execution_count": 2,
   "metadata": {
    "ExecuteTime": {
     "end_time": "2021-04-03T03:09:04.568075Z",
     "start_time": "2021-04-03T03:09:04.467343Z"
    }
   },
   "outputs": [],
   "source": [
    "import unittest"
   ]
  },
  {
   "cell_type": "code",
   "execution_count": 3,
   "metadata": {
    "ExecuteTime": {
     "end_time": "2021-04-03T03:09:07.440389Z",
     "start_time": "2021-04-03T03:09:04.579043Z"
    }
   },
   "outputs": [],
   "source": [
    "import numpy as np\n",
    "import datetime\n",
    "import pandas as pd\n",
    "from pathlib import Path"
   ]
  },
  {
   "cell_type": "code",
   "execution_count": 4,
   "metadata": {
    "ExecuteTime": {
     "end_time": "2021-04-03T03:09:08.422764Z",
     "start_time": "2021-04-03T03:09:07.450365Z"
    }
   },
   "outputs": [],
   "source": [
    "from py_workdays import get_holidays_jp, get_workdays_jp, get_not_workdays_jp"
   ]
  },
  {
   "cell_type": "code",
   "execution_count": 5,
   "metadata": {
    "ExecuteTime": {
     "end_time": "2021-04-03T03:09:08.454681Z",
     "start_time": "2021-04-03T03:09:08.430744Z"
    }
   },
   "outputs": [],
   "source": [
    "from py_workdays import check_workday_jp, get_next_workday_jp, get_workdays_number_jp"
   ]
  },
  {
   "cell_type": "code",
   "execution_count": 6,
   "metadata": {
    "ExecuteTime": {
     "end_time": "2021-04-03T03:09:08.486613Z",
     "start_time": "2021-04-03T03:09:08.466651Z"
    }
   },
   "outputs": [],
   "source": [
    "from py_workdays import extract_workdays_jp, extract_intraday_jp, extract_workdays_intraday_jp"
   ]
  },
  {
   "cell_type": "code",
   "execution_count": 7,
   "metadata": {
    "ExecuteTime": {
     "end_time": "2021-04-03T03:09:08.533471Z",
     "start_time": "2021-04-03T03:09:08.515517Z"
    }
   },
   "outputs": [],
   "source": [
    "from py_workdays import option"
   ]
  },
  {
   "cell_type": "code",
   "execution_count": 8,
   "metadata": {
    "ExecuteTime": {
     "end_time": "2021-04-03T03:09:08.627220Z",
     "start_time": "2021-04-03T03:09:08.550426Z"
    }
   },
   "outputs": [],
   "source": [
    "def true_holidays_2021():\n",
    "    holidays_list = [datetime.date(2021,1,1),\n",
    "                     datetime.date(2021,1,11),\n",
    "                     datetime.date(2021,2,11),\n",
    "                     datetime.date(2021,2,23),\n",
    "                     datetime.date(2021,3,20),\n",
    "                     datetime.date(2021,4,29),\n",
    "                     datetime.date(2021,5,3),\n",
    "                     datetime.date(2021,5,4),\n",
    "                     datetime.date(2021,5,5),\n",
    "                     datetime.date(2021,7,22),\n",
    "                     datetime.date(2021,7,23),\n",
    "                     datetime.date(2021,8,8),\n",
    "                     datetime.date(2021,8,9),  #振替\n",
    "                     datetime.date(2021,9,20),\n",
    "                     datetime.date(2021,9,23),\n",
    "                     datetime.date(2021,11,3),\n",
    "                     datetime.date(2021,11,23)\n",
    "                    ]\n",
    "\n",
    "    return np.array(holidays_list)"
   ]
  },
  {
   "cell_type": "code",
   "execution_count": 9,
   "metadata": {
    "ExecuteTime": {
     "end_time": "2021-04-03T03:09:08.976285Z",
     "start_time": "2021-04-03T03:09:08.647168Z"
    }
   },
   "outputs": [],
   "source": [
    "class TestWorkdays(unittest.TestCase):\n",
    "    @classmethod\n",
    "    def setUpClass(cls):\n",
    "        option.holiday_start_year = 2021\n",
    "        option.holiday_weekdays = [5,6]\n",
    "        option.intraday_borders = [[datetime.time(9,0), datetime.time(11,30)],\n",
    "                                   [datetime.time(12,30), datetime.time(15,0)]]\n",
    "        \n",
    "    def test_get_holidays(self):\n",
    "        holidays_array = get_holidays_jp(datetime.date(2021,1,1), datetime.date(2022,1,1))\n",
    "        self.assertTrue(np.array_equal(holidays_array, true_holidays_2021()))\n",
    "        \n",
    "    def test_related_workdays(self):\n",
    "        # get_workdays_jp, get_not_workdays_Jp\n",
    "        all_date = pd.date_range(datetime.date(2021,1,1), datetime.date(2021,12,31), freq=\"D\").date\n",
    "        all_weekdays = np.array([item.weekday() for item in all_date])\n",
    "        \n",
    "        is_hoildays = np.in1d(all_date, true_holidays_2021())  # 祝日\n",
    "        is_hoilday_weekdays = np.logical_or.reduce([all_weekdays==holiday_weekday for holiday_weekday in option.holiday_weekdays])  # 祝日曜日\n",
    "        \n",
    "        is_not_workdays = is_hoildays | is_hoilday_weekdays\n",
    "        is_workdays = (~is_hoildays) & (~is_hoilday_weekdays)\n",
    "        \n",
    "        true_not_workdays = all_date[is_not_workdays]\n",
    "        true_workdays = all_date[is_workdays]\n",
    "        \n",
    "        workdays_array = get_workdays_jp(datetime.date(2021,1,1), datetime.date(2022,1,1))\n",
    "        not_workdays_array = get_not_workdays_jp(datetime.date(2021,1,1), datetime.date(2022,1,1))\n",
    "        \n",
    "        self.assertTrue(np.array_equal(workdays_array, true_workdays))\n",
    "        self.assertTrue(np.array_equal(not_workdays_array, true_not_workdays))\n",
    "        \n",
    "        # get_workdays_number_jp\n",
    "        # 祝日始まり\n",
    "        workdays_50_array = get_workdays_number_jp(datetime.date(2021,1,1), 50)\n",
    "        self.assertTrue(np.array_equal(workdays_50_array, true_workdays[:50]))\n",
    "        \n",
    "        # 営業日始まり\n",
    "        workdays_50_array = get_workdays_number_jp(datetime.date(2021,1,4), 50)  # 1月4日は一番最初の営業日\n",
    "        self.assertTrue(np.array_equal(workdays_50_array, true_workdays[:50]))\n",
    "        \n",
    "        # check_workday_jp\n",
    "        checked_workdays = [check_workday_jp(one_date) for one_date in true_workdays]\n",
    "        self.assertTrue(all(checked_workdays))\n",
    "        checked_not_workdays = [check_workday_jp(one_date) for one_date in true_not_workdays]\n",
    "        self.assertFalse(any(checked_not_workdays))\n",
    "        \n",
    "        # get_next_workday_jp\n",
    "        # 祝日始まり\n",
    "        workdays_array = np.array([get_next_workday_jp(datetime.date(2021,1,1), i) for i in range(1,len(true_workdays)+1)])\n",
    "        self.assertTrue(np.array_equal(workdays_array, true_workdays))\n",
    "        # 営業日始まり\n",
    "        workdays_array = np.array([get_next_workday_jp(datetime.date(2021,1,4), i) for i in range(1,len(true_workdays))])\n",
    "        self.assertTrue(np.array_equal(workdays_array, true_workdays[1:]))   # get_next_workdaysは初日は含めないので\n",
    "        \n",
    "    def test_related_extract(self):\n",
    "        all_date = pd.date_range(datetime.date(2021,1,1), datetime.date(2021,12,31), freq=\"D\").date\n",
    "        all_weekdays = np.array([item.weekday() for item in all_date])\n",
    "        \n",
    "        is_hoildays = np.in1d(all_date, true_holidays_2021())  # 祝日\n",
    "        is_hoilday_weekdays = np.logical_or.reduce([all_weekdays==holiday_weekday for holiday_weekday in option.holiday_weekdays])  # 祝日曜日\n",
    "        \n",
    "        is_not_workdays = is_hoildays | is_hoilday_weekdays\n",
    "        \n",
    "        true_not_workdays = all_date[is_not_workdays] \n",
    "        \n",
    "        \n",
    "        dt_index = pd.date_range(datetime.datetime(2021,1,1,0,0,0), datetime.datetime(2021,12,31,23,59,0), freq=\"T\")\n",
    "        nan_df = pd.DataFrame(None, index=dt_index)\n",
    "        nan_df[\"column1\"] = np.nan\n",
    "        extracted_df = extract_workdays_jp(nan_df)\n",
    "        # 抽出したpd.DataFrameのdateが非営業日に含まれない\n",
    "        self.assertFalse(np.any(np.in1d(extracted_df.index.date, true_not_workdays)))\n",
    "        \n",
    "        # 日中以外のある時間のデータの長さが0\n",
    "        extracted_df = extract_intraday_jp(nan_df)\n",
    "        self.assertEqual(len(extracted_df.at_time(datetime.time(8,0)).index),0)\n",
    "        \n",
    "        # 両方チェック\n",
    "        extracted_df = extract_workdays_intraday_jp(nan_df)\n",
    "        self.assertFalse(np.any(np.in1d(extracted_df.index.date, true_not_workdays)))\n",
    "        self.assertEqual(len(extracted_df.at_time(datetime.time(8,0)).index),0)"
   ]
  },
  {
   "cell_type": "code",
   "execution_count": 10,
   "metadata": {
    "ExecuteTime": {
     "end_time": "2021-04-03T03:09:09.085990Z",
     "start_time": "2021-04-03T03:09:09.009198Z"
    }
   },
   "outputs": [],
   "source": [
    "class TestOption(unittest.TestCase):\n",
    "    def test_make_workdays(self):\n",
    "        #optionを設定するだけで休日が更新される．\n",
    "        option.holiday_start_year = 2021\n",
    "        option.holiday_end_year = 2021\n",
    "        self.assertTrue(np.array_equal(option.holidays_date_array, true_holidays_2021()))\n",
    "        \n",
    "    def test_append_source_path(self):\n",
    "        option.backend = \"csv\"\n",
    "        temp_source_path = Path(\"py_workdays/source/temp.csv\")\n",
    "        # 存在しない祝日を記したcsvファイルを追加\n",
    "        dt_index = pd.DatetimeIndex([datetime.date(1900,1,1)])\n",
    "        new_holiday_df = pd.DataFrame({\"holiday_name\":[\"元日\"]}, index=dt_index)\n",
    "        new_holiday_df.to_csv(temp_source_path, header=False)\n",
    "        \n",
    "        option.holiday_start_year = 1900  # このタイミングで1900年にしておく\n",
    "        \n",
    "        option.csv_source_paths.append(temp_source_path)  # csvパスを追加\n",
    "        self.assertEqual(option.holidays_date_array[0],datetime.date(1900,1,1))\n",
    "        \n",
    "        temp_source_path.unlink()"
   ]
  },
  {
   "cell_type": "code",
   "execution_count": 11,
   "metadata": {
    "ExecuteTime": {
     "end_time": "2021-04-03T03:09:18.721228Z",
     "start_time": "2021-04-03T03:09:09.134874Z"
    }
   },
   "outputs": [
    {
     "name": "stderr",
     "output_type": "stream",
     "text": [
      "test_append_source_path (__main__.TestOption) ... ok\n",
      "test_make_workdays (__main__.TestOption) ... ok\n",
      "test_get_holidays (__main__.TestWorkdays) ... ok\n",
      "test_related_extract (__main__.TestWorkdays) ... ok\n",
      "test_related_workdays (__main__.TestWorkdays) ... ok\n",
      "\n",
      "----------------------------------------------------------------------\n",
      "Ran 5 tests in 9.517s\n",
      "\n",
      "OK\n"
     ]
    },
    {
     "data": {
      "text/plain": [
       "<unittest.main.TestProgram at 0x21666b54e48>"
      ]
     },
     "execution_count": 11,
     "metadata": {},
     "output_type": "execute_result"
    }
   ],
   "source": [
    "unittest.main(argv=['first-arg-is-ignored', \"-v\"], exit=False)\n",
    "#unittest.main(argv=['first-arg-is-ignored'], exit=False)"
   ]
  },
  {
   "cell_type": "code",
   "execution_count": null,
   "metadata": {},
   "outputs": [],
   "source": []
  }
 ],
 "metadata": {
  "kernelspec": {
   "display_name": "torch_py37",
   "language": "python",
   "name": "torch_py37"
  },
  "language_info": {
   "codemirror_mode": {
    "name": "ipython",
    "version": 3
   },
   "file_extension": ".py",
   "mimetype": "text/x-python",
   "name": "python",
   "nbconvert_exporter": "python",
   "pygments_lexer": "ipython3",
   "version": "3.7.4"
  },
  "toc": {
   "base_numbering": 1,
   "nav_menu": {},
   "number_sections": true,
   "sideBar": true,
   "skip_h1_title": true,
   "title_cell": "Table of Contents",
   "title_sidebar": "Contents",
   "toc_cell": false,
   "toc_position": {},
   "toc_section_display": true,
   "toc_window_display": false
  }
 },
 "nbformat": 4,
 "nbformat_minor": 4
}
